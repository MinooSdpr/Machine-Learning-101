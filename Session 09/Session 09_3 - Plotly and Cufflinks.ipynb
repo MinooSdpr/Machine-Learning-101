{
 "cells": [
  {
   "cell_type": "markdown",
   "metadata": {},
   "source": [
    "# Plotly and Cufflinks"
   ]
  },
  {
   "cell_type": "markdown",
   "metadata": {},
   "source": [
    "Plotly is a library that allows you to create interactive plots that you can use in dashboards or websites (you can save them as html files or static images).\n",
    "\n",
    "## Installation\n",
    "\n",
    "In order for this all to work, you'll need to install plotly and cufflinks to call plots directly off of a pandas dataframe. These libraries are not currently available through **conda** but are available through **pip**. Install the libraries at your command line/terminal using:\n",
    "\n",
    "    pip install plotly\n",
    "    pip install cufflinks\n",
    "\n",
    "**NOTE: Make sure you only have one installation of Python on your computer when you do this, otherwise the installation may not work.**\n",
    "\n",
    "## Imports and Set-up"
   ]
  },
  {
   "cell_type": "code",
   "execution_count": 4,
   "metadata": {},
   "outputs": [],
   "source": [
    "import pandas as pd\n",
    "import numpy as np\n",
    "%matplotlib inline"
   ]
  },
  {
   "cell_type": "code",
   "execution_count": 5,
   "metadata": {},
   "outputs": [],
   "source": [
    "from plotly.offline import download_plotlyjs, init_notebook_mode, plot, iplot"
   ]
  },
  {
   "cell_type": "code",
   "execution_count": 6,
   "metadata": {
    "scrolled": true
   },
   "outputs": [
    {
     "ename": "ModuleNotFoundError",
     "evalue": "No module named 'cufflinks'",
     "output_type": "error",
     "traceback": [
      "\u001b[1;31m---------------------------------------------------------------------------\u001b[0m",
      "\u001b[1;31mModuleNotFoundError\u001b[0m                       Traceback (most recent call last)",
      "Cell \u001b[1;32mIn [6], line 1\u001b[0m\n\u001b[1;32m----> 1\u001b[0m \u001b[38;5;28;01mimport\u001b[39;00m \u001b[38;5;21;01mcufflinks\u001b[39;00m \u001b[38;5;28;01mas\u001b[39;00m \u001b[38;5;21;01mcf\u001b[39;00m\n",
      "\u001b[1;31mModuleNotFoundError\u001b[0m: No module named 'cufflinks'"
     ]
    }
   ],
   "source": [
    "import cufflinks as cf"
   ]
  },
  {
   "cell_type": "code",
   "execution_count": null,
   "metadata": {},
   "outputs": [],
   "source": [
    "# For Notebooks\n",
    "init_notebook_mode(connected=True)"
   ]
  },
  {
   "cell_type": "code",
   "execution_count": 5,
   "metadata": {},
   "outputs": [
    {
     "data": {
      "text/html": [
       "        <script type=\"text/javascript\">\n",
       "        window.PlotlyConfig = {MathJaxConfig: 'local'};\n",
       "        if (window.MathJax && window.MathJax.Hub && window.MathJax.Hub.Config) {window.MathJax.Hub.Config({SVG: {font: \"STIX-Web\"}});}\n",
       "        if (typeof require !== 'undefined') {\n",
       "        require.undef(\"plotly\");\n",
       "        requirejs.config({\n",
       "            paths: {\n",
       "                'plotly': ['https://cdn.plot.ly/plotly-2.30.0.min']\n",
       "            }\n",
       "        });\n",
       "        require(['plotly'], function(Plotly) {\n",
       "            window._Plotly = Plotly;\n",
       "        });\n",
       "        }\n",
       "        </script>\n",
       "        "
      ]
     },
     "metadata": {},
     "output_type": "display_data"
    }
   ],
   "source": [
    "# For offline use\n",
    "cf.go_offline()"
   ]
  },
  {
   "cell_type": "markdown",
   "metadata": {},
   "source": [
    "### Fake Data"
   ]
  },
  {
   "cell_type": "code",
   "execution_count": 6,
   "metadata": {},
   "outputs": [],
   "source": [
    "df = pd.DataFrame(np.random.randn(100,4),columns='A B C D'.split())"
   ]
  },
  {
   "cell_type": "code",
   "execution_count": 7,
   "metadata": {},
   "outputs": [
    {
     "data": {
      "text/html": [
       "<div>\n",
       "<style scoped>\n",
       "    .dataframe tbody tr th:only-of-type {\n",
       "        vertical-align: middle;\n",
       "    }\n",
       "\n",
       "    .dataframe tbody tr th {\n",
       "        vertical-align: top;\n",
       "    }\n",
       "\n",
       "    .dataframe thead th {\n",
       "        text-align: right;\n",
       "    }\n",
       "</style>\n",
       "<table border=\"1\" class=\"dataframe\">\n",
       "  <thead>\n",
       "    <tr style=\"text-align: right;\">\n",
       "      <th></th>\n",
       "      <th>A</th>\n",
       "      <th>B</th>\n",
       "      <th>C</th>\n",
       "      <th>D</th>\n",
       "    </tr>\n",
       "  </thead>\n",
       "  <tbody>\n",
       "    <tr>\n",
       "      <th>0</th>\n",
       "      <td>-0.603530</td>\n",
       "      <td>0.349375</td>\n",
       "      <td>-0.458944</td>\n",
       "      <td>-0.341693</td>\n",
       "    </tr>\n",
       "    <tr>\n",
       "      <th>1</th>\n",
       "      <td>-0.816884</td>\n",
       "      <td>-0.696369</td>\n",
       "      <td>-0.722494</td>\n",
       "      <td>-0.341838</td>\n",
       "    </tr>\n",
       "    <tr>\n",
       "      <th>2</th>\n",
       "      <td>-0.615686</td>\n",
       "      <td>0.494444</td>\n",
       "      <td>0.200483</td>\n",
       "      <td>1.606268</td>\n",
       "    </tr>\n",
       "    <tr>\n",
       "      <th>3</th>\n",
       "      <td>-0.968091</td>\n",
       "      <td>-0.521609</td>\n",
       "      <td>0.210137</td>\n",
       "      <td>-1.445074</td>\n",
       "    </tr>\n",
       "    <tr>\n",
       "      <th>4</th>\n",
       "      <td>-0.685469</td>\n",
       "      <td>0.472409</td>\n",
       "      <td>-1.258287</td>\n",
       "      <td>-0.185227</td>\n",
       "    </tr>\n",
       "  </tbody>\n",
       "</table>\n",
       "</div>"
      ],
      "text/plain": [
       "          A         B         C         D\n",
       "0 -0.603530  0.349375 -0.458944 -0.341693\n",
       "1 -0.816884 -0.696369 -0.722494 -0.341838\n",
       "2 -0.615686  0.494444  0.200483  1.606268\n",
       "3 -0.968091 -0.521609  0.210137 -1.445074\n",
       "4 -0.685469  0.472409 -1.258287 -0.185227"
      ]
     },
     "execution_count": 7,
     "metadata": {},
     "output_type": "execute_result"
    }
   ],
   "source": [
    "df.head()"
   ]
  },
  {
   "cell_type": "code",
   "execution_count": 8,
   "metadata": {},
   "outputs": [],
   "source": [
    "df2 = pd.DataFrame({'Category':['A','B','C'],'Values':[32,43,50]})"
   ]
  },
  {
   "cell_type": "code",
   "execution_count": 9,
   "metadata": {},
   "outputs": [
    {
     "data": {
      "text/html": [
       "<div>\n",
       "<style scoped>\n",
       "    .dataframe tbody tr th:only-of-type {\n",
       "        vertical-align: middle;\n",
       "    }\n",
       "\n",
       "    .dataframe tbody tr th {\n",
       "        vertical-align: top;\n",
       "    }\n",
       "\n",
       "    .dataframe thead th {\n",
       "        text-align: right;\n",
       "    }\n",
       "</style>\n",
       "<table border=\"1\" class=\"dataframe\">\n",
       "  <thead>\n",
       "    <tr style=\"text-align: right;\">\n",
       "      <th></th>\n",
       "      <th>Category</th>\n",
       "      <th>Values</th>\n",
       "    </tr>\n",
       "  </thead>\n",
       "  <tbody>\n",
       "    <tr>\n",
       "      <th>0</th>\n",
       "      <td>A</td>\n",
       "      <td>32</td>\n",
       "    </tr>\n",
       "    <tr>\n",
       "      <th>1</th>\n",
       "      <td>B</td>\n",
       "      <td>43</td>\n",
       "    </tr>\n",
       "    <tr>\n",
       "      <th>2</th>\n",
       "      <td>C</td>\n",
       "      <td>50</td>\n",
       "    </tr>\n",
       "  </tbody>\n",
       "</table>\n",
       "</div>"
      ],
      "text/plain": [
       "  Category  Values\n",
       "0        A      32\n",
       "1        B      43\n",
       "2        C      50"
      ]
     },
     "execution_count": 9,
     "metadata": {},
     "output_type": "execute_result"
    }
   ],
   "source": [
    "df2.head()"
   ]
  },
  {
   "cell_type": "markdown",
   "metadata": {},
   "source": [
    "## Using Cufflinks and iplot()\n",
    "\n",
    "* scatter\n",
    "* bar\n",
    "* box\n",
    "* spread\n",
    "* ratio\n",
    "* heatmap\n",
    "* surface\n",
    "* histogram\n",
    "* bubble"
   ]
  },
  {
   "cell_type": "markdown",
   "metadata": {},
   "source": [
    "## Scatter"
   ]
  },
  {
   "cell_type": "code",
   "execution_count": 10,
   "metadata": {},
   "outputs": [
    {
     "data": {
      "application/vnd.plotly.v1+json": {
       "config": {
        "linkText": "Export to plot.ly",
        "plotlyServerURL": "https://plot.ly",
        "showLink": true
       },
       "data": [
        {
         "line": {
          "color": "rgba(255, 153, 51, 1.0)",
          "dash": "solid",
          "shape": "linear",
          "width": 1.3
         },
         "marker": {
          "size": 10,
          "symbol": "circle"
         },
         "mode": "markers",
         "name": "B",
         "text": "",
         "type": "scatter",
         "x": [
          -0.6035297959382414,
          -0.8168839180464849,
          -0.6156857927636435,
          -0.96809123662696,
          -0.6854691740293992,
          0.7199714768803681,
          1.446160156463076,
          1.799627965830823,
          1.7157877533685324,
          -0.17901370565073169,
          0.005449232404899039,
          -1.0833144371751064,
          -0.9551544617528701,
          -0.806542516870636,
          2.192659195836407,
          0.15416197000598228,
          0.01631753712948887,
          1.7267160752937727,
          0.57985045638903,
          0.09791585210952843,
          0.21351052704706053,
          0.2810617979115468,
          0.432292126121937,
          -1.1735741563193232,
          -1.1583974052626016,
          1.5614876377792792,
          -1.2881469804000822,
          -0.26495107714432603,
          1.3312459821437788,
          -0.08333634781307717,
          0.460140024288853,
          2.0200389221711164,
          -0.2964711710980584,
          1.7438707329329075,
          0.6965071847803438,
          0.9616884505199493,
          -1.0826686274947974,
          -0.2290348397768763,
          0.22539764253003775,
          2.3790211963457173,
          0.3472056319516496,
          0.035911286437501085,
          1.259055281551953,
          0.5918447616263801,
          -0.6822565116504726,
          -0.8928399410348654,
          -0.6615460317551572,
          0.04214420334432419,
          0.32233108348176587,
          -0.2000440217299358,
          0.326674581272999,
          0.9432398763689777,
          -0.8168202319197175,
          0.07617503642020822,
          -0.10923092299046434,
          -2.3793044960670433,
          -0.7364273736220023,
          -0.11339616677514272,
          -0.6902054596789023,
          -1.38642008999562,
          0.8495427939718966,
          -0.3878460284258634,
          -0.8089657350136299,
          -0.368755861201994,
          -0.0070429161289379105,
          -0.2524318160687466,
          -1.1110786925423664,
          1.6950918157689456,
          0.6672081179643534,
          -0.03371141339443632,
          1.9001276876037883,
          -0.9192875396872777,
          0.5871667111331204,
          -0.08438004513753744,
          0.07309561806045688,
          0.7562262739315151,
          0.4462221113646279,
          0.4266663764331806,
          0.6155194400559172,
          0.27929381908824663,
          -1.053986571099971,
          0.18020245770246723,
          -0.04058567909420326,
          1.1441406510591838,
          -0.4794020094470726,
          -1.0881453768671514,
          0.24795817635371536,
          -0.6311227016730568,
          -2.4387748259857727,
          0.9572567814279553,
          -1.8090332855133209,
          -0.16035983288459527,
          0.2862808765695702,
          -0.13959297740089516,
          -1.7815333343184052,
          0.07132219757149803,
          1.062568166469194,
          -0.5821359801529373,
          0.13735274878157913,
          -1.0609086520436461
         ],
         "y": [
          0.34937467752453855,
          -0.6963689003611885,
          0.49444390521925163,
          -0.5216091706513676,
          0.4724087770975294,
          -0.7451485094842482,
          -1.034922517004572,
          -0.7231837962892254,
          -0.3565877101781193,
          0.5561839128654138,
          1.4995719633555327,
          0.10904078889562052,
          0.026129809655202986,
          1.461617696540569,
          -0.5402179049296549,
          -0.20317357616560444,
          0.6218015091883577,
          0.6203131147082552,
          1.6198556238181445,
          1.3750576201475166,
          1.7665147161583103,
          0.9736869943203338,
          1.6632487833008511,
          1.1946869607840391,
          -1.3181911639397836,
          0.21483071972553233,
          0.9532299081544663,
          -0.47835866959161855,
          -0.05367608683761055,
          -0.6233004340756563,
          -0.44763279779657505,
          1.540650986930894,
          -0.10041228764413782,
          1.9740906004864247,
          0.8399728426296991,
          -0.06900862170430426,
          0.3050884857376401,
          -0.24929546241599287,
          0.22540055450182636,
          -1.9464725746598737,
          -0.013967839426258875,
          1.146660179529997,
          -1.8798754854886035,
          -0.40737114477860115,
          -0.5535966777043381,
          -0.9046493670712153,
          -0.2165903294015373,
          -1.5978791360078572,
          -1.3858322851196112,
          -1.0314493305780452,
          1.2198575387415684,
          -0.5408288300390035,
          -0.136382172634374,
          -0.8522283472752146,
          -1.105056411687845,
          -1.5317431813873281,
          1.583062570780521,
          -0.5433498971348376,
          -0.8166347685311419,
          1.188444648041088,
          1.2914964306290924,
          0.8093118784465675,
          -2.2319460048066775,
          -0.6725420748091804,
          -0.03225818317810197,
          -0.02957431018242885,
          1.3781411773100498,
          -0.20446219959169973,
          0.7892794713371499,
          0.06304076348528372,
          0.7397415414777962,
          0.07953236164410435,
          0.20439894314802834,
          -0.13400910629225057,
          -0.42058647511319996,
          -0.3945684866149251,
          2.502544202353219,
          -1.2099348465143327,
          -0.45678523003251864,
          1.658444813234687,
          -0.5805059472672414,
          -0.28552340803789444,
          0.3230214214336419,
          0.9383761746830033,
          0.01073116888838524,
          0.5290085286062141,
          -2.279993493907933,
          0.36593355315096493,
          -0.27987443799520223,
          0.5427764918925077,
          -0.19185176677469148,
          0.7150314393582368,
          1.2759738685362205,
          0.04545720514712179,
          -0.551929296600115,
          0.6566504637125637,
          0.11765627356863474,
          0.6719491850445272,
          0.6469902247765215,
          2.036967266780365
         ]
        }
       ],
       "layout": {
        "legend": {
         "bgcolor": "#F5F6F9",
         "font": {
          "color": "#4D5663"
         }
        },
        "paper_bgcolor": "#F5F6F9",
        "plot_bgcolor": "#F5F6F9",
        "template": {
         "data": {
          "bar": [
           {
            "error_x": {
             "color": "#2a3f5f"
            },
            "error_y": {
             "color": "#2a3f5f"
            },
            "marker": {
             "line": {
              "color": "#E5ECF6",
              "width": 0.5
             },
             "pattern": {
              "fillmode": "overlay",
              "size": 10,
              "solidity": 0.2
             }
            },
            "type": "bar"
           }
          ],
          "barpolar": [
           {
            "marker": {
             "line": {
              "color": "#E5ECF6",
              "width": 0.5
             },
             "pattern": {
              "fillmode": "overlay",
              "size": 10,
              "solidity": 0.2
             }
            },
            "type": "barpolar"
           }
          ],
          "carpet": [
           {
            "aaxis": {
             "endlinecolor": "#2a3f5f",
             "gridcolor": "white",
             "linecolor": "white",
             "minorgridcolor": "white",
             "startlinecolor": "#2a3f5f"
            },
            "baxis": {
             "endlinecolor": "#2a3f5f",
             "gridcolor": "white",
             "linecolor": "white",
             "minorgridcolor": "white",
             "startlinecolor": "#2a3f5f"
            },
            "type": "carpet"
           }
          ],
          "choropleth": [
           {
            "colorbar": {
             "outlinewidth": 0,
             "ticks": ""
            },
            "type": "choropleth"
           }
          ],
          "contour": [
           {
            "colorbar": {
             "outlinewidth": 0,
             "ticks": ""
            },
            "colorscale": [
             [
              0,
              "#0d0887"
             ],
             [
              0.1111111111111111,
              "#46039f"
             ],
             [
              0.2222222222222222,
              "#7201a8"
             ],
             [
              0.3333333333333333,
              "#9c179e"
             ],
             [
              0.4444444444444444,
              "#bd3786"
             ],
             [
              0.5555555555555556,
              "#d8576b"
             ],
             [
              0.6666666666666666,
              "#ed7953"
             ],
             [
              0.7777777777777778,
              "#fb9f3a"
             ],
             [
              0.8888888888888888,
              "#fdca26"
             ],
             [
              1,
              "#f0f921"
             ]
            ],
            "type": "contour"
           }
          ],
          "contourcarpet": [
           {
            "colorbar": {
             "outlinewidth": 0,
             "ticks": ""
            },
            "type": "contourcarpet"
           }
          ],
          "heatmap": [
           {
            "colorbar": {
             "outlinewidth": 0,
             "ticks": ""
            },
            "colorscale": [
             [
              0,
              "#0d0887"
             ],
             [
              0.1111111111111111,
              "#46039f"
             ],
             [
              0.2222222222222222,
              "#7201a8"
             ],
             [
              0.3333333333333333,
              "#9c179e"
             ],
             [
              0.4444444444444444,
              "#bd3786"
             ],
             [
              0.5555555555555556,
              "#d8576b"
             ],
             [
              0.6666666666666666,
              "#ed7953"
             ],
             [
              0.7777777777777778,
              "#fb9f3a"
             ],
             [
              0.8888888888888888,
              "#fdca26"
             ],
             [
              1,
              "#f0f921"
             ]
            ],
            "type": "heatmap"
           }
          ],
          "heatmapgl": [
           {
            "colorbar": {
             "outlinewidth": 0,
             "ticks": ""
            },
            "colorscale": [
             [
              0,
              "#0d0887"
             ],
             [
              0.1111111111111111,
              "#46039f"
             ],
             [
              0.2222222222222222,
              "#7201a8"
             ],
             [
              0.3333333333333333,
              "#9c179e"
             ],
             [
              0.4444444444444444,
              "#bd3786"
             ],
             [
              0.5555555555555556,
              "#d8576b"
             ],
             [
              0.6666666666666666,
              "#ed7953"
             ],
             [
              0.7777777777777778,
              "#fb9f3a"
             ],
             [
              0.8888888888888888,
              "#fdca26"
             ],
             [
              1,
              "#f0f921"
             ]
            ],
            "type": "heatmapgl"
           }
          ],
          "histogram": [
           {
            "marker": {
             "pattern": {
              "fillmode": "overlay",
              "size": 10,
              "solidity": 0.2
             }
            },
            "type": "histogram"
           }
          ],
          "histogram2d": [
           {
            "colorbar": {
             "outlinewidth": 0,
             "ticks": ""
            },
            "colorscale": [
             [
              0,
              "#0d0887"
             ],
             [
              0.1111111111111111,
              "#46039f"
             ],
             [
              0.2222222222222222,
              "#7201a8"
             ],
             [
              0.3333333333333333,
              "#9c179e"
             ],
             [
              0.4444444444444444,
              "#bd3786"
             ],
             [
              0.5555555555555556,
              "#d8576b"
             ],
             [
              0.6666666666666666,
              "#ed7953"
             ],
             [
              0.7777777777777778,
              "#fb9f3a"
             ],
             [
              0.8888888888888888,
              "#fdca26"
             ],
             [
              1,
              "#f0f921"
             ]
            ],
            "type": "histogram2d"
           }
          ],
          "histogram2dcontour": [
           {
            "colorbar": {
             "outlinewidth": 0,
             "ticks": ""
            },
            "colorscale": [
             [
              0,
              "#0d0887"
             ],
             [
              0.1111111111111111,
              "#46039f"
             ],
             [
              0.2222222222222222,
              "#7201a8"
             ],
             [
              0.3333333333333333,
              "#9c179e"
             ],
             [
              0.4444444444444444,
              "#bd3786"
             ],
             [
              0.5555555555555556,
              "#d8576b"
             ],
             [
              0.6666666666666666,
              "#ed7953"
             ],
             [
              0.7777777777777778,
              "#fb9f3a"
             ],
             [
              0.8888888888888888,
              "#fdca26"
             ],
             [
              1,
              "#f0f921"
             ]
            ],
            "type": "histogram2dcontour"
           }
          ],
          "mesh3d": [
           {
            "colorbar": {
             "outlinewidth": 0,
             "ticks": ""
            },
            "type": "mesh3d"
           }
          ],
          "parcoords": [
           {
            "line": {
             "colorbar": {
              "outlinewidth": 0,
              "ticks": ""
             }
            },
            "type": "parcoords"
           }
          ],
          "pie": [
           {
            "automargin": true,
            "type": "pie"
           }
          ],
          "scatter": [
           {
            "fillpattern": {
             "fillmode": "overlay",
             "size": 10,
             "solidity": 0.2
            },
            "type": "scatter"
           }
          ],
          "scatter3d": [
           {
            "line": {
             "colorbar": {
              "outlinewidth": 0,
              "ticks": ""
             }
            },
            "marker": {
             "colorbar": {
              "outlinewidth": 0,
              "ticks": ""
             }
            },
            "type": "scatter3d"
           }
          ],
          "scattercarpet": [
           {
            "marker": {
             "colorbar": {
              "outlinewidth": 0,
              "ticks": ""
             }
            },
            "type": "scattercarpet"
           }
          ],
          "scattergeo": [
           {
            "marker": {
             "colorbar": {
              "outlinewidth": 0,
              "ticks": ""
             }
            },
            "type": "scattergeo"
           }
          ],
          "scattergl": [
           {
            "marker": {
             "colorbar": {
              "outlinewidth": 0,
              "ticks": ""
             }
            },
            "type": "scattergl"
           }
          ],
          "scattermapbox": [
           {
            "marker": {
             "colorbar": {
              "outlinewidth": 0,
              "ticks": ""
             }
            },
            "type": "scattermapbox"
           }
          ],
          "scatterpolar": [
           {
            "marker": {
             "colorbar": {
              "outlinewidth": 0,
              "ticks": ""
             }
            },
            "type": "scatterpolar"
           }
          ],
          "scatterpolargl": [
           {
            "marker": {
             "colorbar": {
              "outlinewidth": 0,
              "ticks": ""
             }
            },
            "type": "scatterpolargl"
           }
          ],
          "scatterternary": [
           {
            "marker": {
             "colorbar": {
              "outlinewidth": 0,
              "ticks": ""
             }
            },
            "type": "scatterternary"
           }
          ],
          "surface": [
           {
            "colorbar": {
             "outlinewidth": 0,
             "ticks": ""
            },
            "colorscale": [
             [
              0,
              "#0d0887"
             ],
             [
              0.1111111111111111,
              "#46039f"
             ],
             [
              0.2222222222222222,
              "#7201a8"
             ],
             [
              0.3333333333333333,
              "#9c179e"
             ],
             [
              0.4444444444444444,
              "#bd3786"
             ],
             [
              0.5555555555555556,
              "#d8576b"
             ],
             [
              0.6666666666666666,
              "#ed7953"
             ],
             [
              0.7777777777777778,
              "#fb9f3a"
             ],
             [
              0.8888888888888888,
              "#fdca26"
             ],
             [
              1,
              "#f0f921"
             ]
            ],
            "type": "surface"
           }
          ],
          "table": [
           {
            "cells": {
             "fill": {
              "color": "#EBF0F8"
             },
             "line": {
              "color": "white"
             }
            },
            "header": {
             "fill": {
              "color": "#C8D4E3"
             },
             "line": {
              "color": "white"
             }
            },
            "type": "table"
           }
          ]
         },
         "layout": {
          "annotationdefaults": {
           "arrowcolor": "#2a3f5f",
           "arrowhead": 0,
           "arrowwidth": 1
          },
          "autotypenumbers": "strict",
          "coloraxis": {
           "colorbar": {
            "outlinewidth": 0,
            "ticks": ""
           }
          },
          "colorscale": {
           "diverging": [
            [
             0,
             "#8e0152"
            ],
            [
             0.1,
             "#c51b7d"
            ],
            [
             0.2,
             "#de77ae"
            ],
            [
             0.3,
             "#f1b6da"
            ],
            [
             0.4,
             "#fde0ef"
            ],
            [
             0.5,
             "#f7f7f7"
            ],
            [
             0.6,
             "#e6f5d0"
            ],
            [
             0.7,
             "#b8e186"
            ],
            [
             0.8,
             "#7fbc41"
            ],
            [
             0.9,
             "#4d9221"
            ],
            [
             1,
             "#276419"
            ]
           ],
           "sequential": [
            [
             0,
             "#0d0887"
            ],
            [
             0.1111111111111111,
             "#46039f"
            ],
            [
             0.2222222222222222,
             "#7201a8"
            ],
            [
             0.3333333333333333,
             "#9c179e"
            ],
            [
             0.4444444444444444,
             "#bd3786"
            ],
            [
             0.5555555555555556,
             "#d8576b"
            ],
            [
             0.6666666666666666,
             "#ed7953"
            ],
            [
             0.7777777777777778,
             "#fb9f3a"
            ],
            [
             0.8888888888888888,
             "#fdca26"
            ],
            [
             1,
             "#f0f921"
            ]
           ],
           "sequentialminus": [
            [
             0,
             "#0d0887"
            ],
            [
             0.1111111111111111,
             "#46039f"
            ],
            [
             0.2222222222222222,
             "#7201a8"
            ],
            [
             0.3333333333333333,
             "#9c179e"
            ],
            [
             0.4444444444444444,
             "#bd3786"
            ],
            [
             0.5555555555555556,
             "#d8576b"
            ],
            [
             0.6666666666666666,
             "#ed7953"
            ],
            [
             0.7777777777777778,
             "#fb9f3a"
            ],
            [
             0.8888888888888888,
             "#fdca26"
            ],
            [
             1,
             "#f0f921"
            ]
           ]
          },
          "colorway": [
           "#636efa",
           "#EF553B",
           "#00cc96",
           "#ab63fa",
           "#FFA15A",
           "#19d3f3",
           "#FF6692",
           "#B6E880",
           "#FF97FF",
           "#FECB52"
          ],
          "font": {
           "color": "#2a3f5f"
          },
          "geo": {
           "bgcolor": "white",
           "lakecolor": "white",
           "landcolor": "#E5ECF6",
           "showlakes": true,
           "showland": true,
           "subunitcolor": "white"
          },
          "hoverlabel": {
           "align": "left"
          },
          "hovermode": "closest",
          "mapbox": {
           "style": "light"
          },
          "paper_bgcolor": "white",
          "plot_bgcolor": "#E5ECF6",
          "polar": {
           "angularaxis": {
            "gridcolor": "white",
            "linecolor": "white",
            "ticks": ""
           },
           "bgcolor": "#E5ECF6",
           "radialaxis": {
            "gridcolor": "white",
            "linecolor": "white",
            "ticks": ""
           }
          },
          "scene": {
           "xaxis": {
            "backgroundcolor": "#E5ECF6",
            "gridcolor": "white",
            "gridwidth": 2,
            "linecolor": "white",
            "showbackground": true,
            "ticks": "",
            "zerolinecolor": "white"
           },
           "yaxis": {
            "backgroundcolor": "#E5ECF6",
            "gridcolor": "white",
            "gridwidth": 2,
            "linecolor": "white",
            "showbackground": true,
            "ticks": "",
            "zerolinecolor": "white"
           },
           "zaxis": {
            "backgroundcolor": "#E5ECF6",
            "gridcolor": "white",
            "gridwidth": 2,
            "linecolor": "white",
            "showbackground": true,
            "ticks": "",
            "zerolinecolor": "white"
           }
          },
          "shapedefaults": {
           "line": {
            "color": "#2a3f5f"
           }
          },
          "ternary": {
           "aaxis": {
            "gridcolor": "white",
            "linecolor": "white",
            "ticks": ""
           },
           "baxis": {
            "gridcolor": "white",
            "linecolor": "white",
            "ticks": ""
           },
           "bgcolor": "#E5ECF6",
           "caxis": {
            "gridcolor": "white",
            "linecolor": "white",
            "ticks": ""
           }
          },
          "title": {
           "x": 0.05
          },
          "xaxis": {
           "automargin": true,
           "gridcolor": "white",
           "linecolor": "white",
           "ticks": "",
           "title": {
            "standoff": 15
           },
           "zerolinecolor": "white",
           "zerolinewidth": 2
          },
          "yaxis": {
           "automargin": true,
           "gridcolor": "white",
           "linecolor": "white",
           "ticks": "",
           "title": {
            "standoff": 15
           },
           "zerolinecolor": "white",
           "zerolinewidth": 2
          }
         }
        },
        "title": {
         "font": {
          "color": "#4D5663"
         }
        },
        "xaxis": {
         "gridcolor": "#E1E5ED",
         "showgrid": true,
         "tickfont": {
          "color": "#4D5663"
         },
         "title": {
          "font": {
           "color": "#4D5663"
          },
          "text": ""
         },
         "zerolinecolor": "#E1E5ED"
        },
        "yaxis": {
         "gridcolor": "#E1E5ED",
         "showgrid": true,
         "tickfont": {
          "color": "#4D5663"
         },
         "title": {
          "font": {
           "color": "#4D5663"
          },
          "text": ""
         },
         "zerolinecolor": "#E1E5ED"
        }
       }
      },
      "text/html": [
       "<div>                            <div id=\"1e496d49-5340-45e6-b1c3-0ea4dd91957d\" class=\"plotly-graph-div\" style=\"height:525px; width:100%;\"></div>            <script type=\"text/javascript\">                require([\"plotly\"], function(Plotly) {                    window.PLOTLYENV=window.PLOTLYENV || {};\n",
       "                    window.PLOTLYENV.BASE_URL='https://plot.ly';                                    if (document.getElementById(\"1e496d49-5340-45e6-b1c3-0ea4dd91957d\")) {                    Plotly.newPlot(                        \"1e496d49-5340-45e6-b1c3-0ea4dd91957d\",                        [{\"line\":{\"color\":\"rgba(255, 153, 51, 1.0)\",\"dash\":\"solid\",\"shape\":\"linear\",\"width\":1.3},\"marker\":{\"size\":10,\"symbol\":\"circle\"},\"mode\":\"markers\",\"name\":\"B\",\"text\":\"\",\"x\":[-0.6035297959382414,-0.8168839180464849,-0.6156857927636435,-0.96809123662696,-0.6854691740293992,0.7199714768803681,1.446160156463076,1.799627965830823,1.7157877533685324,-0.17901370565073169,0.005449232404899039,-1.0833144371751064,-0.9551544617528701,-0.806542516870636,2.192659195836407,0.15416197000598228,0.01631753712948887,1.7267160752937727,0.57985045638903,0.09791585210952843,0.21351052704706053,0.2810617979115468,0.432292126121937,-1.1735741563193232,-1.1583974052626016,1.5614876377792792,-1.2881469804000822,-0.26495107714432603,1.3312459821437788,-0.08333634781307717,0.460140024288853,2.0200389221711164,-0.2964711710980584,1.7438707329329075,0.6965071847803438,0.9616884505199493,-1.0826686274947974,-0.2290348397768763,0.22539764253003775,2.3790211963457173,0.3472056319516496,0.035911286437501085,1.259055281551953,0.5918447616263801,-0.6822565116504726,-0.8928399410348654,-0.6615460317551572,0.04214420334432419,0.32233108348176587,-0.2000440217299358,0.326674581272999,0.9432398763689777,-0.8168202319197175,0.07617503642020822,-0.10923092299046434,-2.3793044960670433,-0.7364273736220023,-0.11339616677514272,-0.6902054596789023,-1.38642008999562,0.8495427939718966,-0.3878460284258634,-0.8089657350136299,-0.368755861201994,-0.0070429161289379105,-0.2524318160687466,-1.1110786925423664,1.6950918157689456,0.6672081179643534,-0.03371141339443632,1.9001276876037883,-0.9192875396872777,0.5871667111331204,-0.08438004513753744,0.07309561806045688,0.7562262739315151,0.4462221113646279,0.4266663764331806,0.6155194400559172,0.27929381908824663,-1.053986571099971,0.18020245770246723,-0.04058567909420326,1.1441406510591838,-0.4794020094470726,-1.0881453768671514,0.24795817635371536,-0.6311227016730568,-2.4387748259857727,0.9572567814279553,-1.8090332855133209,-0.16035983288459527,0.2862808765695702,-0.13959297740089516,-1.7815333343184052,0.07132219757149803,1.062568166469194,-0.5821359801529373,0.13735274878157913,-1.0609086520436461],\"y\":[0.34937467752453855,-0.6963689003611885,0.49444390521925163,-0.5216091706513676,0.4724087770975294,-0.7451485094842482,-1.034922517004572,-0.7231837962892254,-0.3565877101781193,0.5561839128654138,1.4995719633555327,0.10904078889562052,0.026129809655202986,1.461617696540569,-0.5402179049296549,-0.20317357616560444,0.6218015091883577,0.6203131147082552,1.6198556238181445,1.3750576201475166,1.7665147161583103,0.9736869943203338,1.6632487833008511,1.1946869607840391,-1.3181911639397836,0.21483071972553233,0.9532299081544663,-0.47835866959161855,-0.05367608683761055,-0.6233004340756563,-0.44763279779657505,1.540650986930894,-0.10041228764413782,1.9740906004864247,0.8399728426296991,-0.06900862170430426,0.3050884857376401,-0.24929546241599287,0.22540055450182636,-1.9464725746598737,-0.013967839426258875,1.146660179529997,-1.8798754854886035,-0.40737114477860115,-0.5535966777043381,-0.9046493670712153,-0.2165903294015373,-1.5978791360078572,-1.3858322851196112,-1.0314493305780452,1.2198575387415684,-0.5408288300390035,-0.136382172634374,-0.8522283472752146,-1.105056411687845,-1.5317431813873281,1.583062570780521,-0.5433498971348376,-0.8166347685311419,1.188444648041088,1.2914964306290924,0.8093118784465675,-2.2319460048066775,-0.6725420748091804,-0.03225818317810197,-0.02957431018242885,1.3781411773100498,-0.20446219959169973,0.7892794713371499,0.06304076348528372,0.7397415414777962,0.07953236164410435,0.20439894314802834,-0.13400910629225057,-0.42058647511319996,-0.3945684866149251,2.502544202353219,-1.2099348465143327,-0.45678523003251864,1.658444813234687,-0.5805059472672414,-0.28552340803789444,0.3230214214336419,0.9383761746830033,0.01073116888838524,0.5290085286062141,-2.279993493907933,0.36593355315096493,-0.27987443799520223,0.5427764918925077,-0.19185176677469148,0.7150314393582368,1.2759738685362205,0.04545720514712179,-0.551929296600115,0.6566504637125637,0.11765627356863474,0.6719491850445272,0.6469902247765215,2.036967266780365],\"type\":\"scatter\"}],                        {\"legend\":{\"bgcolor\":\"#F5F6F9\",\"font\":{\"color\":\"#4D5663\"}},\"paper_bgcolor\":\"#F5F6F9\",\"plot_bgcolor\":\"#F5F6F9\",\"template\":{\"data\":{\"barpolar\":[{\"marker\":{\"line\":{\"color\":\"#E5ECF6\",\"width\":0.5},\"pattern\":{\"fillmode\":\"overlay\",\"size\":10,\"solidity\":0.2}},\"type\":\"barpolar\"}],\"bar\":[{\"error_x\":{\"color\":\"#2a3f5f\"},\"error_y\":{\"color\":\"#2a3f5f\"},\"marker\":{\"line\":{\"color\":\"#E5ECF6\",\"width\":0.5},\"pattern\":{\"fillmode\":\"overlay\",\"size\":10,\"solidity\":0.2}},\"type\":\"bar\"}],\"carpet\":[{\"aaxis\":{\"endlinecolor\":\"#2a3f5f\",\"gridcolor\":\"white\",\"linecolor\":\"white\",\"minorgridcolor\":\"white\",\"startlinecolor\":\"#2a3f5f\"},\"baxis\":{\"endlinecolor\":\"#2a3f5f\",\"gridcolor\":\"white\",\"linecolor\":\"white\",\"minorgridcolor\":\"white\",\"startlinecolor\":\"#2a3f5f\"},\"type\":\"carpet\"}],\"choropleth\":[{\"colorbar\":{\"outlinewidth\":0,\"ticks\":\"\"},\"type\":\"choropleth\"}],\"contourcarpet\":[{\"colorbar\":{\"outlinewidth\":0,\"ticks\":\"\"},\"type\":\"contourcarpet\"}],\"contour\":[{\"colorbar\":{\"outlinewidth\":0,\"ticks\":\"\"},\"colorscale\":[[0.0,\"#0d0887\"],[0.1111111111111111,\"#46039f\"],[0.2222222222222222,\"#7201a8\"],[0.3333333333333333,\"#9c179e\"],[0.4444444444444444,\"#bd3786\"],[0.5555555555555556,\"#d8576b\"],[0.6666666666666666,\"#ed7953\"],[0.7777777777777778,\"#fb9f3a\"],[0.8888888888888888,\"#fdca26\"],[1.0,\"#f0f921\"]],\"type\":\"contour\"}],\"heatmapgl\":[{\"colorbar\":{\"outlinewidth\":0,\"ticks\":\"\"},\"colorscale\":[[0.0,\"#0d0887\"],[0.1111111111111111,\"#46039f\"],[0.2222222222222222,\"#7201a8\"],[0.3333333333333333,\"#9c179e\"],[0.4444444444444444,\"#bd3786\"],[0.5555555555555556,\"#d8576b\"],[0.6666666666666666,\"#ed7953\"],[0.7777777777777778,\"#fb9f3a\"],[0.8888888888888888,\"#fdca26\"],[1.0,\"#f0f921\"]],\"type\":\"heatmapgl\"}],\"heatmap\":[{\"colorbar\":{\"outlinewidth\":0,\"ticks\":\"\"},\"colorscale\":[[0.0,\"#0d0887\"],[0.1111111111111111,\"#46039f\"],[0.2222222222222222,\"#7201a8\"],[0.3333333333333333,\"#9c179e\"],[0.4444444444444444,\"#bd3786\"],[0.5555555555555556,\"#d8576b\"],[0.6666666666666666,\"#ed7953\"],[0.7777777777777778,\"#fb9f3a\"],[0.8888888888888888,\"#fdca26\"],[1.0,\"#f0f921\"]],\"type\":\"heatmap\"}],\"histogram2dcontour\":[{\"colorbar\":{\"outlinewidth\":0,\"ticks\":\"\"},\"colorscale\":[[0.0,\"#0d0887\"],[0.1111111111111111,\"#46039f\"],[0.2222222222222222,\"#7201a8\"],[0.3333333333333333,\"#9c179e\"],[0.4444444444444444,\"#bd3786\"],[0.5555555555555556,\"#d8576b\"],[0.6666666666666666,\"#ed7953\"],[0.7777777777777778,\"#fb9f3a\"],[0.8888888888888888,\"#fdca26\"],[1.0,\"#f0f921\"]],\"type\":\"histogram2dcontour\"}],\"histogram2d\":[{\"colorbar\":{\"outlinewidth\":0,\"ticks\":\"\"},\"colorscale\":[[0.0,\"#0d0887\"],[0.1111111111111111,\"#46039f\"],[0.2222222222222222,\"#7201a8\"],[0.3333333333333333,\"#9c179e\"],[0.4444444444444444,\"#bd3786\"],[0.5555555555555556,\"#d8576b\"],[0.6666666666666666,\"#ed7953\"],[0.7777777777777778,\"#fb9f3a\"],[0.8888888888888888,\"#fdca26\"],[1.0,\"#f0f921\"]],\"type\":\"histogram2d\"}],\"histogram\":[{\"marker\":{\"pattern\":{\"fillmode\":\"overlay\",\"size\":10,\"solidity\":0.2}},\"type\":\"histogram\"}],\"mesh3d\":[{\"colorbar\":{\"outlinewidth\":0,\"ticks\":\"\"},\"type\":\"mesh3d\"}],\"parcoords\":[{\"line\":{\"colorbar\":{\"outlinewidth\":0,\"ticks\":\"\"}},\"type\":\"parcoords\"}],\"pie\":[{\"automargin\":true,\"type\":\"pie\"}],\"scatter3d\":[{\"line\":{\"colorbar\":{\"outlinewidth\":0,\"ticks\":\"\"}},\"marker\":{\"colorbar\":{\"outlinewidth\":0,\"ticks\":\"\"}},\"type\":\"scatter3d\"}],\"scattercarpet\":[{\"marker\":{\"colorbar\":{\"outlinewidth\":0,\"ticks\":\"\"}},\"type\":\"scattercarpet\"}],\"scattergeo\":[{\"marker\":{\"colorbar\":{\"outlinewidth\":0,\"ticks\":\"\"}},\"type\":\"scattergeo\"}],\"scattergl\":[{\"marker\":{\"colorbar\":{\"outlinewidth\":0,\"ticks\":\"\"}},\"type\":\"scattergl\"}],\"scattermapbox\":[{\"marker\":{\"colorbar\":{\"outlinewidth\":0,\"ticks\":\"\"}},\"type\":\"scattermapbox\"}],\"scatterpolargl\":[{\"marker\":{\"colorbar\":{\"outlinewidth\":0,\"ticks\":\"\"}},\"type\":\"scatterpolargl\"}],\"scatterpolar\":[{\"marker\":{\"colorbar\":{\"outlinewidth\":0,\"ticks\":\"\"}},\"type\":\"scatterpolar\"}],\"scatter\":[{\"fillpattern\":{\"fillmode\":\"overlay\",\"size\":10,\"solidity\":0.2},\"type\":\"scatter\"}],\"scatterternary\":[{\"marker\":{\"colorbar\":{\"outlinewidth\":0,\"ticks\":\"\"}},\"type\":\"scatterternary\"}],\"surface\":[{\"colorbar\":{\"outlinewidth\":0,\"ticks\":\"\"},\"colorscale\":[[0.0,\"#0d0887\"],[0.1111111111111111,\"#46039f\"],[0.2222222222222222,\"#7201a8\"],[0.3333333333333333,\"#9c179e\"],[0.4444444444444444,\"#bd3786\"],[0.5555555555555556,\"#d8576b\"],[0.6666666666666666,\"#ed7953\"],[0.7777777777777778,\"#fb9f3a\"],[0.8888888888888888,\"#fdca26\"],[1.0,\"#f0f921\"]],\"type\":\"surface\"}],\"table\":[{\"cells\":{\"fill\":{\"color\":\"#EBF0F8\"},\"line\":{\"color\":\"white\"}},\"header\":{\"fill\":{\"color\":\"#C8D4E3\"},\"line\":{\"color\":\"white\"}},\"type\":\"table\"}]},\"layout\":{\"annotationdefaults\":{\"arrowcolor\":\"#2a3f5f\",\"arrowhead\":0,\"arrowwidth\":1},\"autotypenumbers\":\"strict\",\"coloraxis\":{\"colorbar\":{\"outlinewidth\":0,\"ticks\":\"\"}},\"colorscale\":{\"diverging\":[[0,\"#8e0152\"],[0.1,\"#c51b7d\"],[0.2,\"#de77ae\"],[0.3,\"#f1b6da\"],[0.4,\"#fde0ef\"],[0.5,\"#f7f7f7\"],[0.6,\"#e6f5d0\"],[0.7,\"#b8e186\"],[0.8,\"#7fbc41\"],[0.9,\"#4d9221\"],[1,\"#276419\"]],\"sequential\":[[0.0,\"#0d0887\"],[0.1111111111111111,\"#46039f\"],[0.2222222222222222,\"#7201a8\"],[0.3333333333333333,\"#9c179e\"],[0.4444444444444444,\"#bd3786\"],[0.5555555555555556,\"#d8576b\"],[0.6666666666666666,\"#ed7953\"],[0.7777777777777778,\"#fb9f3a\"],[0.8888888888888888,\"#fdca26\"],[1.0,\"#f0f921\"]],\"sequentialminus\":[[0.0,\"#0d0887\"],[0.1111111111111111,\"#46039f\"],[0.2222222222222222,\"#7201a8\"],[0.3333333333333333,\"#9c179e\"],[0.4444444444444444,\"#bd3786\"],[0.5555555555555556,\"#d8576b\"],[0.6666666666666666,\"#ed7953\"],[0.7777777777777778,\"#fb9f3a\"],[0.8888888888888888,\"#fdca26\"],[1.0,\"#f0f921\"]]},\"colorway\":[\"#636efa\",\"#EF553B\",\"#00cc96\",\"#ab63fa\",\"#FFA15A\",\"#19d3f3\",\"#FF6692\",\"#B6E880\",\"#FF97FF\",\"#FECB52\"],\"font\":{\"color\":\"#2a3f5f\"},\"geo\":{\"bgcolor\":\"white\",\"lakecolor\":\"white\",\"landcolor\":\"#E5ECF6\",\"showlakes\":true,\"showland\":true,\"subunitcolor\":\"white\"},\"hoverlabel\":{\"align\":\"left\"},\"hovermode\":\"closest\",\"mapbox\":{\"style\":\"light\"},\"paper_bgcolor\":\"white\",\"plot_bgcolor\":\"#E5ECF6\",\"polar\":{\"angularaxis\":{\"gridcolor\":\"white\",\"linecolor\":\"white\",\"ticks\":\"\"},\"bgcolor\":\"#E5ECF6\",\"radialaxis\":{\"gridcolor\":\"white\",\"linecolor\":\"white\",\"ticks\":\"\"}},\"scene\":{\"xaxis\":{\"backgroundcolor\":\"#E5ECF6\",\"gridcolor\":\"white\",\"gridwidth\":2,\"linecolor\":\"white\",\"showbackground\":true,\"ticks\":\"\",\"zerolinecolor\":\"white\"},\"yaxis\":{\"backgroundcolor\":\"#E5ECF6\",\"gridcolor\":\"white\",\"gridwidth\":2,\"linecolor\":\"white\",\"showbackground\":true,\"ticks\":\"\",\"zerolinecolor\":\"white\"},\"zaxis\":{\"backgroundcolor\":\"#E5ECF6\",\"gridcolor\":\"white\",\"gridwidth\":2,\"linecolor\":\"white\",\"showbackground\":true,\"ticks\":\"\",\"zerolinecolor\":\"white\"}},\"shapedefaults\":{\"line\":{\"color\":\"#2a3f5f\"}},\"ternary\":{\"aaxis\":{\"gridcolor\":\"white\",\"linecolor\":\"white\",\"ticks\":\"\"},\"baxis\":{\"gridcolor\":\"white\",\"linecolor\":\"white\",\"ticks\":\"\"},\"bgcolor\":\"#E5ECF6\",\"caxis\":{\"gridcolor\":\"white\",\"linecolor\":\"white\",\"ticks\":\"\"}},\"title\":{\"x\":0.05},\"xaxis\":{\"automargin\":true,\"gridcolor\":\"white\",\"linecolor\":\"white\",\"ticks\":\"\",\"title\":{\"standoff\":15},\"zerolinecolor\":\"white\",\"zerolinewidth\":2},\"yaxis\":{\"automargin\":true,\"gridcolor\":\"white\",\"linecolor\":\"white\",\"ticks\":\"\",\"title\":{\"standoff\":15},\"zerolinecolor\":\"white\",\"zerolinewidth\":2}}},\"title\":{\"font\":{\"color\":\"#4D5663\"}},\"xaxis\":{\"gridcolor\":\"#E1E5ED\",\"showgrid\":true,\"tickfont\":{\"color\":\"#4D5663\"},\"title\":{\"font\":{\"color\":\"#4D5663\"},\"text\":\"\"},\"zerolinecolor\":\"#E1E5ED\"},\"yaxis\":{\"gridcolor\":\"#E1E5ED\",\"showgrid\":true,\"tickfont\":{\"color\":\"#4D5663\"},\"title\":{\"font\":{\"color\":\"#4D5663\"},\"text\":\"\"},\"zerolinecolor\":\"#E1E5ED\"}},                        {\"showLink\": true, \"linkText\": \"Export to plot.ly\", \"plotlyServerURL\": \"https://plot.ly\", \"responsive\": true}                    ).then(function(){\n",
       "                            \n",
       "var gd = document.getElementById('1e496d49-5340-45e6-b1c3-0ea4dd91957d');\n",
       "var x = new MutationObserver(function (mutations, observer) {{\n",
       "        var display = window.getComputedStyle(gd).display;\n",
       "        if (!display || display === 'none') {{\n",
       "            console.log([gd, 'removed!']);\n",
       "            Plotly.purge(gd);\n",
       "            observer.disconnect();\n",
       "        }}\n",
       "}});\n",
       "\n",
       "// Listen for the removal of the full notebook cells\n",
       "var notebookContainer = gd.closest('#notebook-container');\n",
       "if (notebookContainer) {{\n",
       "    x.observe(notebookContainer, {childList: true});\n",
       "}}\n",
       "\n",
       "// Listen for the clearing of the current output cell\n",
       "var outputEl = gd.closest('.output');\n",
       "if (outputEl) {{\n",
       "    x.observe(outputEl, {childList: true});\n",
       "}}\n",
       "\n",
       "                        })                };                });            </script>        </div>"
      ]
     },
     "metadata": {},
     "output_type": "display_data"
    }
   ],
   "source": [
    "df.iplot(kind='scatter',x='A',y='B',mode='markers',size=10)"
   ]
  },
  {
   "cell_type": "markdown",
   "metadata": {},
   "source": [
    "## Bar Plots"
   ]
  },
  {
   "cell_type": "code",
   "execution_count": 11,
   "metadata": {},
   "outputs": [
    {
     "data": {
      "application/vnd.plotly.v1+json": {
       "config": {
        "linkText": "Export to plot.ly",
        "plotlyServerURL": "https://plot.ly",
        "showLink": true
       },
       "data": [
        {
         "marker": {
          "color": "rgba(255, 153, 51, 0.6)",
          "line": {
           "color": "rgba(255, 153, 51, 1.0)",
           "width": 1
          }
         },
         "name": "Values",
         "orientation": "v",
         "text": "",
         "type": "bar",
         "x": [
          "A",
          "B",
          "C"
         ],
         "y": [
          32,
          43,
          50
         ]
        }
       ],
       "layout": {
        "legend": {
         "bgcolor": "#F5F6F9",
         "font": {
          "color": "#4D5663"
         }
        },
        "paper_bgcolor": "#F5F6F9",
        "plot_bgcolor": "#F5F6F9",
        "template": {
         "data": {
          "bar": [
           {
            "error_x": {
             "color": "#2a3f5f"
            },
            "error_y": {
             "color": "#2a3f5f"
            },
            "marker": {
             "line": {
              "color": "#E5ECF6",
              "width": 0.5
             },
             "pattern": {
              "fillmode": "overlay",
              "size": 10,
              "solidity": 0.2
             }
            },
            "type": "bar"
           }
          ],
          "barpolar": [
           {
            "marker": {
             "line": {
              "color": "#E5ECF6",
              "width": 0.5
             },
             "pattern": {
              "fillmode": "overlay",
              "size": 10,
              "solidity": 0.2
             }
            },
            "type": "barpolar"
           }
          ],
          "carpet": [
           {
            "aaxis": {
             "endlinecolor": "#2a3f5f",
             "gridcolor": "white",
             "linecolor": "white",
             "minorgridcolor": "white",
             "startlinecolor": "#2a3f5f"
            },
            "baxis": {
             "endlinecolor": "#2a3f5f",
             "gridcolor": "white",
             "linecolor": "white",
             "minorgridcolor": "white",
             "startlinecolor": "#2a3f5f"
            },
            "type": "carpet"
           }
          ],
          "choropleth": [
           {
            "colorbar": {
             "outlinewidth": 0,
             "ticks": ""
            },
            "type": "choropleth"
           }
          ],
          "contour": [
           {
            "colorbar": {
             "outlinewidth": 0,
             "ticks": ""
            },
            "colorscale": [
             [
              0,
              "#0d0887"
             ],
             [
              0.1111111111111111,
              "#46039f"
             ],
             [
              0.2222222222222222,
              "#7201a8"
             ],
             [
              0.3333333333333333,
              "#9c179e"
             ],
             [
              0.4444444444444444,
              "#bd3786"
             ],
             [
              0.5555555555555556,
              "#d8576b"
             ],
             [
              0.6666666666666666,
              "#ed7953"
             ],
             [
              0.7777777777777778,
              "#fb9f3a"
             ],
             [
              0.8888888888888888,
              "#fdca26"
             ],
             [
              1,
              "#f0f921"
             ]
            ],
            "type": "contour"
           }
          ],
          "contourcarpet": [
           {
            "colorbar": {
             "outlinewidth": 0,
             "ticks": ""
            },
            "type": "contourcarpet"
           }
          ],
          "heatmap": [
           {
            "colorbar": {
             "outlinewidth": 0,
             "ticks": ""
            },
            "colorscale": [
             [
              0,
              "#0d0887"
             ],
             [
              0.1111111111111111,
              "#46039f"
             ],
             [
              0.2222222222222222,
              "#7201a8"
             ],
             [
              0.3333333333333333,
              "#9c179e"
             ],
             [
              0.4444444444444444,
              "#bd3786"
             ],
             [
              0.5555555555555556,
              "#d8576b"
             ],
             [
              0.6666666666666666,
              "#ed7953"
             ],
             [
              0.7777777777777778,
              "#fb9f3a"
             ],
             [
              0.8888888888888888,
              "#fdca26"
             ],
             [
              1,
              "#f0f921"
             ]
            ],
            "type": "heatmap"
           }
          ],
          "heatmapgl": [
           {
            "colorbar": {
             "outlinewidth": 0,
             "ticks": ""
            },
            "colorscale": [
             [
              0,
              "#0d0887"
             ],
             [
              0.1111111111111111,
              "#46039f"
             ],
             [
              0.2222222222222222,
              "#7201a8"
             ],
             [
              0.3333333333333333,
              "#9c179e"
             ],
             [
              0.4444444444444444,
              "#bd3786"
             ],
             [
              0.5555555555555556,
              "#d8576b"
             ],
             [
              0.6666666666666666,
              "#ed7953"
             ],
             [
              0.7777777777777778,
              "#fb9f3a"
             ],
             [
              0.8888888888888888,
              "#fdca26"
             ],
             [
              1,
              "#f0f921"
             ]
            ],
            "type": "heatmapgl"
           }
          ],
          "histogram": [
           {
            "marker": {
             "pattern": {
              "fillmode": "overlay",
              "size": 10,
              "solidity": 0.2
             }
            },
            "type": "histogram"
           }
          ],
          "histogram2d": [
           {
            "colorbar": {
             "outlinewidth": 0,
             "ticks": ""
            },
            "colorscale": [
             [
              0,
              "#0d0887"
             ],
             [
              0.1111111111111111,
              "#46039f"
             ],
             [
              0.2222222222222222,
              "#7201a8"
             ],
             [
              0.3333333333333333,
              "#9c179e"
             ],
             [
              0.4444444444444444,
              "#bd3786"
             ],
             [
              0.5555555555555556,
              "#d8576b"
             ],
             [
              0.6666666666666666,
              "#ed7953"
             ],
             [
              0.7777777777777778,
              "#fb9f3a"
             ],
             [
              0.8888888888888888,
              "#fdca26"
             ],
             [
              1,
              "#f0f921"
             ]
            ],
            "type": "histogram2d"
           }
          ],
          "histogram2dcontour": [
           {
            "colorbar": {
             "outlinewidth": 0,
             "ticks": ""
            },
            "colorscale": [
             [
              0,
              "#0d0887"
             ],
             [
              0.1111111111111111,
              "#46039f"
             ],
             [
              0.2222222222222222,
              "#7201a8"
             ],
             [
              0.3333333333333333,
              "#9c179e"
             ],
             [
              0.4444444444444444,
              "#bd3786"
             ],
             [
              0.5555555555555556,
              "#d8576b"
             ],
             [
              0.6666666666666666,
              "#ed7953"
             ],
             [
              0.7777777777777778,
              "#fb9f3a"
             ],
             [
              0.8888888888888888,
              "#fdca26"
             ],
             [
              1,
              "#f0f921"
             ]
            ],
            "type": "histogram2dcontour"
           }
          ],
          "mesh3d": [
           {
            "colorbar": {
             "outlinewidth": 0,
             "ticks": ""
            },
            "type": "mesh3d"
           }
          ],
          "parcoords": [
           {
            "line": {
             "colorbar": {
              "outlinewidth": 0,
              "ticks": ""
             }
            },
            "type": "parcoords"
           }
          ],
          "pie": [
           {
            "automargin": true,
            "type": "pie"
           }
          ],
          "scatter": [
           {
            "fillpattern": {
             "fillmode": "overlay",
             "size": 10,
             "solidity": 0.2
            },
            "type": "scatter"
           }
          ],
          "scatter3d": [
           {
            "line": {
             "colorbar": {
              "outlinewidth": 0,
              "ticks": ""
             }
            },
            "marker": {
             "colorbar": {
              "outlinewidth": 0,
              "ticks": ""
             }
            },
            "type": "scatter3d"
           }
          ],
          "scattercarpet": [
           {
            "marker": {
             "colorbar": {
              "outlinewidth": 0,
              "ticks": ""
             }
            },
            "type": "scattercarpet"
           }
          ],
          "scattergeo": [
           {
            "marker": {
             "colorbar": {
              "outlinewidth": 0,
              "ticks": ""
             }
            },
            "type": "scattergeo"
           }
          ],
          "scattergl": [
           {
            "marker": {
             "colorbar": {
              "outlinewidth": 0,
              "ticks": ""
             }
            },
            "type": "scattergl"
           }
          ],
          "scattermapbox": [
           {
            "marker": {
             "colorbar": {
              "outlinewidth": 0,
              "ticks": ""
             }
            },
            "type": "scattermapbox"
           }
          ],
          "scatterpolar": [
           {
            "marker": {
             "colorbar": {
              "outlinewidth": 0,
              "ticks": ""
             }
            },
            "type": "scatterpolar"
           }
          ],
          "scatterpolargl": [
           {
            "marker": {
             "colorbar": {
              "outlinewidth": 0,
              "ticks": ""
             }
            },
            "type": "scatterpolargl"
           }
          ],
          "scatterternary": [
           {
            "marker": {
             "colorbar": {
              "outlinewidth": 0,
              "ticks": ""
             }
            },
            "type": "scatterternary"
           }
          ],
          "surface": [
           {
            "colorbar": {
             "outlinewidth": 0,
             "ticks": ""
            },
            "colorscale": [
             [
              0,
              "#0d0887"
             ],
             [
              0.1111111111111111,
              "#46039f"
             ],
             [
              0.2222222222222222,
              "#7201a8"
             ],
             [
              0.3333333333333333,
              "#9c179e"
             ],
             [
              0.4444444444444444,
              "#bd3786"
             ],
             [
              0.5555555555555556,
              "#d8576b"
             ],
             [
              0.6666666666666666,
              "#ed7953"
             ],
             [
              0.7777777777777778,
              "#fb9f3a"
             ],
             [
              0.8888888888888888,
              "#fdca26"
             ],
             [
              1,
              "#f0f921"
             ]
            ],
            "type": "surface"
           }
          ],
          "table": [
           {
            "cells": {
             "fill": {
              "color": "#EBF0F8"
             },
             "line": {
              "color": "white"
             }
            },
            "header": {
             "fill": {
              "color": "#C8D4E3"
             },
             "line": {
              "color": "white"
             }
            },
            "type": "table"
           }
          ]
         },
         "layout": {
          "annotationdefaults": {
           "arrowcolor": "#2a3f5f",
           "arrowhead": 0,
           "arrowwidth": 1
          },
          "autotypenumbers": "strict",
          "coloraxis": {
           "colorbar": {
            "outlinewidth": 0,
            "ticks": ""
           }
          },
          "colorscale": {
           "diverging": [
            [
             0,
             "#8e0152"
            ],
            [
             0.1,
             "#c51b7d"
            ],
            [
             0.2,
             "#de77ae"
            ],
            [
             0.3,
             "#f1b6da"
            ],
            [
             0.4,
             "#fde0ef"
            ],
            [
             0.5,
             "#f7f7f7"
            ],
            [
             0.6,
             "#e6f5d0"
            ],
            [
             0.7,
             "#b8e186"
            ],
            [
             0.8,
             "#7fbc41"
            ],
            [
             0.9,
             "#4d9221"
            ],
            [
             1,
             "#276419"
            ]
           ],
           "sequential": [
            [
             0,
             "#0d0887"
            ],
            [
             0.1111111111111111,
             "#46039f"
            ],
            [
             0.2222222222222222,
             "#7201a8"
            ],
            [
             0.3333333333333333,
             "#9c179e"
            ],
            [
             0.4444444444444444,
             "#bd3786"
            ],
            [
             0.5555555555555556,
             "#d8576b"
            ],
            [
             0.6666666666666666,
             "#ed7953"
            ],
            [
             0.7777777777777778,
             "#fb9f3a"
            ],
            [
             0.8888888888888888,
             "#fdca26"
            ],
            [
             1,
             "#f0f921"
            ]
           ],
           "sequentialminus": [
            [
             0,
             "#0d0887"
            ],
            [
             0.1111111111111111,
             "#46039f"
            ],
            [
             0.2222222222222222,
             "#7201a8"
            ],
            [
             0.3333333333333333,
             "#9c179e"
            ],
            [
             0.4444444444444444,
             "#bd3786"
            ],
            [
             0.5555555555555556,
             "#d8576b"
            ],
            [
             0.6666666666666666,
             "#ed7953"
            ],
            [
             0.7777777777777778,
             "#fb9f3a"
            ],
            [
             0.8888888888888888,
             "#fdca26"
            ],
            [
             1,
             "#f0f921"
            ]
           ]
          },
          "colorway": [
           "#636efa",
           "#EF553B",
           "#00cc96",
           "#ab63fa",
           "#FFA15A",
           "#19d3f3",
           "#FF6692",
           "#B6E880",
           "#FF97FF",
           "#FECB52"
          ],
          "font": {
           "color": "#2a3f5f"
          },
          "geo": {
           "bgcolor": "white",
           "lakecolor": "white",
           "landcolor": "#E5ECF6",
           "showlakes": true,
           "showland": true,
           "subunitcolor": "white"
          },
          "hoverlabel": {
           "align": "left"
          },
          "hovermode": "closest",
          "mapbox": {
           "style": "light"
          },
          "paper_bgcolor": "white",
          "plot_bgcolor": "#E5ECF6",
          "polar": {
           "angularaxis": {
            "gridcolor": "white",
            "linecolor": "white",
            "ticks": ""
           },
           "bgcolor": "#E5ECF6",
           "radialaxis": {
            "gridcolor": "white",
            "linecolor": "white",
            "ticks": ""
           }
          },
          "scene": {
           "xaxis": {
            "backgroundcolor": "#E5ECF6",
            "gridcolor": "white",
            "gridwidth": 2,
            "linecolor": "white",
            "showbackground": true,
            "ticks": "",
            "zerolinecolor": "white"
           },
           "yaxis": {
            "backgroundcolor": "#E5ECF6",
            "gridcolor": "white",
            "gridwidth": 2,
            "linecolor": "white",
            "showbackground": true,
            "ticks": "",
            "zerolinecolor": "white"
           },
           "zaxis": {
            "backgroundcolor": "#E5ECF6",
            "gridcolor": "white",
            "gridwidth": 2,
            "linecolor": "white",
            "showbackground": true,
            "ticks": "",
            "zerolinecolor": "white"
           }
          },
          "shapedefaults": {
           "line": {
            "color": "#2a3f5f"
           }
          },
          "ternary": {
           "aaxis": {
            "gridcolor": "white",
            "linecolor": "white",
            "ticks": ""
           },
           "baxis": {
            "gridcolor": "white",
            "linecolor": "white",
            "ticks": ""
           },
           "bgcolor": "#E5ECF6",
           "caxis": {
            "gridcolor": "white",
            "linecolor": "white",
            "ticks": ""
           }
          },
          "title": {
           "x": 0.05
          },
          "xaxis": {
           "automargin": true,
           "gridcolor": "white",
           "linecolor": "white",
           "ticks": "",
           "title": {
            "standoff": 15
           },
           "zerolinecolor": "white",
           "zerolinewidth": 2
          },
          "yaxis": {
           "automargin": true,
           "gridcolor": "white",
           "linecolor": "white",
           "ticks": "",
           "title": {
            "standoff": 15
           },
           "zerolinecolor": "white",
           "zerolinewidth": 2
          }
         }
        },
        "title": {
         "font": {
          "color": "#4D5663"
         }
        },
        "xaxis": {
         "gridcolor": "#E1E5ED",
         "showgrid": true,
         "tickfont": {
          "color": "#4D5663"
         },
         "title": {
          "font": {
           "color": "#4D5663"
          },
          "text": ""
         },
         "zerolinecolor": "#E1E5ED"
        },
        "yaxis": {
         "gridcolor": "#E1E5ED",
         "showgrid": true,
         "tickfont": {
          "color": "#4D5663"
         },
         "title": {
          "font": {
           "color": "#4D5663"
          },
          "text": ""
         },
         "zerolinecolor": "#E1E5ED"
        }
       }
      },
      "text/html": [
       "<div>                            <div id=\"4890d6f2-5dbb-465e-a9ba-f866560b0503\" class=\"plotly-graph-div\" style=\"height:525px; width:100%;\"></div>            <script type=\"text/javascript\">                require([\"plotly\"], function(Plotly) {                    window.PLOTLYENV=window.PLOTLYENV || {};\n",
       "                    window.PLOTLYENV.BASE_URL='https://plot.ly';                                    if (document.getElementById(\"4890d6f2-5dbb-465e-a9ba-f866560b0503\")) {                    Plotly.newPlot(                        \"4890d6f2-5dbb-465e-a9ba-f866560b0503\",                        [{\"marker\":{\"color\":\"rgba(255, 153, 51, 0.6)\",\"line\":{\"color\":\"rgba(255, 153, 51, 1.0)\",\"width\":1}},\"name\":\"Values\",\"orientation\":\"v\",\"text\":\"\",\"x\":[\"A\",\"B\",\"C\"],\"y\":[32,43,50],\"type\":\"bar\"}],                        {\"legend\":{\"bgcolor\":\"#F5F6F9\",\"font\":{\"color\":\"#4D5663\"}},\"paper_bgcolor\":\"#F5F6F9\",\"plot_bgcolor\":\"#F5F6F9\",\"template\":{\"data\":{\"barpolar\":[{\"marker\":{\"line\":{\"color\":\"#E5ECF6\",\"width\":0.5},\"pattern\":{\"fillmode\":\"overlay\",\"size\":10,\"solidity\":0.2}},\"type\":\"barpolar\"}],\"bar\":[{\"error_x\":{\"color\":\"#2a3f5f\"},\"error_y\":{\"color\":\"#2a3f5f\"},\"marker\":{\"line\":{\"color\":\"#E5ECF6\",\"width\":0.5},\"pattern\":{\"fillmode\":\"overlay\",\"size\":10,\"solidity\":0.2}},\"type\":\"bar\"}],\"carpet\":[{\"aaxis\":{\"endlinecolor\":\"#2a3f5f\",\"gridcolor\":\"white\",\"linecolor\":\"white\",\"minorgridcolor\":\"white\",\"startlinecolor\":\"#2a3f5f\"},\"baxis\":{\"endlinecolor\":\"#2a3f5f\",\"gridcolor\":\"white\",\"linecolor\":\"white\",\"minorgridcolor\":\"white\",\"startlinecolor\":\"#2a3f5f\"},\"type\":\"carpet\"}],\"choropleth\":[{\"colorbar\":{\"outlinewidth\":0,\"ticks\":\"\"},\"type\":\"choropleth\"}],\"contourcarpet\":[{\"colorbar\":{\"outlinewidth\":0,\"ticks\":\"\"},\"type\":\"contourcarpet\"}],\"contour\":[{\"colorbar\":{\"outlinewidth\":0,\"ticks\":\"\"},\"colorscale\":[[0.0,\"#0d0887\"],[0.1111111111111111,\"#46039f\"],[0.2222222222222222,\"#7201a8\"],[0.3333333333333333,\"#9c179e\"],[0.4444444444444444,\"#bd3786\"],[0.5555555555555556,\"#d8576b\"],[0.6666666666666666,\"#ed7953\"],[0.7777777777777778,\"#fb9f3a\"],[0.8888888888888888,\"#fdca26\"],[1.0,\"#f0f921\"]],\"type\":\"contour\"}],\"heatmapgl\":[{\"colorbar\":{\"outlinewidth\":0,\"ticks\":\"\"},\"colorscale\":[[0.0,\"#0d0887\"],[0.1111111111111111,\"#46039f\"],[0.2222222222222222,\"#7201a8\"],[0.3333333333333333,\"#9c179e\"],[0.4444444444444444,\"#bd3786\"],[0.5555555555555556,\"#d8576b\"],[0.6666666666666666,\"#ed7953\"],[0.7777777777777778,\"#fb9f3a\"],[0.8888888888888888,\"#fdca26\"],[1.0,\"#f0f921\"]],\"type\":\"heatmapgl\"}],\"heatmap\":[{\"colorbar\":{\"outlinewidth\":0,\"ticks\":\"\"},\"colorscale\":[[0.0,\"#0d0887\"],[0.1111111111111111,\"#46039f\"],[0.2222222222222222,\"#7201a8\"],[0.3333333333333333,\"#9c179e\"],[0.4444444444444444,\"#bd3786\"],[0.5555555555555556,\"#d8576b\"],[0.6666666666666666,\"#ed7953\"],[0.7777777777777778,\"#fb9f3a\"],[0.8888888888888888,\"#fdca26\"],[1.0,\"#f0f921\"]],\"type\":\"heatmap\"}],\"histogram2dcontour\":[{\"colorbar\":{\"outlinewidth\":0,\"ticks\":\"\"},\"colorscale\":[[0.0,\"#0d0887\"],[0.1111111111111111,\"#46039f\"],[0.2222222222222222,\"#7201a8\"],[0.3333333333333333,\"#9c179e\"],[0.4444444444444444,\"#bd3786\"],[0.5555555555555556,\"#d8576b\"],[0.6666666666666666,\"#ed7953\"],[0.7777777777777778,\"#fb9f3a\"],[0.8888888888888888,\"#fdca26\"],[1.0,\"#f0f921\"]],\"type\":\"histogram2dcontour\"}],\"histogram2d\":[{\"colorbar\":{\"outlinewidth\":0,\"ticks\":\"\"},\"colorscale\":[[0.0,\"#0d0887\"],[0.1111111111111111,\"#46039f\"],[0.2222222222222222,\"#7201a8\"],[0.3333333333333333,\"#9c179e\"],[0.4444444444444444,\"#bd3786\"],[0.5555555555555556,\"#d8576b\"],[0.6666666666666666,\"#ed7953\"],[0.7777777777777778,\"#fb9f3a\"],[0.8888888888888888,\"#fdca26\"],[1.0,\"#f0f921\"]],\"type\":\"histogram2d\"}],\"histogram\":[{\"marker\":{\"pattern\":{\"fillmode\":\"overlay\",\"size\":10,\"solidity\":0.2}},\"type\":\"histogram\"}],\"mesh3d\":[{\"colorbar\":{\"outlinewidth\":0,\"ticks\":\"\"},\"type\":\"mesh3d\"}],\"parcoords\":[{\"line\":{\"colorbar\":{\"outlinewidth\":0,\"ticks\":\"\"}},\"type\":\"parcoords\"}],\"pie\":[{\"automargin\":true,\"type\":\"pie\"}],\"scatter3d\":[{\"line\":{\"colorbar\":{\"outlinewidth\":0,\"ticks\":\"\"}},\"marker\":{\"colorbar\":{\"outlinewidth\":0,\"ticks\":\"\"}},\"type\":\"scatter3d\"}],\"scattercarpet\":[{\"marker\":{\"colorbar\":{\"outlinewidth\":0,\"ticks\":\"\"}},\"type\":\"scattercarpet\"}],\"scattergeo\":[{\"marker\":{\"colorbar\":{\"outlinewidth\":0,\"ticks\":\"\"}},\"type\":\"scattergeo\"}],\"scattergl\":[{\"marker\":{\"colorbar\":{\"outlinewidth\":0,\"ticks\":\"\"}},\"type\":\"scattergl\"}],\"scattermapbox\":[{\"marker\":{\"colorbar\":{\"outlinewidth\":0,\"ticks\":\"\"}},\"type\":\"scattermapbox\"}],\"scatterpolargl\":[{\"marker\":{\"colorbar\":{\"outlinewidth\":0,\"ticks\":\"\"}},\"type\":\"scatterpolargl\"}],\"scatterpolar\":[{\"marker\":{\"colorbar\":{\"outlinewidth\":0,\"ticks\":\"\"}},\"type\":\"scatterpolar\"}],\"scatter\":[{\"fillpattern\":{\"fillmode\":\"overlay\",\"size\":10,\"solidity\":0.2},\"type\":\"scatter\"}],\"scatterternary\":[{\"marker\":{\"colorbar\":{\"outlinewidth\":0,\"ticks\":\"\"}},\"type\":\"scatterternary\"}],\"surface\":[{\"colorbar\":{\"outlinewidth\":0,\"ticks\":\"\"},\"colorscale\":[[0.0,\"#0d0887\"],[0.1111111111111111,\"#46039f\"],[0.2222222222222222,\"#7201a8\"],[0.3333333333333333,\"#9c179e\"],[0.4444444444444444,\"#bd3786\"],[0.5555555555555556,\"#d8576b\"],[0.6666666666666666,\"#ed7953\"],[0.7777777777777778,\"#fb9f3a\"],[0.8888888888888888,\"#fdca26\"],[1.0,\"#f0f921\"]],\"type\":\"surface\"}],\"table\":[{\"cells\":{\"fill\":{\"color\":\"#EBF0F8\"},\"line\":{\"color\":\"white\"}},\"header\":{\"fill\":{\"color\":\"#C8D4E3\"},\"line\":{\"color\":\"white\"}},\"type\":\"table\"}]},\"layout\":{\"annotationdefaults\":{\"arrowcolor\":\"#2a3f5f\",\"arrowhead\":0,\"arrowwidth\":1},\"autotypenumbers\":\"strict\",\"coloraxis\":{\"colorbar\":{\"outlinewidth\":0,\"ticks\":\"\"}},\"colorscale\":{\"diverging\":[[0,\"#8e0152\"],[0.1,\"#c51b7d\"],[0.2,\"#de77ae\"],[0.3,\"#f1b6da\"],[0.4,\"#fde0ef\"],[0.5,\"#f7f7f7\"],[0.6,\"#e6f5d0\"],[0.7,\"#b8e186\"],[0.8,\"#7fbc41\"],[0.9,\"#4d9221\"],[1,\"#276419\"]],\"sequential\":[[0.0,\"#0d0887\"],[0.1111111111111111,\"#46039f\"],[0.2222222222222222,\"#7201a8\"],[0.3333333333333333,\"#9c179e\"],[0.4444444444444444,\"#bd3786\"],[0.5555555555555556,\"#d8576b\"],[0.6666666666666666,\"#ed7953\"],[0.7777777777777778,\"#fb9f3a\"],[0.8888888888888888,\"#fdca26\"],[1.0,\"#f0f921\"]],\"sequentialminus\":[[0.0,\"#0d0887\"],[0.1111111111111111,\"#46039f\"],[0.2222222222222222,\"#7201a8\"],[0.3333333333333333,\"#9c179e\"],[0.4444444444444444,\"#bd3786\"],[0.5555555555555556,\"#d8576b\"],[0.6666666666666666,\"#ed7953\"],[0.7777777777777778,\"#fb9f3a\"],[0.8888888888888888,\"#fdca26\"],[1.0,\"#f0f921\"]]},\"colorway\":[\"#636efa\",\"#EF553B\",\"#00cc96\",\"#ab63fa\",\"#FFA15A\",\"#19d3f3\",\"#FF6692\",\"#B6E880\",\"#FF97FF\",\"#FECB52\"],\"font\":{\"color\":\"#2a3f5f\"},\"geo\":{\"bgcolor\":\"white\",\"lakecolor\":\"white\",\"landcolor\":\"#E5ECF6\",\"showlakes\":true,\"showland\":true,\"subunitcolor\":\"white\"},\"hoverlabel\":{\"align\":\"left\"},\"hovermode\":\"closest\",\"mapbox\":{\"style\":\"light\"},\"paper_bgcolor\":\"white\",\"plot_bgcolor\":\"#E5ECF6\",\"polar\":{\"angularaxis\":{\"gridcolor\":\"white\",\"linecolor\":\"white\",\"ticks\":\"\"},\"bgcolor\":\"#E5ECF6\",\"radialaxis\":{\"gridcolor\":\"white\",\"linecolor\":\"white\",\"ticks\":\"\"}},\"scene\":{\"xaxis\":{\"backgroundcolor\":\"#E5ECF6\",\"gridcolor\":\"white\",\"gridwidth\":2,\"linecolor\":\"white\",\"showbackground\":true,\"ticks\":\"\",\"zerolinecolor\":\"white\"},\"yaxis\":{\"backgroundcolor\":\"#E5ECF6\",\"gridcolor\":\"white\",\"gridwidth\":2,\"linecolor\":\"white\",\"showbackground\":true,\"ticks\":\"\",\"zerolinecolor\":\"white\"},\"zaxis\":{\"backgroundcolor\":\"#E5ECF6\",\"gridcolor\":\"white\",\"gridwidth\":2,\"linecolor\":\"white\",\"showbackground\":true,\"ticks\":\"\",\"zerolinecolor\":\"white\"}},\"shapedefaults\":{\"line\":{\"color\":\"#2a3f5f\"}},\"ternary\":{\"aaxis\":{\"gridcolor\":\"white\",\"linecolor\":\"white\",\"ticks\":\"\"},\"baxis\":{\"gridcolor\":\"white\",\"linecolor\":\"white\",\"ticks\":\"\"},\"bgcolor\":\"#E5ECF6\",\"caxis\":{\"gridcolor\":\"white\",\"linecolor\":\"white\",\"ticks\":\"\"}},\"title\":{\"x\":0.05},\"xaxis\":{\"automargin\":true,\"gridcolor\":\"white\",\"linecolor\":\"white\",\"ticks\":\"\",\"title\":{\"standoff\":15},\"zerolinecolor\":\"white\",\"zerolinewidth\":2},\"yaxis\":{\"automargin\":true,\"gridcolor\":\"white\",\"linecolor\":\"white\",\"ticks\":\"\",\"title\":{\"standoff\":15},\"zerolinecolor\":\"white\",\"zerolinewidth\":2}}},\"title\":{\"font\":{\"color\":\"#4D5663\"}},\"xaxis\":{\"gridcolor\":\"#E1E5ED\",\"showgrid\":true,\"tickfont\":{\"color\":\"#4D5663\"},\"title\":{\"font\":{\"color\":\"#4D5663\"},\"text\":\"\"},\"zerolinecolor\":\"#E1E5ED\"},\"yaxis\":{\"gridcolor\":\"#E1E5ED\",\"showgrid\":true,\"tickfont\":{\"color\":\"#4D5663\"},\"title\":{\"font\":{\"color\":\"#4D5663\"},\"text\":\"\"},\"zerolinecolor\":\"#E1E5ED\"}},                        {\"showLink\": true, \"linkText\": \"Export to plot.ly\", \"plotlyServerURL\": \"https://plot.ly\", \"responsive\": true}                    ).then(function(){\n",
       "                            \n",
       "var gd = document.getElementById('4890d6f2-5dbb-465e-a9ba-f866560b0503');\n",
       "var x = new MutationObserver(function (mutations, observer) {{\n",
       "        var display = window.getComputedStyle(gd).display;\n",
       "        if (!display || display === 'none') {{\n",
       "            console.log([gd, 'removed!']);\n",
       "            Plotly.purge(gd);\n",
       "            observer.disconnect();\n",
       "        }}\n",
       "}});\n",
       "\n",
       "// Listen for the removal of the full notebook cells\n",
       "var notebookContainer = gd.closest('#notebook-container');\n",
       "if (notebookContainer) {{\n",
       "    x.observe(notebookContainer, {childList: true});\n",
       "}}\n",
       "\n",
       "// Listen for the clearing of the current output cell\n",
       "var outputEl = gd.closest('.output');\n",
       "if (outputEl) {{\n",
       "    x.observe(outputEl, {childList: true});\n",
       "}}\n",
       "\n",
       "                        })                };                });            </script>        </div>"
      ]
     },
     "metadata": {},
     "output_type": "display_data"
    }
   ],
   "source": [
    "df2.iplot(kind='bar',x='Category',y='Values')"
   ]
  },
  {
   "cell_type": "code",
   "execution_count": 12,
   "metadata": {},
   "outputs": [
    {
     "data": {
      "application/vnd.plotly.v1+json": {
       "config": {
        "linkText": "Export to plot.ly",
        "plotlyServerURL": "https://plot.ly",
        "showLink": true
       },
       "data": [
        {
         "marker": {
          "color": "rgba(255, 153, 51, 0.6)",
          "line": {
           "color": "rgba(255, 153, 51, 1.0)",
           "width": 1
          }
         },
         "name": "None",
         "orientation": "v",
         "text": "",
         "type": "bar",
         "x": [
          "A",
          "B",
          "C",
          "D"
         ],
         "y": [
          100,
          100,
          100,
          100
         ]
        }
       ],
       "layout": {
        "legend": {
         "bgcolor": "#F5F6F9",
         "font": {
          "color": "#4D5663"
         }
        },
        "paper_bgcolor": "#F5F6F9",
        "plot_bgcolor": "#F5F6F9",
        "template": {
         "data": {
          "bar": [
           {
            "error_x": {
             "color": "#2a3f5f"
            },
            "error_y": {
             "color": "#2a3f5f"
            },
            "marker": {
             "line": {
              "color": "#E5ECF6",
              "width": 0.5
             },
             "pattern": {
              "fillmode": "overlay",
              "size": 10,
              "solidity": 0.2
             }
            },
            "type": "bar"
           }
          ],
          "barpolar": [
           {
            "marker": {
             "line": {
              "color": "#E5ECF6",
              "width": 0.5
             },
             "pattern": {
              "fillmode": "overlay",
              "size": 10,
              "solidity": 0.2
             }
            },
            "type": "barpolar"
           }
          ],
          "carpet": [
           {
            "aaxis": {
             "endlinecolor": "#2a3f5f",
             "gridcolor": "white",
             "linecolor": "white",
             "minorgridcolor": "white",
             "startlinecolor": "#2a3f5f"
            },
            "baxis": {
             "endlinecolor": "#2a3f5f",
             "gridcolor": "white",
             "linecolor": "white",
             "minorgridcolor": "white",
             "startlinecolor": "#2a3f5f"
            },
            "type": "carpet"
           }
          ],
          "choropleth": [
           {
            "colorbar": {
             "outlinewidth": 0,
             "ticks": ""
            },
            "type": "choropleth"
           }
          ],
          "contour": [
           {
            "colorbar": {
             "outlinewidth": 0,
             "ticks": ""
            },
            "colorscale": [
             [
              0,
              "#0d0887"
             ],
             [
              0.1111111111111111,
              "#46039f"
             ],
             [
              0.2222222222222222,
              "#7201a8"
             ],
             [
              0.3333333333333333,
              "#9c179e"
             ],
             [
              0.4444444444444444,
              "#bd3786"
             ],
             [
              0.5555555555555556,
              "#d8576b"
             ],
             [
              0.6666666666666666,
              "#ed7953"
             ],
             [
              0.7777777777777778,
              "#fb9f3a"
             ],
             [
              0.8888888888888888,
              "#fdca26"
             ],
             [
              1,
              "#f0f921"
             ]
            ],
            "type": "contour"
           }
          ],
          "contourcarpet": [
           {
            "colorbar": {
             "outlinewidth": 0,
             "ticks": ""
            },
            "type": "contourcarpet"
           }
          ],
          "heatmap": [
           {
            "colorbar": {
             "outlinewidth": 0,
             "ticks": ""
            },
            "colorscale": [
             [
              0,
              "#0d0887"
             ],
             [
              0.1111111111111111,
              "#46039f"
             ],
             [
              0.2222222222222222,
              "#7201a8"
             ],
             [
              0.3333333333333333,
              "#9c179e"
             ],
             [
              0.4444444444444444,
              "#bd3786"
             ],
             [
              0.5555555555555556,
              "#d8576b"
             ],
             [
              0.6666666666666666,
              "#ed7953"
             ],
             [
              0.7777777777777778,
              "#fb9f3a"
             ],
             [
              0.8888888888888888,
              "#fdca26"
             ],
             [
              1,
              "#f0f921"
             ]
            ],
            "type": "heatmap"
           }
          ],
          "heatmapgl": [
           {
            "colorbar": {
             "outlinewidth": 0,
             "ticks": ""
            },
            "colorscale": [
             [
              0,
              "#0d0887"
             ],
             [
              0.1111111111111111,
              "#46039f"
             ],
             [
              0.2222222222222222,
              "#7201a8"
             ],
             [
              0.3333333333333333,
              "#9c179e"
             ],
             [
              0.4444444444444444,
              "#bd3786"
             ],
             [
              0.5555555555555556,
              "#d8576b"
             ],
             [
              0.6666666666666666,
              "#ed7953"
             ],
             [
              0.7777777777777778,
              "#fb9f3a"
             ],
             [
              0.8888888888888888,
              "#fdca26"
             ],
             [
              1,
              "#f0f921"
             ]
            ],
            "type": "heatmapgl"
           }
          ],
          "histogram": [
           {
            "marker": {
             "pattern": {
              "fillmode": "overlay",
              "size": 10,
              "solidity": 0.2
             }
            },
            "type": "histogram"
           }
          ],
          "histogram2d": [
           {
            "colorbar": {
             "outlinewidth": 0,
             "ticks": ""
            },
            "colorscale": [
             [
              0,
              "#0d0887"
             ],
             [
              0.1111111111111111,
              "#46039f"
             ],
             [
              0.2222222222222222,
              "#7201a8"
             ],
             [
              0.3333333333333333,
              "#9c179e"
             ],
             [
              0.4444444444444444,
              "#bd3786"
             ],
             [
              0.5555555555555556,
              "#d8576b"
             ],
             [
              0.6666666666666666,
              "#ed7953"
             ],
             [
              0.7777777777777778,
              "#fb9f3a"
             ],
             [
              0.8888888888888888,
              "#fdca26"
             ],
             [
              1,
              "#f0f921"
             ]
            ],
            "type": "histogram2d"
           }
          ],
          "histogram2dcontour": [
           {
            "colorbar": {
             "outlinewidth": 0,
             "ticks": ""
            },
            "colorscale": [
             [
              0,
              "#0d0887"
             ],
             [
              0.1111111111111111,
              "#46039f"
             ],
             [
              0.2222222222222222,
              "#7201a8"
             ],
             [
              0.3333333333333333,
              "#9c179e"
             ],
             [
              0.4444444444444444,
              "#bd3786"
             ],
             [
              0.5555555555555556,
              "#d8576b"
             ],
             [
              0.6666666666666666,
              "#ed7953"
             ],
             [
              0.7777777777777778,
              "#fb9f3a"
             ],
             [
              0.8888888888888888,
              "#fdca26"
             ],
             [
              1,
              "#f0f921"
             ]
            ],
            "type": "histogram2dcontour"
           }
          ],
          "mesh3d": [
           {
            "colorbar": {
             "outlinewidth": 0,
             "ticks": ""
            },
            "type": "mesh3d"
           }
          ],
          "parcoords": [
           {
            "line": {
             "colorbar": {
              "outlinewidth": 0,
              "ticks": ""
             }
            },
            "type": "parcoords"
           }
          ],
          "pie": [
           {
            "automargin": true,
            "type": "pie"
           }
          ],
          "scatter": [
           {
            "fillpattern": {
             "fillmode": "overlay",
             "size": 10,
             "solidity": 0.2
            },
            "type": "scatter"
           }
          ],
          "scatter3d": [
           {
            "line": {
             "colorbar": {
              "outlinewidth": 0,
              "ticks": ""
             }
            },
            "marker": {
             "colorbar": {
              "outlinewidth": 0,
              "ticks": ""
             }
            },
            "type": "scatter3d"
           }
          ],
          "scattercarpet": [
           {
            "marker": {
             "colorbar": {
              "outlinewidth": 0,
              "ticks": ""
             }
            },
            "type": "scattercarpet"
           }
          ],
          "scattergeo": [
           {
            "marker": {
             "colorbar": {
              "outlinewidth": 0,
              "ticks": ""
             }
            },
            "type": "scattergeo"
           }
          ],
          "scattergl": [
           {
            "marker": {
             "colorbar": {
              "outlinewidth": 0,
              "ticks": ""
             }
            },
            "type": "scattergl"
           }
          ],
          "scattermapbox": [
           {
            "marker": {
             "colorbar": {
              "outlinewidth": 0,
              "ticks": ""
             }
            },
            "type": "scattermapbox"
           }
          ],
          "scatterpolar": [
           {
            "marker": {
             "colorbar": {
              "outlinewidth": 0,
              "ticks": ""
             }
            },
            "type": "scatterpolar"
           }
          ],
          "scatterpolargl": [
           {
            "marker": {
             "colorbar": {
              "outlinewidth": 0,
              "ticks": ""
             }
            },
            "type": "scatterpolargl"
           }
          ],
          "scatterternary": [
           {
            "marker": {
             "colorbar": {
              "outlinewidth": 0,
              "ticks": ""
             }
            },
            "type": "scatterternary"
           }
          ],
          "surface": [
           {
            "colorbar": {
             "outlinewidth": 0,
             "ticks": ""
            },
            "colorscale": [
             [
              0,
              "#0d0887"
             ],
             [
              0.1111111111111111,
              "#46039f"
             ],
             [
              0.2222222222222222,
              "#7201a8"
             ],
             [
              0.3333333333333333,
              "#9c179e"
             ],
             [
              0.4444444444444444,
              "#bd3786"
             ],
             [
              0.5555555555555556,
              "#d8576b"
             ],
             [
              0.6666666666666666,
              "#ed7953"
             ],
             [
              0.7777777777777778,
              "#fb9f3a"
             ],
             [
              0.8888888888888888,
              "#fdca26"
             ],
             [
              1,
              "#f0f921"
             ]
            ],
            "type": "surface"
           }
          ],
          "table": [
           {
            "cells": {
             "fill": {
              "color": "#EBF0F8"
             },
             "line": {
              "color": "white"
             }
            },
            "header": {
             "fill": {
              "color": "#C8D4E3"
             },
             "line": {
              "color": "white"
             }
            },
            "type": "table"
           }
          ]
         },
         "layout": {
          "annotationdefaults": {
           "arrowcolor": "#2a3f5f",
           "arrowhead": 0,
           "arrowwidth": 1
          },
          "autotypenumbers": "strict",
          "coloraxis": {
           "colorbar": {
            "outlinewidth": 0,
            "ticks": ""
           }
          },
          "colorscale": {
           "diverging": [
            [
             0,
             "#8e0152"
            ],
            [
             0.1,
             "#c51b7d"
            ],
            [
             0.2,
             "#de77ae"
            ],
            [
             0.3,
             "#f1b6da"
            ],
            [
             0.4,
             "#fde0ef"
            ],
            [
             0.5,
             "#f7f7f7"
            ],
            [
             0.6,
             "#e6f5d0"
            ],
            [
             0.7,
             "#b8e186"
            ],
            [
             0.8,
             "#7fbc41"
            ],
            [
             0.9,
             "#4d9221"
            ],
            [
             1,
             "#276419"
            ]
           ],
           "sequential": [
            [
             0,
             "#0d0887"
            ],
            [
             0.1111111111111111,
             "#46039f"
            ],
            [
             0.2222222222222222,
             "#7201a8"
            ],
            [
             0.3333333333333333,
             "#9c179e"
            ],
            [
             0.4444444444444444,
             "#bd3786"
            ],
            [
             0.5555555555555556,
             "#d8576b"
            ],
            [
             0.6666666666666666,
             "#ed7953"
            ],
            [
             0.7777777777777778,
             "#fb9f3a"
            ],
            [
             0.8888888888888888,
             "#fdca26"
            ],
            [
             1,
             "#f0f921"
            ]
           ],
           "sequentialminus": [
            [
             0,
             "#0d0887"
            ],
            [
             0.1111111111111111,
             "#46039f"
            ],
            [
             0.2222222222222222,
             "#7201a8"
            ],
            [
             0.3333333333333333,
             "#9c179e"
            ],
            [
             0.4444444444444444,
             "#bd3786"
            ],
            [
             0.5555555555555556,
             "#d8576b"
            ],
            [
             0.6666666666666666,
             "#ed7953"
            ],
            [
             0.7777777777777778,
             "#fb9f3a"
            ],
            [
             0.8888888888888888,
             "#fdca26"
            ],
            [
             1,
             "#f0f921"
            ]
           ]
          },
          "colorway": [
           "#636efa",
           "#EF553B",
           "#00cc96",
           "#ab63fa",
           "#FFA15A",
           "#19d3f3",
           "#FF6692",
           "#B6E880",
           "#FF97FF",
           "#FECB52"
          ],
          "font": {
           "color": "#2a3f5f"
          },
          "geo": {
           "bgcolor": "white",
           "lakecolor": "white",
           "landcolor": "#E5ECF6",
           "showlakes": true,
           "showland": true,
           "subunitcolor": "white"
          },
          "hoverlabel": {
           "align": "left"
          },
          "hovermode": "closest",
          "mapbox": {
           "style": "light"
          },
          "paper_bgcolor": "white",
          "plot_bgcolor": "#E5ECF6",
          "polar": {
           "angularaxis": {
            "gridcolor": "white",
            "linecolor": "white",
            "ticks": ""
           },
           "bgcolor": "#E5ECF6",
           "radialaxis": {
            "gridcolor": "white",
            "linecolor": "white",
            "ticks": ""
           }
          },
          "scene": {
           "xaxis": {
            "backgroundcolor": "#E5ECF6",
            "gridcolor": "white",
            "gridwidth": 2,
            "linecolor": "white",
            "showbackground": true,
            "ticks": "",
            "zerolinecolor": "white"
           },
           "yaxis": {
            "backgroundcolor": "#E5ECF6",
            "gridcolor": "white",
            "gridwidth": 2,
            "linecolor": "white",
            "showbackground": true,
            "ticks": "",
            "zerolinecolor": "white"
           },
           "zaxis": {
            "backgroundcolor": "#E5ECF6",
            "gridcolor": "white",
            "gridwidth": 2,
            "linecolor": "white",
            "showbackground": true,
            "ticks": "",
            "zerolinecolor": "white"
           }
          },
          "shapedefaults": {
           "line": {
            "color": "#2a3f5f"
           }
          },
          "ternary": {
           "aaxis": {
            "gridcolor": "white",
            "linecolor": "white",
            "ticks": ""
           },
           "baxis": {
            "gridcolor": "white",
            "linecolor": "white",
            "ticks": ""
           },
           "bgcolor": "#E5ECF6",
           "caxis": {
            "gridcolor": "white",
            "linecolor": "white",
            "ticks": ""
           }
          },
          "title": {
           "x": 0.05
          },
          "xaxis": {
           "automargin": true,
           "gridcolor": "white",
           "linecolor": "white",
           "ticks": "",
           "title": {
            "standoff": 15
           },
           "zerolinecolor": "white",
           "zerolinewidth": 2
          },
          "yaxis": {
           "automargin": true,
           "gridcolor": "white",
           "linecolor": "white",
           "ticks": "",
           "title": {
            "standoff": 15
           },
           "zerolinecolor": "white",
           "zerolinewidth": 2
          }
         }
        },
        "title": {
         "font": {
          "color": "#4D5663"
         }
        },
        "xaxis": {
         "gridcolor": "#E1E5ED",
         "showgrid": true,
         "tickfont": {
          "color": "#4D5663"
         },
         "title": {
          "font": {
           "color": "#4D5663"
          },
          "text": ""
         },
         "zerolinecolor": "#E1E5ED"
        },
        "yaxis": {
         "gridcolor": "#E1E5ED",
         "showgrid": true,
         "tickfont": {
          "color": "#4D5663"
         },
         "title": {
          "font": {
           "color": "#4D5663"
          },
          "text": ""
         },
         "zerolinecolor": "#E1E5ED"
        }
       }
      },
      "text/html": [
       "<div>                            <div id=\"483c3408-5e72-490c-b855-97765e83cc25\" class=\"plotly-graph-div\" style=\"height:525px; width:100%;\"></div>            <script type=\"text/javascript\">                require([\"plotly\"], function(Plotly) {                    window.PLOTLYENV=window.PLOTLYENV || {};\n",
       "                    window.PLOTLYENV.BASE_URL='https://plot.ly';                                    if (document.getElementById(\"483c3408-5e72-490c-b855-97765e83cc25\")) {                    Plotly.newPlot(                        \"483c3408-5e72-490c-b855-97765e83cc25\",                        [{\"marker\":{\"color\":\"rgba(255, 153, 51, 0.6)\",\"line\":{\"color\":\"rgba(255, 153, 51, 1.0)\",\"width\":1}},\"name\":\"None\",\"orientation\":\"v\",\"text\":\"\",\"x\":[\"A\",\"B\",\"C\",\"D\"],\"y\":[100,100,100,100],\"type\":\"bar\"}],                        {\"legend\":{\"bgcolor\":\"#F5F6F9\",\"font\":{\"color\":\"#4D5663\"}},\"paper_bgcolor\":\"#F5F6F9\",\"plot_bgcolor\":\"#F5F6F9\",\"template\":{\"data\":{\"barpolar\":[{\"marker\":{\"line\":{\"color\":\"#E5ECF6\",\"width\":0.5},\"pattern\":{\"fillmode\":\"overlay\",\"size\":10,\"solidity\":0.2}},\"type\":\"barpolar\"}],\"bar\":[{\"error_x\":{\"color\":\"#2a3f5f\"},\"error_y\":{\"color\":\"#2a3f5f\"},\"marker\":{\"line\":{\"color\":\"#E5ECF6\",\"width\":0.5},\"pattern\":{\"fillmode\":\"overlay\",\"size\":10,\"solidity\":0.2}},\"type\":\"bar\"}],\"carpet\":[{\"aaxis\":{\"endlinecolor\":\"#2a3f5f\",\"gridcolor\":\"white\",\"linecolor\":\"white\",\"minorgridcolor\":\"white\",\"startlinecolor\":\"#2a3f5f\"},\"baxis\":{\"endlinecolor\":\"#2a3f5f\",\"gridcolor\":\"white\",\"linecolor\":\"white\",\"minorgridcolor\":\"white\",\"startlinecolor\":\"#2a3f5f\"},\"type\":\"carpet\"}],\"choropleth\":[{\"colorbar\":{\"outlinewidth\":0,\"ticks\":\"\"},\"type\":\"choropleth\"}],\"contourcarpet\":[{\"colorbar\":{\"outlinewidth\":0,\"ticks\":\"\"},\"type\":\"contourcarpet\"}],\"contour\":[{\"colorbar\":{\"outlinewidth\":0,\"ticks\":\"\"},\"colorscale\":[[0.0,\"#0d0887\"],[0.1111111111111111,\"#46039f\"],[0.2222222222222222,\"#7201a8\"],[0.3333333333333333,\"#9c179e\"],[0.4444444444444444,\"#bd3786\"],[0.5555555555555556,\"#d8576b\"],[0.6666666666666666,\"#ed7953\"],[0.7777777777777778,\"#fb9f3a\"],[0.8888888888888888,\"#fdca26\"],[1.0,\"#f0f921\"]],\"type\":\"contour\"}],\"heatmapgl\":[{\"colorbar\":{\"outlinewidth\":0,\"ticks\":\"\"},\"colorscale\":[[0.0,\"#0d0887\"],[0.1111111111111111,\"#46039f\"],[0.2222222222222222,\"#7201a8\"],[0.3333333333333333,\"#9c179e\"],[0.4444444444444444,\"#bd3786\"],[0.5555555555555556,\"#d8576b\"],[0.6666666666666666,\"#ed7953\"],[0.7777777777777778,\"#fb9f3a\"],[0.8888888888888888,\"#fdca26\"],[1.0,\"#f0f921\"]],\"type\":\"heatmapgl\"}],\"heatmap\":[{\"colorbar\":{\"outlinewidth\":0,\"ticks\":\"\"},\"colorscale\":[[0.0,\"#0d0887\"],[0.1111111111111111,\"#46039f\"],[0.2222222222222222,\"#7201a8\"],[0.3333333333333333,\"#9c179e\"],[0.4444444444444444,\"#bd3786\"],[0.5555555555555556,\"#d8576b\"],[0.6666666666666666,\"#ed7953\"],[0.7777777777777778,\"#fb9f3a\"],[0.8888888888888888,\"#fdca26\"],[1.0,\"#f0f921\"]],\"type\":\"heatmap\"}],\"histogram2dcontour\":[{\"colorbar\":{\"outlinewidth\":0,\"ticks\":\"\"},\"colorscale\":[[0.0,\"#0d0887\"],[0.1111111111111111,\"#46039f\"],[0.2222222222222222,\"#7201a8\"],[0.3333333333333333,\"#9c179e\"],[0.4444444444444444,\"#bd3786\"],[0.5555555555555556,\"#d8576b\"],[0.6666666666666666,\"#ed7953\"],[0.7777777777777778,\"#fb9f3a\"],[0.8888888888888888,\"#fdca26\"],[1.0,\"#f0f921\"]],\"type\":\"histogram2dcontour\"}],\"histogram2d\":[{\"colorbar\":{\"outlinewidth\":0,\"ticks\":\"\"},\"colorscale\":[[0.0,\"#0d0887\"],[0.1111111111111111,\"#46039f\"],[0.2222222222222222,\"#7201a8\"],[0.3333333333333333,\"#9c179e\"],[0.4444444444444444,\"#bd3786\"],[0.5555555555555556,\"#d8576b\"],[0.6666666666666666,\"#ed7953\"],[0.7777777777777778,\"#fb9f3a\"],[0.8888888888888888,\"#fdca26\"],[1.0,\"#f0f921\"]],\"type\":\"histogram2d\"}],\"histogram\":[{\"marker\":{\"pattern\":{\"fillmode\":\"overlay\",\"size\":10,\"solidity\":0.2}},\"type\":\"histogram\"}],\"mesh3d\":[{\"colorbar\":{\"outlinewidth\":0,\"ticks\":\"\"},\"type\":\"mesh3d\"}],\"parcoords\":[{\"line\":{\"colorbar\":{\"outlinewidth\":0,\"ticks\":\"\"}},\"type\":\"parcoords\"}],\"pie\":[{\"automargin\":true,\"type\":\"pie\"}],\"scatter3d\":[{\"line\":{\"colorbar\":{\"outlinewidth\":0,\"ticks\":\"\"}},\"marker\":{\"colorbar\":{\"outlinewidth\":0,\"ticks\":\"\"}},\"type\":\"scatter3d\"}],\"scattercarpet\":[{\"marker\":{\"colorbar\":{\"outlinewidth\":0,\"ticks\":\"\"}},\"type\":\"scattercarpet\"}],\"scattergeo\":[{\"marker\":{\"colorbar\":{\"outlinewidth\":0,\"ticks\":\"\"}},\"type\":\"scattergeo\"}],\"scattergl\":[{\"marker\":{\"colorbar\":{\"outlinewidth\":0,\"ticks\":\"\"}},\"type\":\"scattergl\"}],\"scattermapbox\":[{\"marker\":{\"colorbar\":{\"outlinewidth\":0,\"ticks\":\"\"}},\"type\":\"scattermapbox\"}],\"scatterpolargl\":[{\"marker\":{\"colorbar\":{\"outlinewidth\":0,\"ticks\":\"\"}},\"type\":\"scatterpolargl\"}],\"scatterpolar\":[{\"marker\":{\"colorbar\":{\"outlinewidth\":0,\"ticks\":\"\"}},\"type\":\"scatterpolar\"}],\"scatter\":[{\"fillpattern\":{\"fillmode\":\"overlay\",\"size\":10,\"solidity\":0.2},\"type\":\"scatter\"}],\"scatterternary\":[{\"marker\":{\"colorbar\":{\"outlinewidth\":0,\"ticks\":\"\"}},\"type\":\"scatterternary\"}],\"surface\":[{\"colorbar\":{\"outlinewidth\":0,\"ticks\":\"\"},\"colorscale\":[[0.0,\"#0d0887\"],[0.1111111111111111,\"#46039f\"],[0.2222222222222222,\"#7201a8\"],[0.3333333333333333,\"#9c179e\"],[0.4444444444444444,\"#bd3786\"],[0.5555555555555556,\"#d8576b\"],[0.6666666666666666,\"#ed7953\"],[0.7777777777777778,\"#fb9f3a\"],[0.8888888888888888,\"#fdca26\"],[1.0,\"#f0f921\"]],\"type\":\"surface\"}],\"table\":[{\"cells\":{\"fill\":{\"color\":\"#EBF0F8\"},\"line\":{\"color\":\"white\"}},\"header\":{\"fill\":{\"color\":\"#C8D4E3\"},\"line\":{\"color\":\"white\"}},\"type\":\"table\"}]},\"layout\":{\"annotationdefaults\":{\"arrowcolor\":\"#2a3f5f\",\"arrowhead\":0,\"arrowwidth\":1},\"autotypenumbers\":\"strict\",\"coloraxis\":{\"colorbar\":{\"outlinewidth\":0,\"ticks\":\"\"}},\"colorscale\":{\"diverging\":[[0,\"#8e0152\"],[0.1,\"#c51b7d\"],[0.2,\"#de77ae\"],[0.3,\"#f1b6da\"],[0.4,\"#fde0ef\"],[0.5,\"#f7f7f7\"],[0.6,\"#e6f5d0\"],[0.7,\"#b8e186\"],[0.8,\"#7fbc41\"],[0.9,\"#4d9221\"],[1,\"#276419\"]],\"sequential\":[[0.0,\"#0d0887\"],[0.1111111111111111,\"#46039f\"],[0.2222222222222222,\"#7201a8\"],[0.3333333333333333,\"#9c179e\"],[0.4444444444444444,\"#bd3786\"],[0.5555555555555556,\"#d8576b\"],[0.6666666666666666,\"#ed7953\"],[0.7777777777777778,\"#fb9f3a\"],[0.8888888888888888,\"#fdca26\"],[1.0,\"#f0f921\"]],\"sequentialminus\":[[0.0,\"#0d0887\"],[0.1111111111111111,\"#46039f\"],[0.2222222222222222,\"#7201a8\"],[0.3333333333333333,\"#9c179e\"],[0.4444444444444444,\"#bd3786\"],[0.5555555555555556,\"#d8576b\"],[0.6666666666666666,\"#ed7953\"],[0.7777777777777778,\"#fb9f3a\"],[0.8888888888888888,\"#fdca26\"],[1.0,\"#f0f921\"]]},\"colorway\":[\"#636efa\",\"#EF553B\",\"#00cc96\",\"#ab63fa\",\"#FFA15A\",\"#19d3f3\",\"#FF6692\",\"#B6E880\",\"#FF97FF\",\"#FECB52\"],\"font\":{\"color\":\"#2a3f5f\"},\"geo\":{\"bgcolor\":\"white\",\"lakecolor\":\"white\",\"landcolor\":\"#E5ECF6\",\"showlakes\":true,\"showland\":true,\"subunitcolor\":\"white\"},\"hoverlabel\":{\"align\":\"left\"},\"hovermode\":\"closest\",\"mapbox\":{\"style\":\"light\"},\"paper_bgcolor\":\"white\",\"plot_bgcolor\":\"#E5ECF6\",\"polar\":{\"angularaxis\":{\"gridcolor\":\"white\",\"linecolor\":\"white\",\"ticks\":\"\"},\"bgcolor\":\"#E5ECF6\",\"radialaxis\":{\"gridcolor\":\"white\",\"linecolor\":\"white\",\"ticks\":\"\"}},\"scene\":{\"xaxis\":{\"backgroundcolor\":\"#E5ECF6\",\"gridcolor\":\"white\",\"gridwidth\":2,\"linecolor\":\"white\",\"showbackground\":true,\"ticks\":\"\",\"zerolinecolor\":\"white\"},\"yaxis\":{\"backgroundcolor\":\"#E5ECF6\",\"gridcolor\":\"white\",\"gridwidth\":2,\"linecolor\":\"white\",\"showbackground\":true,\"ticks\":\"\",\"zerolinecolor\":\"white\"},\"zaxis\":{\"backgroundcolor\":\"#E5ECF6\",\"gridcolor\":\"white\",\"gridwidth\":2,\"linecolor\":\"white\",\"showbackground\":true,\"ticks\":\"\",\"zerolinecolor\":\"white\"}},\"shapedefaults\":{\"line\":{\"color\":\"#2a3f5f\"}},\"ternary\":{\"aaxis\":{\"gridcolor\":\"white\",\"linecolor\":\"white\",\"ticks\":\"\"},\"baxis\":{\"gridcolor\":\"white\",\"linecolor\":\"white\",\"ticks\":\"\"},\"bgcolor\":\"#E5ECF6\",\"caxis\":{\"gridcolor\":\"white\",\"linecolor\":\"white\",\"ticks\":\"\"}},\"title\":{\"x\":0.05},\"xaxis\":{\"automargin\":true,\"gridcolor\":\"white\",\"linecolor\":\"white\",\"ticks\":\"\",\"title\":{\"standoff\":15},\"zerolinecolor\":\"white\",\"zerolinewidth\":2},\"yaxis\":{\"automargin\":true,\"gridcolor\":\"white\",\"linecolor\":\"white\",\"ticks\":\"\",\"title\":{\"standoff\":15},\"zerolinecolor\":\"white\",\"zerolinewidth\":2}}},\"title\":{\"font\":{\"color\":\"#4D5663\"}},\"xaxis\":{\"gridcolor\":\"#E1E5ED\",\"showgrid\":true,\"tickfont\":{\"color\":\"#4D5663\"},\"title\":{\"font\":{\"color\":\"#4D5663\"},\"text\":\"\"},\"zerolinecolor\":\"#E1E5ED\"},\"yaxis\":{\"gridcolor\":\"#E1E5ED\",\"showgrid\":true,\"tickfont\":{\"color\":\"#4D5663\"},\"title\":{\"font\":{\"color\":\"#4D5663\"},\"text\":\"\"},\"zerolinecolor\":\"#E1E5ED\"}},                        {\"showLink\": true, \"linkText\": \"Export to plot.ly\", \"plotlyServerURL\": \"https://plot.ly\", \"responsive\": true}                    ).then(function(){\n",
       "                            \n",
       "var gd = document.getElementById('483c3408-5e72-490c-b855-97765e83cc25');\n",
       "var x = new MutationObserver(function (mutations, observer) {{\n",
       "        var display = window.getComputedStyle(gd).display;\n",
       "        if (!display || display === 'none') {{\n",
       "            console.log([gd, 'removed!']);\n",
       "            Plotly.purge(gd);\n",
       "            observer.disconnect();\n",
       "        }}\n",
       "}});\n",
       "\n",
       "// Listen for the removal of the full notebook cells\n",
       "var notebookContainer = gd.closest('#notebook-container');\n",
       "if (notebookContainer) {{\n",
       "    x.observe(notebookContainer, {childList: true});\n",
       "}}\n",
       "\n",
       "// Listen for the clearing of the current output cell\n",
       "var outputEl = gd.closest('.output');\n",
       "if (outputEl) {{\n",
       "    x.observe(outputEl, {childList: true});\n",
       "}}\n",
       "\n",
       "                        })                };                });            </script>        </div>"
      ]
     },
     "metadata": {},
     "output_type": "display_data"
    }
   ],
   "source": [
    "df.count().iplot(kind='bar')"
   ]
  },
  {
   "cell_type": "markdown",
   "metadata": {},
   "source": [
    "## Boxplots"
   ]
  },
  {
   "cell_type": "code",
   "execution_count": 13,
   "metadata": {},
   "outputs": [
    {
     "data": {
      "application/vnd.plotly.v1+json": {
       "config": {
        "linkText": "Export to plot.ly",
        "plotlyServerURL": "https://plot.ly",
        "showLink": true
       },
       "data": [
        {
         "boxpoints": false,
         "line": {
          "width": 1.3
         },
         "marker": {
          "color": "rgba(255, 153, 51, 1.0)"
         },
         "name": "A",
         "orientation": "v",
         "type": "box",
         "y": [
          -0.6035297959382414,
          -0.8168839180464849,
          -0.6156857927636435,
          -0.96809123662696,
          -0.6854691740293992,
          0.7199714768803681,
          1.446160156463076,
          1.799627965830823,
          1.7157877533685324,
          -0.17901370565073169,
          0.005449232404899039,
          -1.0833144371751064,
          -0.9551544617528701,
          -0.806542516870636,
          2.192659195836407,
          0.15416197000598228,
          0.01631753712948887,
          1.7267160752937727,
          0.57985045638903,
          0.09791585210952843,
          0.21351052704706053,
          0.2810617979115468,
          0.432292126121937,
          -1.1735741563193232,
          -1.1583974052626016,
          1.5614876377792792,
          -1.2881469804000822,
          -0.26495107714432603,
          1.3312459821437788,
          -0.08333634781307717,
          0.460140024288853,
          2.0200389221711164,
          -0.2964711710980584,
          1.7438707329329075,
          0.6965071847803438,
          0.9616884505199493,
          -1.0826686274947974,
          -0.2290348397768763,
          0.22539764253003775,
          2.3790211963457173,
          0.3472056319516496,
          0.035911286437501085,
          1.259055281551953,
          0.5918447616263801,
          -0.6822565116504726,
          -0.8928399410348654,
          -0.6615460317551572,
          0.04214420334432419,
          0.32233108348176587,
          -0.2000440217299358,
          0.326674581272999,
          0.9432398763689777,
          -0.8168202319197175,
          0.07617503642020822,
          -0.10923092299046434,
          -2.3793044960670433,
          -0.7364273736220023,
          -0.11339616677514272,
          -0.6902054596789023,
          -1.38642008999562,
          0.8495427939718966,
          -0.3878460284258634,
          -0.8089657350136299,
          -0.368755861201994,
          -0.0070429161289379105,
          -0.2524318160687466,
          -1.1110786925423664,
          1.6950918157689456,
          0.6672081179643534,
          -0.03371141339443632,
          1.9001276876037883,
          -0.9192875396872777,
          0.5871667111331204,
          -0.08438004513753744,
          0.07309561806045688,
          0.7562262739315151,
          0.4462221113646279,
          0.4266663764331806,
          0.6155194400559172,
          0.27929381908824663,
          -1.053986571099971,
          0.18020245770246723,
          -0.04058567909420326,
          1.1441406510591838,
          -0.4794020094470726,
          -1.0881453768671514,
          0.24795817635371536,
          -0.6311227016730568,
          -2.4387748259857727,
          0.9572567814279553,
          -1.8090332855133209,
          -0.16035983288459527,
          0.2862808765695702,
          -0.13959297740089516,
          -1.7815333343184052,
          0.07132219757149803,
          1.062568166469194,
          -0.5821359801529373,
          0.13735274878157913,
          -1.0609086520436461
         ]
        },
        {
         "boxpoints": false,
         "line": {
          "width": 1.3
         },
         "marker": {
          "color": "rgba(55, 128, 191, 1.0)"
         },
         "name": "B",
         "orientation": "v",
         "type": "box",
         "y": [
          0.34937467752453855,
          -0.6963689003611885,
          0.49444390521925163,
          -0.5216091706513676,
          0.4724087770975294,
          -0.7451485094842482,
          -1.034922517004572,
          -0.7231837962892254,
          -0.3565877101781193,
          0.5561839128654138,
          1.4995719633555327,
          0.10904078889562052,
          0.026129809655202986,
          1.461617696540569,
          -0.5402179049296549,
          -0.20317357616560444,
          0.6218015091883577,
          0.6203131147082552,
          1.6198556238181445,
          1.3750576201475166,
          1.7665147161583103,
          0.9736869943203338,
          1.6632487833008511,
          1.1946869607840391,
          -1.3181911639397836,
          0.21483071972553233,
          0.9532299081544663,
          -0.47835866959161855,
          -0.05367608683761055,
          -0.6233004340756563,
          -0.44763279779657505,
          1.540650986930894,
          -0.10041228764413782,
          1.9740906004864247,
          0.8399728426296991,
          -0.06900862170430426,
          0.3050884857376401,
          -0.24929546241599287,
          0.22540055450182636,
          -1.9464725746598737,
          -0.013967839426258875,
          1.146660179529997,
          -1.8798754854886035,
          -0.40737114477860115,
          -0.5535966777043381,
          -0.9046493670712153,
          -0.2165903294015373,
          -1.5978791360078572,
          -1.3858322851196112,
          -1.0314493305780452,
          1.2198575387415684,
          -0.5408288300390035,
          -0.136382172634374,
          -0.8522283472752146,
          -1.105056411687845,
          -1.5317431813873281,
          1.583062570780521,
          -0.5433498971348376,
          -0.8166347685311419,
          1.188444648041088,
          1.2914964306290924,
          0.8093118784465675,
          -2.2319460048066775,
          -0.6725420748091804,
          -0.03225818317810197,
          -0.02957431018242885,
          1.3781411773100498,
          -0.20446219959169973,
          0.7892794713371499,
          0.06304076348528372,
          0.7397415414777962,
          0.07953236164410435,
          0.20439894314802834,
          -0.13400910629225057,
          -0.42058647511319996,
          -0.3945684866149251,
          2.502544202353219,
          -1.2099348465143327,
          -0.45678523003251864,
          1.658444813234687,
          -0.5805059472672414,
          -0.28552340803789444,
          0.3230214214336419,
          0.9383761746830033,
          0.01073116888838524,
          0.5290085286062141,
          -2.279993493907933,
          0.36593355315096493,
          -0.27987443799520223,
          0.5427764918925077,
          -0.19185176677469148,
          0.7150314393582368,
          1.2759738685362205,
          0.04545720514712179,
          -0.551929296600115,
          0.6566504637125637,
          0.11765627356863474,
          0.6719491850445272,
          0.6469902247765215,
          2.036967266780365
         ]
        },
        {
         "boxpoints": false,
         "line": {
          "width": 1.3
         },
         "marker": {
          "color": "rgba(50, 171, 96, 1.0)"
         },
         "name": "C",
         "orientation": "v",
         "type": "box",
         "y": [
          -0.45894363207003874,
          -0.722493736425623,
          0.20048308182644103,
          0.21013691749919605,
          -1.2582865634030673,
          0.15572381409310349,
          0.12722318672967606,
          -1.1172841759524756,
          -0.32167088487824663,
          1.2820924469897839,
          1.2746458957351432,
          0.19741381168422306,
          -0.026319680326124247,
          -0.6261956419918936,
          -1.827317797523706,
          1.5295751806362594,
          0.7978671095184491,
          -0.44242771455398616,
          1.2517093954017375,
          -0.4374002164271172,
          -0.2088761217760585,
          0.9914351899287585,
          -0.7757534649373191,
          0.15542069423383104,
          0.9105883849758006,
          -0.8777810552672228,
          -0.03755979623072555,
          0.41750579681315453,
          -0.49868192335410727,
          0.1359567357943551,
          0.5864092616365337,
          0.26810355894023286,
          0.4319092888365515,
          -0.33843652019396325,
          -1.556954816131435,
          0.017076645905988314,
          -1.2335428860410314,
          -0.5300277115200999,
          0.3557121879215574,
          -0.8702906692057076,
          -0.24771759336054197,
          -0.48238627289842134,
          -0.8539490525967117,
          1.6052144620788638,
          0.5948825722463177,
          0.5014783883450039,
          -1.5907686489548516,
          1.9592711941149723,
          -0.6590501882893535,
          0.6786312915292462,
          0.8007490340778324,
          0.4851452973951361,
          0.39726682011532344,
          0.5613441269665118,
          -0.36841609809838377,
          -2.301110635895323,
          1.0053731213812054,
          0.6884809214427433,
          -0.9679707519166635,
          -0.7985724226436826,
          0.9337282554968057,
          0.8016901054013353,
          -1.0864386506924104,
          0.1346620359267253,
          0.31981939534048587,
          0.4191066003474241,
          -0.9283653171090223,
          0.5651018665991434,
          0.2566207279016743,
          -0.9221379263744246,
          -0.275295703480833,
          -0.9040403621229179,
          -0.3418758056386093,
          0.882667564012617,
          -0.9575256897906781,
          -0.04220720553214903,
          0.12741630715091679,
          0.0801350988925898,
          -0.5881973704909578,
          -0.7989183038951643,
          -0.6123211464779134,
          2.0838216800295455,
          0.3860616944646757,
          -1.029595696286652,
          -0.29495079443307226,
          -1.85696806597112,
          -0.6833149525264706,
          -1.1254056305928566,
          -0.5709866578437394,
          -1.4199453804058024,
          -0.048221072258501606,
          -0.5183785708099345,
          -1.3164874905403154,
          -0.7998440621438979,
          -0.5431410573120433,
          -0.7334628539190104,
          -0.5759876195881625,
          0.2714706891156414,
          -0.1394462507553613,
          1.67677868861515
         ]
        },
        {
         "boxpoints": false,
         "line": {
          "width": 1.3
         },
         "marker": {
          "color": "rgba(128, 0, 128, 1.0)"
         },
         "name": "D",
         "orientation": "v",
         "type": "box",
         "y": [
          -0.34169268609277414,
          -0.34183801529160274,
          1.6062682592776023,
          -1.4450737393234019,
          -0.18522747172328866,
          -0.04069753018788604,
          0.7841468872020846,
          -1.611535831087613,
          0.1925890588357887,
          -0.7102571091807316,
          -0.9164694284920862,
          0.33078348659333273,
          1.327120173806734,
          -0.16560282354401276,
          -1.3657921245126956,
          -0.6051346730350797,
          -0.12268962327513441,
          0.0139238356541641,
          -0.8184951383923359,
          1.4568988073114435,
          0.5289402475146002,
          -1.743837024545892,
          0.9611719636513841,
          2.189351795330784,
          -0.7889314212630767,
          -1.5449007522392284,
          -1.3515124119050888,
          -0.8756587316558068,
          1.8530171382776812,
          1.9482165983272408,
          -0.8854191015533303,
          -0.5317653592338805,
          -0.08804611429214376,
          0.8810490425739139,
          0.9619079856272028,
          -0.6639964508596742,
          0.8944136624556296,
          -1.2582374112630885,
          -1.67498985383671,
          -0.5019404224796657,
          -1.617466517909237,
          0.33815522490584576,
          -0.19395511995208742,
          0.5564847798722077,
          0.7391988057687954,
          0.3864284359754881,
          1.3731110127115635,
          -1.812818992105761,
          -0.4766651921726845,
          -1.8697231000573862,
          -0.7667995982992395,
          2.2684860401190576,
          -0.24475253253371743,
          1.6589311028707305,
          -0.675376241837252,
          -0.11669023620788196,
          2.622243055593758,
          1.4984155002845336,
          -0.34564021682288026,
          1.2112516135244957,
          1.878484203150067,
          2.1620680333740823,
          -0.11580270774452468,
          -0.616590807718963,
          -0.4339821237291172,
          -0.08744975797638274,
          0.5703588245895896,
          -1.8007497542298683,
          0.30698259902780795,
          -0.7308696008707364,
          0.7412597006927252,
          1.55436335423711,
          -0.08361996181585983,
          1.105701669276414,
          -0.11208411866423354,
          0.8232462503051557,
          -1.5096306486477309,
          -1.2610073085639086,
          -0.10347061027879353,
          0.13335711264795141,
          0.7966018644090099,
          -0.5017975897580077,
          0.195065487908468,
          -0.11533106260527573,
          -1.3114838277041492,
          0.08585906865151684,
          1.0285583423417954,
          -0.8591616694968488,
          1.2497869396172856,
          0.15795189060603929,
          2.013604612560534,
          0.4533456804254915,
          -1.3495704596081035,
          -1.0930391280601481,
          -1.0645998423595764,
          -1.406992645223996,
          0.8237833699483021,
          -1.13520291306774,
          -0.35218681524264417,
          1.3879333308792428
         ]
        }
       ],
       "layout": {
        "legend": {
         "bgcolor": "#F5F6F9",
         "font": {
          "color": "#4D5663"
         }
        },
        "paper_bgcolor": "#F5F6F9",
        "plot_bgcolor": "#F5F6F9",
        "template": {
         "data": {
          "bar": [
           {
            "error_x": {
             "color": "#2a3f5f"
            },
            "error_y": {
             "color": "#2a3f5f"
            },
            "marker": {
             "line": {
              "color": "#E5ECF6",
              "width": 0.5
             },
             "pattern": {
              "fillmode": "overlay",
              "size": 10,
              "solidity": 0.2
             }
            },
            "type": "bar"
           }
          ],
          "barpolar": [
           {
            "marker": {
             "line": {
              "color": "#E5ECF6",
              "width": 0.5
             },
             "pattern": {
              "fillmode": "overlay",
              "size": 10,
              "solidity": 0.2
             }
            },
            "type": "barpolar"
           }
          ],
          "carpet": [
           {
            "aaxis": {
             "endlinecolor": "#2a3f5f",
             "gridcolor": "white",
             "linecolor": "white",
             "minorgridcolor": "white",
             "startlinecolor": "#2a3f5f"
            },
            "baxis": {
             "endlinecolor": "#2a3f5f",
             "gridcolor": "white",
             "linecolor": "white",
             "minorgridcolor": "white",
             "startlinecolor": "#2a3f5f"
            },
            "type": "carpet"
           }
          ],
          "choropleth": [
           {
            "colorbar": {
             "outlinewidth": 0,
             "ticks": ""
            },
            "type": "choropleth"
           }
          ],
          "contour": [
           {
            "colorbar": {
             "outlinewidth": 0,
             "ticks": ""
            },
            "colorscale": [
             [
              0,
              "#0d0887"
             ],
             [
              0.1111111111111111,
              "#46039f"
             ],
             [
              0.2222222222222222,
              "#7201a8"
             ],
             [
              0.3333333333333333,
              "#9c179e"
             ],
             [
              0.4444444444444444,
              "#bd3786"
             ],
             [
              0.5555555555555556,
              "#d8576b"
             ],
             [
              0.6666666666666666,
              "#ed7953"
             ],
             [
              0.7777777777777778,
              "#fb9f3a"
             ],
             [
              0.8888888888888888,
              "#fdca26"
             ],
             [
              1,
              "#f0f921"
             ]
            ],
            "type": "contour"
           }
          ],
          "contourcarpet": [
           {
            "colorbar": {
             "outlinewidth": 0,
             "ticks": ""
            },
            "type": "contourcarpet"
           }
          ],
          "heatmap": [
           {
            "colorbar": {
             "outlinewidth": 0,
             "ticks": ""
            },
            "colorscale": [
             [
              0,
              "#0d0887"
             ],
             [
              0.1111111111111111,
              "#46039f"
             ],
             [
              0.2222222222222222,
              "#7201a8"
             ],
             [
              0.3333333333333333,
              "#9c179e"
             ],
             [
              0.4444444444444444,
              "#bd3786"
             ],
             [
              0.5555555555555556,
              "#d8576b"
             ],
             [
              0.6666666666666666,
              "#ed7953"
             ],
             [
              0.7777777777777778,
              "#fb9f3a"
             ],
             [
              0.8888888888888888,
              "#fdca26"
             ],
             [
              1,
              "#f0f921"
             ]
            ],
            "type": "heatmap"
           }
          ],
          "heatmapgl": [
           {
            "colorbar": {
             "outlinewidth": 0,
             "ticks": ""
            },
            "colorscale": [
             [
              0,
              "#0d0887"
             ],
             [
              0.1111111111111111,
              "#46039f"
             ],
             [
              0.2222222222222222,
              "#7201a8"
             ],
             [
              0.3333333333333333,
              "#9c179e"
             ],
             [
              0.4444444444444444,
              "#bd3786"
             ],
             [
              0.5555555555555556,
              "#d8576b"
             ],
             [
              0.6666666666666666,
              "#ed7953"
             ],
             [
              0.7777777777777778,
              "#fb9f3a"
             ],
             [
              0.8888888888888888,
              "#fdca26"
             ],
             [
              1,
              "#f0f921"
             ]
            ],
            "type": "heatmapgl"
           }
          ],
          "histogram": [
           {
            "marker": {
             "pattern": {
              "fillmode": "overlay",
              "size": 10,
              "solidity": 0.2
             }
            },
            "type": "histogram"
           }
          ],
          "histogram2d": [
           {
            "colorbar": {
             "outlinewidth": 0,
             "ticks": ""
            },
            "colorscale": [
             [
              0,
              "#0d0887"
             ],
             [
              0.1111111111111111,
              "#46039f"
             ],
             [
              0.2222222222222222,
              "#7201a8"
             ],
             [
              0.3333333333333333,
              "#9c179e"
             ],
             [
              0.4444444444444444,
              "#bd3786"
             ],
             [
              0.5555555555555556,
              "#d8576b"
             ],
             [
              0.6666666666666666,
              "#ed7953"
             ],
             [
              0.7777777777777778,
              "#fb9f3a"
             ],
             [
              0.8888888888888888,
              "#fdca26"
             ],
             [
              1,
              "#f0f921"
             ]
            ],
            "type": "histogram2d"
           }
          ],
          "histogram2dcontour": [
           {
            "colorbar": {
             "outlinewidth": 0,
             "ticks": ""
            },
            "colorscale": [
             [
              0,
              "#0d0887"
             ],
             [
              0.1111111111111111,
              "#46039f"
             ],
             [
              0.2222222222222222,
              "#7201a8"
             ],
             [
              0.3333333333333333,
              "#9c179e"
             ],
             [
              0.4444444444444444,
              "#bd3786"
             ],
             [
              0.5555555555555556,
              "#d8576b"
             ],
             [
              0.6666666666666666,
              "#ed7953"
             ],
             [
              0.7777777777777778,
              "#fb9f3a"
             ],
             [
              0.8888888888888888,
              "#fdca26"
             ],
             [
              1,
              "#f0f921"
             ]
            ],
            "type": "histogram2dcontour"
           }
          ],
          "mesh3d": [
           {
            "colorbar": {
             "outlinewidth": 0,
             "ticks": ""
            },
            "type": "mesh3d"
           }
          ],
          "parcoords": [
           {
            "line": {
             "colorbar": {
              "outlinewidth": 0,
              "ticks": ""
             }
            },
            "type": "parcoords"
           }
          ],
          "pie": [
           {
            "automargin": true,
            "type": "pie"
           }
          ],
          "scatter": [
           {
            "fillpattern": {
             "fillmode": "overlay",
             "size": 10,
             "solidity": 0.2
            },
            "type": "scatter"
           }
          ],
          "scatter3d": [
           {
            "line": {
             "colorbar": {
              "outlinewidth": 0,
              "ticks": ""
             }
            },
            "marker": {
             "colorbar": {
              "outlinewidth": 0,
              "ticks": ""
             }
            },
            "type": "scatter3d"
           }
          ],
          "scattercarpet": [
           {
            "marker": {
             "colorbar": {
              "outlinewidth": 0,
              "ticks": ""
             }
            },
            "type": "scattercarpet"
           }
          ],
          "scattergeo": [
           {
            "marker": {
             "colorbar": {
              "outlinewidth": 0,
              "ticks": ""
             }
            },
            "type": "scattergeo"
           }
          ],
          "scattergl": [
           {
            "marker": {
             "colorbar": {
              "outlinewidth": 0,
              "ticks": ""
             }
            },
            "type": "scattergl"
           }
          ],
          "scattermapbox": [
           {
            "marker": {
             "colorbar": {
              "outlinewidth": 0,
              "ticks": ""
             }
            },
            "type": "scattermapbox"
           }
          ],
          "scatterpolar": [
           {
            "marker": {
             "colorbar": {
              "outlinewidth": 0,
              "ticks": ""
             }
            },
            "type": "scatterpolar"
           }
          ],
          "scatterpolargl": [
           {
            "marker": {
             "colorbar": {
              "outlinewidth": 0,
              "ticks": ""
             }
            },
            "type": "scatterpolargl"
           }
          ],
          "scatterternary": [
           {
            "marker": {
             "colorbar": {
              "outlinewidth": 0,
              "ticks": ""
             }
            },
            "type": "scatterternary"
           }
          ],
          "surface": [
           {
            "colorbar": {
             "outlinewidth": 0,
             "ticks": ""
            },
            "colorscale": [
             [
              0,
              "#0d0887"
             ],
             [
              0.1111111111111111,
              "#46039f"
             ],
             [
              0.2222222222222222,
              "#7201a8"
             ],
             [
              0.3333333333333333,
              "#9c179e"
             ],
             [
              0.4444444444444444,
              "#bd3786"
             ],
             [
              0.5555555555555556,
              "#d8576b"
             ],
             [
              0.6666666666666666,
              "#ed7953"
             ],
             [
              0.7777777777777778,
              "#fb9f3a"
             ],
             [
              0.8888888888888888,
              "#fdca26"
             ],
             [
              1,
              "#f0f921"
             ]
            ],
            "type": "surface"
           }
          ],
          "table": [
           {
            "cells": {
             "fill": {
              "color": "#EBF0F8"
             },
             "line": {
              "color": "white"
             }
            },
            "header": {
             "fill": {
              "color": "#C8D4E3"
             },
             "line": {
              "color": "white"
             }
            },
            "type": "table"
           }
          ]
         },
         "layout": {
          "annotationdefaults": {
           "arrowcolor": "#2a3f5f",
           "arrowhead": 0,
           "arrowwidth": 1
          },
          "autotypenumbers": "strict",
          "coloraxis": {
           "colorbar": {
            "outlinewidth": 0,
            "ticks": ""
           }
          },
          "colorscale": {
           "diverging": [
            [
             0,
             "#8e0152"
            ],
            [
             0.1,
             "#c51b7d"
            ],
            [
             0.2,
             "#de77ae"
            ],
            [
             0.3,
             "#f1b6da"
            ],
            [
             0.4,
             "#fde0ef"
            ],
            [
             0.5,
             "#f7f7f7"
            ],
            [
             0.6,
             "#e6f5d0"
            ],
            [
             0.7,
             "#b8e186"
            ],
            [
             0.8,
             "#7fbc41"
            ],
            [
             0.9,
             "#4d9221"
            ],
            [
             1,
             "#276419"
            ]
           ],
           "sequential": [
            [
             0,
             "#0d0887"
            ],
            [
             0.1111111111111111,
             "#46039f"
            ],
            [
             0.2222222222222222,
             "#7201a8"
            ],
            [
             0.3333333333333333,
             "#9c179e"
            ],
            [
             0.4444444444444444,
             "#bd3786"
            ],
            [
             0.5555555555555556,
             "#d8576b"
            ],
            [
             0.6666666666666666,
             "#ed7953"
            ],
            [
             0.7777777777777778,
             "#fb9f3a"
            ],
            [
             0.8888888888888888,
             "#fdca26"
            ],
            [
             1,
             "#f0f921"
            ]
           ],
           "sequentialminus": [
            [
             0,
             "#0d0887"
            ],
            [
             0.1111111111111111,
             "#46039f"
            ],
            [
             0.2222222222222222,
             "#7201a8"
            ],
            [
             0.3333333333333333,
             "#9c179e"
            ],
            [
             0.4444444444444444,
             "#bd3786"
            ],
            [
             0.5555555555555556,
             "#d8576b"
            ],
            [
             0.6666666666666666,
             "#ed7953"
            ],
            [
             0.7777777777777778,
             "#fb9f3a"
            ],
            [
             0.8888888888888888,
             "#fdca26"
            ],
            [
             1,
             "#f0f921"
            ]
           ]
          },
          "colorway": [
           "#636efa",
           "#EF553B",
           "#00cc96",
           "#ab63fa",
           "#FFA15A",
           "#19d3f3",
           "#FF6692",
           "#B6E880",
           "#FF97FF",
           "#FECB52"
          ],
          "font": {
           "color": "#2a3f5f"
          },
          "geo": {
           "bgcolor": "white",
           "lakecolor": "white",
           "landcolor": "#E5ECF6",
           "showlakes": true,
           "showland": true,
           "subunitcolor": "white"
          },
          "hoverlabel": {
           "align": "left"
          },
          "hovermode": "closest",
          "mapbox": {
           "style": "light"
          },
          "paper_bgcolor": "white",
          "plot_bgcolor": "#E5ECF6",
          "polar": {
           "angularaxis": {
            "gridcolor": "white",
            "linecolor": "white",
            "ticks": ""
           },
           "bgcolor": "#E5ECF6",
           "radialaxis": {
            "gridcolor": "white",
            "linecolor": "white",
            "ticks": ""
           }
          },
          "scene": {
           "xaxis": {
            "backgroundcolor": "#E5ECF6",
            "gridcolor": "white",
            "gridwidth": 2,
            "linecolor": "white",
            "showbackground": true,
            "ticks": "",
            "zerolinecolor": "white"
           },
           "yaxis": {
            "backgroundcolor": "#E5ECF6",
            "gridcolor": "white",
            "gridwidth": 2,
            "linecolor": "white",
            "showbackground": true,
            "ticks": "",
            "zerolinecolor": "white"
           },
           "zaxis": {
            "backgroundcolor": "#E5ECF6",
            "gridcolor": "white",
            "gridwidth": 2,
            "linecolor": "white",
            "showbackground": true,
            "ticks": "",
            "zerolinecolor": "white"
           }
          },
          "shapedefaults": {
           "line": {
            "color": "#2a3f5f"
           }
          },
          "ternary": {
           "aaxis": {
            "gridcolor": "white",
            "linecolor": "white",
            "ticks": ""
           },
           "baxis": {
            "gridcolor": "white",
            "linecolor": "white",
            "ticks": ""
           },
           "bgcolor": "#E5ECF6",
           "caxis": {
            "gridcolor": "white",
            "linecolor": "white",
            "ticks": ""
           }
          },
          "title": {
           "x": 0.05
          },
          "xaxis": {
           "automargin": true,
           "gridcolor": "white",
           "linecolor": "white",
           "ticks": "",
           "title": {
            "standoff": 15
           },
           "zerolinecolor": "white",
           "zerolinewidth": 2
          },
          "yaxis": {
           "automargin": true,
           "gridcolor": "white",
           "linecolor": "white",
           "ticks": "",
           "title": {
            "standoff": 15
           },
           "zerolinecolor": "white",
           "zerolinewidth": 2
          }
         }
        },
        "title": {
         "font": {
          "color": "#4D5663"
         }
        },
        "xaxis": {
         "gridcolor": "#E1E5ED",
         "showgrid": true,
         "tickfont": {
          "color": "#4D5663"
         },
         "title": {
          "font": {
           "color": "#4D5663"
          },
          "text": ""
         },
         "zerolinecolor": "#E1E5ED"
        },
        "yaxis": {
         "gridcolor": "#E1E5ED",
         "showgrid": true,
         "tickfont": {
          "color": "#4D5663"
         },
         "title": {
          "font": {
           "color": "#4D5663"
          },
          "text": ""
         },
         "zerolinecolor": "#E1E5ED"
        }
       }
      },
      "text/html": [
       "<div>                            <div id=\"930ad49a-27b4-4a20-a720-c00ddbe52f0e\" class=\"plotly-graph-div\" style=\"height:525px; width:100%;\"></div>            <script type=\"text/javascript\">                require([\"plotly\"], function(Plotly) {                    window.PLOTLYENV=window.PLOTLYENV || {};\n",
       "                    window.PLOTLYENV.BASE_URL='https://plot.ly';                                    if (document.getElementById(\"930ad49a-27b4-4a20-a720-c00ddbe52f0e\")) {                    Plotly.newPlot(                        \"930ad49a-27b4-4a20-a720-c00ddbe52f0e\",                        [{\"boxpoints\":false,\"line\":{\"width\":1.3},\"marker\":{\"color\":\"rgba(255, 153, 51, 1.0)\"},\"name\":\"A\",\"orientation\":\"v\",\"y\":[-0.6035297959382414,-0.8168839180464849,-0.6156857927636435,-0.96809123662696,-0.6854691740293992,0.7199714768803681,1.446160156463076,1.799627965830823,1.7157877533685324,-0.17901370565073169,0.005449232404899039,-1.0833144371751064,-0.9551544617528701,-0.806542516870636,2.192659195836407,0.15416197000598228,0.01631753712948887,1.7267160752937727,0.57985045638903,0.09791585210952843,0.21351052704706053,0.2810617979115468,0.432292126121937,-1.1735741563193232,-1.1583974052626016,1.5614876377792792,-1.2881469804000822,-0.26495107714432603,1.3312459821437788,-0.08333634781307717,0.460140024288853,2.0200389221711164,-0.2964711710980584,1.7438707329329075,0.6965071847803438,0.9616884505199493,-1.0826686274947974,-0.2290348397768763,0.22539764253003775,2.3790211963457173,0.3472056319516496,0.035911286437501085,1.259055281551953,0.5918447616263801,-0.6822565116504726,-0.8928399410348654,-0.6615460317551572,0.04214420334432419,0.32233108348176587,-0.2000440217299358,0.326674581272999,0.9432398763689777,-0.8168202319197175,0.07617503642020822,-0.10923092299046434,-2.3793044960670433,-0.7364273736220023,-0.11339616677514272,-0.6902054596789023,-1.38642008999562,0.8495427939718966,-0.3878460284258634,-0.8089657350136299,-0.368755861201994,-0.0070429161289379105,-0.2524318160687466,-1.1110786925423664,1.6950918157689456,0.6672081179643534,-0.03371141339443632,1.9001276876037883,-0.9192875396872777,0.5871667111331204,-0.08438004513753744,0.07309561806045688,0.7562262739315151,0.4462221113646279,0.4266663764331806,0.6155194400559172,0.27929381908824663,-1.053986571099971,0.18020245770246723,-0.04058567909420326,1.1441406510591838,-0.4794020094470726,-1.0881453768671514,0.24795817635371536,-0.6311227016730568,-2.4387748259857727,0.9572567814279553,-1.8090332855133209,-0.16035983288459527,0.2862808765695702,-0.13959297740089516,-1.7815333343184052,0.07132219757149803,1.062568166469194,-0.5821359801529373,0.13735274878157913,-1.0609086520436461],\"type\":\"box\"},{\"boxpoints\":false,\"line\":{\"width\":1.3},\"marker\":{\"color\":\"rgba(55, 128, 191, 1.0)\"},\"name\":\"B\",\"orientation\":\"v\",\"y\":[0.34937467752453855,-0.6963689003611885,0.49444390521925163,-0.5216091706513676,0.4724087770975294,-0.7451485094842482,-1.034922517004572,-0.7231837962892254,-0.3565877101781193,0.5561839128654138,1.4995719633555327,0.10904078889562052,0.026129809655202986,1.461617696540569,-0.5402179049296549,-0.20317357616560444,0.6218015091883577,0.6203131147082552,1.6198556238181445,1.3750576201475166,1.7665147161583103,0.9736869943203338,1.6632487833008511,1.1946869607840391,-1.3181911639397836,0.21483071972553233,0.9532299081544663,-0.47835866959161855,-0.05367608683761055,-0.6233004340756563,-0.44763279779657505,1.540650986930894,-0.10041228764413782,1.9740906004864247,0.8399728426296991,-0.06900862170430426,0.3050884857376401,-0.24929546241599287,0.22540055450182636,-1.9464725746598737,-0.013967839426258875,1.146660179529997,-1.8798754854886035,-0.40737114477860115,-0.5535966777043381,-0.9046493670712153,-0.2165903294015373,-1.5978791360078572,-1.3858322851196112,-1.0314493305780452,1.2198575387415684,-0.5408288300390035,-0.136382172634374,-0.8522283472752146,-1.105056411687845,-1.5317431813873281,1.583062570780521,-0.5433498971348376,-0.8166347685311419,1.188444648041088,1.2914964306290924,0.8093118784465675,-2.2319460048066775,-0.6725420748091804,-0.03225818317810197,-0.02957431018242885,1.3781411773100498,-0.20446219959169973,0.7892794713371499,0.06304076348528372,0.7397415414777962,0.07953236164410435,0.20439894314802834,-0.13400910629225057,-0.42058647511319996,-0.3945684866149251,2.502544202353219,-1.2099348465143327,-0.45678523003251864,1.658444813234687,-0.5805059472672414,-0.28552340803789444,0.3230214214336419,0.9383761746830033,0.01073116888838524,0.5290085286062141,-2.279993493907933,0.36593355315096493,-0.27987443799520223,0.5427764918925077,-0.19185176677469148,0.7150314393582368,1.2759738685362205,0.04545720514712179,-0.551929296600115,0.6566504637125637,0.11765627356863474,0.6719491850445272,0.6469902247765215,2.036967266780365],\"type\":\"box\"},{\"boxpoints\":false,\"line\":{\"width\":1.3},\"marker\":{\"color\":\"rgba(50, 171, 96, 1.0)\"},\"name\":\"C\",\"orientation\":\"v\",\"y\":[-0.45894363207003874,-0.722493736425623,0.20048308182644103,0.21013691749919605,-1.2582865634030673,0.15572381409310349,0.12722318672967606,-1.1172841759524756,-0.32167088487824663,1.2820924469897839,1.2746458957351432,0.19741381168422306,-0.026319680326124247,-0.6261956419918936,-1.827317797523706,1.5295751806362594,0.7978671095184491,-0.44242771455398616,1.2517093954017375,-0.4374002164271172,-0.2088761217760585,0.9914351899287585,-0.7757534649373191,0.15542069423383104,0.9105883849758006,-0.8777810552672228,-0.03755979623072555,0.41750579681315453,-0.49868192335410727,0.1359567357943551,0.5864092616365337,0.26810355894023286,0.4319092888365515,-0.33843652019396325,-1.556954816131435,0.017076645905988314,-1.2335428860410314,-0.5300277115200999,0.3557121879215574,-0.8702906692057076,-0.24771759336054197,-0.48238627289842134,-0.8539490525967117,1.6052144620788638,0.5948825722463177,0.5014783883450039,-1.5907686489548516,1.9592711941149723,-0.6590501882893535,0.6786312915292462,0.8007490340778324,0.4851452973951361,0.39726682011532344,0.5613441269665118,-0.36841609809838377,-2.301110635895323,1.0053731213812054,0.6884809214427433,-0.9679707519166635,-0.7985724226436826,0.9337282554968057,0.8016901054013353,-1.0864386506924104,0.1346620359267253,0.31981939534048587,0.4191066003474241,-0.9283653171090223,0.5651018665991434,0.2566207279016743,-0.9221379263744246,-0.275295703480833,-0.9040403621229179,-0.3418758056386093,0.882667564012617,-0.9575256897906781,-0.04220720553214903,0.12741630715091679,0.0801350988925898,-0.5881973704909578,-0.7989183038951643,-0.6123211464779134,2.0838216800295455,0.3860616944646757,-1.029595696286652,-0.29495079443307226,-1.85696806597112,-0.6833149525264706,-1.1254056305928566,-0.5709866578437394,-1.4199453804058024,-0.048221072258501606,-0.5183785708099345,-1.3164874905403154,-0.7998440621438979,-0.5431410573120433,-0.7334628539190104,-0.5759876195881625,0.2714706891156414,-0.1394462507553613,1.67677868861515],\"type\":\"box\"},{\"boxpoints\":false,\"line\":{\"width\":1.3},\"marker\":{\"color\":\"rgba(128, 0, 128, 1.0)\"},\"name\":\"D\",\"orientation\":\"v\",\"y\":[-0.34169268609277414,-0.34183801529160274,1.6062682592776023,-1.4450737393234019,-0.18522747172328866,-0.04069753018788604,0.7841468872020846,-1.611535831087613,0.1925890588357887,-0.7102571091807316,-0.9164694284920862,0.33078348659333273,1.327120173806734,-0.16560282354401276,-1.3657921245126956,-0.6051346730350797,-0.12268962327513441,0.0139238356541641,-0.8184951383923359,1.4568988073114435,0.5289402475146002,-1.743837024545892,0.9611719636513841,2.189351795330784,-0.7889314212630767,-1.5449007522392284,-1.3515124119050888,-0.8756587316558068,1.8530171382776812,1.9482165983272408,-0.8854191015533303,-0.5317653592338805,-0.08804611429214376,0.8810490425739139,0.9619079856272028,-0.6639964508596742,0.8944136624556296,-1.2582374112630885,-1.67498985383671,-0.5019404224796657,-1.617466517909237,0.33815522490584576,-0.19395511995208742,0.5564847798722077,0.7391988057687954,0.3864284359754881,1.3731110127115635,-1.812818992105761,-0.4766651921726845,-1.8697231000573862,-0.7667995982992395,2.2684860401190576,-0.24475253253371743,1.6589311028707305,-0.675376241837252,-0.11669023620788196,2.622243055593758,1.4984155002845336,-0.34564021682288026,1.2112516135244957,1.878484203150067,2.1620680333740823,-0.11580270774452468,-0.616590807718963,-0.4339821237291172,-0.08744975797638274,0.5703588245895896,-1.8007497542298683,0.30698259902780795,-0.7308696008707364,0.7412597006927252,1.55436335423711,-0.08361996181585983,1.105701669276414,-0.11208411866423354,0.8232462503051557,-1.5096306486477309,-1.2610073085639086,-0.10347061027879353,0.13335711264795141,0.7966018644090099,-0.5017975897580077,0.195065487908468,-0.11533106260527573,-1.3114838277041492,0.08585906865151684,1.0285583423417954,-0.8591616694968488,1.2497869396172856,0.15795189060603929,2.013604612560534,0.4533456804254915,-1.3495704596081035,-1.0930391280601481,-1.0645998423595764,-1.406992645223996,0.8237833699483021,-1.13520291306774,-0.35218681524264417,1.3879333308792428],\"type\":\"box\"}],                        {\"legend\":{\"bgcolor\":\"#F5F6F9\",\"font\":{\"color\":\"#4D5663\"}},\"paper_bgcolor\":\"#F5F6F9\",\"plot_bgcolor\":\"#F5F6F9\",\"template\":{\"data\":{\"barpolar\":[{\"marker\":{\"line\":{\"color\":\"#E5ECF6\",\"width\":0.5},\"pattern\":{\"fillmode\":\"overlay\",\"size\":10,\"solidity\":0.2}},\"type\":\"barpolar\"}],\"bar\":[{\"error_x\":{\"color\":\"#2a3f5f\"},\"error_y\":{\"color\":\"#2a3f5f\"},\"marker\":{\"line\":{\"color\":\"#E5ECF6\",\"width\":0.5},\"pattern\":{\"fillmode\":\"overlay\",\"size\":10,\"solidity\":0.2}},\"type\":\"bar\"}],\"carpet\":[{\"aaxis\":{\"endlinecolor\":\"#2a3f5f\",\"gridcolor\":\"white\",\"linecolor\":\"white\",\"minorgridcolor\":\"white\",\"startlinecolor\":\"#2a3f5f\"},\"baxis\":{\"endlinecolor\":\"#2a3f5f\",\"gridcolor\":\"white\",\"linecolor\":\"white\",\"minorgridcolor\":\"white\",\"startlinecolor\":\"#2a3f5f\"},\"type\":\"carpet\"}],\"choropleth\":[{\"colorbar\":{\"outlinewidth\":0,\"ticks\":\"\"},\"type\":\"choropleth\"}],\"contourcarpet\":[{\"colorbar\":{\"outlinewidth\":0,\"ticks\":\"\"},\"type\":\"contourcarpet\"}],\"contour\":[{\"colorbar\":{\"outlinewidth\":0,\"ticks\":\"\"},\"colorscale\":[[0.0,\"#0d0887\"],[0.1111111111111111,\"#46039f\"],[0.2222222222222222,\"#7201a8\"],[0.3333333333333333,\"#9c179e\"],[0.4444444444444444,\"#bd3786\"],[0.5555555555555556,\"#d8576b\"],[0.6666666666666666,\"#ed7953\"],[0.7777777777777778,\"#fb9f3a\"],[0.8888888888888888,\"#fdca26\"],[1.0,\"#f0f921\"]],\"type\":\"contour\"}],\"heatmapgl\":[{\"colorbar\":{\"outlinewidth\":0,\"ticks\":\"\"},\"colorscale\":[[0.0,\"#0d0887\"],[0.1111111111111111,\"#46039f\"],[0.2222222222222222,\"#7201a8\"],[0.3333333333333333,\"#9c179e\"],[0.4444444444444444,\"#bd3786\"],[0.5555555555555556,\"#d8576b\"],[0.6666666666666666,\"#ed7953\"],[0.7777777777777778,\"#fb9f3a\"],[0.8888888888888888,\"#fdca26\"],[1.0,\"#f0f921\"]],\"type\":\"heatmapgl\"}],\"heatmap\":[{\"colorbar\":{\"outlinewidth\":0,\"ticks\":\"\"},\"colorscale\":[[0.0,\"#0d0887\"],[0.1111111111111111,\"#46039f\"],[0.2222222222222222,\"#7201a8\"],[0.3333333333333333,\"#9c179e\"],[0.4444444444444444,\"#bd3786\"],[0.5555555555555556,\"#d8576b\"],[0.6666666666666666,\"#ed7953\"],[0.7777777777777778,\"#fb9f3a\"],[0.8888888888888888,\"#fdca26\"],[1.0,\"#f0f921\"]],\"type\":\"heatmap\"}],\"histogram2dcontour\":[{\"colorbar\":{\"outlinewidth\":0,\"ticks\":\"\"},\"colorscale\":[[0.0,\"#0d0887\"],[0.1111111111111111,\"#46039f\"],[0.2222222222222222,\"#7201a8\"],[0.3333333333333333,\"#9c179e\"],[0.4444444444444444,\"#bd3786\"],[0.5555555555555556,\"#d8576b\"],[0.6666666666666666,\"#ed7953\"],[0.7777777777777778,\"#fb9f3a\"],[0.8888888888888888,\"#fdca26\"],[1.0,\"#f0f921\"]],\"type\":\"histogram2dcontour\"}],\"histogram2d\":[{\"colorbar\":{\"outlinewidth\":0,\"ticks\":\"\"},\"colorscale\":[[0.0,\"#0d0887\"],[0.1111111111111111,\"#46039f\"],[0.2222222222222222,\"#7201a8\"],[0.3333333333333333,\"#9c179e\"],[0.4444444444444444,\"#bd3786\"],[0.5555555555555556,\"#d8576b\"],[0.6666666666666666,\"#ed7953\"],[0.7777777777777778,\"#fb9f3a\"],[0.8888888888888888,\"#fdca26\"],[1.0,\"#f0f921\"]],\"type\":\"histogram2d\"}],\"histogram\":[{\"marker\":{\"pattern\":{\"fillmode\":\"overlay\",\"size\":10,\"solidity\":0.2}},\"type\":\"histogram\"}],\"mesh3d\":[{\"colorbar\":{\"outlinewidth\":0,\"ticks\":\"\"},\"type\":\"mesh3d\"}],\"parcoords\":[{\"line\":{\"colorbar\":{\"outlinewidth\":0,\"ticks\":\"\"}},\"type\":\"parcoords\"}],\"pie\":[{\"automargin\":true,\"type\":\"pie\"}],\"scatter3d\":[{\"line\":{\"colorbar\":{\"outlinewidth\":0,\"ticks\":\"\"}},\"marker\":{\"colorbar\":{\"outlinewidth\":0,\"ticks\":\"\"}},\"type\":\"scatter3d\"}],\"scattercarpet\":[{\"marker\":{\"colorbar\":{\"outlinewidth\":0,\"ticks\":\"\"}},\"type\":\"scattercarpet\"}],\"scattergeo\":[{\"marker\":{\"colorbar\":{\"outlinewidth\":0,\"ticks\":\"\"}},\"type\":\"scattergeo\"}],\"scattergl\":[{\"marker\":{\"colorbar\":{\"outlinewidth\":0,\"ticks\":\"\"}},\"type\":\"scattergl\"}],\"scattermapbox\":[{\"marker\":{\"colorbar\":{\"outlinewidth\":0,\"ticks\":\"\"}},\"type\":\"scattermapbox\"}],\"scatterpolargl\":[{\"marker\":{\"colorbar\":{\"outlinewidth\":0,\"ticks\":\"\"}},\"type\":\"scatterpolargl\"}],\"scatterpolar\":[{\"marker\":{\"colorbar\":{\"outlinewidth\":0,\"ticks\":\"\"}},\"type\":\"scatterpolar\"}],\"scatter\":[{\"fillpattern\":{\"fillmode\":\"overlay\",\"size\":10,\"solidity\":0.2},\"type\":\"scatter\"}],\"scatterternary\":[{\"marker\":{\"colorbar\":{\"outlinewidth\":0,\"ticks\":\"\"}},\"type\":\"scatterternary\"}],\"surface\":[{\"colorbar\":{\"outlinewidth\":0,\"ticks\":\"\"},\"colorscale\":[[0.0,\"#0d0887\"],[0.1111111111111111,\"#46039f\"],[0.2222222222222222,\"#7201a8\"],[0.3333333333333333,\"#9c179e\"],[0.4444444444444444,\"#bd3786\"],[0.5555555555555556,\"#d8576b\"],[0.6666666666666666,\"#ed7953\"],[0.7777777777777778,\"#fb9f3a\"],[0.8888888888888888,\"#fdca26\"],[1.0,\"#f0f921\"]],\"type\":\"surface\"}],\"table\":[{\"cells\":{\"fill\":{\"color\":\"#EBF0F8\"},\"line\":{\"color\":\"white\"}},\"header\":{\"fill\":{\"color\":\"#C8D4E3\"},\"line\":{\"color\":\"white\"}},\"type\":\"table\"}]},\"layout\":{\"annotationdefaults\":{\"arrowcolor\":\"#2a3f5f\",\"arrowhead\":0,\"arrowwidth\":1},\"autotypenumbers\":\"strict\",\"coloraxis\":{\"colorbar\":{\"outlinewidth\":0,\"ticks\":\"\"}},\"colorscale\":{\"diverging\":[[0,\"#8e0152\"],[0.1,\"#c51b7d\"],[0.2,\"#de77ae\"],[0.3,\"#f1b6da\"],[0.4,\"#fde0ef\"],[0.5,\"#f7f7f7\"],[0.6,\"#e6f5d0\"],[0.7,\"#b8e186\"],[0.8,\"#7fbc41\"],[0.9,\"#4d9221\"],[1,\"#276419\"]],\"sequential\":[[0.0,\"#0d0887\"],[0.1111111111111111,\"#46039f\"],[0.2222222222222222,\"#7201a8\"],[0.3333333333333333,\"#9c179e\"],[0.4444444444444444,\"#bd3786\"],[0.5555555555555556,\"#d8576b\"],[0.6666666666666666,\"#ed7953\"],[0.7777777777777778,\"#fb9f3a\"],[0.8888888888888888,\"#fdca26\"],[1.0,\"#f0f921\"]],\"sequentialminus\":[[0.0,\"#0d0887\"],[0.1111111111111111,\"#46039f\"],[0.2222222222222222,\"#7201a8\"],[0.3333333333333333,\"#9c179e\"],[0.4444444444444444,\"#bd3786\"],[0.5555555555555556,\"#d8576b\"],[0.6666666666666666,\"#ed7953\"],[0.7777777777777778,\"#fb9f3a\"],[0.8888888888888888,\"#fdca26\"],[1.0,\"#f0f921\"]]},\"colorway\":[\"#636efa\",\"#EF553B\",\"#00cc96\",\"#ab63fa\",\"#FFA15A\",\"#19d3f3\",\"#FF6692\",\"#B6E880\",\"#FF97FF\",\"#FECB52\"],\"font\":{\"color\":\"#2a3f5f\"},\"geo\":{\"bgcolor\":\"white\",\"lakecolor\":\"white\",\"landcolor\":\"#E5ECF6\",\"showlakes\":true,\"showland\":true,\"subunitcolor\":\"white\"},\"hoverlabel\":{\"align\":\"left\"},\"hovermode\":\"closest\",\"mapbox\":{\"style\":\"light\"},\"paper_bgcolor\":\"white\",\"plot_bgcolor\":\"#E5ECF6\",\"polar\":{\"angularaxis\":{\"gridcolor\":\"white\",\"linecolor\":\"white\",\"ticks\":\"\"},\"bgcolor\":\"#E5ECF6\",\"radialaxis\":{\"gridcolor\":\"white\",\"linecolor\":\"white\",\"ticks\":\"\"}},\"scene\":{\"xaxis\":{\"backgroundcolor\":\"#E5ECF6\",\"gridcolor\":\"white\",\"gridwidth\":2,\"linecolor\":\"white\",\"showbackground\":true,\"ticks\":\"\",\"zerolinecolor\":\"white\"},\"yaxis\":{\"backgroundcolor\":\"#E5ECF6\",\"gridcolor\":\"white\",\"gridwidth\":2,\"linecolor\":\"white\",\"showbackground\":true,\"ticks\":\"\",\"zerolinecolor\":\"white\"},\"zaxis\":{\"backgroundcolor\":\"#E5ECF6\",\"gridcolor\":\"white\",\"gridwidth\":2,\"linecolor\":\"white\",\"showbackground\":true,\"ticks\":\"\",\"zerolinecolor\":\"white\"}},\"shapedefaults\":{\"line\":{\"color\":\"#2a3f5f\"}},\"ternary\":{\"aaxis\":{\"gridcolor\":\"white\",\"linecolor\":\"white\",\"ticks\":\"\"},\"baxis\":{\"gridcolor\":\"white\",\"linecolor\":\"white\",\"ticks\":\"\"},\"bgcolor\":\"#E5ECF6\",\"caxis\":{\"gridcolor\":\"white\",\"linecolor\":\"white\",\"ticks\":\"\"}},\"title\":{\"x\":0.05},\"xaxis\":{\"automargin\":true,\"gridcolor\":\"white\",\"linecolor\":\"white\",\"ticks\":\"\",\"title\":{\"standoff\":15},\"zerolinecolor\":\"white\",\"zerolinewidth\":2},\"yaxis\":{\"automargin\":true,\"gridcolor\":\"white\",\"linecolor\":\"white\",\"ticks\":\"\",\"title\":{\"standoff\":15},\"zerolinecolor\":\"white\",\"zerolinewidth\":2}}},\"title\":{\"font\":{\"color\":\"#4D5663\"}},\"xaxis\":{\"gridcolor\":\"#E1E5ED\",\"showgrid\":true,\"tickfont\":{\"color\":\"#4D5663\"},\"title\":{\"font\":{\"color\":\"#4D5663\"},\"text\":\"\"},\"zerolinecolor\":\"#E1E5ED\"},\"yaxis\":{\"gridcolor\":\"#E1E5ED\",\"showgrid\":true,\"tickfont\":{\"color\":\"#4D5663\"},\"title\":{\"font\":{\"color\":\"#4D5663\"},\"text\":\"\"},\"zerolinecolor\":\"#E1E5ED\"}},                        {\"showLink\": true, \"linkText\": \"Export to plot.ly\", \"plotlyServerURL\": \"https://plot.ly\", \"responsive\": true}                    ).then(function(){\n",
       "                            \n",
       "var gd = document.getElementById('930ad49a-27b4-4a20-a720-c00ddbe52f0e');\n",
       "var x = new MutationObserver(function (mutations, observer) {{\n",
       "        var display = window.getComputedStyle(gd).display;\n",
       "        if (!display || display === 'none') {{\n",
       "            console.log([gd, 'removed!']);\n",
       "            Plotly.purge(gd);\n",
       "            observer.disconnect();\n",
       "        }}\n",
       "}});\n",
       "\n",
       "// Listen for the removal of the full notebook cells\n",
       "var notebookContainer = gd.closest('#notebook-container');\n",
       "if (notebookContainer) {{\n",
       "    x.observe(notebookContainer, {childList: true});\n",
       "}}\n",
       "\n",
       "// Listen for the clearing of the current output cell\n",
       "var outputEl = gd.closest('.output');\n",
       "if (outputEl) {{\n",
       "    x.observe(outputEl, {childList: true});\n",
       "}}\n",
       "\n",
       "                        })                };                });            </script>        </div>"
      ]
     },
     "metadata": {},
     "output_type": "display_data"
    }
   ],
   "source": [
    "df.iplot(kind='box')"
   ]
  },
  {
   "cell_type": "markdown",
   "metadata": {},
   "source": [
    "## 3d Surface"
   ]
  },
  {
   "cell_type": "code",
   "execution_count": 14,
   "metadata": {},
   "outputs": [
    {
     "data": {
      "application/vnd.plotly.v1+json": {
       "config": {
        "linkText": "Export to plot.ly",
        "plotlyServerURL": "https://plot.ly",
        "showLink": true
       },
       "data": [
        {
         "colorscale": [
          [
           0,
           "rgb(165,0,38)"
          ],
          [
           0.1,
           "rgb(215,48,39)"
          ],
          [
           0.2,
           "rgb(244,109,67)"
          ],
          [
           0.3,
           "rgb(253,174,97)"
          ],
          [
           0.4,
           "rgb(254,224,144)"
          ],
          [
           0.5,
           "rgb(255,255,191)"
          ],
          [
           0.6,
           "rgb(224,243,248)"
          ],
          [
           0.7,
           "rgb(171,217,233)"
          ],
          [
           0.8,
           "rgb(116,173,209)"
          ],
          [
           0.9,
           "rgb(69,117,180)"
          ],
          [
           1,
           "rgb(49,54,149)"
          ]
         ],
         "type": "surface",
         "x": [
          0,
          1,
          2,
          3,
          4
         ],
         "y": [
          "x",
          "y",
          "z"
         ],
         "z": [
          [
           1,
           2,
           3,
           4,
           5
          ],
          [
           10,
           20,
           30,
           20,
           10
          ],
          [
           5,
           4,
           3,
           2,
           1
          ]
         ]
        }
       ],
       "layout": {
        "legend": {
         "bgcolor": "#F5F6F9",
         "font": {
          "color": "#4D5663"
         }
        },
        "paper_bgcolor": "#F5F6F9",
        "plot_bgcolor": "#F5F6F9",
        "template": {
         "data": {
          "bar": [
           {
            "error_x": {
             "color": "#2a3f5f"
            },
            "error_y": {
             "color": "#2a3f5f"
            },
            "marker": {
             "line": {
              "color": "#E5ECF6",
              "width": 0.5
             },
             "pattern": {
              "fillmode": "overlay",
              "size": 10,
              "solidity": 0.2
             }
            },
            "type": "bar"
           }
          ],
          "barpolar": [
           {
            "marker": {
             "line": {
              "color": "#E5ECF6",
              "width": 0.5
             },
             "pattern": {
              "fillmode": "overlay",
              "size": 10,
              "solidity": 0.2
             }
            },
            "type": "barpolar"
           }
          ],
          "carpet": [
           {
            "aaxis": {
             "endlinecolor": "#2a3f5f",
             "gridcolor": "white",
             "linecolor": "white",
             "minorgridcolor": "white",
             "startlinecolor": "#2a3f5f"
            },
            "baxis": {
             "endlinecolor": "#2a3f5f",
             "gridcolor": "white",
             "linecolor": "white",
             "minorgridcolor": "white",
             "startlinecolor": "#2a3f5f"
            },
            "type": "carpet"
           }
          ],
          "choropleth": [
           {
            "colorbar": {
             "outlinewidth": 0,
             "ticks": ""
            },
            "type": "choropleth"
           }
          ],
          "contour": [
           {
            "colorbar": {
             "outlinewidth": 0,
             "ticks": ""
            },
            "colorscale": [
             [
              0,
              "#0d0887"
             ],
             [
              0.1111111111111111,
              "#46039f"
             ],
             [
              0.2222222222222222,
              "#7201a8"
             ],
             [
              0.3333333333333333,
              "#9c179e"
             ],
             [
              0.4444444444444444,
              "#bd3786"
             ],
             [
              0.5555555555555556,
              "#d8576b"
             ],
             [
              0.6666666666666666,
              "#ed7953"
             ],
             [
              0.7777777777777778,
              "#fb9f3a"
             ],
             [
              0.8888888888888888,
              "#fdca26"
             ],
             [
              1,
              "#f0f921"
             ]
            ],
            "type": "contour"
           }
          ],
          "contourcarpet": [
           {
            "colorbar": {
             "outlinewidth": 0,
             "ticks": ""
            },
            "type": "contourcarpet"
           }
          ],
          "heatmap": [
           {
            "colorbar": {
             "outlinewidth": 0,
             "ticks": ""
            },
            "colorscale": [
             [
              0,
              "#0d0887"
             ],
             [
              0.1111111111111111,
              "#46039f"
             ],
             [
              0.2222222222222222,
              "#7201a8"
             ],
             [
              0.3333333333333333,
              "#9c179e"
             ],
             [
              0.4444444444444444,
              "#bd3786"
             ],
             [
              0.5555555555555556,
              "#d8576b"
             ],
             [
              0.6666666666666666,
              "#ed7953"
             ],
             [
              0.7777777777777778,
              "#fb9f3a"
             ],
             [
              0.8888888888888888,
              "#fdca26"
             ],
             [
              1,
              "#f0f921"
             ]
            ],
            "type": "heatmap"
           }
          ],
          "heatmapgl": [
           {
            "colorbar": {
             "outlinewidth": 0,
             "ticks": ""
            },
            "colorscale": [
             [
              0,
              "#0d0887"
             ],
             [
              0.1111111111111111,
              "#46039f"
             ],
             [
              0.2222222222222222,
              "#7201a8"
             ],
             [
              0.3333333333333333,
              "#9c179e"
             ],
             [
              0.4444444444444444,
              "#bd3786"
             ],
             [
              0.5555555555555556,
              "#d8576b"
             ],
             [
              0.6666666666666666,
              "#ed7953"
             ],
             [
              0.7777777777777778,
              "#fb9f3a"
             ],
             [
              0.8888888888888888,
              "#fdca26"
             ],
             [
              1,
              "#f0f921"
             ]
            ],
            "type": "heatmapgl"
           }
          ],
          "histogram": [
           {
            "marker": {
             "pattern": {
              "fillmode": "overlay",
              "size": 10,
              "solidity": 0.2
             }
            },
            "type": "histogram"
           }
          ],
          "histogram2d": [
           {
            "colorbar": {
             "outlinewidth": 0,
             "ticks": ""
            },
            "colorscale": [
             [
              0,
              "#0d0887"
             ],
             [
              0.1111111111111111,
              "#46039f"
             ],
             [
              0.2222222222222222,
              "#7201a8"
             ],
             [
              0.3333333333333333,
              "#9c179e"
             ],
             [
              0.4444444444444444,
              "#bd3786"
             ],
             [
              0.5555555555555556,
              "#d8576b"
             ],
             [
              0.6666666666666666,
              "#ed7953"
             ],
             [
              0.7777777777777778,
              "#fb9f3a"
             ],
             [
              0.8888888888888888,
              "#fdca26"
             ],
             [
              1,
              "#f0f921"
             ]
            ],
            "type": "histogram2d"
           }
          ],
          "histogram2dcontour": [
           {
            "colorbar": {
             "outlinewidth": 0,
             "ticks": ""
            },
            "colorscale": [
             [
              0,
              "#0d0887"
             ],
             [
              0.1111111111111111,
              "#46039f"
             ],
             [
              0.2222222222222222,
              "#7201a8"
             ],
             [
              0.3333333333333333,
              "#9c179e"
             ],
             [
              0.4444444444444444,
              "#bd3786"
             ],
             [
              0.5555555555555556,
              "#d8576b"
             ],
             [
              0.6666666666666666,
              "#ed7953"
             ],
             [
              0.7777777777777778,
              "#fb9f3a"
             ],
             [
              0.8888888888888888,
              "#fdca26"
             ],
             [
              1,
              "#f0f921"
             ]
            ],
            "type": "histogram2dcontour"
           }
          ],
          "mesh3d": [
           {
            "colorbar": {
             "outlinewidth": 0,
             "ticks": ""
            },
            "type": "mesh3d"
           }
          ],
          "parcoords": [
           {
            "line": {
             "colorbar": {
              "outlinewidth": 0,
              "ticks": ""
             }
            },
            "type": "parcoords"
           }
          ],
          "pie": [
           {
            "automargin": true,
            "type": "pie"
           }
          ],
          "scatter": [
           {
            "fillpattern": {
             "fillmode": "overlay",
             "size": 10,
             "solidity": 0.2
            },
            "type": "scatter"
           }
          ],
          "scatter3d": [
           {
            "line": {
             "colorbar": {
              "outlinewidth": 0,
              "ticks": ""
             }
            },
            "marker": {
             "colorbar": {
              "outlinewidth": 0,
              "ticks": ""
             }
            },
            "type": "scatter3d"
           }
          ],
          "scattercarpet": [
           {
            "marker": {
             "colorbar": {
              "outlinewidth": 0,
              "ticks": ""
             }
            },
            "type": "scattercarpet"
           }
          ],
          "scattergeo": [
           {
            "marker": {
             "colorbar": {
              "outlinewidth": 0,
              "ticks": ""
             }
            },
            "type": "scattergeo"
           }
          ],
          "scattergl": [
           {
            "marker": {
             "colorbar": {
              "outlinewidth": 0,
              "ticks": ""
             }
            },
            "type": "scattergl"
           }
          ],
          "scattermapbox": [
           {
            "marker": {
             "colorbar": {
              "outlinewidth": 0,
              "ticks": ""
             }
            },
            "type": "scattermapbox"
           }
          ],
          "scatterpolar": [
           {
            "marker": {
             "colorbar": {
              "outlinewidth": 0,
              "ticks": ""
             }
            },
            "type": "scatterpolar"
           }
          ],
          "scatterpolargl": [
           {
            "marker": {
             "colorbar": {
              "outlinewidth": 0,
              "ticks": ""
             }
            },
            "type": "scatterpolargl"
           }
          ],
          "scatterternary": [
           {
            "marker": {
             "colorbar": {
              "outlinewidth": 0,
              "ticks": ""
             }
            },
            "type": "scatterternary"
           }
          ],
          "surface": [
           {
            "colorbar": {
             "outlinewidth": 0,
             "ticks": ""
            },
            "colorscale": [
             [
              0,
              "#0d0887"
             ],
             [
              0.1111111111111111,
              "#46039f"
             ],
             [
              0.2222222222222222,
              "#7201a8"
             ],
             [
              0.3333333333333333,
              "#9c179e"
             ],
             [
              0.4444444444444444,
              "#bd3786"
             ],
             [
              0.5555555555555556,
              "#d8576b"
             ],
             [
              0.6666666666666666,
              "#ed7953"
             ],
             [
              0.7777777777777778,
              "#fb9f3a"
             ],
             [
              0.8888888888888888,
              "#fdca26"
             ],
             [
              1,
              "#f0f921"
             ]
            ],
            "type": "surface"
           }
          ],
          "table": [
           {
            "cells": {
             "fill": {
              "color": "#EBF0F8"
             },
             "line": {
              "color": "white"
             }
            },
            "header": {
             "fill": {
              "color": "#C8D4E3"
             },
             "line": {
              "color": "white"
             }
            },
            "type": "table"
           }
          ]
         },
         "layout": {
          "annotationdefaults": {
           "arrowcolor": "#2a3f5f",
           "arrowhead": 0,
           "arrowwidth": 1
          },
          "autotypenumbers": "strict",
          "coloraxis": {
           "colorbar": {
            "outlinewidth": 0,
            "ticks": ""
           }
          },
          "colorscale": {
           "diverging": [
            [
             0,
             "#8e0152"
            ],
            [
             0.1,
             "#c51b7d"
            ],
            [
             0.2,
             "#de77ae"
            ],
            [
             0.3,
             "#f1b6da"
            ],
            [
             0.4,
             "#fde0ef"
            ],
            [
             0.5,
             "#f7f7f7"
            ],
            [
             0.6,
             "#e6f5d0"
            ],
            [
             0.7,
             "#b8e186"
            ],
            [
             0.8,
             "#7fbc41"
            ],
            [
             0.9,
             "#4d9221"
            ],
            [
             1,
             "#276419"
            ]
           ],
           "sequential": [
            [
             0,
             "#0d0887"
            ],
            [
             0.1111111111111111,
             "#46039f"
            ],
            [
             0.2222222222222222,
             "#7201a8"
            ],
            [
             0.3333333333333333,
             "#9c179e"
            ],
            [
             0.4444444444444444,
             "#bd3786"
            ],
            [
             0.5555555555555556,
             "#d8576b"
            ],
            [
             0.6666666666666666,
             "#ed7953"
            ],
            [
             0.7777777777777778,
             "#fb9f3a"
            ],
            [
             0.8888888888888888,
             "#fdca26"
            ],
            [
             1,
             "#f0f921"
            ]
           ],
           "sequentialminus": [
            [
             0,
             "#0d0887"
            ],
            [
             0.1111111111111111,
             "#46039f"
            ],
            [
             0.2222222222222222,
             "#7201a8"
            ],
            [
             0.3333333333333333,
             "#9c179e"
            ],
            [
             0.4444444444444444,
             "#bd3786"
            ],
            [
             0.5555555555555556,
             "#d8576b"
            ],
            [
             0.6666666666666666,
             "#ed7953"
            ],
            [
             0.7777777777777778,
             "#fb9f3a"
            ],
            [
             0.8888888888888888,
             "#fdca26"
            ],
            [
             1,
             "#f0f921"
            ]
           ]
          },
          "colorway": [
           "#636efa",
           "#EF553B",
           "#00cc96",
           "#ab63fa",
           "#FFA15A",
           "#19d3f3",
           "#FF6692",
           "#B6E880",
           "#FF97FF",
           "#FECB52"
          ],
          "font": {
           "color": "#2a3f5f"
          },
          "geo": {
           "bgcolor": "white",
           "lakecolor": "white",
           "landcolor": "#E5ECF6",
           "showlakes": true,
           "showland": true,
           "subunitcolor": "white"
          },
          "hoverlabel": {
           "align": "left"
          },
          "hovermode": "closest",
          "mapbox": {
           "style": "light"
          },
          "paper_bgcolor": "white",
          "plot_bgcolor": "#E5ECF6",
          "polar": {
           "angularaxis": {
            "gridcolor": "white",
            "linecolor": "white",
            "ticks": ""
           },
           "bgcolor": "#E5ECF6",
           "radialaxis": {
            "gridcolor": "white",
            "linecolor": "white",
            "ticks": ""
           }
          },
          "scene": {
           "xaxis": {
            "backgroundcolor": "#E5ECF6",
            "gridcolor": "white",
            "gridwidth": 2,
            "linecolor": "white",
            "showbackground": true,
            "ticks": "",
            "zerolinecolor": "white"
           },
           "yaxis": {
            "backgroundcolor": "#E5ECF6",
            "gridcolor": "white",
            "gridwidth": 2,
            "linecolor": "white",
            "showbackground": true,
            "ticks": "",
            "zerolinecolor": "white"
           },
           "zaxis": {
            "backgroundcolor": "#E5ECF6",
            "gridcolor": "white",
            "gridwidth": 2,
            "linecolor": "white",
            "showbackground": true,
            "ticks": "",
            "zerolinecolor": "white"
           }
          },
          "shapedefaults": {
           "line": {
            "color": "#2a3f5f"
           }
          },
          "ternary": {
           "aaxis": {
            "gridcolor": "white",
            "linecolor": "white",
            "ticks": ""
           },
           "baxis": {
            "gridcolor": "white",
            "linecolor": "white",
            "ticks": ""
           },
           "bgcolor": "#E5ECF6",
           "caxis": {
            "gridcolor": "white",
            "linecolor": "white",
            "ticks": ""
           }
          },
          "title": {
           "x": 0.05
          },
          "xaxis": {
           "automargin": true,
           "gridcolor": "white",
           "linecolor": "white",
           "ticks": "",
           "title": {
            "standoff": 15
           },
           "zerolinecolor": "white",
           "zerolinewidth": 2
          },
          "yaxis": {
           "automargin": true,
           "gridcolor": "white",
           "linecolor": "white",
           "ticks": "",
           "title": {
            "standoff": 15
           },
           "zerolinecolor": "white",
           "zerolinewidth": 2
          }
         }
        },
        "title": {
         "font": {
          "color": "#4D5663"
         }
        },
        "xaxis": {
         "gridcolor": "#E1E5ED",
         "showgrid": true,
         "tickfont": {
          "color": "#4D5663"
         },
         "title": {
          "font": {
           "color": "#4D5663"
          },
          "text": ""
         },
         "zerolinecolor": "#E1E5ED"
        },
        "yaxis": {
         "gridcolor": "#E1E5ED",
         "showgrid": true,
         "tickfont": {
          "color": "#4D5663"
         },
         "title": {
          "font": {
           "color": "#4D5663"
          },
          "text": ""
         },
         "zerolinecolor": "#E1E5ED"
        }
       }
      },
      "text/html": [
       "<div>                            <div id=\"5299dc58-637a-43c6-a097-1118fe326bd9\" class=\"plotly-graph-div\" style=\"height:525px; width:100%;\"></div>            <script type=\"text/javascript\">                require([\"plotly\"], function(Plotly) {                    window.PLOTLYENV=window.PLOTLYENV || {};\n",
       "                    window.PLOTLYENV.BASE_URL='https://plot.ly';                                    if (document.getElementById(\"5299dc58-637a-43c6-a097-1118fe326bd9\")) {                    Plotly.newPlot(                        \"5299dc58-637a-43c6-a097-1118fe326bd9\",                        [{\"colorscale\":[[0.0,\"rgb(165,0,38)\"],[0.1,\"rgb(215,48,39)\"],[0.2,\"rgb(244,109,67)\"],[0.3,\"rgb(253,174,97)\"],[0.4,\"rgb(254,224,144)\"],[0.5,\"rgb(255,255,191)\"],[0.6,\"rgb(224,243,248)\"],[0.7,\"rgb(171,217,233)\"],[0.8,\"rgb(116,173,209)\"],[0.9,\"rgb(69,117,180)\"],[1.0,\"rgb(49,54,149)\"]],\"x\":[0,1,2,3,4],\"y\":[\"x\",\"y\",\"z\"],\"z\":[[1,2,3,4,5],[10,20,30,20,10],[5,4,3,2,1]],\"type\":\"surface\"}],                        {\"legend\":{\"bgcolor\":\"#F5F6F9\",\"font\":{\"color\":\"#4D5663\"}},\"paper_bgcolor\":\"#F5F6F9\",\"plot_bgcolor\":\"#F5F6F9\",\"template\":{\"data\":{\"barpolar\":[{\"marker\":{\"line\":{\"color\":\"#E5ECF6\",\"width\":0.5},\"pattern\":{\"fillmode\":\"overlay\",\"size\":10,\"solidity\":0.2}},\"type\":\"barpolar\"}],\"bar\":[{\"error_x\":{\"color\":\"#2a3f5f\"},\"error_y\":{\"color\":\"#2a3f5f\"},\"marker\":{\"line\":{\"color\":\"#E5ECF6\",\"width\":0.5},\"pattern\":{\"fillmode\":\"overlay\",\"size\":10,\"solidity\":0.2}},\"type\":\"bar\"}],\"carpet\":[{\"aaxis\":{\"endlinecolor\":\"#2a3f5f\",\"gridcolor\":\"white\",\"linecolor\":\"white\",\"minorgridcolor\":\"white\",\"startlinecolor\":\"#2a3f5f\"},\"baxis\":{\"endlinecolor\":\"#2a3f5f\",\"gridcolor\":\"white\",\"linecolor\":\"white\",\"minorgridcolor\":\"white\",\"startlinecolor\":\"#2a3f5f\"},\"type\":\"carpet\"}],\"choropleth\":[{\"colorbar\":{\"outlinewidth\":0,\"ticks\":\"\"},\"type\":\"choropleth\"}],\"contourcarpet\":[{\"colorbar\":{\"outlinewidth\":0,\"ticks\":\"\"},\"type\":\"contourcarpet\"}],\"contour\":[{\"colorbar\":{\"outlinewidth\":0,\"ticks\":\"\"},\"colorscale\":[[0.0,\"#0d0887\"],[0.1111111111111111,\"#46039f\"],[0.2222222222222222,\"#7201a8\"],[0.3333333333333333,\"#9c179e\"],[0.4444444444444444,\"#bd3786\"],[0.5555555555555556,\"#d8576b\"],[0.6666666666666666,\"#ed7953\"],[0.7777777777777778,\"#fb9f3a\"],[0.8888888888888888,\"#fdca26\"],[1.0,\"#f0f921\"]],\"type\":\"contour\"}],\"heatmapgl\":[{\"colorbar\":{\"outlinewidth\":0,\"ticks\":\"\"},\"colorscale\":[[0.0,\"#0d0887\"],[0.1111111111111111,\"#46039f\"],[0.2222222222222222,\"#7201a8\"],[0.3333333333333333,\"#9c179e\"],[0.4444444444444444,\"#bd3786\"],[0.5555555555555556,\"#d8576b\"],[0.6666666666666666,\"#ed7953\"],[0.7777777777777778,\"#fb9f3a\"],[0.8888888888888888,\"#fdca26\"],[1.0,\"#f0f921\"]],\"type\":\"heatmapgl\"}],\"heatmap\":[{\"colorbar\":{\"outlinewidth\":0,\"ticks\":\"\"},\"colorscale\":[[0.0,\"#0d0887\"],[0.1111111111111111,\"#46039f\"],[0.2222222222222222,\"#7201a8\"],[0.3333333333333333,\"#9c179e\"],[0.4444444444444444,\"#bd3786\"],[0.5555555555555556,\"#d8576b\"],[0.6666666666666666,\"#ed7953\"],[0.7777777777777778,\"#fb9f3a\"],[0.8888888888888888,\"#fdca26\"],[1.0,\"#f0f921\"]],\"type\":\"heatmap\"}],\"histogram2dcontour\":[{\"colorbar\":{\"outlinewidth\":0,\"ticks\":\"\"},\"colorscale\":[[0.0,\"#0d0887\"],[0.1111111111111111,\"#46039f\"],[0.2222222222222222,\"#7201a8\"],[0.3333333333333333,\"#9c179e\"],[0.4444444444444444,\"#bd3786\"],[0.5555555555555556,\"#d8576b\"],[0.6666666666666666,\"#ed7953\"],[0.7777777777777778,\"#fb9f3a\"],[0.8888888888888888,\"#fdca26\"],[1.0,\"#f0f921\"]],\"type\":\"histogram2dcontour\"}],\"histogram2d\":[{\"colorbar\":{\"outlinewidth\":0,\"ticks\":\"\"},\"colorscale\":[[0.0,\"#0d0887\"],[0.1111111111111111,\"#46039f\"],[0.2222222222222222,\"#7201a8\"],[0.3333333333333333,\"#9c179e\"],[0.4444444444444444,\"#bd3786\"],[0.5555555555555556,\"#d8576b\"],[0.6666666666666666,\"#ed7953\"],[0.7777777777777778,\"#fb9f3a\"],[0.8888888888888888,\"#fdca26\"],[1.0,\"#f0f921\"]],\"type\":\"histogram2d\"}],\"histogram\":[{\"marker\":{\"pattern\":{\"fillmode\":\"overlay\",\"size\":10,\"solidity\":0.2}},\"type\":\"histogram\"}],\"mesh3d\":[{\"colorbar\":{\"outlinewidth\":0,\"ticks\":\"\"},\"type\":\"mesh3d\"}],\"parcoords\":[{\"line\":{\"colorbar\":{\"outlinewidth\":0,\"ticks\":\"\"}},\"type\":\"parcoords\"}],\"pie\":[{\"automargin\":true,\"type\":\"pie\"}],\"scatter3d\":[{\"line\":{\"colorbar\":{\"outlinewidth\":0,\"ticks\":\"\"}},\"marker\":{\"colorbar\":{\"outlinewidth\":0,\"ticks\":\"\"}},\"type\":\"scatter3d\"}],\"scattercarpet\":[{\"marker\":{\"colorbar\":{\"outlinewidth\":0,\"ticks\":\"\"}},\"type\":\"scattercarpet\"}],\"scattergeo\":[{\"marker\":{\"colorbar\":{\"outlinewidth\":0,\"ticks\":\"\"}},\"type\":\"scattergeo\"}],\"scattergl\":[{\"marker\":{\"colorbar\":{\"outlinewidth\":0,\"ticks\":\"\"}},\"type\":\"scattergl\"}],\"scattermapbox\":[{\"marker\":{\"colorbar\":{\"outlinewidth\":0,\"ticks\":\"\"}},\"type\":\"scattermapbox\"}],\"scatterpolargl\":[{\"marker\":{\"colorbar\":{\"outlinewidth\":0,\"ticks\":\"\"}},\"type\":\"scatterpolargl\"}],\"scatterpolar\":[{\"marker\":{\"colorbar\":{\"outlinewidth\":0,\"ticks\":\"\"}},\"type\":\"scatterpolar\"}],\"scatter\":[{\"fillpattern\":{\"fillmode\":\"overlay\",\"size\":10,\"solidity\":0.2},\"type\":\"scatter\"}],\"scatterternary\":[{\"marker\":{\"colorbar\":{\"outlinewidth\":0,\"ticks\":\"\"}},\"type\":\"scatterternary\"}],\"surface\":[{\"colorbar\":{\"outlinewidth\":0,\"ticks\":\"\"},\"colorscale\":[[0.0,\"#0d0887\"],[0.1111111111111111,\"#46039f\"],[0.2222222222222222,\"#7201a8\"],[0.3333333333333333,\"#9c179e\"],[0.4444444444444444,\"#bd3786\"],[0.5555555555555556,\"#d8576b\"],[0.6666666666666666,\"#ed7953\"],[0.7777777777777778,\"#fb9f3a\"],[0.8888888888888888,\"#fdca26\"],[1.0,\"#f0f921\"]],\"type\":\"surface\"}],\"table\":[{\"cells\":{\"fill\":{\"color\":\"#EBF0F8\"},\"line\":{\"color\":\"white\"}},\"header\":{\"fill\":{\"color\":\"#C8D4E3\"},\"line\":{\"color\":\"white\"}},\"type\":\"table\"}]},\"layout\":{\"annotationdefaults\":{\"arrowcolor\":\"#2a3f5f\",\"arrowhead\":0,\"arrowwidth\":1},\"autotypenumbers\":\"strict\",\"coloraxis\":{\"colorbar\":{\"outlinewidth\":0,\"ticks\":\"\"}},\"colorscale\":{\"diverging\":[[0,\"#8e0152\"],[0.1,\"#c51b7d\"],[0.2,\"#de77ae\"],[0.3,\"#f1b6da\"],[0.4,\"#fde0ef\"],[0.5,\"#f7f7f7\"],[0.6,\"#e6f5d0\"],[0.7,\"#b8e186\"],[0.8,\"#7fbc41\"],[0.9,\"#4d9221\"],[1,\"#276419\"]],\"sequential\":[[0.0,\"#0d0887\"],[0.1111111111111111,\"#46039f\"],[0.2222222222222222,\"#7201a8\"],[0.3333333333333333,\"#9c179e\"],[0.4444444444444444,\"#bd3786\"],[0.5555555555555556,\"#d8576b\"],[0.6666666666666666,\"#ed7953\"],[0.7777777777777778,\"#fb9f3a\"],[0.8888888888888888,\"#fdca26\"],[1.0,\"#f0f921\"]],\"sequentialminus\":[[0.0,\"#0d0887\"],[0.1111111111111111,\"#46039f\"],[0.2222222222222222,\"#7201a8\"],[0.3333333333333333,\"#9c179e\"],[0.4444444444444444,\"#bd3786\"],[0.5555555555555556,\"#d8576b\"],[0.6666666666666666,\"#ed7953\"],[0.7777777777777778,\"#fb9f3a\"],[0.8888888888888888,\"#fdca26\"],[1.0,\"#f0f921\"]]},\"colorway\":[\"#636efa\",\"#EF553B\",\"#00cc96\",\"#ab63fa\",\"#FFA15A\",\"#19d3f3\",\"#FF6692\",\"#B6E880\",\"#FF97FF\",\"#FECB52\"],\"font\":{\"color\":\"#2a3f5f\"},\"geo\":{\"bgcolor\":\"white\",\"lakecolor\":\"white\",\"landcolor\":\"#E5ECF6\",\"showlakes\":true,\"showland\":true,\"subunitcolor\":\"white\"},\"hoverlabel\":{\"align\":\"left\"},\"hovermode\":\"closest\",\"mapbox\":{\"style\":\"light\"},\"paper_bgcolor\":\"white\",\"plot_bgcolor\":\"#E5ECF6\",\"polar\":{\"angularaxis\":{\"gridcolor\":\"white\",\"linecolor\":\"white\",\"ticks\":\"\"},\"bgcolor\":\"#E5ECF6\",\"radialaxis\":{\"gridcolor\":\"white\",\"linecolor\":\"white\",\"ticks\":\"\"}},\"scene\":{\"xaxis\":{\"backgroundcolor\":\"#E5ECF6\",\"gridcolor\":\"white\",\"gridwidth\":2,\"linecolor\":\"white\",\"showbackground\":true,\"ticks\":\"\",\"zerolinecolor\":\"white\"},\"yaxis\":{\"backgroundcolor\":\"#E5ECF6\",\"gridcolor\":\"white\",\"gridwidth\":2,\"linecolor\":\"white\",\"showbackground\":true,\"ticks\":\"\",\"zerolinecolor\":\"white\"},\"zaxis\":{\"backgroundcolor\":\"#E5ECF6\",\"gridcolor\":\"white\",\"gridwidth\":2,\"linecolor\":\"white\",\"showbackground\":true,\"ticks\":\"\",\"zerolinecolor\":\"white\"}},\"shapedefaults\":{\"line\":{\"color\":\"#2a3f5f\"}},\"ternary\":{\"aaxis\":{\"gridcolor\":\"white\",\"linecolor\":\"white\",\"ticks\":\"\"},\"baxis\":{\"gridcolor\":\"white\",\"linecolor\":\"white\",\"ticks\":\"\"},\"bgcolor\":\"#E5ECF6\",\"caxis\":{\"gridcolor\":\"white\",\"linecolor\":\"white\",\"ticks\":\"\"}},\"title\":{\"x\":0.05},\"xaxis\":{\"automargin\":true,\"gridcolor\":\"white\",\"linecolor\":\"white\",\"ticks\":\"\",\"title\":{\"standoff\":15},\"zerolinecolor\":\"white\",\"zerolinewidth\":2},\"yaxis\":{\"automargin\":true,\"gridcolor\":\"white\",\"linecolor\":\"white\",\"ticks\":\"\",\"title\":{\"standoff\":15},\"zerolinecolor\":\"white\",\"zerolinewidth\":2}}},\"title\":{\"font\":{\"color\":\"#4D5663\"}},\"xaxis\":{\"gridcolor\":\"#E1E5ED\",\"showgrid\":true,\"tickfont\":{\"color\":\"#4D5663\"},\"title\":{\"font\":{\"color\":\"#4D5663\"},\"text\":\"\"},\"zerolinecolor\":\"#E1E5ED\"},\"yaxis\":{\"gridcolor\":\"#E1E5ED\",\"showgrid\":true,\"tickfont\":{\"color\":\"#4D5663\"},\"title\":{\"font\":{\"color\":\"#4D5663\"},\"text\":\"\"},\"zerolinecolor\":\"#E1E5ED\"}},                        {\"showLink\": true, \"linkText\": \"Export to plot.ly\", \"plotlyServerURL\": \"https://plot.ly\", \"responsive\": true}                    ).then(function(){\n",
       "                            \n",
       "var gd = document.getElementById('5299dc58-637a-43c6-a097-1118fe326bd9');\n",
       "var x = new MutationObserver(function (mutations, observer) {{\n",
       "        var display = window.getComputedStyle(gd).display;\n",
       "        if (!display || display === 'none') {{\n",
       "            console.log([gd, 'removed!']);\n",
       "            Plotly.purge(gd);\n",
       "            observer.disconnect();\n",
       "        }}\n",
       "}});\n",
       "\n",
       "// Listen for the removal of the full notebook cells\n",
       "var notebookContainer = gd.closest('#notebook-container');\n",
       "if (notebookContainer) {{\n",
       "    x.observe(notebookContainer, {childList: true});\n",
       "}}\n",
       "\n",
       "// Listen for the clearing of the current output cell\n",
       "var outputEl = gd.closest('.output');\n",
       "if (outputEl) {{\n",
       "    x.observe(outputEl, {childList: true});\n",
       "}}\n",
       "\n",
       "                        })                };                });            </script>        </div>"
      ]
     },
     "metadata": {},
     "output_type": "display_data"
    }
   ],
   "source": [
    "df3 = pd.DataFrame({'x':[1,2,3,4,5],'y':[10,20,30,20,10],'z':[5,4,3,2,1]})\n",
    "df3.iplot(kind='surface',colorscale='rdylbu')"
   ]
  },
  {
   "cell_type": "markdown",
   "metadata": {},
   "source": [
    "## Spread"
   ]
  },
  {
   "cell_type": "code",
   "execution_count": 15,
   "metadata": {},
   "outputs": [
    {
     "name": "stderr",
     "output_type": "stream",
     "text": [
      "C:\\Users\\ParsArgham\\anaconda3\\lib\\site-packages\\cufflinks\\plotlytools.py:849: FutureWarning:\n",
      "\n",
      "The pandas.np module is deprecated and will be removed from pandas in a future version. Import numpy directly instead.\n",
      "\n",
      "C:\\Users\\ParsArgham\\anaconda3\\lib\\site-packages\\cufflinks\\plotlytools.py:850: FutureWarning:\n",
      "\n",
      "The pandas.np module is deprecated and will be removed from pandas in a future version. Import numpy directly instead.\n",
      "\n"
     ]
    },
    {
     "data": {
      "application/vnd.plotly.v1+json": {
       "config": {
        "linkText": "Export to plot.ly",
        "plotlyServerURL": "https://plot.ly",
        "showLink": true
       },
       "data": [
        {
         "line": {
          "color": "rgba(255, 153, 51, 1.0)",
          "dash": "solid",
          "shape": "linear",
          "width": 1.3
         },
         "mode": "lines",
         "name": "A",
         "text": "",
         "type": "scatter",
         "x": [
          0,
          1,
          2,
          3,
          4,
          5,
          6,
          7,
          8,
          9,
          10,
          11,
          12,
          13,
          14,
          15,
          16,
          17,
          18,
          19,
          20,
          21,
          22,
          23,
          24,
          25,
          26,
          27,
          28,
          29,
          30,
          31,
          32,
          33,
          34,
          35,
          36,
          37,
          38,
          39,
          40,
          41,
          42,
          43,
          44,
          45,
          46,
          47,
          48,
          49,
          50,
          51,
          52,
          53,
          54,
          55,
          56,
          57,
          58,
          59,
          60,
          61,
          62,
          63,
          64,
          65,
          66,
          67,
          68,
          69,
          70,
          71,
          72,
          73,
          74,
          75,
          76,
          77,
          78,
          79,
          80,
          81,
          82,
          83,
          84,
          85,
          86,
          87,
          88,
          89,
          90,
          91,
          92,
          93,
          94,
          95,
          96,
          97,
          98,
          99
         ],
         "y": [
          -0.6035297959382414,
          -0.8168839180464849,
          -0.6156857927636435,
          -0.96809123662696,
          -0.6854691740293992,
          0.7199714768803681,
          1.446160156463076,
          1.799627965830823,
          1.7157877533685324,
          -0.17901370565073169,
          0.005449232404899039,
          -1.0833144371751064,
          -0.9551544617528701,
          -0.806542516870636,
          2.192659195836407,
          0.15416197000598228,
          0.01631753712948887,
          1.7267160752937727,
          0.57985045638903,
          0.09791585210952843,
          0.21351052704706053,
          0.2810617979115468,
          0.432292126121937,
          -1.1735741563193232,
          -1.1583974052626016,
          1.5614876377792792,
          -1.2881469804000822,
          -0.26495107714432603,
          1.3312459821437788,
          -0.08333634781307717,
          0.460140024288853,
          2.0200389221711164,
          -0.2964711710980584,
          1.7438707329329075,
          0.6965071847803438,
          0.9616884505199493,
          -1.0826686274947974,
          -0.2290348397768763,
          0.22539764253003775,
          2.3790211963457173,
          0.3472056319516496,
          0.035911286437501085,
          1.259055281551953,
          0.5918447616263801,
          -0.6822565116504726,
          -0.8928399410348654,
          -0.6615460317551572,
          0.04214420334432419,
          0.32233108348176587,
          -0.2000440217299358,
          0.326674581272999,
          0.9432398763689777,
          -0.8168202319197175,
          0.07617503642020822,
          -0.10923092299046434,
          -2.3793044960670433,
          -0.7364273736220023,
          -0.11339616677514272,
          -0.6902054596789023,
          -1.38642008999562,
          0.8495427939718966,
          -0.3878460284258634,
          -0.8089657350136299,
          -0.368755861201994,
          -0.0070429161289379105,
          -0.2524318160687466,
          -1.1110786925423664,
          1.6950918157689456,
          0.6672081179643534,
          -0.03371141339443632,
          1.9001276876037883,
          -0.9192875396872777,
          0.5871667111331204,
          -0.08438004513753744,
          0.07309561806045688,
          0.7562262739315151,
          0.4462221113646279,
          0.4266663764331806,
          0.6155194400559172,
          0.27929381908824663,
          -1.053986571099971,
          0.18020245770246723,
          -0.04058567909420326,
          1.1441406510591838,
          -0.4794020094470726,
          -1.0881453768671514,
          0.24795817635371536,
          -0.6311227016730568,
          -2.4387748259857727,
          0.9572567814279553,
          -1.8090332855133209,
          -0.16035983288459527,
          0.2862808765695702,
          -0.13959297740089516,
          -1.7815333343184052,
          0.07132219757149803,
          1.062568166469194,
          -0.5821359801529373,
          0.13735274878157913,
          -1.0609086520436461
         ]
        },
        {
         "line": {
          "color": "rgba(55, 128, 191, 1.0)",
          "dash": "solid",
          "shape": "linear",
          "width": 1.3
         },
         "mode": "lines",
         "name": "B",
         "text": "",
         "type": "scatter",
         "x": [
          0,
          1,
          2,
          3,
          4,
          5,
          6,
          7,
          8,
          9,
          10,
          11,
          12,
          13,
          14,
          15,
          16,
          17,
          18,
          19,
          20,
          21,
          22,
          23,
          24,
          25,
          26,
          27,
          28,
          29,
          30,
          31,
          32,
          33,
          34,
          35,
          36,
          37,
          38,
          39,
          40,
          41,
          42,
          43,
          44,
          45,
          46,
          47,
          48,
          49,
          50,
          51,
          52,
          53,
          54,
          55,
          56,
          57,
          58,
          59,
          60,
          61,
          62,
          63,
          64,
          65,
          66,
          67,
          68,
          69,
          70,
          71,
          72,
          73,
          74,
          75,
          76,
          77,
          78,
          79,
          80,
          81,
          82,
          83,
          84,
          85,
          86,
          87,
          88,
          89,
          90,
          91,
          92,
          93,
          94,
          95,
          96,
          97,
          98,
          99
         ],
         "y": [
          0.34937467752453855,
          -0.6963689003611885,
          0.49444390521925163,
          -0.5216091706513676,
          0.4724087770975294,
          -0.7451485094842482,
          -1.034922517004572,
          -0.7231837962892254,
          -0.3565877101781193,
          0.5561839128654138,
          1.4995719633555327,
          0.10904078889562052,
          0.026129809655202986,
          1.461617696540569,
          -0.5402179049296549,
          -0.20317357616560444,
          0.6218015091883577,
          0.6203131147082552,
          1.6198556238181445,
          1.3750576201475166,
          1.7665147161583103,
          0.9736869943203338,
          1.6632487833008511,
          1.1946869607840391,
          -1.3181911639397836,
          0.21483071972553233,
          0.9532299081544663,
          -0.47835866959161855,
          -0.05367608683761055,
          -0.6233004340756563,
          -0.44763279779657505,
          1.540650986930894,
          -0.10041228764413782,
          1.9740906004864247,
          0.8399728426296991,
          -0.06900862170430426,
          0.3050884857376401,
          -0.24929546241599287,
          0.22540055450182636,
          -1.9464725746598737,
          -0.013967839426258875,
          1.146660179529997,
          -1.8798754854886035,
          -0.40737114477860115,
          -0.5535966777043381,
          -0.9046493670712153,
          -0.2165903294015373,
          -1.5978791360078572,
          -1.3858322851196112,
          -1.0314493305780452,
          1.2198575387415684,
          -0.5408288300390035,
          -0.136382172634374,
          -0.8522283472752146,
          -1.105056411687845,
          -1.5317431813873281,
          1.583062570780521,
          -0.5433498971348376,
          -0.8166347685311419,
          1.188444648041088,
          1.2914964306290924,
          0.8093118784465675,
          -2.2319460048066775,
          -0.6725420748091804,
          -0.03225818317810197,
          -0.02957431018242885,
          1.3781411773100498,
          -0.20446219959169973,
          0.7892794713371499,
          0.06304076348528372,
          0.7397415414777962,
          0.07953236164410435,
          0.20439894314802834,
          -0.13400910629225057,
          -0.42058647511319996,
          -0.3945684866149251,
          2.502544202353219,
          -1.2099348465143327,
          -0.45678523003251864,
          1.658444813234687,
          -0.5805059472672414,
          -0.28552340803789444,
          0.3230214214336419,
          0.9383761746830033,
          0.01073116888838524,
          0.5290085286062141,
          -2.279993493907933,
          0.36593355315096493,
          -0.27987443799520223,
          0.5427764918925077,
          -0.19185176677469148,
          0.7150314393582368,
          1.2759738685362205,
          0.04545720514712179,
          -0.551929296600115,
          0.6566504637125637,
          0.11765627356863474,
          0.6719491850445272,
          0.6469902247765215,
          2.036967266780365
         ]
        },
        {
         "connectgaps": false,
         "fill": "tozeroy",
         "line": {
          "color": "green",
          "dash": "solid",
          "shape": "linear",
          "width": 0.5
         },
         "mode": "lines",
         "name": "Spread",
         "showlegend": false,
         "type": "scatter",
         "x": [
          0,
          1,
          2,
          3,
          4,
          5,
          6,
          7,
          8,
          9,
          10,
          11,
          12,
          13,
          14,
          15,
          16,
          17,
          18,
          19,
          20,
          21,
          22,
          23,
          24,
          25,
          26,
          27,
          28,
          29,
          30,
          31,
          32,
          33,
          34,
          35,
          36,
          37,
          38,
          39,
          40,
          41,
          42,
          43,
          44,
          45,
          46,
          47,
          48,
          49,
          50,
          51,
          52,
          53,
          54,
          55,
          56,
          57,
          58,
          59,
          60,
          61,
          62,
          63,
          64,
          65,
          66,
          67,
          68,
          69,
          70,
          71,
          72,
          73,
          74,
          75,
          76,
          77,
          78,
          79,
          80,
          81,
          82,
          83,
          84,
          85,
          86,
          87,
          88,
          89,
          90,
          91,
          92,
          93,
          94,
          95,
          96,
          97,
          98,
          99
         ],
         "xaxis": "x2",
         "y": [
          "",
          "",
          "",
          "",
          "",
          1.4651199863646163,
          2.4810826734676477,
          2.5228117621200483,
          2.072375463546652,
          "",
          "",
          "",
          "",
          "",
          2.732877100766062,
          0.3573355461715867,
          "",
          1.1064029605855175,
          "",
          "",
          "",
          "",
          "",
          "",
          0.15979375867718204,
          1.3466569180537469,
          "",
          0.21340759244729252,
          1.3849220689813893,
          0.5399640862625791,
          0.907772822085428,
          0.4793879352402224,
          "",
          "",
          "",
          1.0306970722242537,
          "",
          0.02026062263911657,
          "",
          4.325493771005591,
          0.3611734713779085,
          "",
          3.1389307670405566,
          0.9992159064049813,
          "",
          0.011809426036349935,
          "",
          1.6400233393521815,
          1.708163368601377,
          0.8314053088481095,
          "",
          1.4840687064079812,
          "",
          0.9284033836954227,
          0.9958254886973806,
          "",
          "",
          0.42995373035969486,
          0.12642930885223957,
          "",
          "",
          "",
          1.4229802697930476,
          0.3037862136071864,
          0.02521526704916406,
          "",
          "",
          1.8995540153606454,
          "",
          "",
          1.1603861461259921,
          "",
          0.38276776798509204,
          0.04962906115471313,
          0.49368209317365686,
          1.1507947605464401,
          "",
          1.6366012229475133,
          1.0723046700884358,
          "",
          "",
          0.4657258657403617,
          "",
          0.20576447637618056,
          "",
          "",
          2.5279516702616482,
          "",
          "",
          0.4144802895354477,
          "",
          "",
          "",
          "",
          "",
          "",
          0.9449118929005592,
          "",
          "",
          ""
         ],
         "yaxis": "y2"
        },
        {
         "connectgaps": false,
         "fill": "tozeroy",
         "line": {
          "color": "red",
          "dash": "solid",
          "shape": "linear",
          "width": 0.5
         },
         "mode": "lines",
         "name": "Spread",
         "showlegend": false,
         "type": "scatter",
         "x": [
          0,
          1,
          2,
          3,
          4,
          5,
          6,
          7,
          8,
          9,
          10,
          11,
          12,
          13,
          14,
          15,
          16,
          17,
          18,
          19,
          20,
          21,
          22,
          23,
          24,
          25,
          26,
          27,
          28,
          29,
          30,
          31,
          32,
          33,
          34,
          35,
          36,
          37,
          38,
          39,
          40,
          41,
          42,
          43,
          44,
          45,
          46,
          47,
          48,
          49,
          50,
          51,
          52,
          53,
          54,
          55,
          56,
          57,
          58,
          59,
          60,
          61,
          62,
          63,
          64,
          65,
          66,
          67,
          68,
          69,
          70,
          71,
          72,
          73,
          74,
          75,
          76,
          77,
          78,
          79,
          80,
          81,
          82,
          83,
          84,
          85,
          86,
          87,
          88,
          89,
          90,
          91,
          92,
          93,
          94,
          95,
          96,
          97,
          98,
          99
         ],
         "xaxis": "x2",
         "y": [
          -0.95290447346278,
          -0.12051501768529638,
          -1.1101296979828952,
          -0.44648206597559237,
          -1.1578779511269286,
          "",
          "",
          "",
          "",
          -0.7351976185161455,
          -1.4941227309506335,
          -1.192355226070727,
          -0.9812842714080731,
          -2.268160213411205,
          "",
          "",
          -0.6054839720588688,
          "",
          -1.0400051674291144,
          -1.2771417680379882,
          -1.5530041891112498,
          -0.6926251964087871,
          -1.2309566571789141,
          -2.368261117103362,
          "",
          "",
          -2.2413768885545484,
          "",
          "",
          "",
          "",
          "",
          -0.19605888345392056,
          -0.2302198675535172,
          -0.14346565784935528,
          "",
          -1.3877571132324376,
          "",
          -2.91197178861613e-06,
          "",
          "",
          -1.110748893092496,
          "",
          "",
          -0.12865983394613456,
          "",
          -0.4449557023536199,
          "",
          "",
          "",
          -0.8931829574685695,
          "",
          -0.6804380592853435,
          "",
          "",
          -0.8475613146797152,
          -2.319489944402523,
          "",
          "",
          -2.574864738036708,
          -0.4419536366571958,
          -1.197157906872431,
          "",
          "",
          "",
          -0.22285750588631775,
          -2.489219869852416,
          "",
          -0.12207135337279651,
          -0.09675217687972004,
          "",
          -0.9988199013313821,
          "",
          "",
          "",
          "",
          -2.056322090988591,
          "",
          "",
          -1.3791509941464404,
          -0.4734806238327296,
          "",
          -0.3636071005278451,
          "",
          -0.4901331783354579,
          -1.6171539054733655,
          "",
          -0.9970562548240218,
          -2.1589003879905704,
          "",
          -1.6171815187386294,
          -0.8753912722428321,
          -0.9896929919666504,
          -0.18505018254801694,
          -1.2296040377182902,
          -0.5853282661410657,
          "",
          -1.2540851651974645,
          -0.5096374759949424,
          -3.0978759188240113
         ],
         "yaxis": "y2"
        }
       ],
       "layout": {
        "hovermode": "x",
        "legend": {
         "bgcolor": "#F5F6F9",
         "font": {
          "color": "#4D5663"
         }
        },
        "paper_bgcolor": "#F5F6F9",
        "plot_bgcolor": "#F5F6F9",
        "template": {
         "data": {
          "bar": [
           {
            "error_x": {
             "color": "#2a3f5f"
            },
            "error_y": {
             "color": "#2a3f5f"
            },
            "marker": {
             "line": {
              "color": "#E5ECF6",
              "width": 0.5
             },
             "pattern": {
              "fillmode": "overlay",
              "size": 10,
              "solidity": 0.2
             }
            },
            "type": "bar"
           }
          ],
          "barpolar": [
           {
            "marker": {
             "line": {
              "color": "#E5ECF6",
              "width": 0.5
             },
             "pattern": {
              "fillmode": "overlay",
              "size": 10,
              "solidity": 0.2
             }
            },
            "type": "barpolar"
           }
          ],
          "carpet": [
           {
            "aaxis": {
             "endlinecolor": "#2a3f5f",
             "gridcolor": "white",
             "linecolor": "white",
             "minorgridcolor": "white",
             "startlinecolor": "#2a3f5f"
            },
            "baxis": {
             "endlinecolor": "#2a3f5f",
             "gridcolor": "white",
             "linecolor": "white",
             "minorgridcolor": "white",
             "startlinecolor": "#2a3f5f"
            },
            "type": "carpet"
           }
          ],
          "choropleth": [
           {
            "colorbar": {
             "outlinewidth": 0,
             "ticks": ""
            },
            "type": "choropleth"
           }
          ],
          "contour": [
           {
            "colorbar": {
             "outlinewidth": 0,
             "ticks": ""
            },
            "colorscale": [
             [
              0,
              "#0d0887"
             ],
             [
              0.1111111111111111,
              "#46039f"
             ],
             [
              0.2222222222222222,
              "#7201a8"
             ],
             [
              0.3333333333333333,
              "#9c179e"
             ],
             [
              0.4444444444444444,
              "#bd3786"
             ],
             [
              0.5555555555555556,
              "#d8576b"
             ],
             [
              0.6666666666666666,
              "#ed7953"
             ],
             [
              0.7777777777777778,
              "#fb9f3a"
             ],
             [
              0.8888888888888888,
              "#fdca26"
             ],
             [
              1,
              "#f0f921"
             ]
            ],
            "type": "contour"
           }
          ],
          "contourcarpet": [
           {
            "colorbar": {
             "outlinewidth": 0,
             "ticks": ""
            },
            "type": "contourcarpet"
           }
          ],
          "heatmap": [
           {
            "colorbar": {
             "outlinewidth": 0,
             "ticks": ""
            },
            "colorscale": [
             [
              0,
              "#0d0887"
             ],
             [
              0.1111111111111111,
              "#46039f"
             ],
             [
              0.2222222222222222,
              "#7201a8"
             ],
             [
              0.3333333333333333,
              "#9c179e"
             ],
             [
              0.4444444444444444,
              "#bd3786"
             ],
             [
              0.5555555555555556,
              "#d8576b"
             ],
             [
              0.6666666666666666,
              "#ed7953"
             ],
             [
              0.7777777777777778,
              "#fb9f3a"
             ],
             [
              0.8888888888888888,
              "#fdca26"
             ],
             [
              1,
              "#f0f921"
             ]
            ],
            "type": "heatmap"
           }
          ],
          "heatmapgl": [
           {
            "colorbar": {
             "outlinewidth": 0,
             "ticks": ""
            },
            "colorscale": [
             [
              0,
              "#0d0887"
             ],
             [
              0.1111111111111111,
              "#46039f"
             ],
             [
              0.2222222222222222,
              "#7201a8"
             ],
             [
              0.3333333333333333,
              "#9c179e"
             ],
             [
              0.4444444444444444,
              "#bd3786"
             ],
             [
              0.5555555555555556,
              "#d8576b"
             ],
             [
              0.6666666666666666,
              "#ed7953"
             ],
             [
              0.7777777777777778,
              "#fb9f3a"
             ],
             [
              0.8888888888888888,
              "#fdca26"
             ],
             [
              1,
              "#f0f921"
             ]
            ],
            "type": "heatmapgl"
           }
          ],
          "histogram": [
           {
            "marker": {
             "pattern": {
              "fillmode": "overlay",
              "size": 10,
              "solidity": 0.2
             }
            },
            "type": "histogram"
           }
          ],
          "histogram2d": [
           {
            "colorbar": {
             "outlinewidth": 0,
             "ticks": ""
            },
            "colorscale": [
             [
              0,
              "#0d0887"
             ],
             [
              0.1111111111111111,
              "#46039f"
             ],
             [
              0.2222222222222222,
              "#7201a8"
             ],
             [
              0.3333333333333333,
              "#9c179e"
             ],
             [
              0.4444444444444444,
              "#bd3786"
             ],
             [
              0.5555555555555556,
              "#d8576b"
             ],
             [
              0.6666666666666666,
              "#ed7953"
             ],
             [
              0.7777777777777778,
              "#fb9f3a"
             ],
             [
              0.8888888888888888,
              "#fdca26"
             ],
             [
              1,
              "#f0f921"
             ]
            ],
            "type": "histogram2d"
           }
          ],
          "histogram2dcontour": [
           {
            "colorbar": {
             "outlinewidth": 0,
             "ticks": ""
            },
            "colorscale": [
             [
              0,
              "#0d0887"
             ],
             [
              0.1111111111111111,
              "#46039f"
             ],
             [
              0.2222222222222222,
              "#7201a8"
             ],
             [
              0.3333333333333333,
              "#9c179e"
             ],
             [
              0.4444444444444444,
              "#bd3786"
             ],
             [
              0.5555555555555556,
              "#d8576b"
             ],
             [
              0.6666666666666666,
              "#ed7953"
             ],
             [
              0.7777777777777778,
              "#fb9f3a"
             ],
             [
              0.8888888888888888,
              "#fdca26"
             ],
             [
              1,
              "#f0f921"
             ]
            ],
            "type": "histogram2dcontour"
           }
          ],
          "mesh3d": [
           {
            "colorbar": {
             "outlinewidth": 0,
             "ticks": ""
            },
            "type": "mesh3d"
           }
          ],
          "parcoords": [
           {
            "line": {
             "colorbar": {
              "outlinewidth": 0,
              "ticks": ""
             }
            },
            "type": "parcoords"
           }
          ],
          "pie": [
           {
            "automargin": true,
            "type": "pie"
           }
          ],
          "scatter": [
           {
            "fillpattern": {
             "fillmode": "overlay",
             "size": 10,
             "solidity": 0.2
            },
            "type": "scatter"
           }
          ],
          "scatter3d": [
           {
            "line": {
             "colorbar": {
              "outlinewidth": 0,
              "ticks": ""
             }
            },
            "marker": {
             "colorbar": {
              "outlinewidth": 0,
              "ticks": ""
             }
            },
            "type": "scatter3d"
           }
          ],
          "scattercarpet": [
           {
            "marker": {
             "colorbar": {
              "outlinewidth": 0,
              "ticks": ""
             }
            },
            "type": "scattercarpet"
           }
          ],
          "scattergeo": [
           {
            "marker": {
             "colorbar": {
              "outlinewidth": 0,
              "ticks": ""
             }
            },
            "type": "scattergeo"
           }
          ],
          "scattergl": [
           {
            "marker": {
             "colorbar": {
              "outlinewidth": 0,
              "ticks": ""
             }
            },
            "type": "scattergl"
           }
          ],
          "scattermapbox": [
           {
            "marker": {
             "colorbar": {
              "outlinewidth": 0,
              "ticks": ""
             }
            },
            "type": "scattermapbox"
           }
          ],
          "scatterpolar": [
           {
            "marker": {
             "colorbar": {
              "outlinewidth": 0,
              "ticks": ""
             }
            },
            "type": "scatterpolar"
           }
          ],
          "scatterpolargl": [
           {
            "marker": {
             "colorbar": {
              "outlinewidth": 0,
              "ticks": ""
             }
            },
            "type": "scatterpolargl"
           }
          ],
          "scatterternary": [
           {
            "marker": {
             "colorbar": {
              "outlinewidth": 0,
              "ticks": ""
             }
            },
            "type": "scatterternary"
           }
          ],
          "surface": [
           {
            "colorbar": {
             "outlinewidth": 0,
             "ticks": ""
            },
            "colorscale": [
             [
              0,
              "#0d0887"
             ],
             [
              0.1111111111111111,
              "#46039f"
             ],
             [
              0.2222222222222222,
              "#7201a8"
             ],
             [
              0.3333333333333333,
              "#9c179e"
             ],
             [
              0.4444444444444444,
              "#bd3786"
             ],
             [
              0.5555555555555556,
              "#d8576b"
             ],
             [
              0.6666666666666666,
              "#ed7953"
             ],
             [
              0.7777777777777778,
              "#fb9f3a"
             ],
             [
              0.8888888888888888,
              "#fdca26"
             ],
             [
              1,
              "#f0f921"
             ]
            ],
            "type": "surface"
           }
          ],
          "table": [
           {
            "cells": {
             "fill": {
              "color": "#EBF0F8"
             },
             "line": {
              "color": "white"
             }
            },
            "header": {
             "fill": {
              "color": "#C8D4E3"
             },
             "line": {
              "color": "white"
             }
            },
            "type": "table"
           }
          ]
         },
         "layout": {
          "annotationdefaults": {
           "arrowcolor": "#2a3f5f",
           "arrowhead": 0,
           "arrowwidth": 1
          },
          "autotypenumbers": "strict",
          "coloraxis": {
           "colorbar": {
            "outlinewidth": 0,
            "ticks": ""
           }
          },
          "colorscale": {
           "diverging": [
            [
             0,
             "#8e0152"
            ],
            [
             0.1,
             "#c51b7d"
            ],
            [
             0.2,
             "#de77ae"
            ],
            [
             0.3,
             "#f1b6da"
            ],
            [
             0.4,
             "#fde0ef"
            ],
            [
             0.5,
             "#f7f7f7"
            ],
            [
             0.6,
             "#e6f5d0"
            ],
            [
             0.7,
             "#b8e186"
            ],
            [
             0.8,
             "#7fbc41"
            ],
            [
             0.9,
             "#4d9221"
            ],
            [
             1,
             "#276419"
            ]
           ],
           "sequential": [
            [
             0,
             "#0d0887"
            ],
            [
             0.1111111111111111,
             "#46039f"
            ],
            [
             0.2222222222222222,
             "#7201a8"
            ],
            [
             0.3333333333333333,
             "#9c179e"
            ],
            [
             0.4444444444444444,
             "#bd3786"
            ],
            [
             0.5555555555555556,
             "#d8576b"
            ],
            [
             0.6666666666666666,
             "#ed7953"
            ],
            [
             0.7777777777777778,
             "#fb9f3a"
            ],
            [
             0.8888888888888888,
             "#fdca26"
            ],
            [
             1,
             "#f0f921"
            ]
           ],
           "sequentialminus": [
            [
             0,
             "#0d0887"
            ],
            [
             0.1111111111111111,
             "#46039f"
            ],
            [
             0.2222222222222222,
             "#7201a8"
            ],
            [
             0.3333333333333333,
             "#9c179e"
            ],
            [
             0.4444444444444444,
             "#bd3786"
            ],
            [
             0.5555555555555556,
             "#d8576b"
            ],
            [
             0.6666666666666666,
             "#ed7953"
            ],
            [
             0.7777777777777778,
             "#fb9f3a"
            ],
            [
             0.8888888888888888,
             "#fdca26"
            ],
            [
             1,
             "#f0f921"
            ]
           ]
          },
          "colorway": [
           "#636efa",
           "#EF553B",
           "#00cc96",
           "#ab63fa",
           "#FFA15A",
           "#19d3f3",
           "#FF6692",
           "#B6E880",
           "#FF97FF",
           "#FECB52"
          ],
          "font": {
           "color": "#2a3f5f"
          },
          "geo": {
           "bgcolor": "white",
           "lakecolor": "white",
           "landcolor": "#E5ECF6",
           "showlakes": true,
           "showland": true,
           "subunitcolor": "white"
          },
          "hoverlabel": {
           "align": "left"
          },
          "hovermode": "closest",
          "mapbox": {
           "style": "light"
          },
          "paper_bgcolor": "white",
          "plot_bgcolor": "#E5ECF6",
          "polar": {
           "angularaxis": {
            "gridcolor": "white",
            "linecolor": "white",
            "ticks": ""
           },
           "bgcolor": "#E5ECF6",
           "radialaxis": {
            "gridcolor": "white",
            "linecolor": "white",
            "ticks": ""
           }
          },
          "scene": {
           "xaxis": {
            "backgroundcolor": "#E5ECF6",
            "gridcolor": "white",
            "gridwidth": 2,
            "linecolor": "white",
            "showbackground": true,
            "ticks": "",
            "zerolinecolor": "white"
           },
           "yaxis": {
            "backgroundcolor": "#E5ECF6",
            "gridcolor": "white",
            "gridwidth": 2,
            "linecolor": "white",
            "showbackground": true,
            "ticks": "",
            "zerolinecolor": "white"
           },
           "zaxis": {
            "backgroundcolor": "#E5ECF6",
            "gridcolor": "white",
            "gridwidth": 2,
            "linecolor": "white",
            "showbackground": true,
            "ticks": "",
            "zerolinecolor": "white"
           }
          },
          "shapedefaults": {
           "line": {
            "color": "#2a3f5f"
           }
          },
          "ternary": {
           "aaxis": {
            "gridcolor": "white",
            "linecolor": "white",
            "ticks": ""
           },
           "baxis": {
            "gridcolor": "white",
            "linecolor": "white",
            "ticks": ""
           },
           "bgcolor": "#E5ECF6",
           "caxis": {
            "gridcolor": "white",
            "linecolor": "white",
            "ticks": ""
           }
          },
          "title": {
           "x": 0.05
          },
          "xaxis": {
           "automargin": true,
           "gridcolor": "white",
           "linecolor": "white",
           "ticks": "",
           "title": {
            "standoff": 15
           },
           "zerolinecolor": "white",
           "zerolinewidth": 2
          },
          "yaxis": {
           "automargin": true,
           "gridcolor": "white",
           "linecolor": "white",
           "ticks": "",
           "title": {
            "standoff": 15
           },
           "zerolinecolor": "white",
           "zerolinewidth": 2
          }
         }
        },
        "title": {
         "font": {
          "color": "#4D5663"
         }
        },
        "xaxis": {
         "gridcolor": "#E1E5ED",
         "showgrid": true,
         "tickfont": {
          "color": "#4D5663"
         },
         "title": {
          "font": {
           "color": "#4D5663"
          },
          "text": ""
         },
         "zerolinecolor": "#E1E5ED"
        },
        "xaxis2": {
         "anchor": "y2",
         "gridcolor": "#E1E5ED",
         "showgrid": true,
         "showticklabels": false,
         "tickfont": {
          "color": "#4D5663"
         },
         "title": {
          "font": {
           "color": "#4D5663"
          },
          "text": ""
         },
         "zerolinecolor": "#E1E5ED"
        },
        "yaxis": {
         "domain": [
          0.3,
          1
         ],
         "gridcolor": "#E1E5ED",
         "showgrid": true,
         "tickfont": {
          "color": "#4D5663"
         },
         "title": {
          "font": {
           "color": "#4D5663"
          },
          "text": ""
         },
         "zerolinecolor": "#E1E5ED"
        },
        "yaxis2": {
         "domain": [
          0,
          0.25
         ],
         "gridcolor": "#E1E5ED",
         "showgrid": true,
         "tickfont": {
          "color": "#4D5663"
         },
         "title": {
          "font": {
           "color": "#4D5663"
          },
          "text": "Spread"
         },
         "zerolinecolor": "#E1E5ED"
        }
       }
      },
      "text/html": [
       "<div>                            <div id=\"82e50c9d-8365-45c8-bd16-70f7d4897b4f\" class=\"plotly-graph-div\" style=\"height:525px; width:100%;\"></div>            <script type=\"text/javascript\">                require([\"plotly\"], function(Plotly) {                    window.PLOTLYENV=window.PLOTLYENV || {};\n",
       "                    window.PLOTLYENV.BASE_URL='https://plot.ly';                                    if (document.getElementById(\"82e50c9d-8365-45c8-bd16-70f7d4897b4f\")) {                    Plotly.newPlot(                        \"82e50c9d-8365-45c8-bd16-70f7d4897b4f\",                        [{\"line\":{\"color\":\"rgba(255, 153, 51, 1.0)\",\"dash\":\"solid\",\"shape\":\"linear\",\"width\":1.3},\"mode\":\"lines\",\"name\":\"A\",\"text\":\"\",\"x\":[0,1,2,3,4,5,6,7,8,9,10,11,12,13,14,15,16,17,18,19,20,21,22,23,24,25,26,27,28,29,30,31,32,33,34,35,36,37,38,39,40,41,42,43,44,45,46,47,48,49,50,51,52,53,54,55,56,57,58,59,60,61,62,63,64,65,66,67,68,69,70,71,72,73,74,75,76,77,78,79,80,81,82,83,84,85,86,87,88,89,90,91,92,93,94,95,96,97,98,99],\"y\":[-0.6035297959382414,-0.8168839180464849,-0.6156857927636435,-0.96809123662696,-0.6854691740293992,0.7199714768803681,1.446160156463076,1.799627965830823,1.7157877533685324,-0.17901370565073169,0.005449232404899039,-1.0833144371751064,-0.9551544617528701,-0.806542516870636,2.192659195836407,0.15416197000598228,0.01631753712948887,1.7267160752937727,0.57985045638903,0.09791585210952843,0.21351052704706053,0.2810617979115468,0.432292126121937,-1.1735741563193232,-1.1583974052626016,1.5614876377792792,-1.2881469804000822,-0.26495107714432603,1.3312459821437788,-0.08333634781307717,0.460140024288853,2.0200389221711164,-0.2964711710980584,1.7438707329329075,0.6965071847803438,0.9616884505199493,-1.0826686274947974,-0.2290348397768763,0.22539764253003775,2.3790211963457173,0.3472056319516496,0.035911286437501085,1.259055281551953,0.5918447616263801,-0.6822565116504726,-0.8928399410348654,-0.6615460317551572,0.04214420334432419,0.32233108348176587,-0.2000440217299358,0.326674581272999,0.9432398763689777,-0.8168202319197175,0.07617503642020822,-0.10923092299046434,-2.3793044960670433,-0.7364273736220023,-0.11339616677514272,-0.6902054596789023,-1.38642008999562,0.8495427939718966,-0.3878460284258634,-0.8089657350136299,-0.368755861201994,-0.0070429161289379105,-0.2524318160687466,-1.1110786925423664,1.6950918157689456,0.6672081179643534,-0.03371141339443632,1.9001276876037883,-0.9192875396872777,0.5871667111331204,-0.08438004513753744,0.07309561806045688,0.7562262739315151,0.4462221113646279,0.4266663764331806,0.6155194400559172,0.27929381908824663,-1.053986571099971,0.18020245770246723,-0.04058567909420326,1.1441406510591838,-0.4794020094470726,-1.0881453768671514,0.24795817635371536,-0.6311227016730568,-2.4387748259857727,0.9572567814279553,-1.8090332855133209,-0.16035983288459527,0.2862808765695702,-0.13959297740089516,-1.7815333343184052,0.07132219757149803,1.062568166469194,-0.5821359801529373,0.13735274878157913,-1.0609086520436461],\"type\":\"scatter\"},{\"line\":{\"color\":\"rgba(55, 128, 191, 1.0)\",\"dash\":\"solid\",\"shape\":\"linear\",\"width\":1.3},\"mode\":\"lines\",\"name\":\"B\",\"text\":\"\",\"x\":[0,1,2,3,4,5,6,7,8,9,10,11,12,13,14,15,16,17,18,19,20,21,22,23,24,25,26,27,28,29,30,31,32,33,34,35,36,37,38,39,40,41,42,43,44,45,46,47,48,49,50,51,52,53,54,55,56,57,58,59,60,61,62,63,64,65,66,67,68,69,70,71,72,73,74,75,76,77,78,79,80,81,82,83,84,85,86,87,88,89,90,91,92,93,94,95,96,97,98,99],\"y\":[0.34937467752453855,-0.6963689003611885,0.49444390521925163,-0.5216091706513676,0.4724087770975294,-0.7451485094842482,-1.034922517004572,-0.7231837962892254,-0.3565877101781193,0.5561839128654138,1.4995719633555327,0.10904078889562052,0.026129809655202986,1.461617696540569,-0.5402179049296549,-0.20317357616560444,0.6218015091883577,0.6203131147082552,1.6198556238181445,1.3750576201475166,1.7665147161583103,0.9736869943203338,1.6632487833008511,1.1946869607840391,-1.3181911639397836,0.21483071972553233,0.9532299081544663,-0.47835866959161855,-0.05367608683761055,-0.6233004340756563,-0.44763279779657505,1.540650986930894,-0.10041228764413782,1.9740906004864247,0.8399728426296991,-0.06900862170430426,0.3050884857376401,-0.24929546241599287,0.22540055450182636,-1.9464725746598737,-0.013967839426258875,1.146660179529997,-1.8798754854886035,-0.40737114477860115,-0.5535966777043381,-0.9046493670712153,-0.2165903294015373,-1.5978791360078572,-1.3858322851196112,-1.0314493305780452,1.2198575387415684,-0.5408288300390035,-0.136382172634374,-0.8522283472752146,-1.105056411687845,-1.5317431813873281,1.583062570780521,-0.5433498971348376,-0.8166347685311419,1.188444648041088,1.2914964306290924,0.8093118784465675,-2.2319460048066775,-0.6725420748091804,-0.03225818317810197,-0.02957431018242885,1.3781411773100498,-0.20446219959169973,0.7892794713371499,0.06304076348528372,0.7397415414777962,0.07953236164410435,0.20439894314802834,-0.13400910629225057,-0.42058647511319996,-0.3945684866149251,2.502544202353219,-1.2099348465143327,-0.45678523003251864,1.658444813234687,-0.5805059472672414,-0.28552340803789444,0.3230214214336419,0.9383761746830033,0.01073116888838524,0.5290085286062141,-2.279993493907933,0.36593355315096493,-0.27987443799520223,0.5427764918925077,-0.19185176677469148,0.7150314393582368,1.2759738685362205,0.04545720514712179,-0.551929296600115,0.6566504637125637,0.11765627356863474,0.6719491850445272,0.6469902247765215,2.036967266780365],\"type\":\"scatter\"},{\"connectgaps\":false,\"fill\":\"tozeroy\",\"line\":{\"color\":\"green\",\"dash\":\"solid\",\"shape\":\"linear\",\"width\":0.5},\"mode\":\"lines\",\"name\":\"Spread\",\"showlegend\":false,\"x\":[0,1,2,3,4,5,6,7,8,9,10,11,12,13,14,15,16,17,18,19,20,21,22,23,24,25,26,27,28,29,30,31,32,33,34,35,36,37,38,39,40,41,42,43,44,45,46,47,48,49,50,51,52,53,54,55,56,57,58,59,60,61,62,63,64,65,66,67,68,69,70,71,72,73,74,75,76,77,78,79,80,81,82,83,84,85,86,87,88,89,90,91,92,93,94,95,96,97,98,99],\"xaxis\":\"x2\",\"y\":[\"\",\"\",\"\",\"\",\"\",1.4651199863646163,2.4810826734676477,2.5228117621200483,2.072375463546652,\"\",\"\",\"\",\"\",\"\",2.732877100766062,0.3573355461715867,\"\",1.1064029605855175,\"\",\"\",\"\",\"\",\"\",\"\",0.15979375867718204,1.3466569180537469,\"\",0.21340759244729252,1.3849220689813893,0.5399640862625791,0.907772822085428,0.4793879352402224,\"\",\"\",\"\",1.0306970722242537,\"\",0.02026062263911657,\"\",4.325493771005591,0.3611734713779085,\"\",3.1389307670405566,0.9992159064049813,\"\",0.011809426036349935,\"\",1.6400233393521815,1.708163368601377,0.8314053088481095,\"\",1.4840687064079812,\"\",0.9284033836954227,0.9958254886973806,\"\",\"\",0.42995373035969486,0.12642930885223957,\"\",\"\",\"\",1.4229802697930476,0.3037862136071864,0.02521526704916406,\"\",\"\",1.8995540153606454,\"\",\"\",1.1603861461259921,\"\",0.38276776798509204,0.04962906115471313,0.49368209317365686,1.1507947605464401,\"\",1.6366012229475133,1.0723046700884358,\"\",\"\",0.4657258657403617,\"\",0.20576447637618056,\"\",\"\",2.5279516702616482,\"\",\"\",0.4144802895354477,\"\",\"\",\"\",\"\",\"\",\"\",0.9449118929005592,\"\",\"\",\"\"],\"yaxis\":\"y2\",\"type\":\"scatter\"},{\"connectgaps\":false,\"fill\":\"tozeroy\",\"line\":{\"color\":\"red\",\"dash\":\"solid\",\"shape\":\"linear\",\"width\":0.5},\"mode\":\"lines\",\"name\":\"Spread\",\"showlegend\":false,\"x\":[0,1,2,3,4,5,6,7,8,9,10,11,12,13,14,15,16,17,18,19,20,21,22,23,24,25,26,27,28,29,30,31,32,33,34,35,36,37,38,39,40,41,42,43,44,45,46,47,48,49,50,51,52,53,54,55,56,57,58,59,60,61,62,63,64,65,66,67,68,69,70,71,72,73,74,75,76,77,78,79,80,81,82,83,84,85,86,87,88,89,90,91,92,93,94,95,96,97,98,99],\"xaxis\":\"x2\",\"y\":[-0.95290447346278,-0.12051501768529638,-1.1101296979828952,-0.44648206597559237,-1.1578779511269286,\"\",\"\",\"\",\"\",-0.7351976185161455,-1.4941227309506335,-1.192355226070727,-0.9812842714080731,-2.268160213411205,\"\",\"\",-0.6054839720588688,\"\",-1.0400051674291144,-1.2771417680379882,-1.5530041891112498,-0.6926251964087871,-1.2309566571789141,-2.368261117103362,\"\",\"\",-2.2413768885545484,\"\",\"\",\"\",\"\",\"\",-0.19605888345392056,-0.2302198675535172,-0.14346565784935528,\"\",-1.3877571132324376,\"\",-2.91197178861613e-06,\"\",\"\",-1.110748893092496,\"\",\"\",-0.12865983394613456,\"\",-0.4449557023536199,\"\",\"\",\"\",-0.8931829574685695,\"\",-0.6804380592853435,\"\",\"\",-0.8475613146797152,-2.319489944402523,\"\",\"\",-2.574864738036708,-0.4419536366571958,-1.197157906872431,\"\",\"\",\"\",-0.22285750588631775,-2.489219869852416,\"\",-0.12207135337279651,-0.09675217687972004,\"\",-0.9988199013313821,\"\",\"\",\"\",\"\",-2.056322090988591,\"\",\"\",-1.3791509941464404,-0.4734806238327296,\"\",-0.3636071005278451,\"\",-0.4901331783354579,-1.6171539054733655,\"\",-0.9970562548240218,-2.1589003879905704,\"\",-1.6171815187386294,-0.8753912722428321,-0.9896929919666504,-0.18505018254801694,-1.2296040377182902,-0.5853282661410657,\"\",-1.2540851651974645,-0.5096374759949424,-3.0978759188240113],\"yaxis\":\"y2\",\"type\":\"scatter\"}],                        {\"hovermode\":\"x\",\"legend\":{\"bgcolor\":\"#F5F6F9\",\"font\":{\"color\":\"#4D5663\"}},\"paper_bgcolor\":\"#F5F6F9\",\"plot_bgcolor\":\"#F5F6F9\",\"template\":{\"data\":{\"barpolar\":[{\"marker\":{\"line\":{\"color\":\"#E5ECF6\",\"width\":0.5},\"pattern\":{\"fillmode\":\"overlay\",\"size\":10,\"solidity\":0.2}},\"type\":\"barpolar\"}],\"bar\":[{\"error_x\":{\"color\":\"#2a3f5f\"},\"error_y\":{\"color\":\"#2a3f5f\"},\"marker\":{\"line\":{\"color\":\"#E5ECF6\",\"width\":0.5},\"pattern\":{\"fillmode\":\"overlay\",\"size\":10,\"solidity\":0.2}},\"type\":\"bar\"}],\"carpet\":[{\"aaxis\":{\"endlinecolor\":\"#2a3f5f\",\"gridcolor\":\"white\",\"linecolor\":\"white\",\"minorgridcolor\":\"white\",\"startlinecolor\":\"#2a3f5f\"},\"baxis\":{\"endlinecolor\":\"#2a3f5f\",\"gridcolor\":\"white\",\"linecolor\":\"white\",\"minorgridcolor\":\"white\",\"startlinecolor\":\"#2a3f5f\"},\"type\":\"carpet\"}],\"choropleth\":[{\"colorbar\":{\"outlinewidth\":0,\"ticks\":\"\"},\"type\":\"choropleth\"}],\"contourcarpet\":[{\"colorbar\":{\"outlinewidth\":0,\"ticks\":\"\"},\"type\":\"contourcarpet\"}],\"contour\":[{\"colorbar\":{\"outlinewidth\":0,\"ticks\":\"\"},\"colorscale\":[[0.0,\"#0d0887\"],[0.1111111111111111,\"#46039f\"],[0.2222222222222222,\"#7201a8\"],[0.3333333333333333,\"#9c179e\"],[0.4444444444444444,\"#bd3786\"],[0.5555555555555556,\"#d8576b\"],[0.6666666666666666,\"#ed7953\"],[0.7777777777777778,\"#fb9f3a\"],[0.8888888888888888,\"#fdca26\"],[1.0,\"#f0f921\"]],\"type\":\"contour\"}],\"heatmapgl\":[{\"colorbar\":{\"outlinewidth\":0,\"ticks\":\"\"},\"colorscale\":[[0.0,\"#0d0887\"],[0.1111111111111111,\"#46039f\"],[0.2222222222222222,\"#7201a8\"],[0.3333333333333333,\"#9c179e\"],[0.4444444444444444,\"#bd3786\"],[0.5555555555555556,\"#d8576b\"],[0.6666666666666666,\"#ed7953\"],[0.7777777777777778,\"#fb9f3a\"],[0.8888888888888888,\"#fdca26\"],[1.0,\"#f0f921\"]],\"type\":\"heatmapgl\"}],\"heatmap\":[{\"colorbar\":{\"outlinewidth\":0,\"ticks\":\"\"},\"colorscale\":[[0.0,\"#0d0887\"],[0.1111111111111111,\"#46039f\"],[0.2222222222222222,\"#7201a8\"],[0.3333333333333333,\"#9c179e\"],[0.4444444444444444,\"#bd3786\"],[0.5555555555555556,\"#d8576b\"],[0.6666666666666666,\"#ed7953\"],[0.7777777777777778,\"#fb9f3a\"],[0.8888888888888888,\"#fdca26\"],[1.0,\"#f0f921\"]],\"type\":\"heatmap\"}],\"histogram2dcontour\":[{\"colorbar\":{\"outlinewidth\":0,\"ticks\":\"\"},\"colorscale\":[[0.0,\"#0d0887\"],[0.1111111111111111,\"#46039f\"],[0.2222222222222222,\"#7201a8\"],[0.3333333333333333,\"#9c179e\"],[0.4444444444444444,\"#bd3786\"],[0.5555555555555556,\"#d8576b\"],[0.6666666666666666,\"#ed7953\"],[0.7777777777777778,\"#fb9f3a\"],[0.8888888888888888,\"#fdca26\"],[1.0,\"#f0f921\"]],\"type\":\"histogram2dcontour\"}],\"histogram2d\":[{\"colorbar\":{\"outlinewidth\":0,\"ticks\":\"\"},\"colorscale\":[[0.0,\"#0d0887\"],[0.1111111111111111,\"#46039f\"],[0.2222222222222222,\"#7201a8\"],[0.3333333333333333,\"#9c179e\"],[0.4444444444444444,\"#bd3786\"],[0.5555555555555556,\"#d8576b\"],[0.6666666666666666,\"#ed7953\"],[0.7777777777777778,\"#fb9f3a\"],[0.8888888888888888,\"#fdca26\"],[1.0,\"#f0f921\"]],\"type\":\"histogram2d\"}],\"histogram\":[{\"marker\":{\"pattern\":{\"fillmode\":\"overlay\",\"size\":10,\"solidity\":0.2}},\"type\":\"histogram\"}],\"mesh3d\":[{\"colorbar\":{\"outlinewidth\":0,\"ticks\":\"\"},\"type\":\"mesh3d\"}],\"parcoords\":[{\"line\":{\"colorbar\":{\"outlinewidth\":0,\"ticks\":\"\"}},\"type\":\"parcoords\"}],\"pie\":[{\"automargin\":true,\"type\":\"pie\"}],\"scatter3d\":[{\"line\":{\"colorbar\":{\"outlinewidth\":0,\"ticks\":\"\"}},\"marker\":{\"colorbar\":{\"outlinewidth\":0,\"ticks\":\"\"}},\"type\":\"scatter3d\"}],\"scattercarpet\":[{\"marker\":{\"colorbar\":{\"outlinewidth\":0,\"ticks\":\"\"}},\"type\":\"scattercarpet\"}],\"scattergeo\":[{\"marker\":{\"colorbar\":{\"outlinewidth\":0,\"ticks\":\"\"}},\"type\":\"scattergeo\"}],\"scattergl\":[{\"marker\":{\"colorbar\":{\"outlinewidth\":0,\"ticks\":\"\"}},\"type\":\"scattergl\"}],\"scattermapbox\":[{\"marker\":{\"colorbar\":{\"outlinewidth\":0,\"ticks\":\"\"}},\"type\":\"scattermapbox\"}],\"scatterpolargl\":[{\"marker\":{\"colorbar\":{\"outlinewidth\":0,\"ticks\":\"\"}},\"type\":\"scatterpolargl\"}],\"scatterpolar\":[{\"marker\":{\"colorbar\":{\"outlinewidth\":0,\"ticks\":\"\"}},\"type\":\"scatterpolar\"}],\"scatter\":[{\"fillpattern\":{\"fillmode\":\"overlay\",\"size\":10,\"solidity\":0.2},\"type\":\"scatter\"}],\"scatterternary\":[{\"marker\":{\"colorbar\":{\"outlinewidth\":0,\"ticks\":\"\"}},\"type\":\"scatterternary\"}],\"surface\":[{\"colorbar\":{\"outlinewidth\":0,\"ticks\":\"\"},\"colorscale\":[[0.0,\"#0d0887\"],[0.1111111111111111,\"#46039f\"],[0.2222222222222222,\"#7201a8\"],[0.3333333333333333,\"#9c179e\"],[0.4444444444444444,\"#bd3786\"],[0.5555555555555556,\"#d8576b\"],[0.6666666666666666,\"#ed7953\"],[0.7777777777777778,\"#fb9f3a\"],[0.8888888888888888,\"#fdca26\"],[1.0,\"#f0f921\"]],\"type\":\"surface\"}],\"table\":[{\"cells\":{\"fill\":{\"color\":\"#EBF0F8\"},\"line\":{\"color\":\"white\"}},\"header\":{\"fill\":{\"color\":\"#C8D4E3\"},\"line\":{\"color\":\"white\"}},\"type\":\"table\"}]},\"layout\":{\"annotationdefaults\":{\"arrowcolor\":\"#2a3f5f\",\"arrowhead\":0,\"arrowwidth\":1},\"autotypenumbers\":\"strict\",\"coloraxis\":{\"colorbar\":{\"outlinewidth\":0,\"ticks\":\"\"}},\"colorscale\":{\"diverging\":[[0,\"#8e0152\"],[0.1,\"#c51b7d\"],[0.2,\"#de77ae\"],[0.3,\"#f1b6da\"],[0.4,\"#fde0ef\"],[0.5,\"#f7f7f7\"],[0.6,\"#e6f5d0\"],[0.7,\"#b8e186\"],[0.8,\"#7fbc41\"],[0.9,\"#4d9221\"],[1,\"#276419\"]],\"sequential\":[[0.0,\"#0d0887\"],[0.1111111111111111,\"#46039f\"],[0.2222222222222222,\"#7201a8\"],[0.3333333333333333,\"#9c179e\"],[0.4444444444444444,\"#bd3786\"],[0.5555555555555556,\"#d8576b\"],[0.6666666666666666,\"#ed7953\"],[0.7777777777777778,\"#fb9f3a\"],[0.8888888888888888,\"#fdca26\"],[1.0,\"#f0f921\"]],\"sequentialminus\":[[0.0,\"#0d0887\"],[0.1111111111111111,\"#46039f\"],[0.2222222222222222,\"#7201a8\"],[0.3333333333333333,\"#9c179e\"],[0.4444444444444444,\"#bd3786\"],[0.5555555555555556,\"#d8576b\"],[0.6666666666666666,\"#ed7953\"],[0.7777777777777778,\"#fb9f3a\"],[0.8888888888888888,\"#fdca26\"],[1.0,\"#f0f921\"]]},\"colorway\":[\"#636efa\",\"#EF553B\",\"#00cc96\",\"#ab63fa\",\"#FFA15A\",\"#19d3f3\",\"#FF6692\",\"#B6E880\",\"#FF97FF\",\"#FECB52\"],\"font\":{\"color\":\"#2a3f5f\"},\"geo\":{\"bgcolor\":\"white\",\"lakecolor\":\"white\",\"landcolor\":\"#E5ECF6\",\"showlakes\":true,\"showland\":true,\"subunitcolor\":\"white\"},\"hoverlabel\":{\"align\":\"left\"},\"hovermode\":\"closest\",\"mapbox\":{\"style\":\"light\"},\"paper_bgcolor\":\"white\",\"plot_bgcolor\":\"#E5ECF6\",\"polar\":{\"angularaxis\":{\"gridcolor\":\"white\",\"linecolor\":\"white\",\"ticks\":\"\"},\"bgcolor\":\"#E5ECF6\",\"radialaxis\":{\"gridcolor\":\"white\",\"linecolor\":\"white\",\"ticks\":\"\"}},\"scene\":{\"xaxis\":{\"backgroundcolor\":\"#E5ECF6\",\"gridcolor\":\"white\",\"gridwidth\":2,\"linecolor\":\"white\",\"showbackground\":true,\"ticks\":\"\",\"zerolinecolor\":\"white\"},\"yaxis\":{\"backgroundcolor\":\"#E5ECF6\",\"gridcolor\":\"white\",\"gridwidth\":2,\"linecolor\":\"white\",\"showbackground\":true,\"ticks\":\"\",\"zerolinecolor\":\"white\"},\"zaxis\":{\"backgroundcolor\":\"#E5ECF6\",\"gridcolor\":\"white\",\"gridwidth\":2,\"linecolor\":\"white\",\"showbackground\":true,\"ticks\":\"\",\"zerolinecolor\":\"white\"}},\"shapedefaults\":{\"line\":{\"color\":\"#2a3f5f\"}},\"ternary\":{\"aaxis\":{\"gridcolor\":\"white\",\"linecolor\":\"white\",\"ticks\":\"\"},\"baxis\":{\"gridcolor\":\"white\",\"linecolor\":\"white\",\"ticks\":\"\"},\"bgcolor\":\"#E5ECF6\",\"caxis\":{\"gridcolor\":\"white\",\"linecolor\":\"white\",\"ticks\":\"\"}},\"title\":{\"x\":0.05},\"xaxis\":{\"automargin\":true,\"gridcolor\":\"white\",\"linecolor\":\"white\",\"ticks\":\"\",\"title\":{\"standoff\":15},\"zerolinecolor\":\"white\",\"zerolinewidth\":2},\"yaxis\":{\"automargin\":true,\"gridcolor\":\"white\",\"linecolor\":\"white\",\"ticks\":\"\",\"title\":{\"standoff\":15},\"zerolinecolor\":\"white\",\"zerolinewidth\":2}}},\"title\":{\"font\":{\"color\":\"#4D5663\"}},\"xaxis\":{\"gridcolor\":\"#E1E5ED\",\"showgrid\":true,\"tickfont\":{\"color\":\"#4D5663\"},\"title\":{\"font\":{\"color\":\"#4D5663\"},\"text\":\"\"},\"zerolinecolor\":\"#E1E5ED\"},\"yaxis\":{\"domain\":[0.3,1],\"gridcolor\":\"#E1E5ED\",\"showgrid\":true,\"tickfont\":{\"color\":\"#4D5663\"},\"title\":{\"font\":{\"color\":\"#4D5663\"},\"text\":\"\"},\"zerolinecolor\":\"#E1E5ED\"},\"yaxis2\":{\"domain\":[0,0.25],\"gridcolor\":\"#E1E5ED\",\"showgrid\":true,\"tickfont\":{\"color\":\"#4D5663\"},\"title\":{\"font\":{\"color\":\"#4D5663\"},\"text\":\"Spread\"},\"zerolinecolor\":\"#E1E5ED\"},\"xaxis2\":{\"anchor\":\"y2\",\"gridcolor\":\"#E1E5ED\",\"showgrid\":true,\"showticklabels\":false,\"tickfont\":{\"color\":\"#4D5663\"},\"title\":{\"font\":{\"color\":\"#4D5663\"},\"text\":\"\"},\"zerolinecolor\":\"#E1E5ED\"}},                        {\"showLink\": true, \"linkText\": \"Export to plot.ly\", \"plotlyServerURL\": \"https://plot.ly\", \"responsive\": true}                    ).then(function(){\n",
       "                            \n",
       "var gd = document.getElementById('82e50c9d-8365-45c8-bd16-70f7d4897b4f');\n",
       "var x = new MutationObserver(function (mutations, observer) {{\n",
       "        var display = window.getComputedStyle(gd).display;\n",
       "        if (!display || display === 'none') {{\n",
       "            console.log([gd, 'removed!']);\n",
       "            Plotly.purge(gd);\n",
       "            observer.disconnect();\n",
       "        }}\n",
       "}});\n",
       "\n",
       "// Listen for the removal of the full notebook cells\n",
       "var notebookContainer = gd.closest('#notebook-container');\n",
       "if (notebookContainer) {{\n",
       "    x.observe(notebookContainer, {childList: true});\n",
       "}}\n",
       "\n",
       "// Listen for the clearing of the current output cell\n",
       "var outputEl = gd.closest('.output');\n",
       "if (outputEl) {{\n",
       "    x.observe(outputEl, {childList: true});\n",
       "}}\n",
       "\n",
       "                        })                };                });            </script>        </div>"
      ]
     },
     "metadata": {},
     "output_type": "display_data"
    }
   ],
   "source": [
    "df[['A','B']].iplot(kind='spread')"
   ]
  },
  {
   "cell_type": "markdown",
   "metadata": {},
   "source": [
    "## histogram"
   ]
  },
  {
   "cell_type": "code",
   "execution_count": 16,
   "metadata": {},
   "outputs": [
    {
     "data": {
      "application/vnd.plotly.v1+json": {
       "config": {
        "linkText": "Export to plot.ly",
        "plotlyServerURL": "https://plot.ly",
        "showLink": true
       },
       "data": [
        {
         "histfunc": "count",
         "histnorm": "",
         "marker": {
          "color": "rgba(255, 153, 51, 1.0)",
          "line": {
           "color": "#4D5663",
           "width": 1.3
          }
         },
         "name": "A",
         "nbinsx": 25,
         "opacity": 0.8,
         "orientation": "v",
         "type": "histogram",
         "x": [
          -0.6035297959382414,
          -0.8168839180464849,
          -0.6156857927636435,
          -0.96809123662696,
          -0.6854691740293992,
          0.7199714768803681,
          1.446160156463076,
          1.799627965830823,
          1.7157877533685324,
          -0.17901370565073169,
          0.005449232404899039,
          -1.0833144371751064,
          -0.9551544617528701,
          -0.806542516870636,
          2.192659195836407,
          0.15416197000598228,
          0.01631753712948887,
          1.7267160752937727,
          0.57985045638903,
          0.09791585210952843,
          0.21351052704706053,
          0.2810617979115468,
          0.432292126121937,
          -1.1735741563193232,
          -1.1583974052626016,
          1.5614876377792792,
          -1.2881469804000822,
          -0.26495107714432603,
          1.3312459821437788,
          -0.08333634781307717,
          0.460140024288853,
          2.0200389221711164,
          -0.2964711710980584,
          1.7438707329329075,
          0.6965071847803438,
          0.9616884505199493,
          -1.0826686274947974,
          -0.2290348397768763,
          0.22539764253003775,
          2.3790211963457173,
          0.3472056319516496,
          0.035911286437501085,
          1.259055281551953,
          0.5918447616263801,
          -0.6822565116504726,
          -0.8928399410348654,
          -0.6615460317551572,
          0.04214420334432419,
          0.32233108348176587,
          -0.2000440217299358,
          0.326674581272999,
          0.9432398763689777,
          -0.8168202319197175,
          0.07617503642020822,
          -0.10923092299046434,
          -2.3793044960670433,
          -0.7364273736220023,
          -0.11339616677514272,
          -0.6902054596789023,
          -1.38642008999562,
          0.8495427939718966,
          -0.3878460284258634,
          -0.8089657350136299,
          -0.368755861201994,
          -0.0070429161289379105,
          -0.2524318160687466,
          -1.1110786925423664,
          1.6950918157689456,
          0.6672081179643534,
          -0.03371141339443632,
          1.9001276876037883,
          -0.9192875396872777,
          0.5871667111331204,
          -0.08438004513753744,
          0.07309561806045688,
          0.7562262739315151,
          0.4462221113646279,
          0.4266663764331806,
          0.6155194400559172,
          0.27929381908824663,
          -1.053986571099971,
          0.18020245770246723,
          -0.04058567909420326,
          1.1441406510591838,
          -0.4794020094470726,
          -1.0881453768671514,
          0.24795817635371536,
          -0.6311227016730568,
          -2.4387748259857727,
          0.9572567814279553,
          -1.8090332855133209,
          -0.16035983288459527,
          0.2862808765695702,
          -0.13959297740089516,
          -1.7815333343184052,
          0.07132219757149803,
          1.062568166469194,
          -0.5821359801529373,
          0.13735274878157913,
          -1.0609086520436461
         ]
        }
       ],
       "layout": {
        "barmode": "overlay",
        "legend": {
         "bgcolor": "#F5F6F9",
         "font": {
          "color": "#4D5663"
         }
        },
        "paper_bgcolor": "#F5F6F9",
        "plot_bgcolor": "#F5F6F9",
        "template": {
         "data": {
          "bar": [
           {
            "error_x": {
             "color": "#2a3f5f"
            },
            "error_y": {
             "color": "#2a3f5f"
            },
            "marker": {
             "line": {
              "color": "#E5ECF6",
              "width": 0.5
             },
             "pattern": {
              "fillmode": "overlay",
              "size": 10,
              "solidity": 0.2
             }
            },
            "type": "bar"
           }
          ],
          "barpolar": [
           {
            "marker": {
             "line": {
              "color": "#E5ECF6",
              "width": 0.5
             },
             "pattern": {
              "fillmode": "overlay",
              "size": 10,
              "solidity": 0.2
             }
            },
            "type": "barpolar"
           }
          ],
          "carpet": [
           {
            "aaxis": {
             "endlinecolor": "#2a3f5f",
             "gridcolor": "white",
             "linecolor": "white",
             "minorgridcolor": "white",
             "startlinecolor": "#2a3f5f"
            },
            "baxis": {
             "endlinecolor": "#2a3f5f",
             "gridcolor": "white",
             "linecolor": "white",
             "minorgridcolor": "white",
             "startlinecolor": "#2a3f5f"
            },
            "type": "carpet"
           }
          ],
          "choropleth": [
           {
            "colorbar": {
             "outlinewidth": 0,
             "ticks": ""
            },
            "type": "choropleth"
           }
          ],
          "contour": [
           {
            "colorbar": {
             "outlinewidth": 0,
             "ticks": ""
            },
            "colorscale": [
             [
              0,
              "#0d0887"
             ],
             [
              0.1111111111111111,
              "#46039f"
             ],
             [
              0.2222222222222222,
              "#7201a8"
             ],
             [
              0.3333333333333333,
              "#9c179e"
             ],
             [
              0.4444444444444444,
              "#bd3786"
             ],
             [
              0.5555555555555556,
              "#d8576b"
             ],
             [
              0.6666666666666666,
              "#ed7953"
             ],
             [
              0.7777777777777778,
              "#fb9f3a"
             ],
             [
              0.8888888888888888,
              "#fdca26"
             ],
             [
              1,
              "#f0f921"
             ]
            ],
            "type": "contour"
           }
          ],
          "contourcarpet": [
           {
            "colorbar": {
             "outlinewidth": 0,
             "ticks": ""
            },
            "type": "contourcarpet"
           }
          ],
          "heatmap": [
           {
            "colorbar": {
             "outlinewidth": 0,
             "ticks": ""
            },
            "colorscale": [
             [
              0,
              "#0d0887"
             ],
             [
              0.1111111111111111,
              "#46039f"
             ],
             [
              0.2222222222222222,
              "#7201a8"
             ],
             [
              0.3333333333333333,
              "#9c179e"
             ],
             [
              0.4444444444444444,
              "#bd3786"
             ],
             [
              0.5555555555555556,
              "#d8576b"
             ],
             [
              0.6666666666666666,
              "#ed7953"
             ],
             [
              0.7777777777777778,
              "#fb9f3a"
             ],
             [
              0.8888888888888888,
              "#fdca26"
             ],
             [
              1,
              "#f0f921"
             ]
            ],
            "type": "heatmap"
           }
          ],
          "heatmapgl": [
           {
            "colorbar": {
             "outlinewidth": 0,
             "ticks": ""
            },
            "colorscale": [
             [
              0,
              "#0d0887"
             ],
             [
              0.1111111111111111,
              "#46039f"
             ],
             [
              0.2222222222222222,
              "#7201a8"
             ],
             [
              0.3333333333333333,
              "#9c179e"
             ],
             [
              0.4444444444444444,
              "#bd3786"
             ],
             [
              0.5555555555555556,
              "#d8576b"
             ],
             [
              0.6666666666666666,
              "#ed7953"
             ],
             [
              0.7777777777777778,
              "#fb9f3a"
             ],
             [
              0.8888888888888888,
              "#fdca26"
             ],
             [
              1,
              "#f0f921"
             ]
            ],
            "type": "heatmapgl"
           }
          ],
          "histogram": [
           {
            "marker": {
             "pattern": {
              "fillmode": "overlay",
              "size": 10,
              "solidity": 0.2
             }
            },
            "type": "histogram"
           }
          ],
          "histogram2d": [
           {
            "colorbar": {
             "outlinewidth": 0,
             "ticks": ""
            },
            "colorscale": [
             [
              0,
              "#0d0887"
             ],
             [
              0.1111111111111111,
              "#46039f"
             ],
             [
              0.2222222222222222,
              "#7201a8"
             ],
             [
              0.3333333333333333,
              "#9c179e"
             ],
             [
              0.4444444444444444,
              "#bd3786"
             ],
             [
              0.5555555555555556,
              "#d8576b"
             ],
             [
              0.6666666666666666,
              "#ed7953"
             ],
             [
              0.7777777777777778,
              "#fb9f3a"
             ],
             [
              0.8888888888888888,
              "#fdca26"
             ],
             [
              1,
              "#f0f921"
             ]
            ],
            "type": "histogram2d"
           }
          ],
          "histogram2dcontour": [
           {
            "colorbar": {
             "outlinewidth": 0,
             "ticks": ""
            },
            "colorscale": [
             [
              0,
              "#0d0887"
             ],
             [
              0.1111111111111111,
              "#46039f"
             ],
             [
              0.2222222222222222,
              "#7201a8"
             ],
             [
              0.3333333333333333,
              "#9c179e"
             ],
             [
              0.4444444444444444,
              "#bd3786"
             ],
             [
              0.5555555555555556,
              "#d8576b"
             ],
             [
              0.6666666666666666,
              "#ed7953"
             ],
             [
              0.7777777777777778,
              "#fb9f3a"
             ],
             [
              0.8888888888888888,
              "#fdca26"
             ],
             [
              1,
              "#f0f921"
             ]
            ],
            "type": "histogram2dcontour"
           }
          ],
          "mesh3d": [
           {
            "colorbar": {
             "outlinewidth": 0,
             "ticks": ""
            },
            "type": "mesh3d"
           }
          ],
          "parcoords": [
           {
            "line": {
             "colorbar": {
              "outlinewidth": 0,
              "ticks": ""
             }
            },
            "type": "parcoords"
           }
          ],
          "pie": [
           {
            "automargin": true,
            "type": "pie"
           }
          ],
          "scatter": [
           {
            "fillpattern": {
             "fillmode": "overlay",
             "size": 10,
             "solidity": 0.2
            },
            "type": "scatter"
           }
          ],
          "scatter3d": [
           {
            "line": {
             "colorbar": {
              "outlinewidth": 0,
              "ticks": ""
             }
            },
            "marker": {
             "colorbar": {
              "outlinewidth": 0,
              "ticks": ""
             }
            },
            "type": "scatter3d"
           }
          ],
          "scattercarpet": [
           {
            "marker": {
             "colorbar": {
              "outlinewidth": 0,
              "ticks": ""
             }
            },
            "type": "scattercarpet"
           }
          ],
          "scattergeo": [
           {
            "marker": {
             "colorbar": {
              "outlinewidth": 0,
              "ticks": ""
             }
            },
            "type": "scattergeo"
           }
          ],
          "scattergl": [
           {
            "marker": {
             "colorbar": {
              "outlinewidth": 0,
              "ticks": ""
             }
            },
            "type": "scattergl"
           }
          ],
          "scattermapbox": [
           {
            "marker": {
             "colorbar": {
              "outlinewidth": 0,
              "ticks": ""
             }
            },
            "type": "scattermapbox"
           }
          ],
          "scatterpolar": [
           {
            "marker": {
             "colorbar": {
              "outlinewidth": 0,
              "ticks": ""
             }
            },
            "type": "scatterpolar"
           }
          ],
          "scatterpolargl": [
           {
            "marker": {
             "colorbar": {
              "outlinewidth": 0,
              "ticks": ""
             }
            },
            "type": "scatterpolargl"
           }
          ],
          "scatterternary": [
           {
            "marker": {
             "colorbar": {
              "outlinewidth": 0,
              "ticks": ""
             }
            },
            "type": "scatterternary"
           }
          ],
          "surface": [
           {
            "colorbar": {
             "outlinewidth": 0,
             "ticks": ""
            },
            "colorscale": [
             [
              0,
              "#0d0887"
             ],
             [
              0.1111111111111111,
              "#46039f"
             ],
             [
              0.2222222222222222,
              "#7201a8"
             ],
             [
              0.3333333333333333,
              "#9c179e"
             ],
             [
              0.4444444444444444,
              "#bd3786"
             ],
             [
              0.5555555555555556,
              "#d8576b"
             ],
             [
              0.6666666666666666,
              "#ed7953"
             ],
             [
              0.7777777777777778,
              "#fb9f3a"
             ],
             [
              0.8888888888888888,
              "#fdca26"
             ],
             [
              1,
              "#f0f921"
             ]
            ],
            "type": "surface"
           }
          ],
          "table": [
           {
            "cells": {
             "fill": {
              "color": "#EBF0F8"
             },
             "line": {
              "color": "white"
             }
            },
            "header": {
             "fill": {
              "color": "#C8D4E3"
             },
             "line": {
              "color": "white"
             }
            },
            "type": "table"
           }
          ]
         },
         "layout": {
          "annotationdefaults": {
           "arrowcolor": "#2a3f5f",
           "arrowhead": 0,
           "arrowwidth": 1
          },
          "autotypenumbers": "strict",
          "coloraxis": {
           "colorbar": {
            "outlinewidth": 0,
            "ticks": ""
           }
          },
          "colorscale": {
           "diverging": [
            [
             0,
             "#8e0152"
            ],
            [
             0.1,
             "#c51b7d"
            ],
            [
             0.2,
             "#de77ae"
            ],
            [
             0.3,
             "#f1b6da"
            ],
            [
             0.4,
             "#fde0ef"
            ],
            [
             0.5,
             "#f7f7f7"
            ],
            [
             0.6,
             "#e6f5d0"
            ],
            [
             0.7,
             "#b8e186"
            ],
            [
             0.8,
             "#7fbc41"
            ],
            [
             0.9,
             "#4d9221"
            ],
            [
             1,
             "#276419"
            ]
           ],
           "sequential": [
            [
             0,
             "#0d0887"
            ],
            [
             0.1111111111111111,
             "#46039f"
            ],
            [
             0.2222222222222222,
             "#7201a8"
            ],
            [
             0.3333333333333333,
             "#9c179e"
            ],
            [
             0.4444444444444444,
             "#bd3786"
            ],
            [
             0.5555555555555556,
             "#d8576b"
            ],
            [
             0.6666666666666666,
             "#ed7953"
            ],
            [
             0.7777777777777778,
             "#fb9f3a"
            ],
            [
             0.8888888888888888,
             "#fdca26"
            ],
            [
             1,
             "#f0f921"
            ]
           ],
           "sequentialminus": [
            [
             0,
             "#0d0887"
            ],
            [
             0.1111111111111111,
             "#46039f"
            ],
            [
             0.2222222222222222,
             "#7201a8"
            ],
            [
             0.3333333333333333,
             "#9c179e"
            ],
            [
             0.4444444444444444,
             "#bd3786"
            ],
            [
             0.5555555555555556,
             "#d8576b"
            ],
            [
             0.6666666666666666,
             "#ed7953"
            ],
            [
             0.7777777777777778,
             "#fb9f3a"
            ],
            [
             0.8888888888888888,
             "#fdca26"
            ],
            [
             1,
             "#f0f921"
            ]
           ]
          },
          "colorway": [
           "#636efa",
           "#EF553B",
           "#00cc96",
           "#ab63fa",
           "#FFA15A",
           "#19d3f3",
           "#FF6692",
           "#B6E880",
           "#FF97FF",
           "#FECB52"
          ],
          "font": {
           "color": "#2a3f5f"
          },
          "geo": {
           "bgcolor": "white",
           "lakecolor": "white",
           "landcolor": "#E5ECF6",
           "showlakes": true,
           "showland": true,
           "subunitcolor": "white"
          },
          "hoverlabel": {
           "align": "left"
          },
          "hovermode": "closest",
          "mapbox": {
           "style": "light"
          },
          "paper_bgcolor": "white",
          "plot_bgcolor": "#E5ECF6",
          "polar": {
           "angularaxis": {
            "gridcolor": "white",
            "linecolor": "white",
            "ticks": ""
           },
           "bgcolor": "#E5ECF6",
           "radialaxis": {
            "gridcolor": "white",
            "linecolor": "white",
            "ticks": ""
           }
          },
          "scene": {
           "xaxis": {
            "backgroundcolor": "#E5ECF6",
            "gridcolor": "white",
            "gridwidth": 2,
            "linecolor": "white",
            "showbackground": true,
            "ticks": "",
            "zerolinecolor": "white"
           },
           "yaxis": {
            "backgroundcolor": "#E5ECF6",
            "gridcolor": "white",
            "gridwidth": 2,
            "linecolor": "white",
            "showbackground": true,
            "ticks": "",
            "zerolinecolor": "white"
           },
           "zaxis": {
            "backgroundcolor": "#E5ECF6",
            "gridcolor": "white",
            "gridwidth": 2,
            "linecolor": "white",
            "showbackground": true,
            "ticks": "",
            "zerolinecolor": "white"
           }
          },
          "shapedefaults": {
           "line": {
            "color": "#2a3f5f"
           }
          },
          "ternary": {
           "aaxis": {
            "gridcolor": "white",
            "linecolor": "white",
            "ticks": ""
           },
           "baxis": {
            "gridcolor": "white",
            "linecolor": "white",
            "ticks": ""
           },
           "bgcolor": "#E5ECF6",
           "caxis": {
            "gridcolor": "white",
            "linecolor": "white",
            "ticks": ""
           }
          },
          "title": {
           "x": 0.05
          },
          "xaxis": {
           "automargin": true,
           "gridcolor": "white",
           "linecolor": "white",
           "ticks": "",
           "title": {
            "standoff": 15
           },
           "zerolinecolor": "white",
           "zerolinewidth": 2
          },
          "yaxis": {
           "automargin": true,
           "gridcolor": "white",
           "linecolor": "white",
           "ticks": "",
           "title": {
            "standoff": 15
           },
           "zerolinecolor": "white",
           "zerolinewidth": 2
          }
         }
        },
        "title": {
         "font": {
          "color": "#4D5663"
         }
        },
        "xaxis": {
         "gridcolor": "#E1E5ED",
         "showgrid": true,
         "tickfont": {
          "color": "#4D5663"
         },
         "title": {
          "font": {
           "color": "#4D5663"
          },
          "text": ""
         },
         "zerolinecolor": "#E1E5ED"
        },
        "yaxis": {
         "gridcolor": "#E1E5ED",
         "showgrid": true,
         "tickfont": {
          "color": "#4D5663"
         },
         "title": {
          "font": {
           "color": "#4D5663"
          },
          "text": ""
         },
         "zerolinecolor": "#E1E5ED"
        }
       }
      },
      "text/html": [
       "<div>                            <div id=\"5354d5ab-2869-447b-b69b-2fe7b6fcf639\" class=\"plotly-graph-div\" style=\"height:525px; width:100%;\"></div>            <script type=\"text/javascript\">                require([\"plotly\"], function(Plotly) {                    window.PLOTLYENV=window.PLOTLYENV || {};\n",
       "                    window.PLOTLYENV.BASE_URL='https://plot.ly';                                    if (document.getElementById(\"5354d5ab-2869-447b-b69b-2fe7b6fcf639\")) {                    Plotly.newPlot(                        \"5354d5ab-2869-447b-b69b-2fe7b6fcf639\",                        [{\"histfunc\":\"count\",\"histnorm\":\"\",\"marker\":{\"color\":\"rgba(255, 153, 51, 1.0)\",\"line\":{\"color\":\"#4D5663\",\"width\":1.3}},\"name\":\"A\",\"nbinsx\":25,\"opacity\":0.8,\"orientation\":\"v\",\"x\":[-0.6035297959382414,-0.8168839180464849,-0.6156857927636435,-0.96809123662696,-0.6854691740293992,0.7199714768803681,1.446160156463076,1.799627965830823,1.7157877533685324,-0.17901370565073169,0.005449232404899039,-1.0833144371751064,-0.9551544617528701,-0.806542516870636,2.192659195836407,0.15416197000598228,0.01631753712948887,1.7267160752937727,0.57985045638903,0.09791585210952843,0.21351052704706053,0.2810617979115468,0.432292126121937,-1.1735741563193232,-1.1583974052626016,1.5614876377792792,-1.2881469804000822,-0.26495107714432603,1.3312459821437788,-0.08333634781307717,0.460140024288853,2.0200389221711164,-0.2964711710980584,1.7438707329329075,0.6965071847803438,0.9616884505199493,-1.0826686274947974,-0.2290348397768763,0.22539764253003775,2.3790211963457173,0.3472056319516496,0.035911286437501085,1.259055281551953,0.5918447616263801,-0.6822565116504726,-0.8928399410348654,-0.6615460317551572,0.04214420334432419,0.32233108348176587,-0.2000440217299358,0.326674581272999,0.9432398763689777,-0.8168202319197175,0.07617503642020822,-0.10923092299046434,-2.3793044960670433,-0.7364273736220023,-0.11339616677514272,-0.6902054596789023,-1.38642008999562,0.8495427939718966,-0.3878460284258634,-0.8089657350136299,-0.368755861201994,-0.0070429161289379105,-0.2524318160687466,-1.1110786925423664,1.6950918157689456,0.6672081179643534,-0.03371141339443632,1.9001276876037883,-0.9192875396872777,0.5871667111331204,-0.08438004513753744,0.07309561806045688,0.7562262739315151,0.4462221113646279,0.4266663764331806,0.6155194400559172,0.27929381908824663,-1.053986571099971,0.18020245770246723,-0.04058567909420326,1.1441406510591838,-0.4794020094470726,-1.0881453768671514,0.24795817635371536,-0.6311227016730568,-2.4387748259857727,0.9572567814279553,-1.8090332855133209,-0.16035983288459527,0.2862808765695702,-0.13959297740089516,-1.7815333343184052,0.07132219757149803,1.062568166469194,-0.5821359801529373,0.13735274878157913,-1.0609086520436461],\"type\":\"histogram\"}],                        {\"barmode\":\"overlay\",\"legend\":{\"bgcolor\":\"#F5F6F9\",\"font\":{\"color\":\"#4D5663\"}},\"paper_bgcolor\":\"#F5F6F9\",\"plot_bgcolor\":\"#F5F6F9\",\"template\":{\"data\":{\"barpolar\":[{\"marker\":{\"line\":{\"color\":\"#E5ECF6\",\"width\":0.5},\"pattern\":{\"fillmode\":\"overlay\",\"size\":10,\"solidity\":0.2}},\"type\":\"barpolar\"}],\"bar\":[{\"error_x\":{\"color\":\"#2a3f5f\"},\"error_y\":{\"color\":\"#2a3f5f\"},\"marker\":{\"line\":{\"color\":\"#E5ECF6\",\"width\":0.5},\"pattern\":{\"fillmode\":\"overlay\",\"size\":10,\"solidity\":0.2}},\"type\":\"bar\"}],\"carpet\":[{\"aaxis\":{\"endlinecolor\":\"#2a3f5f\",\"gridcolor\":\"white\",\"linecolor\":\"white\",\"minorgridcolor\":\"white\",\"startlinecolor\":\"#2a3f5f\"},\"baxis\":{\"endlinecolor\":\"#2a3f5f\",\"gridcolor\":\"white\",\"linecolor\":\"white\",\"minorgridcolor\":\"white\",\"startlinecolor\":\"#2a3f5f\"},\"type\":\"carpet\"}],\"choropleth\":[{\"colorbar\":{\"outlinewidth\":0,\"ticks\":\"\"},\"type\":\"choropleth\"}],\"contourcarpet\":[{\"colorbar\":{\"outlinewidth\":0,\"ticks\":\"\"},\"type\":\"contourcarpet\"}],\"contour\":[{\"colorbar\":{\"outlinewidth\":0,\"ticks\":\"\"},\"colorscale\":[[0.0,\"#0d0887\"],[0.1111111111111111,\"#46039f\"],[0.2222222222222222,\"#7201a8\"],[0.3333333333333333,\"#9c179e\"],[0.4444444444444444,\"#bd3786\"],[0.5555555555555556,\"#d8576b\"],[0.6666666666666666,\"#ed7953\"],[0.7777777777777778,\"#fb9f3a\"],[0.8888888888888888,\"#fdca26\"],[1.0,\"#f0f921\"]],\"type\":\"contour\"}],\"heatmapgl\":[{\"colorbar\":{\"outlinewidth\":0,\"ticks\":\"\"},\"colorscale\":[[0.0,\"#0d0887\"],[0.1111111111111111,\"#46039f\"],[0.2222222222222222,\"#7201a8\"],[0.3333333333333333,\"#9c179e\"],[0.4444444444444444,\"#bd3786\"],[0.5555555555555556,\"#d8576b\"],[0.6666666666666666,\"#ed7953\"],[0.7777777777777778,\"#fb9f3a\"],[0.8888888888888888,\"#fdca26\"],[1.0,\"#f0f921\"]],\"type\":\"heatmapgl\"}],\"heatmap\":[{\"colorbar\":{\"outlinewidth\":0,\"ticks\":\"\"},\"colorscale\":[[0.0,\"#0d0887\"],[0.1111111111111111,\"#46039f\"],[0.2222222222222222,\"#7201a8\"],[0.3333333333333333,\"#9c179e\"],[0.4444444444444444,\"#bd3786\"],[0.5555555555555556,\"#d8576b\"],[0.6666666666666666,\"#ed7953\"],[0.7777777777777778,\"#fb9f3a\"],[0.8888888888888888,\"#fdca26\"],[1.0,\"#f0f921\"]],\"type\":\"heatmap\"}],\"histogram2dcontour\":[{\"colorbar\":{\"outlinewidth\":0,\"ticks\":\"\"},\"colorscale\":[[0.0,\"#0d0887\"],[0.1111111111111111,\"#46039f\"],[0.2222222222222222,\"#7201a8\"],[0.3333333333333333,\"#9c179e\"],[0.4444444444444444,\"#bd3786\"],[0.5555555555555556,\"#d8576b\"],[0.6666666666666666,\"#ed7953\"],[0.7777777777777778,\"#fb9f3a\"],[0.8888888888888888,\"#fdca26\"],[1.0,\"#f0f921\"]],\"type\":\"histogram2dcontour\"}],\"histogram2d\":[{\"colorbar\":{\"outlinewidth\":0,\"ticks\":\"\"},\"colorscale\":[[0.0,\"#0d0887\"],[0.1111111111111111,\"#46039f\"],[0.2222222222222222,\"#7201a8\"],[0.3333333333333333,\"#9c179e\"],[0.4444444444444444,\"#bd3786\"],[0.5555555555555556,\"#d8576b\"],[0.6666666666666666,\"#ed7953\"],[0.7777777777777778,\"#fb9f3a\"],[0.8888888888888888,\"#fdca26\"],[1.0,\"#f0f921\"]],\"type\":\"histogram2d\"}],\"histogram\":[{\"marker\":{\"pattern\":{\"fillmode\":\"overlay\",\"size\":10,\"solidity\":0.2}},\"type\":\"histogram\"}],\"mesh3d\":[{\"colorbar\":{\"outlinewidth\":0,\"ticks\":\"\"},\"type\":\"mesh3d\"}],\"parcoords\":[{\"line\":{\"colorbar\":{\"outlinewidth\":0,\"ticks\":\"\"}},\"type\":\"parcoords\"}],\"pie\":[{\"automargin\":true,\"type\":\"pie\"}],\"scatter3d\":[{\"line\":{\"colorbar\":{\"outlinewidth\":0,\"ticks\":\"\"}},\"marker\":{\"colorbar\":{\"outlinewidth\":0,\"ticks\":\"\"}},\"type\":\"scatter3d\"}],\"scattercarpet\":[{\"marker\":{\"colorbar\":{\"outlinewidth\":0,\"ticks\":\"\"}},\"type\":\"scattercarpet\"}],\"scattergeo\":[{\"marker\":{\"colorbar\":{\"outlinewidth\":0,\"ticks\":\"\"}},\"type\":\"scattergeo\"}],\"scattergl\":[{\"marker\":{\"colorbar\":{\"outlinewidth\":0,\"ticks\":\"\"}},\"type\":\"scattergl\"}],\"scattermapbox\":[{\"marker\":{\"colorbar\":{\"outlinewidth\":0,\"ticks\":\"\"}},\"type\":\"scattermapbox\"}],\"scatterpolargl\":[{\"marker\":{\"colorbar\":{\"outlinewidth\":0,\"ticks\":\"\"}},\"type\":\"scatterpolargl\"}],\"scatterpolar\":[{\"marker\":{\"colorbar\":{\"outlinewidth\":0,\"ticks\":\"\"}},\"type\":\"scatterpolar\"}],\"scatter\":[{\"fillpattern\":{\"fillmode\":\"overlay\",\"size\":10,\"solidity\":0.2},\"type\":\"scatter\"}],\"scatterternary\":[{\"marker\":{\"colorbar\":{\"outlinewidth\":0,\"ticks\":\"\"}},\"type\":\"scatterternary\"}],\"surface\":[{\"colorbar\":{\"outlinewidth\":0,\"ticks\":\"\"},\"colorscale\":[[0.0,\"#0d0887\"],[0.1111111111111111,\"#46039f\"],[0.2222222222222222,\"#7201a8\"],[0.3333333333333333,\"#9c179e\"],[0.4444444444444444,\"#bd3786\"],[0.5555555555555556,\"#d8576b\"],[0.6666666666666666,\"#ed7953\"],[0.7777777777777778,\"#fb9f3a\"],[0.8888888888888888,\"#fdca26\"],[1.0,\"#f0f921\"]],\"type\":\"surface\"}],\"table\":[{\"cells\":{\"fill\":{\"color\":\"#EBF0F8\"},\"line\":{\"color\":\"white\"}},\"header\":{\"fill\":{\"color\":\"#C8D4E3\"},\"line\":{\"color\":\"white\"}},\"type\":\"table\"}]},\"layout\":{\"annotationdefaults\":{\"arrowcolor\":\"#2a3f5f\",\"arrowhead\":0,\"arrowwidth\":1},\"autotypenumbers\":\"strict\",\"coloraxis\":{\"colorbar\":{\"outlinewidth\":0,\"ticks\":\"\"}},\"colorscale\":{\"diverging\":[[0,\"#8e0152\"],[0.1,\"#c51b7d\"],[0.2,\"#de77ae\"],[0.3,\"#f1b6da\"],[0.4,\"#fde0ef\"],[0.5,\"#f7f7f7\"],[0.6,\"#e6f5d0\"],[0.7,\"#b8e186\"],[0.8,\"#7fbc41\"],[0.9,\"#4d9221\"],[1,\"#276419\"]],\"sequential\":[[0.0,\"#0d0887\"],[0.1111111111111111,\"#46039f\"],[0.2222222222222222,\"#7201a8\"],[0.3333333333333333,\"#9c179e\"],[0.4444444444444444,\"#bd3786\"],[0.5555555555555556,\"#d8576b\"],[0.6666666666666666,\"#ed7953\"],[0.7777777777777778,\"#fb9f3a\"],[0.8888888888888888,\"#fdca26\"],[1.0,\"#f0f921\"]],\"sequentialminus\":[[0.0,\"#0d0887\"],[0.1111111111111111,\"#46039f\"],[0.2222222222222222,\"#7201a8\"],[0.3333333333333333,\"#9c179e\"],[0.4444444444444444,\"#bd3786\"],[0.5555555555555556,\"#d8576b\"],[0.6666666666666666,\"#ed7953\"],[0.7777777777777778,\"#fb9f3a\"],[0.8888888888888888,\"#fdca26\"],[1.0,\"#f0f921\"]]},\"colorway\":[\"#636efa\",\"#EF553B\",\"#00cc96\",\"#ab63fa\",\"#FFA15A\",\"#19d3f3\",\"#FF6692\",\"#B6E880\",\"#FF97FF\",\"#FECB52\"],\"font\":{\"color\":\"#2a3f5f\"},\"geo\":{\"bgcolor\":\"white\",\"lakecolor\":\"white\",\"landcolor\":\"#E5ECF6\",\"showlakes\":true,\"showland\":true,\"subunitcolor\":\"white\"},\"hoverlabel\":{\"align\":\"left\"},\"hovermode\":\"closest\",\"mapbox\":{\"style\":\"light\"},\"paper_bgcolor\":\"white\",\"plot_bgcolor\":\"#E5ECF6\",\"polar\":{\"angularaxis\":{\"gridcolor\":\"white\",\"linecolor\":\"white\",\"ticks\":\"\"},\"bgcolor\":\"#E5ECF6\",\"radialaxis\":{\"gridcolor\":\"white\",\"linecolor\":\"white\",\"ticks\":\"\"}},\"scene\":{\"xaxis\":{\"backgroundcolor\":\"#E5ECF6\",\"gridcolor\":\"white\",\"gridwidth\":2,\"linecolor\":\"white\",\"showbackground\":true,\"ticks\":\"\",\"zerolinecolor\":\"white\"},\"yaxis\":{\"backgroundcolor\":\"#E5ECF6\",\"gridcolor\":\"white\",\"gridwidth\":2,\"linecolor\":\"white\",\"showbackground\":true,\"ticks\":\"\",\"zerolinecolor\":\"white\"},\"zaxis\":{\"backgroundcolor\":\"#E5ECF6\",\"gridcolor\":\"white\",\"gridwidth\":2,\"linecolor\":\"white\",\"showbackground\":true,\"ticks\":\"\",\"zerolinecolor\":\"white\"}},\"shapedefaults\":{\"line\":{\"color\":\"#2a3f5f\"}},\"ternary\":{\"aaxis\":{\"gridcolor\":\"white\",\"linecolor\":\"white\",\"ticks\":\"\"},\"baxis\":{\"gridcolor\":\"white\",\"linecolor\":\"white\",\"ticks\":\"\"},\"bgcolor\":\"#E5ECF6\",\"caxis\":{\"gridcolor\":\"white\",\"linecolor\":\"white\",\"ticks\":\"\"}},\"title\":{\"x\":0.05},\"xaxis\":{\"automargin\":true,\"gridcolor\":\"white\",\"linecolor\":\"white\",\"ticks\":\"\",\"title\":{\"standoff\":15},\"zerolinecolor\":\"white\",\"zerolinewidth\":2},\"yaxis\":{\"automargin\":true,\"gridcolor\":\"white\",\"linecolor\":\"white\",\"ticks\":\"\",\"title\":{\"standoff\":15},\"zerolinecolor\":\"white\",\"zerolinewidth\":2}}},\"title\":{\"font\":{\"color\":\"#4D5663\"}},\"xaxis\":{\"gridcolor\":\"#E1E5ED\",\"showgrid\":true,\"tickfont\":{\"color\":\"#4D5663\"},\"title\":{\"font\":{\"color\":\"#4D5663\"},\"text\":\"\"},\"zerolinecolor\":\"#E1E5ED\"},\"yaxis\":{\"gridcolor\":\"#E1E5ED\",\"showgrid\":true,\"tickfont\":{\"color\":\"#4D5663\"},\"title\":{\"font\":{\"color\":\"#4D5663\"},\"text\":\"\"},\"zerolinecolor\":\"#E1E5ED\"}},                        {\"showLink\": true, \"linkText\": \"Export to plot.ly\", \"plotlyServerURL\": \"https://plot.ly\", \"responsive\": true}                    ).then(function(){\n",
       "                            \n",
       "var gd = document.getElementById('5354d5ab-2869-447b-b69b-2fe7b6fcf639');\n",
       "var x = new MutationObserver(function (mutations, observer) {{\n",
       "        var display = window.getComputedStyle(gd).display;\n",
       "        if (!display || display === 'none') {{\n",
       "            console.log([gd, 'removed!']);\n",
       "            Plotly.purge(gd);\n",
       "            observer.disconnect();\n",
       "        }}\n",
       "}});\n",
       "\n",
       "// Listen for the removal of the full notebook cells\n",
       "var notebookContainer = gd.closest('#notebook-container');\n",
       "if (notebookContainer) {{\n",
       "    x.observe(notebookContainer, {childList: true});\n",
       "}}\n",
       "\n",
       "// Listen for the clearing of the current output cell\n",
       "var outputEl = gd.closest('.output');\n",
       "if (outputEl) {{\n",
       "    x.observe(outputEl, {childList: true});\n",
       "}}\n",
       "\n",
       "                        })                };                });            </script>        </div>"
      ]
     },
     "metadata": {},
     "output_type": "display_data"
    }
   ],
   "source": [
    "df['A'].iplot(kind='hist',bins=25)"
   ]
  },
  {
   "cell_type": "code",
   "execution_count": 17,
   "metadata": {},
   "outputs": [
    {
     "data": {
      "application/vnd.plotly.v1+json": {
       "config": {
        "linkText": "Export to plot.ly",
        "plotlyServerURL": "https://plot.ly",
        "showLink": true
       },
       "data": [
        {
         "marker": {
          "color": [
           "rgb(255, 153, 51)",
           "rgb(55, 128, 191)",
           "rgb(50, 171, 96)",
           "rgb(128, 0, 128)",
           "rgb(219, 64, 82)",
           "rgb(0, 128, 128)",
           "rgb(255, 255, 51)",
           "rgb(128, 128, 0)",
           "rgb(251, 128, 114)",
           "rgb(128, 177, 211)"
          ],
          "line": {
           "width": 1.3
          },
          "size": [
           54,
           48,
           69,
           69,
           35,
           68,
           67,
           38,
           57,
           93,
           93,
           68,
           63,
           50,
           22,
           99,
           82,
           54,
           93,
           54,
           59,
           87,
           46,
           68,
           85,
           44,
           63,
           73,
           53,
           67,
           77,
           70,
           74,
           56,
           28,
           64,
           36,
           52,
           72,
           44,
           58,
           53,
           45,
           101,
           78,
           75,
           28,
           109,
           49,
           79,
           82,
           75,
           73,
           77,
           56,
           12,
           87,
           80,
           42,
           46,
           85,
           82,
           39,
           67,
           71,
           74,
           43,
           77,
           70,
           43,
           58,
           43,
           56,
           84,
           42,
           63,
           67,
           66,
           51,
           46,
           50,
           112,
           73,
           40,
           57,
           22,
           48,
           38,
           51,
           32,
           63,
           52,
           34,
           46,
           52,
           47,
           51,
           70,
           61,
           102
          ],
          "symbol": "circle"
         },
         "mode": "markers",
         "text": "",
         "type": "scatter",
         "x": [
          -0.6035297959382414,
          -0.8168839180464849,
          -0.6156857927636435,
          -0.96809123662696,
          -0.6854691740293992,
          0.7199714768803681,
          1.446160156463076,
          1.799627965830823,
          1.7157877533685324,
          -0.17901370565073169,
          0.005449232404899039,
          -1.0833144371751064,
          -0.9551544617528701,
          -0.806542516870636,
          2.192659195836407,
          0.15416197000598228,
          0.01631753712948887,
          1.7267160752937727,
          0.57985045638903,
          0.09791585210952843,
          0.21351052704706053,
          0.2810617979115468,
          0.432292126121937,
          -1.1735741563193232,
          -1.1583974052626016,
          1.5614876377792792,
          -1.2881469804000822,
          -0.26495107714432603,
          1.3312459821437788,
          -0.08333634781307717,
          0.460140024288853,
          2.0200389221711164,
          -0.2964711710980584,
          1.7438707329329075,
          0.6965071847803438,
          0.9616884505199493,
          -1.0826686274947974,
          -0.2290348397768763,
          0.22539764253003775,
          2.3790211963457173,
          0.3472056319516496,
          0.035911286437501085,
          1.259055281551953,
          0.5918447616263801,
          -0.6822565116504726,
          -0.8928399410348654,
          -0.6615460317551572,
          0.04214420334432419,
          0.32233108348176587,
          -0.2000440217299358,
          0.326674581272999,
          0.9432398763689777,
          -0.8168202319197175,
          0.07617503642020822,
          -0.10923092299046434,
          -2.3793044960670433,
          -0.7364273736220023,
          -0.11339616677514272,
          -0.6902054596789023,
          -1.38642008999562,
          0.8495427939718966,
          -0.3878460284258634,
          -0.8089657350136299,
          -0.368755861201994,
          -0.0070429161289379105,
          -0.2524318160687466,
          -1.1110786925423664,
          1.6950918157689456,
          0.6672081179643534,
          -0.03371141339443632,
          1.9001276876037883,
          -0.9192875396872777,
          0.5871667111331204,
          -0.08438004513753744,
          0.07309561806045688,
          0.7562262739315151,
          0.4462221113646279,
          0.4266663764331806,
          0.6155194400559172,
          0.27929381908824663,
          -1.053986571099971,
          0.18020245770246723,
          -0.04058567909420326,
          1.1441406510591838,
          -0.4794020094470726,
          -1.0881453768671514,
          0.24795817635371536,
          -0.6311227016730568,
          -2.4387748259857727,
          0.9572567814279553,
          -1.8090332855133209,
          -0.16035983288459527,
          0.2862808765695702,
          -0.13959297740089516,
          -1.7815333343184052,
          0.07132219757149803,
          1.062568166469194,
          -0.5821359801529373,
          0.13735274878157913,
          -1.0609086520436461
         ],
         "y": [
          0.34937467752453855,
          -0.6963689003611885,
          0.49444390521925163,
          -0.5216091706513676,
          0.4724087770975294,
          -0.7451485094842482,
          -1.034922517004572,
          -0.7231837962892254,
          -0.3565877101781193,
          0.5561839128654138,
          1.4995719633555327,
          0.10904078889562052,
          0.026129809655202986,
          1.461617696540569,
          -0.5402179049296549,
          -0.20317357616560444,
          0.6218015091883577,
          0.6203131147082552,
          1.6198556238181445,
          1.3750576201475166,
          1.7665147161583103,
          0.9736869943203338,
          1.6632487833008511,
          1.1946869607840391,
          -1.3181911639397836,
          0.21483071972553233,
          0.9532299081544663,
          -0.47835866959161855,
          -0.05367608683761055,
          -0.6233004340756563,
          -0.44763279779657505,
          1.540650986930894,
          -0.10041228764413782,
          1.9740906004864247,
          0.8399728426296991,
          -0.06900862170430426,
          0.3050884857376401,
          -0.24929546241599287,
          0.22540055450182636,
          -1.9464725746598737,
          -0.013967839426258875,
          1.146660179529997,
          -1.8798754854886035,
          -0.40737114477860115,
          -0.5535966777043381,
          -0.9046493670712153,
          -0.2165903294015373,
          -1.5978791360078572,
          -1.3858322851196112,
          -1.0314493305780452,
          1.2198575387415684,
          -0.5408288300390035,
          -0.136382172634374,
          -0.8522283472752146,
          -1.105056411687845,
          -1.5317431813873281,
          1.583062570780521,
          -0.5433498971348376,
          -0.8166347685311419,
          1.188444648041088,
          1.2914964306290924,
          0.8093118784465675,
          -2.2319460048066775,
          -0.6725420748091804,
          -0.03225818317810197,
          -0.02957431018242885,
          1.3781411773100498,
          -0.20446219959169973,
          0.7892794713371499,
          0.06304076348528372,
          0.7397415414777962,
          0.07953236164410435,
          0.20439894314802834,
          -0.13400910629225057,
          -0.42058647511319996,
          -0.3945684866149251,
          2.502544202353219,
          -1.2099348465143327,
          -0.45678523003251864,
          1.658444813234687,
          -0.5805059472672414,
          -0.28552340803789444,
          0.3230214214336419,
          0.9383761746830033,
          0.01073116888838524,
          0.5290085286062141,
          -2.279993493907933,
          0.36593355315096493,
          -0.27987443799520223,
          0.5427764918925077,
          -0.19185176677469148,
          0.7150314393582368,
          1.2759738685362205,
          0.04545720514712179,
          -0.551929296600115,
          0.6566504637125637,
          0.11765627356863474,
          0.6719491850445272,
          0.6469902247765215,
          2.036967266780365
         ]
        }
       ],
       "layout": {
        "legend": {
         "bgcolor": "#F5F6F9",
         "font": {
          "color": "#4D5663"
         }
        },
        "paper_bgcolor": "#F5F6F9",
        "plot_bgcolor": "#F5F6F9",
        "template": {
         "data": {
          "bar": [
           {
            "error_x": {
             "color": "#2a3f5f"
            },
            "error_y": {
             "color": "#2a3f5f"
            },
            "marker": {
             "line": {
              "color": "#E5ECF6",
              "width": 0.5
             },
             "pattern": {
              "fillmode": "overlay",
              "size": 10,
              "solidity": 0.2
             }
            },
            "type": "bar"
           }
          ],
          "barpolar": [
           {
            "marker": {
             "line": {
              "color": "#E5ECF6",
              "width": 0.5
             },
             "pattern": {
              "fillmode": "overlay",
              "size": 10,
              "solidity": 0.2
             }
            },
            "type": "barpolar"
           }
          ],
          "carpet": [
           {
            "aaxis": {
             "endlinecolor": "#2a3f5f",
             "gridcolor": "white",
             "linecolor": "white",
             "minorgridcolor": "white",
             "startlinecolor": "#2a3f5f"
            },
            "baxis": {
             "endlinecolor": "#2a3f5f",
             "gridcolor": "white",
             "linecolor": "white",
             "minorgridcolor": "white",
             "startlinecolor": "#2a3f5f"
            },
            "type": "carpet"
           }
          ],
          "choropleth": [
           {
            "colorbar": {
             "outlinewidth": 0,
             "ticks": ""
            },
            "type": "choropleth"
           }
          ],
          "contour": [
           {
            "colorbar": {
             "outlinewidth": 0,
             "ticks": ""
            },
            "colorscale": [
             [
              0,
              "#0d0887"
             ],
             [
              0.1111111111111111,
              "#46039f"
             ],
             [
              0.2222222222222222,
              "#7201a8"
             ],
             [
              0.3333333333333333,
              "#9c179e"
             ],
             [
              0.4444444444444444,
              "#bd3786"
             ],
             [
              0.5555555555555556,
              "#d8576b"
             ],
             [
              0.6666666666666666,
              "#ed7953"
             ],
             [
              0.7777777777777778,
              "#fb9f3a"
             ],
             [
              0.8888888888888888,
              "#fdca26"
             ],
             [
              1,
              "#f0f921"
             ]
            ],
            "type": "contour"
           }
          ],
          "contourcarpet": [
           {
            "colorbar": {
             "outlinewidth": 0,
             "ticks": ""
            },
            "type": "contourcarpet"
           }
          ],
          "heatmap": [
           {
            "colorbar": {
             "outlinewidth": 0,
             "ticks": ""
            },
            "colorscale": [
             [
              0,
              "#0d0887"
             ],
             [
              0.1111111111111111,
              "#46039f"
             ],
             [
              0.2222222222222222,
              "#7201a8"
             ],
             [
              0.3333333333333333,
              "#9c179e"
             ],
             [
              0.4444444444444444,
              "#bd3786"
             ],
             [
              0.5555555555555556,
              "#d8576b"
             ],
             [
              0.6666666666666666,
              "#ed7953"
             ],
             [
              0.7777777777777778,
              "#fb9f3a"
             ],
             [
              0.8888888888888888,
              "#fdca26"
             ],
             [
              1,
              "#f0f921"
             ]
            ],
            "type": "heatmap"
           }
          ],
          "heatmapgl": [
           {
            "colorbar": {
             "outlinewidth": 0,
             "ticks": ""
            },
            "colorscale": [
             [
              0,
              "#0d0887"
             ],
             [
              0.1111111111111111,
              "#46039f"
             ],
             [
              0.2222222222222222,
              "#7201a8"
             ],
             [
              0.3333333333333333,
              "#9c179e"
             ],
             [
              0.4444444444444444,
              "#bd3786"
             ],
             [
              0.5555555555555556,
              "#d8576b"
             ],
             [
              0.6666666666666666,
              "#ed7953"
             ],
             [
              0.7777777777777778,
              "#fb9f3a"
             ],
             [
              0.8888888888888888,
              "#fdca26"
             ],
             [
              1,
              "#f0f921"
             ]
            ],
            "type": "heatmapgl"
           }
          ],
          "histogram": [
           {
            "marker": {
             "pattern": {
              "fillmode": "overlay",
              "size": 10,
              "solidity": 0.2
             }
            },
            "type": "histogram"
           }
          ],
          "histogram2d": [
           {
            "colorbar": {
             "outlinewidth": 0,
             "ticks": ""
            },
            "colorscale": [
             [
              0,
              "#0d0887"
             ],
             [
              0.1111111111111111,
              "#46039f"
             ],
             [
              0.2222222222222222,
              "#7201a8"
             ],
             [
              0.3333333333333333,
              "#9c179e"
             ],
             [
              0.4444444444444444,
              "#bd3786"
             ],
             [
              0.5555555555555556,
              "#d8576b"
             ],
             [
              0.6666666666666666,
              "#ed7953"
             ],
             [
              0.7777777777777778,
              "#fb9f3a"
             ],
             [
              0.8888888888888888,
              "#fdca26"
             ],
             [
              1,
              "#f0f921"
             ]
            ],
            "type": "histogram2d"
           }
          ],
          "histogram2dcontour": [
           {
            "colorbar": {
             "outlinewidth": 0,
             "ticks": ""
            },
            "colorscale": [
             [
              0,
              "#0d0887"
             ],
             [
              0.1111111111111111,
              "#46039f"
             ],
             [
              0.2222222222222222,
              "#7201a8"
             ],
             [
              0.3333333333333333,
              "#9c179e"
             ],
             [
              0.4444444444444444,
              "#bd3786"
             ],
             [
              0.5555555555555556,
              "#d8576b"
             ],
             [
              0.6666666666666666,
              "#ed7953"
             ],
             [
              0.7777777777777778,
              "#fb9f3a"
             ],
             [
              0.8888888888888888,
              "#fdca26"
             ],
             [
              1,
              "#f0f921"
             ]
            ],
            "type": "histogram2dcontour"
           }
          ],
          "mesh3d": [
           {
            "colorbar": {
             "outlinewidth": 0,
             "ticks": ""
            },
            "type": "mesh3d"
           }
          ],
          "parcoords": [
           {
            "line": {
             "colorbar": {
              "outlinewidth": 0,
              "ticks": ""
             }
            },
            "type": "parcoords"
           }
          ],
          "pie": [
           {
            "automargin": true,
            "type": "pie"
           }
          ],
          "scatter": [
           {
            "fillpattern": {
             "fillmode": "overlay",
             "size": 10,
             "solidity": 0.2
            },
            "type": "scatter"
           }
          ],
          "scatter3d": [
           {
            "line": {
             "colorbar": {
              "outlinewidth": 0,
              "ticks": ""
             }
            },
            "marker": {
             "colorbar": {
              "outlinewidth": 0,
              "ticks": ""
             }
            },
            "type": "scatter3d"
           }
          ],
          "scattercarpet": [
           {
            "marker": {
             "colorbar": {
              "outlinewidth": 0,
              "ticks": ""
             }
            },
            "type": "scattercarpet"
           }
          ],
          "scattergeo": [
           {
            "marker": {
             "colorbar": {
              "outlinewidth": 0,
              "ticks": ""
             }
            },
            "type": "scattergeo"
           }
          ],
          "scattergl": [
           {
            "marker": {
             "colorbar": {
              "outlinewidth": 0,
              "ticks": ""
             }
            },
            "type": "scattergl"
           }
          ],
          "scattermapbox": [
           {
            "marker": {
             "colorbar": {
              "outlinewidth": 0,
              "ticks": ""
             }
            },
            "type": "scattermapbox"
           }
          ],
          "scatterpolar": [
           {
            "marker": {
             "colorbar": {
              "outlinewidth": 0,
              "ticks": ""
             }
            },
            "type": "scatterpolar"
           }
          ],
          "scatterpolargl": [
           {
            "marker": {
             "colorbar": {
              "outlinewidth": 0,
              "ticks": ""
             }
            },
            "type": "scatterpolargl"
           }
          ],
          "scatterternary": [
           {
            "marker": {
             "colorbar": {
              "outlinewidth": 0,
              "ticks": ""
             }
            },
            "type": "scatterternary"
           }
          ],
          "surface": [
           {
            "colorbar": {
             "outlinewidth": 0,
             "ticks": ""
            },
            "colorscale": [
             [
              0,
              "#0d0887"
             ],
             [
              0.1111111111111111,
              "#46039f"
             ],
             [
              0.2222222222222222,
              "#7201a8"
             ],
             [
              0.3333333333333333,
              "#9c179e"
             ],
             [
              0.4444444444444444,
              "#bd3786"
             ],
             [
              0.5555555555555556,
              "#d8576b"
             ],
             [
              0.6666666666666666,
              "#ed7953"
             ],
             [
              0.7777777777777778,
              "#fb9f3a"
             ],
             [
              0.8888888888888888,
              "#fdca26"
             ],
             [
              1,
              "#f0f921"
             ]
            ],
            "type": "surface"
           }
          ],
          "table": [
           {
            "cells": {
             "fill": {
              "color": "#EBF0F8"
             },
             "line": {
              "color": "white"
             }
            },
            "header": {
             "fill": {
              "color": "#C8D4E3"
             },
             "line": {
              "color": "white"
             }
            },
            "type": "table"
           }
          ]
         },
         "layout": {
          "annotationdefaults": {
           "arrowcolor": "#2a3f5f",
           "arrowhead": 0,
           "arrowwidth": 1
          },
          "autotypenumbers": "strict",
          "coloraxis": {
           "colorbar": {
            "outlinewidth": 0,
            "ticks": ""
           }
          },
          "colorscale": {
           "diverging": [
            [
             0,
             "#8e0152"
            ],
            [
             0.1,
             "#c51b7d"
            ],
            [
             0.2,
             "#de77ae"
            ],
            [
             0.3,
             "#f1b6da"
            ],
            [
             0.4,
             "#fde0ef"
            ],
            [
             0.5,
             "#f7f7f7"
            ],
            [
             0.6,
             "#e6f5d0"
            ],
            [
             0.7,
             "#b8e186"
            ],
            [
             0.8,
             "#7fbc41"
            ],
            [
             0.9,
             "#4d9221"
            ],
            [
             1,
             "#276419"
            ]
           ],
           "sequential": [
            [
             0,
             "#0d0887"
            ],
            [
             0.1111111111111111,
             "#46039f"
            ],
            [
             0.2222222222222222,
             "#7201a8"
            ],
            [
             0.3333333333333333,
             "#9c179e"
            ],
            [
             0.4444444444444444,
             "#bd3786"
            ],
            [
             0.5555555555555556,
             "#d8576b"
            ],
            [
             0.6666666666666666,
             "#ed7953"
            ],
            [
             0.7777777777777778,
             "#fb9f3a"
            ],
            [
             0.8888888888888888,
             "#fdca26"
            ],
            [
             1,
             "#f0f921"
            ]
           ],
           "sequentialminus": [
            [
             0,
             "#0d0887"
            ],
            [
             0.1111111111111111,
             "#46039f"
            ],
            [
             0.2222222222222222,
             "#7201a8"
            ],
            [
             0.3333333333333333,
             "#9c179e"
            ],
            [
             0.4444444444444444,
             "#bd3786"
            ],
            [
             0.5555555555555556,
             "#d8576b"
            ],
            [
             0.6666666666666666,
             "#ed7953"
            ],
            [
             0.7777777777777778,
             "#fb9f3a"
            ],
            [
             0.8888888888888888,
             "#fdca26"
            ],
            [
             1,
             "#f0f921"
            ]
           ]
          },
          "colorway": [
           "#636efa",
           "#EF553B",
           "#00cc96",
           "#ab63fa",
           "#FFA15A",
           "#19d3f3",
           "#FF6692",
           "#B6E880",
           "#FF97FF",
           "#FECB52"
          ],
          "font": {
           "color": "#2a3f5f"
          },
          "geo": {
           "bgcolor": "white",
           "lakecolor": "white",
           "landcolor": "#E5ECF6",
           "showlakes": true,
           "showland": true,
           "subunitcolor": "white"
          },
          "hoverlabel": {
           "align": "left"
          },
          "hovermode": "closest",
          "mapbox": {
           "style": "light"
          },
          "paper_bgcolor": "white",
          "plot_bgcolor": "#E5ECF6",
          "polar": {
           "angularaxis": {
            "gridcolor": "white",
            "linecolor": "white",
            "ticks": ""
           },
           "bgcolor": "#E5ECF6",
           "radialaxis": {
            "gridcolor": "white",
            "linecolor": "white",
            "ticks": ""
           }
          },
          "scene": {
           "xaxis": {
            "backgroundcolor": "#E5ECF6",
            "gridcolor": "white",
            "gridwidth": 2,
            "linecolor": "white",
            "showbackground": true,
            "ticks": "",
            "zerolinecolor": "white"
           },
           "yaxis": {
            "backgroundcolor": "#E5ECF6",
            "gridcolor": "white",
            "gridwidth": 2,
            "linecolor": "white",
            "showbackground": true,
            "ticks": "",
            "zerolinecolor": "white"
           },
           "zaxis": {
            "backgroundcolor": "#E5ECF6",
            "gridcolor": "white",
            "gridwidth": 2,
            "linecolor": "white",
            "showbackground": true,
            "ticks": "",
            "zerolinecolor": "white"
           }
          },
          "shapedefaults": {
           "line": {
            "color": "#2a3f5f"
           }
          },
          "ternary": {
           "aaxis": {
            "gridcolor": "white",
            "linecolor": "white",
            "ticks": ""
           },
           "baxis": {
            "gridcolor": "white",
            "linecolor": "white",
            "ticks": ""
           },
           "bgcolor": "#E5ECF6",
           "caxis": {
            "gridcolor": "white",
            "linecolor": "white",
            "ticks": ""
           }
          },
          "title": {
           "x": 0.05
          },
          "xaxis": {
           "automargin": true,
           "gridcolor": "white",
           "linecolor": "white",
           "ticks": "",
           "title": {
            "standoff": 15
           },
           "zerolinecolor": "white",
           "zerolinewidth": 2
          },
          "yaxis": {
           "automargin": true,
           "gridcolor": "white",
           "linecolor": "white",
           "ticks": "",
           "title": {
            "standoff": 15
           },
           "zerolinecolor": "white",
           "zerolinewidth": 2
          }
         }
        },
        "title": {
         "font": {
          "color": "#4D5663"
         }
        },
        "xaxis": {
         "gridcolor": "#E1E5ED",
         "showgrid": true,
         "tickfont": {
          "color": "#4D5663"
         },
         "title": {
          "font": {
           "color": "#4D5663"
          },
          "text": ""
         },
         "zerolinecolor": "#E1E5ED"
        },
        "yaxis": {
         "gridcolor": "#E1E5ED",
         "showgrid": true,
         "tickfont": {
          "color": "#4D5663"
         },
         "title": {
          "font": {
           "color": "#4D5663"
          },
          "text": ""
         },
         "zerolinecolor": "#E1E5ED"
        }
       }
      },
      "text/html": [
       "<div>                            <div id=\"eb9ecb3d-a68b-4689-a6ab-f38b696d7c9e\" class=\"plotly-graph-div\" style=\"height:525px; width:100%;\"></div>            <script type=\"text/javascript\">                require([\"plotly\"], function(Plotly) {                    window.PLOTLYENV=window.PLOTLYENV || {};\n",
       "                    window.PLOTLYENV.BASE_URL='https://plot.ly';                                    if (document.getElementById(\"eb9ecb3d-a68b-4689-a6ab-f38b696d7c9e\")) {                    Plotly.newPlot(                        \"eb9ecb3d-a68b-4689-a6ab-f38b696d7c9e\",                        [{\"marker\":{\"color\":[\"rgb(255, 153, 51)\",\"rgb(55, 128, 191)\",\"rgb(50, 171, 96)\",\"rgb(128, 0, 128)\",\"rgb(219, 64, 82)\",\"rgb(0, 128, 128)\",\"rgb(255, 255, 51)\",\"rgb(128, 128, 0)\",\"rgb(251, 128, 114)\",\"rgb(128, 177, 211)\"],\"line\":{\"width\":1.3},\"size\":[54,48,69,69,35,68,67,38,57,93,93,68,63,50,22,99,82,54,93,54,59,87,46,68,85,44,63,73,53,67,77,70,74,56,28,64,36,52,72,44,58,53,45,101,78,75,28,109,49,79,82,75,73,77,56,12,87,80,42,46,85,82,39,67,71,74,43,77,70,43,58,43,56,84,42,63,67,66,51,46,50,112,73,40,57,22,48,38,51,32,63,52,34,46,52,47,51,70,61,102],\"symbol\":\"circle\"},\"mode\":\"markers\",\"text\":\"\",\"x\":[-0.6035297959382414,-0.8168839180464849,-0.6156857927636435,-0.96809123662696,-0.6854691740293992,0.7199714768803681,1.446160156463076,1.799627965830823,1.7157877533685324,-0.17901370565073169,0.005449232404899039,-1.0833144371751064,-0.9551544617528701,-0.806542516870636,2.192659195836407,0.15416197000598228,0.01631753712948887,1.7267160752937727,0.57985045638903,0.09791585210952843,0.21351052704706053,0.2810617979115468,0.432292126121937,-1.1735741563193232,-1.1583974052626016,1.5614876377792792,-1.2881469804000822,-0.26495107714432603,1.3312459821437788,-0.08333634781307717,0.460140024288853,2.0200389221711164,-0.2964711710980584,1.7438707329329075,0.6965071847803438,0.9616884505199493,-1.0826686274947974,-0.2290348397768763,0.22539764253003775,2.3790211963457173,0.3472056319516496,0.035911286437501085,1.259055281551953,0.5918447616263801,-0.6822565116504726,-0.8928399410348654,-0.6615460317551572,0.04214420334432419,0.32233108348176587,-0.2000440217299358,0.326674581272999,0.9432398763689777,-0.8168202319197175,0.07617503642020822,-0.10923092299046434,-2.3793044960670433,-0.7364273736220023,-0.11339616677514272,-0.6902054596789023,-1.38642008999562,0.8495427939718966,-0.3878460284258634,-0.8089657350136299,-0.368755861201994,-0.0070429161289379105,-0.2524318160687466,-1.1110786925423664,1.6950918157689456,0.6672081179643534,-0.03371141339443632,1.9001276876037883,-0.9192875396872777,0.5871667111331204,-0.08438004513753744,0.07309561806045688,0.7562262739315151,0.4462221113646279,0.4266663764331806,0.6155194400559172,0.27929381908824663,-1.053986571099971,0.18020245770246723,-0.04058567909420326,1.1441406510591838,-0.4794020094470726,-1.0881453768671514,0.24795817635371536,-0.6311227016730568,-2.4387748259857727,0.9572567814279553,-1.8090332855133209,-0.16035983288459527,0.2862808765695702,-0.13959297740089516,-1.7815333343184052,0.07132219757149803,1.062568166469194,-0.5821359801529373,0.13735274878157913,-1.0609086520436461],\"y\":[0.34937467752453855,-0.6963689003611885,0.49444390521925163,-0.5216091706513676,0.4724087770975294,-0.7451485094842482,-1.034922517004572,-0.7231837962892254,-0.3565877101781193,0.5561839128654138,1.4995719633555327,0.10904078889562052,0.026129809655202986,1.461617696540569,-0.5402179049296549,-0.20317357616560444,0.6218015091883577,0.6203131147082552,1.6198556238181445,1.3750576201475166,1.7665147161583103,0.9736869943203338,1.6632487833008511,1.1946869607840391,-1.3181911639397836,0.21483071972553233,0.9532299081544663,-0.47835866959161855,-0.05367608683761055,-0.6233004340756563,-0.44763279779657505,1.540650986930894,-0.10041228764413782,1.9740906004864247,0.8399728426296991,-0.06900862170430426,0.3050884857376401,-0.24929546241599287,0.22540055450182636,-1.9464725746598737,-0.013967839426258875,1.146660179529997,-1.8798754854886035,-0.40737114477860115,-0.5535966777043381,-0.9046493670712153,-0.2165903294015373,-1.5978791360078572,-1.3858322851196112,-1.0314493305780452,1.2198575387415684,-0.5408288300390035,-0.136382172634374,-0.8522283472752146,-1.105056411687845,-1.5317431813873281,1.583062570780521,-0.5433498971348376,-0.8166347685311419,1.188444648041088,1.2914964306290924,0.8093118784465675,-2.2319460048066775,-0.6725420748091804,-0.03225818317810197,-0.02957431018242885,1.3781411773100498,-0.20446219959169973,0.7892794713371499,0.06304076348528372,0.7397415414777962,0.07953236164410435,0.20439894314802834,-0.13400910629225057,-0.42058647511319996,-0.3945684866149251,2.502544202353219,-1.2099348465143327,-0.45678523003251864,1.658444813234687,-0.5805059472672414,-0.28552340803789444,0.3230214214336419,0.9383761746830033,0.01073116888838524,0.5290085286062141,-2.279993493907933,0.36593355315096493,-0.27987443799520223,0.5427764918925077,-0.19185176677469148,0.7150314393582368,1.2759738685362205,0.04545720514712179,-0.551929296600115,0.6566504637125637,0.11765627356863474,0.6719491850445272,0.6469902247765215,2.036967266780365],\"type\":\"scatter\"}],                        {\"legend\":{\"bgcolor\":\"#F5F6F9\",\"font\":{\"color\":\"#4D5663\"}},\"paper_bgcolor\":\"#F5F6F9\",\"plot_bgcolor\":\"#F5F6F9\",\"template\":{\"data\":{\"barpolar\":[{\"marker\":{\"line\":{\"color\":\"#E5ECF6\",\"width\":0.5},\"pattern\":{\"fillmode\":\"overlay\",\"size\":10,\"solidity\":0.2}},\"type\":\"barpolar\"}],\"bar\":[{\"error_x\":{\"color\":\"#2a3f5f\"},\"error_y\":{\"color\":\"#2a3f5f\"},\"marker\":{\"line\":{\"color\":\"#E5ECF6\",\"width\":0.5},\"pattern\":{\"fillmode\":\"overlay\",\"size\":10,\"solidity\":0.2}},\"type\":\"bar\"}],\"carpet\":[{\"aaxis\":{\"endlinecolor\":\"#2a3f5f\",\"gridcolor\":\"white\",\"linecolor\":\"white\",\"minorgridcolor\":\"white\",\"startlinecolor\":\"#2a3f5f\"},\"baxis\":{\"endlinecolor\":\"#2a3f5f\",\"gridcolor\":\"white\",\"linecolor\":\"white\",\"minorgridcolor\":\"white\",\"startlinecolor\":\"#2a3f5f\"},\"type\":\"carpet\"}],\"choropleth\":[{\"colorbar\":{\"outlinewidth\":0,\"ticks\":\"\"},\"type\":\"choropleth\"}],\"contourcarpet\":[{\"colorbar\":{\"outlinewidth\":0,\"ticks\":\"\"},\"type\":\"contourcarpet\"}],\"contour\":[{\"colorbar\":{\"outlinewidth\":0,\"ticks\":\"\"},\"colorscale\":[[0.0,\"#0d0887\"],[0.1111111111111111,\"#46039f\"],[0.2222222222222222,\"#7201a8\"],[0.3333333333333333,\"#9c179e\"],[0.4444444444444444,\"#bd3786\"],[0.5555555555555556,\"#d8576b\"],[0.6666666666666666,\"#ed7953\"],[0.7777777777777778,\"#fb9f3a\"],[0.8888888888888888,\"#fdca26\"],[1.0,\"#f0f921\"]],\"type\":\"contour\"}],\"heatmapgl\":[{\"colorbar\":{\"outlinewidth\":0,\"ticks\":\"\"},\"colorscale\":[[0.0,\"#0d0887\"],[0.1111111111111111,\"#46039f\"],[0.2222222222222222,\"#7201a8\"],[0.3333333333333333,\"#9c179e\"],[0.4444444444444444,\"#bd3786\"],[0.5555555555555556,\"#d8576b\"],[0.6666666666666666,\"#ed7953\"],[0.7777777777777778,\"#fb9f3a\"],[0.8888888888888888,\"#fdca26\"],[1.0,\"#f0f921\"]],\"type\":\"heatmapgl\"}],\"heatmap\":[{\"colorbar\":{\"outlinewidth\":0,\"ticks\":\"\"},\"colorscale\":[[0.0,\"#0d0887\"],[0.1111111111111111,\"#46039f\"],[0.2222222222222222,\"#7201a8\"],[0.3333333333333333,\"#9c179e\"],[0.4444444444444444,\"#bd3786\"],[0.5555555555555556,\"#d8576b\"],[0.6666666666666666,\"#ed7953\"],[0.7777777777777778,\"#fb9f3a\"],[0.8888888888888888,\"#fdca26\"],[1.0,\"#f0f921\"]],\"type\":\"heatmap\"}],\"histogram2dcontour\":[{\"colorbar\":{\"outlinewidth\":0,\"ticks\":\"\"},\"colorscale\":[[0.0,\"#0d0887\"],[0.1111111111111111,\"#46039f\"],[0.2222222222222222,\"#7201a8\"],[0.3333333333333333,\"#9c179e\"],[0.4444444444444444,\"#bd3786\"],[0.5555555555555556,\"#d8576b\"],[0.6666666666666666,\"#ed7953\"],[0.7777777777777778,\"#fb9f3a\"],[0.8888888888888888,\"#fdca26\"],[1.0,\"#f0f921\"]],\"type\":\"histogram2dcontour\"}],\"histogram2d\":[{\"colorbar\":{\"outlinewidth\":0,\"ticks\":\"\"},\"colorscale\":[[0.0,\"#0d0887\"],[0.1111111111111111,\"#46039f\"],[0.2222222222222222,\"#7201a8\"],[0.3333333333333333,\"#9c179e\"],[0.4444444444444444,\"#bd3786\"],[0.5555555555555556,\"#d8576b\"],[0.6666666666666666,\"#ed7953\"],[0.7777777777777778,\"#fb9f3a\"],[0.8888888888888888,\"#fdca26\"],[1.0,\"#f0f921\"]],\"type\":\"histogram2d\"}],\"histogram\":[{\"marker\":{\"pattern\":{\"fillmode\":\"overlay\",\"size\":10,\"solidity\":0.2}},\"type\":\"histogram\"}],\"mesh3d\":[{\"colorbar\":{\"outlinewidth\":0,\"ticks\":\"\"},\"type\":\"mesh3d\"}],\"parcoords\":[{\"line\":{\"colorbar\":{\"outlinewidth\":0,\"ticks\":\"\"}},\"type\":\"parcoords\"}],\"pie\":[{\"automargin\":true,\"type\":\"pie\"}],\"scatter3d\":[{\"line\":{\"colorbar\":{\"outlinewidth\":0,\"ticks\":\"\"}},\"marker\":{\"colorbar\":{\"outlinewidth\":0,\"ticks\":\"\"}},\"type\":\"scatter3d\"}],\"scattercarpet\":[{\"marker\":{\"colorbar\":{\"outlinewidth\":0,\"ticks\":\"\"}},\"type\":\"scattercarpet\"}],\"scattergeo\":[{\"marker\":{\"colorbar\":{\"outlinewidth\":0,\"ticks\":\"\"}},\"type\":\"scattergeo\"}],\"scattergl\":[{\"marker\":{\"colorbar\":{\"outlinewidth\":0,\"ticks\":\"\"}},\"type\":\"scattergl\"}],\"scattermapbox\":[{\"marker\":{\"colorbar\":{\"outlinewidth\":0,\"ticks\":\"\"}},\"type\":\"scattermapbox\"}],\"scatterpolargl\":[{\"marker\":{\"colorbar\":{\"outlinewidth\":0,\"ticks\":\"\"}},\"type\":\"scatterpolargl\"}],\"scatterpolar\":[{\"marker\":{\"colorbar\":{\"outlinewidth\":0,\"ticks\":\"\"}},\"type\":\"scatterpolar\"}],\"scatter\":[{\"fillpattern\":{\"fillmode\":\"overlay\",\"size\":10,\"solidity\":0.2},\"type\":\"scatter\"}],\"scatterternary\":[{\"marker\":{\"colorbar\":{\"outlinewidth\":0,\"ticks\":\"\"}},\"type\":\"scatterternary\"}],\"surface\":[{\"colorbar\":{\"outlinewidth\":0,\"ticks\":\"\"},\"colorscale\":[[0.0,\"#0d0887\"],[0.1111111111111111,\"#46039f\"],[0.2222222222222222,\"#7201a8\"],[0.3333333333333333,\"#9c179e\"],[0.4444444444444444,\"#bd3786\"],[0.5555555555555556,\"#d8576b\"],[0.6666666666666666,\"#ed7953\"],[0.7777777777777778,\"#fb9f3a\"],[0.8888888888888888,\"#fdca26\"],[1.0,\"#f0f921\"]],\"type\":\"surface\"}],\"table\":[{\"cells\":{\"fill\":{\"color\":\"#EBF0F8\"},\"line\":{\"color\":\"white\"}},\"header\":{\"fill\":{\"color\":\"#C8D4E3\"},\"line\":{\"color\":\"white\"}},\"type\":\"table\"}]},\"layout\":{\"annotationdefaults\":{\"arrowcolor\":\"#2a3f5f\",\"arrowhead\":0,\"arrowwidth\":1},\"autotypenumbers\":\"strict\",\"coloraxis\":{\"colorbar\":{\"outlinewidth\":0,\"ticks\":\"\"}},\"colorscale\":{\"diverging\":[[0,\"#8e0152\"],[0.1,\"#c51b7d\"],[0.2,\"#de77ae\"],[0.3,\"#f1b6da\"],[0.4,\"#fde0ef\"],[0.5,\"#f7f7f7\"],[0.6,\"#e6f5d0\"],[0.7,\"#b8e186\"],[0.8,\"#7fbc41\"],[0.9,\"#4d9221\"],[1,\"#276419\"]],\"sequential\":[[0.0,\"#0d0887\"],[0.1111111111111111,\"#46039f\"],[0.2222222222222222,\"#7201a8\"],[0.3333333333333333,\"#9c179e\"],[0.4444444444444444,\"#bd3786\"],[0.5555555555555556,\"#d8576b\"],[0.6666666666666666,\"#ed7953\"],[0.7777777777777778,\"#fb9f3a\"],[0.8888888888888888,\"#fdca26\"],[1.0,\"#f0f921\"]],\"sequentialminus\":[[0.0,\"#0d0887\"],[0.1111111111111111,\"#46039f\"],[0.2222222222222222,\"#7201a8\"],[0.3333333333333333,\"#9c179e\"],[0.4444444444444444,\"#bd3786\"],[0.5555555555555556,\"#d8576b\"],[0.6666666666666666,\"#ed7953\"],[0.7777777777777778,\"#fb9f3a\"],[0.8888888888888888,\"#fdca26\"],[1.0,\"#f0f921\"]]},\"colorway\":[\"#636efa\",\"#EF553B\",\"#00cc96\",\"#ab63fa\",\"#FFA15A\",\"#19d3f3\",\"#FF6692\",\"#B6E880\",\"#FF97FF\",\"#FECB52\"],\"font\":{\"color\":\"#2a3f5f\"},\"geo\":{\"bgcolor\":\"white\",\"lakecolor\":\"white\",\"landcolor\":\"#E5ECF6\",\"showlakes\":true,\"showland\":true,\"subunitcolor\":\"white\"},\"hoverlabel\":{\"align\":\"left\"},\"hovermode\":\"closest\",\"mapbox\":{\"style\":\"light\"},\"paper_bgcolor\":\"white\",\"plot_bgcolor\":\"#E5ECF6\",\"polar\":{\"angularaxis\":{\"gridcolor\":\"white\",\"linecolor\":\"white\",\"ticks\":\"\"},\"bgcolor\":\"#E5ECF6\",\"radialaxis\":{\"gridcolor\":\"white\",\"linecolor\":\"white\",\"ticks\":\"\"}},\"scene\":{\"xaxis\":{\"backgroundcolor\":\"#E5ECF6\",\"gridcolor\":\"white\",\"gridwidth\":2,\"linecolor\":\"white\",\"showbackground\":true,\"ticks\":\"\",\"zerolinecolor\":\"white\"},\"yaxis\":{\"backgroundcolor\":\"#E5ECF6\",\"gridcolor\":\"white\",\"gridwidth\":2,\"linecolor\":\"white\",\"showbackground\":true,\"ticks\":\"\",\"zerolinecolor\":\"white\"},\"zaxis\":{\"backgroundcolor\":\"#E5ECF6\",\"gridcolor\":\"white\",\"gridwidth\":2,\"linecolor\":\"white\",\"showbackground\":true,\"ticks\":\"\",\"zerolinecolor\":\"white\"}},\"shapedefaults\":{\"line\":{\"color\":\"#2a3f5f\"}},\"ternary\":{\"aaxis\":{\"gridcolor\":\"white\",\"linecolor\":\"white\",\"ticks\":\"\"},\"baxis\":{\"gridcolor\":\"white\",\"linecolor\":\"white\",\"ticks\":\"\"},\"bgcolor\":\"#E5ECF6\",\"caxis\":{\"gridcolor\":\"white\",\"linecolor\":\"white\",\"ticks\":\"\"}},\"title\":{\"x\":0.05},\"xaxis\":{\"automargin\":true,\"gridcolor\":\"white\",\"linecolor\":\"white\",\"ticks\":\"\",\"title\":{\"standoff\":15},\"zerolinecolor\":\"white\",\"zerolinewidth\":2},\"yaxis\":{\"automargin\":true,\"gridcolor\":\"white\",\"linecolor\":\"white\",\"ticks\":\"\",\"title\":{\"standoff\":15},\"zerolinecolor\":\"white\",\"zerolinewidth\":2}}},\"title\":{\"font\":{\"color\":\"#4D5663\"}},\"xaxis\":{\"gridcolor\":\"#E1E5ED\",\"showgrid\":true,\"tickfont\":{\"color\":\"#4D5663\"},\"title\":{\"font\":{\"color\":\"#4D5663\"},\"text\":\"\"},\"zerolinecolor\":\"#E1E5ED\"},\"yaxis\":{\"gridcolor\":\"#E1E5ED\",\"showgrid\":true,\"tickfont\":{\"color\":\"#4D5663\"},\"title\":{\"font\":{\"color\":\"#4D5663\"},\"text\":\"\"},\"zerolinecolor\":\"#E1E5ED\"}},                        {\"showLink\": true, \"linkText\": \"Export to plot.ly\", \"plotlyServerURL\": \"https://plot.ly\", \"responsive\": true}                    ).then(function(){\n",
       "                            \n",
       "var gd = document.getElementById('eb9ecb3d-a68b-4689-a6ab-f38b696d7c9e');\n",
       "var x = new MutationObserver(function (mutations, observer) {{\n",
       "        var display = window.getComputedStyle(gd).display;\n",
       "        if (!display || display === 'none') {{\n",
       "            console.log([gd, 'removed!']);\n",
       "            Plotly.purge(gd);\n",
       "            observer.disconnect();\n",
       "        }}\n",
       "}});\n",
       "\n",
       "// Listen for the removal of the full notebook cells\n",
       "var notebookContainer = gd.closest('#notebook-container');\n",
       "if (notebookContainer) {{\n",
       "    x.observe(notebookContainer, {childList: true});\n",
       "}}\n",
       "\n",
       "// Listen for the clearing of the current output cell\n",
       "var outputEl = gd.closest('.output');\n",
       "if (outputEl) {{\n",
       "    x.observe(outputEl, {childList: true});\n",
       "}}\n",
       "\n",
       "                        })                };                });            </script>        </div>"
      ]
     },
     "metadata": {},
     "output_type": "display_data"
    }
   ],
   "source": [
    "df.iplot(kind='bubble',x='A',y='B',size='C')"
   ]
  },
  {
   "cell_type": "markdown",
   "metadata": {},
   "source": [
    "## scatter_matrix()\n",
    "\n",
    "Similar to sns.pairplot()"
   ]
  },
  {
   "cell_type": "code",
   "execution_count": 18,
   "metadata": {
    "scrolled": true
   },
   "outputs": [
    {
     "data": {
      "application/vnd.plotly.v1+json": {
       "config": {
        "linkText": "Export to plot.ly",
        "plotlyServerURL": "https://plot.ly",
        "showLink": true
       },
       "data": [
        {
         "histfunc": "count",
         "histnorm": "",
         "marker": {
          "color": "rgba(255, 153, 51, 1.0)",
          "line": {
           "color": "#4D5663",
           "width": 1.3
          }
         },
         "name": "A",
         "nbinsx": 10,
         "opacity": 0.8,
         "orientation": "v",
         "type": "histogram",
         "x": [
          -0.6035297959382414,
          -0.8168839180464849,
          -0.6156857927636435,
          -0.96809123662696,
          -0.6854691740293992,
          0.7199714768803681,
          1.446160156463076,
          1.799627965830823,
          1.7157877533685324,
          -0.17901370565073169,
          0.005449232404899039,
          -1.0833144371751064,
          -0.9551544617528701,
          -0.806542516870636,
          2.192659195836407,
          0.15416197000598228,
          0.01631753712948887,
          1.7267160752937727,
          0.57985045638903,
          0.09791585210952843,
          0.21351052704706053,
          0.2810617979115468,
          0.432292126121937,
          -1.1735741563193232,
          -1.1583974052626016,
          1.5614876377792792,
          -1.2881469804000822,
          -0.26495107714432603,
          1.3312459821437788,
          -0.08333634781307717,
          0.460140024288853,
          2.0200389221711164,
          -0.2964711710980584,
          1.7438707329329075,
          0.6965071847803438,
          0.9616884505199493,
          -1.0826686274947974,
          -0.2290348397768763,
          0.22539764253003775,
          2.3790211963457173,
          0.3472056319516496,
          0.035911286437501085,
          1.259055281551953,
          0.5918447616263801,
          -0.6822565116504726,
          -0.8928399410348654,
          -0.6615460317551572,
          0.04214420334432419,
          0.32233108348176587,
          -0.2000440217299358,
          0.326674581272999,
          0.9432398763689777,
          -0.8168202319197175,
          0.07617503642020822,
          -0.10923092299046434,
          -2.3793044960670433,
          -0.7364273736220023,
          -0.11339616677514272,
          -0.6902054596789023,
          -1.38642008999562,
          0.8495427939718966,
          -0.3878460284258634,
          -0.8089657350136299,
          -0.368755861201994,
          -0.0070429161289379105,
          -0.2524318160687466,
          -1.1110786925423664,
          1.6950918157689456,
          0.6672081179643534,
          -0.03371141339443632,
          1.9001276876037883,
          -0.9192875396872777,
          0.5871667111331204,
          -0.08438004513753744,
          0.07309561806045688,
          0.7562262739315151,
          0.4462221113646279,
          0.4266663764331806,
          0.6155194400559172,
          0.27929381908824663,
          -1.053986571099971,
          0.18020245770246723,
          -0.04058567909420326,
          1.1441406510591838,
          -0.4794020094470726,
          -1.0881453768671514,
          0.24795817635371536,
          -0.6311227016730568,
          -2.4387748259857727,
          0.9572567814279553,
          -1.8090332855133209,
          -0.16035983288459527,
          0.2862808765695702,
          -0.13959297740089516,
          -1.7815333343184052,
          0.07132219757149803,
          1.062568166469194,
          -0.5821359801529373,
          0.13735274878157913,
          -1.0609086520436461
         ],
         "xaxis": "x",
         "yaxis": "y"
        },
        {
         "line": {
          "color": "rgba(128, 128, 128, 1.0)",
          "dash": "solid",
          "shape": "linear",
          "width": 1.3
         },
         "marker": {
          "size": 2,
          "symbol": "circle"
         },
         "mode": "markers",
         "name": "A",
         "text": "",
         "type": "scatter",
         "x": [
          0.34937467752453855,
          -0.6963689003611885,
          0.49444390521925163,
          -0.5216091706513676,
          0.4724087770975294,
          -0.7451485094842482,
          -1.034922517004572,
          -0.7231837962892254,
          -0.3565877101781193,
          0.5561839128654138,
          1.4995719633555327,
          0.10904078889562052,
          0.026129809655202986,
          1.461617696540569,
          -0.5402179049296549,
          -0.20317357616560444,
          0.6218015091883577,
          0.6203131147082552,
          1.6198556238181445,
          1.3750576201475166,
          1.7665147161583103,
          0.9736869943203338,
          1.6632487833008511,
          1.1946869607840391,
          -1.3181911639397836,
          0.21483071972553233,
          0.9532299081544663,
          -0.47835866959161855,
          -0.05367608683761055,
          -0.6233004340756563,
          -0.44763279779657505,
          1.540650986930894,
          -0.10041228764413782,
          1.9740906004864247,
          0.8399728426296991,
          -0.06900862170430426,
          0.3050884857376401,
          -0.24929546241599287,
          0.22540055450182636,
          -1.9464725746598737,
          -0.013967839426258875,
          1.146660179529997,
          -1.8798754854886035,
          -0.40737114477860115,
          -0.5535966777043381,
          -0.9046493670712153,
          -0.2165903294015373,
          -1.5978791360078572,
          -1.3858322851196112,
          -1.0314493305780452,
          1.2198575387415684,
          -0.5408288300390035,
          -0.136382172634374,
          -0.8522283472752146,
          -1.105056411687845,
          -1.5317431813873281,
          1.583062570780521,
          -0.5433498971348376,
          -0.8166347685311419,
          1.188444648041088,
          1.2914964306290924,
          0.8093118784465675,
          -2.2319460048066775,
          -0.6725420748091804,
          -0.03225818317810197,
          -0.02957431018242885,
          1.3781411773100498,
          -0.20446219959169973,
          0.7892794713371499,
          0.06304076348528372,
          0.7397415414777962,
          0.07953236164410435,
          0.20439894314802834,
          -0.13400910629225057,
          -0.42058647511319996,
          -0.3945684866149251,
          2.502544202353219,
          -1.2099348465143327,
          -0.45678523003251864,
          1.658444813234687,
          -0.5805059472672414,
          -0.28552340803789444,
          0.3230214214336419,
          0.9383761746830033,
          0.01073116888838524,
          0.5290085286062141,
          -2.279993493907933,
          0.36593355315096493,
          -0.27987443799520223,
          0.5427764918925077,
          -0.19185176677469148,
          0.7150314393582368,
          1.2759738685362205,
          0.04545720514712179,
          -0.551929296600115,
          0.6566504637125637,
          0.11765627356863474,
          0.6719491850445272,
          0.6469902247765215,
          2.036967266780365
         ],
         "xaxis": "x2",
         "y": [
          -0.6035297959382414,
          -0.8168839180464849,
          -0.6156857927636435,
          -0.96809123662696,
          -0.6854691740293992,
          0.7199714768803681,
          1.446160156463076,
          1.799627965830823,
          1.7157877533685324,
          -0.17901370565073169,
          0.005449232404899039,
          -1.0833144371751064,
          -0.9551544617528701,
          -0.806542516870636,
          2.192659195836407,
          0.15416197000598228,
          0.01631753712948887,
          1.7267160752937727,
          0.57985045638903,
          0.09791585210952843,
          0.21351052704706053,
          0.2810617979115468,
          0.432292126121937,
          -1.1735741563193232,
          -1.1583974052626016,
          1.5614876377792792,
          -1.2881469804000822,
          -0.26495107714432603,
          1.3312459821437788,
          -0.08333634781307717,
          0.460140024288853,
          2.0200389221711164,
          -0.2964711710980584,
          1.7438707329329075,
          0.6965071847803438,
          0.9616884505199493,
          -1.0826686274947974,
          -0.2290348397768763,
          0.22539764253003775,
          2.3790211963457173,
          0.3472056319516496,
          0.035911286437501085,
          1.259055281551953,
          0.5918447616263801,
          -0.6822565116504726,
          -0.8928399410348654,
          -0.6615460317551572,
          0.04214420334432419,
          0.32233108348176587,
          -0.2000440217299358,
          0.326674581272999,
          0.9432398763689777,
          -0.8168202319197175,
          0.07617503642020822,
          -0.10923092299046434,
          -2.3793044960670433,
          -0.7364273736220023,
          -0.11339616677514272,
          -0.6902054596789023,
          -1.38642008999562,
          0.8495427939718966,
          -0.3878460284258634,
          -0.8089657350136299,
          -0.368755861201994,
          -0.0070429161289379105,
          -0.2524318160687466,
          -1.1110786925423664,
          1.6950918157689456,
          0.6672081179643534,
          -0.03371141339443632,
          1.9001276876037883,
          -0.9192875396872777,
          0.5871667111331204,
          -0.08438004513753744,
          0.07309561806045688,
          0.7562262739315151,
          0.4462221113646279,
          0.4266663764331806,
          0.6155194400559172,
          0.27929381908824663,
          -1.053986571099971,
          0.18020245770246723,
          -0.04058567909420326,
          1.1441406510591838,
          -0.4794020094470726,
          -1.0881453768671514,
          0.24795817635371536,
          -0.6311227016730568,
          -2.4387748259857727,
          0.9572567814279553,
          -1.8090332855133209,
          -0.16035983288459527,
          0.2862808765695702,
          -0.13959297740089516,
          -1.7815333343184052,
          0.07132219757149803,
          1.062568166469194,
          -0.5821359801529373,
          0.13735274878157913,
          -1.0609086520436461
         ],
         "yaxis": "y2"
        },
        {
         "line": {
          "color": "rgba(128, 128, 128, 1.0)",
          "dash": "solid",
          "shape": "linear",
          "width": 1.3
         },
         "marker": {
          "size": 2,
          "symbol": "circle"
         },
         "mode": "markers",
         "name": "A",
         "text": "",
         "type": "scatter",
         "x": [
          -0.45894363207003874,
          -0.722493736425623,
          0.20048308182644103,
          0.21013691749919605,
          -1.2582865634030673,
          0.15572381409310349,
          0.12722318672967606,
          -1.1172841759524756,
          -0.32167088487824663,
          1.2820924469897839,
          1.2746458957351432,
          0.19741381168422306,
          -0.026319680326124247,
          -0.6261956419918936,
          -1.827317797523706,
          1.5295751806362594,
          0.7978671095184491,
          -0.44242771455398616,
          1.2517093954017375,
          -0.4374002164271172,
          -0.2088761217760585,
          0.9914351899287585,
          -0.7757534649373191,
          0.15542069423383104,
          0.9105883849758006,
          -0.8777810552672228,
          -0.03755979623072555,
          0.41750579681315453,
          -0.49868192335410727,
          0.1359567357943551,
          0.5864092616365337,
          0.26810355894023286,
          0.4319092888365515,
          -0.33843652019396325,
          -1.556954816131435,
          0.017076645905988314,
          -1.2335428860410314,
          -0.5300277115200999,
          0.3557121879215574,
          -0.8702906692057076,
          -0.24771759336054197,
          -0.48238627289842134,
          -0.8539490525967117,
          1.6052144620788638,
          0.5948825722463177,
          0.5014783883450039,
          -1.5907686489548516,
          1.9592711941149723,
          -0.6590501882893535,
          0.6786312915292462,
          0.8007490340778324,
          0.4851452973951361,
          0.39726682011532344,
          0.5613441269665118,
          -0.36841609809838377,
          -2.301110635895323,
          1.0053731213812054,
          0.6884809214427433,
          -0.9679707519166635,
          -0.7985724226436826,
          0.9337282554968057,
          0.8016901054013353,
          -1.0864386506924104,
          0.1346620359267253,
          0.31981939534048587,
          0.4191066003474241,
          -0.9283653171090223,
          0.5651018665991434,
          0.2566207279016743,
          -0.9221379263744246,
          -0.275295703480833,
          -0.9040403621229179,
          -0.3418758056386093,
          0.882667564012617,
          -0.9575256897906781,
          -0.04220720553214903,
          0.12741630715091679,
          0.0801350988925898,
          -0.5881973704909578,
          -0.7989183038951643,
          -0.6123211464779134,
          2.0838216800295455,
          0.3860616944646757,
          -1.029595696286652,
          -0.29495079443307226,
          -1.85696806597112,
          -0.6833149525264706,
          -1.1254056305928566,
          -0.5709866578437394,
          -1.4199453804058024,
          -0.048221072258501606,
          -0.5183785708099345,
          -1.3164874905403154,
          -0.7998440621438979,
          -0.5431410573120433,
          -0.7334628539190104,
          -0.5759876195881625,
          0.2714706891156414,
          -0.1394462507553613,
          1.67677868861515
         ],
         "xaxis": "x3",
         "y": [
          -0.6035297959382414,
          -0.8168839180464849,
          -0.6156857927636435,
          -0.96809123662696,
          -0.6854691740293992,
          0.7199714768803681,
          1.446160156463076,
          1.799627965830823,
          1.7157877533685324,
          -0.17901370565073169,
          0.005449232404899039,
          -1.0833144371751064,
          -0.9551544617528701,
          -0.806542516870636,
          2.192659195836407,
          0.15416197000598228,
          0.01631753712948887,
          1.7267160752937727,
          0.57985045638903,
          0.09791585210952843,
          0.21351052704706053,
          0.2810617979115468,
          0.432292126121937,
          -1.1735741563193232,
          -1.1583974052626016,
          1.5614876377792792,
          -1.2881469804000822,
          -0.26495107714432603,
          1.3312459821437788,
          -0.08333634781307717,
          0.460140024288853,
          2.0200389221711164,
          -0.2964711710980584,
          1.7438707329329075,
          0.6965071847803438,
          0.9616884505199493,
          -1.0826686274947974,
          -0.2290348397768763,
          0.22539764253003775,
          2.3790211963457173,
          0.3472056319516496,
          0.035911286437501085,
          1.259055281551953,
          0.5918447616263801,
          -0.6822565116504726,
          -0.8928399410348654,
          -0.6615460317551572,
          0.04214420334432419,
          0.32233108348176587,
          -0.2000440217299358,
          0.326674581272999,
          0.9432398763689777,
          -0.8168202319197175,
          0.07617503642020822,
          -0.10923092299046434,
          -2.3793044960670433,
          -0.7364273736220023,
          -0.11339616677514272,
          -0.6902054596789023,
          -1.38642008999562,
          0.8495427939718966,
          -0.3878460284258634,
          -0.8089657350136299,
          -0.368755861201994,
          -0.0070429161289379105,
          -0.2524318160687466,
          -1.1110786925423664,
          1.6950918157689456,
          0.6672081179643534,
          -0.03371141339443632,
          1.9001276876037883,
          -0.9192875396872777,
          0.5871667111331204,
          -0.08438004513753744,
          0.07309561806045688,
          0.7562262739315151,
          0.4462221113646279,
          0.4266663764331806,
          0.6155194400559172,
          0.27929381908824663,
          -1.053986571099971,
          0.18020245770246723,
          -0.04058567909420326,
          1.1441406510591838,
          -0.4794020094470726,
          -1.0881453768671514,
          0.24795817635371536,
          -0.6311227016730568,
          -2.4387748259857727,
          0.9572567814279553,
          -1.8090332855133209,
          -0.16035983288459527,
          0.2862808765695702,
          -0.13959297740089516,
          -1.7815333343184052,
          0.07132219757149803,
          1.062568166469194,
          -0.5821359801529373,
          0.13735274878157913,
          -1.0609086520436461
         ],
         "yaxis": "y3"
        },
        {
         "line": {
          "color": "rgba(128, 128, 128, 1.0)",
          "dash": "solid",
          "shape": "linear",
          "width": 1.3
         },
         "marker": {
          "size": 2,
          "symbol": "circle"
         },
         "mode": "markers",
         "name": "A",
         "text": "",
         "type": "scatter",
         "x": [
          -0.34169268609277414,
          -0.34183801529160274,
          1.6062682592776023,
          -1.4450737393234019,
          -0.18522747172328866,
          -0.04069753018788604,
          0.7841468872020846,
          -1.611535831087613,
          0.1925890588357887,
          -0.7102571091807316,
          -0.9164694284920862,
          0.33078348659333273,
          1.327120173806734,
          -0.16560282354401276,
          -1.3657921245126956,
          -0.6051346730350797,
          -0.12268962327513441,
          0.0139238356541641,
          -0.8184951383923359,
          1.4568988073114435,
          0.5289402475146002,
          -1.743837024545892,
          0.9611719636513841,
          2.189351795330784,
          -0.7889314212630767,
          -1.5449007522392284,
          -1.3515124119050888,
          -0.8756587316558068,
          1.8530171382776812,
          1.9482165983272408,
          -0.8854191015533303,
          -0.5317653592338805,
          -0.08804611429214376,
          0.8810490425739139,
          0.9619079856272028,
          -0.6639964508596742,
          0.8944136624556296,
          -1.2582374112630885,
          -1.67498985383671,
          -0.5019404224796657,
          -1.617466517909237,
          0.33815522490584576,
          -0.19395511995208742,
          0.5564847798722077,
          0.7391988057687954,
          0.3864284359754881,
          1.3731110127115635,
          -1.812818992105761,
          -0.4766651921726845,
          -1.8697231000573862,
          -0.7667995982992395,
          2.2684860401190576,
          -0.24475253253371743,
          1.6589311028707305,
          -0.675376241837252,
          -0.11669023620788196,
          2.622243055593758,
          1.4984155002845336,
          -0.34564021682288026,
          1.2112516135244957,
          1.878484203150067,
          2.1620680333740823,
          -0.11580270774452468,
          -0.616590807718963,
          -0.4339821237291172,
          -0.08744975797638274,
          0.5703588245895896,
          -1.8007497542298683,
          0.30698259902780795,
          -0.7308696008707364,
          0.7412597006927252,
          1.55436335423711,
          -0.08361996181585983,
          1.105701669276414,
          -0.11208411866423354,
          0.8232462503051557,
          -1.5096306486477309,
          -1.2610073085639086,
          -0.10347061027879353,
          0.13335711264795141,
          0.7966018644090099,
          -0.5017975897580077,
          0.195065487908468,
          -0.11533106260527573,
          -1.3114838277041492,
          0.08585906865151684,
          1.0285583423417954,
          -0.8591616694968488,
          1.2497869396172856,
          0.15795189060603929,
          2.013604612560534,
          0.4533456804254915,
          -1.3495704596081035,
          -1.0930391280601481,
          -1.0645998423595764,
          -1.406992645223996,
          0.8237833699483021,
          -1.13520291306774,
          -0.35218681524264417,
          1.3879333308792428
         ],
         "xaxis": "x4",
         "y": [
          -0.6035297959382414,
          -0.8168839180464849,
          -0.6156857927636435,
          -0.96809123662696,
          -0.6854691740293992,
          0.7199714768803681,
          1.446160156463076,
          1.799627965830823,
          1.7157877533685324,
          -0.17901370565073169,
          0.005449232404899039,
          -1.0833144371751064,
          -0.9551544617528701,
          -0.806542516870636,
          2.192659195836407,
          0.15416197000598228,
          0.01631753712948887,
          1.7267160752937727,
          0.57985045638903,
          0.09791585210952843,
          0.21351052704706053,
          0.2810617979115468,
          0.432292126121937,
          -1.1735741563193232,
          -1.1583974052626016,
          1.5614876377792792,
          -1.2881469804000822,
          -0.26495107714432603,
          1.3312459821437788,
          -0.08333634781307717,
          0.460140024288853,
          2.0200389221711164,
          -0.2964711710980584,
          1.7438707329329075,
          0.6965071847803438,
          0.9616884505199493,
          -1.0826686274947974,
          -0.2290348397768763,
          0.22539764253003775,
          2.3790211963457173,
          0.3472056319516496,
          0.035911286437501085,
          1.259055281551953,
          0.5918447616263801,
          -0.6822565116504726,
          -0.8928399410348654,
          -0.6615460317551572,
          0.04214420334432419,
          0.32233108348176587,
          -0.2000440217299358,
          0.326674581272999,
          0.9432398763689777,
          -0.8168202319197175,
          0.07617503642020822,
          -0.10923092299046434,
          -2.3793044960670433,
          -0.7364273736220023,
          -0.11339616677514272,
          -0.6902054596789023,
          -1.38642008999562,
          0.8495427939718966,
          -0.3878460284258634,
          -0.8089657350136299,
          -0.368755861201994,
          -0.0070429161289379105,
          -0.2524318160687466,
          -1.1110786925423664,
          1.6950918157689456,
          0.6672081179643534,
          -0.03371141339443632,
          1.9001276876037883,
          -0.9192875396872777,
          0.5871667111331204,
          -0.08438004513753744,
          0.07309561806045688,
          0.7562262739315151,
          0.4462221113646279,
          0.4266663764331806,
          0.6155194400559172,
          0.27929381908824663,
          -1.053986571099971,
          0.18020245770246723,
          -0.04058567909420326,
          1.1441406510591838,
          -0.4794020094470726,
          -1.0881453768671514,
          0.24795817635371536,
          -0.6311227016730568,
          -2.4387748259857727,
          0.9572567814279553,
          -1.8090332855133209,
          -0.16035983288459527,
          0.2862808765695702,
          -0.13959297740089516,
          -1.7815333343184052,
          0.07132219757149803,
          1.062568166469194,
          -0.5821359801529373,
          0.13735274878157913,
          -1.0609086520436461
         ],
         "yaxis": "y4"
        },
        {
         "line": {
          "color": "rgba(128, 128, 128, 1.0)",
          "dash": "solid",
          "shape": "linear",
          "width": 1.3
         },
         "marker": {
          "size": 2,
          "symbol": "circle"
         },
         "mode": "markers",
         "name": "B",
         "text": "",
         "type": "scatter",
         "x": [
          -0.6035297959382414,
          -0.8168839180464849,
          -0.6156857927636435,
          -0.96809123662696,
          -0.6854691740293992,
          0.7199714768803681,
          1.446160156463076,
          1.799627965830823,
          1.7157877533685324,
          -0.17901370565073169,
          0.005449232404899039,
          -1.0833144371751064,
          -0.9551544617528701,
          -0.806542516870636,
          2.192659195836407,
          0.15416197000598228,
          0.01631753712948887,
          1.7267160752937727,
          0.57985045638903,
          0.09791585210952843,
          0.21351052704706053,
          0.2810617979115468,
          0.432292126121937,
          -1.1735741563193232,
          -1.1583974052626016,
          1.5614876377792792,
          -1.2881469804000822,
          -0.26495107714432603,
          1.3312459821437788,
          -0.08333634781307717,
          0.460140024288853,
          2.0200389221711164,
          -0.2964711710980584,
          1.7438707329329075,
          0.6965071847803438,
          0.9616884505199493,
          -1.0826686274947974,
          -0.2290348397768763,
          0.22539764253003775,
          2.3790211963457173,
          0.3472056319516496,
          0.035911286437501085,
          1.259055281551953,
          0.5918447616263801,
          -0.6822565116504726,
          -0.8928399410348654,
          -0.6615460317551572,
          0.04214420334432419,
          0.32233108348176587,
          -0.2000440217299358,
          0.326674581272999,
          0.9432398763689777,
          -0.8168202319197175,
          0.07617503642020822,
          -0.10923092299046434,
          -2.3793044960670433,
          -0.7364273736220023,
          -0.11339616677514272,
          -0.6902054596789023,
          -1.38642008999562,
          0.8495427939718966,
          -0.3878460284258634,
          -0.8089657350136299,
          -0.368755861201994,
          -0.0070429161289379105,
          -0.2524318160687466,
          -1.1110786925423664,
          1.6950918157689456,
          0.6672081179643534,
          -0.03371141339443632,
          1.9001276876037883,
          -0.9192875396872777,
          0.5871667111331204,
          -0.08438004513753744,
          0.07309561806045688,
          0.7562262739315151,
          0.4462221113646279,
          0.4266663764331806,
          0.6155194400559172,
          0.27929381908824663,
          -1.053986571099971,
          0.18020245770246723,
          -0.04058567909420326,
          1.1441406510591838,
          -0.4794020094470726,
          -1.0881453768671514,
          0.24795817635371536,
          -0.6311227016730568,
          -2.4387748259857727,
          0.9572567814279553,
          -1.8090332855133209,
          -0.16035983288459527,
          0.2862808765695702,
          -0.13959297740089516,
          -1.7815333343184052,
          0.07132219757149803,
          1.062568166469194,
          -0.5821359801529373,
          0.13735274878157913,
          -1.0609086520436461
         ],
         "xaxis": "x5",
         "y": [
          0.34937467752453855,
          -0.6963689003611885,
          0.49444390521925163,
          -0.5216091706513676,
          0.4724087770975294,
          -0.7451485094842482,
          -1.034922517004572,
          -0.7231837962892254,
          -0.3565877101781193,
          0.5561839128654138,
          1.4995719633555327,
          0.10904078889562052,
          0.026129809655202986,
          1.461617696540569,
          -0.5402179049296549,
          -0.20317357616560444,
          0.6218015091883577,
          0.6203131147082552,
          1.6198556238181445,
          1.3750576201475166,
          1.7665147161583103,
          0.9736869943203338,
          1.6632487833008511,
          1.1946869607840391,
          -1.3181911639397836,
          0.21483071972553233,
          0.9532299081544663,
          -0.47835866959161855,
          -0.05367608683761055,
          -0.6233004340756563,
          -0.44763279779657505,
          1.540650986930894,
          -0.10041228764413782,
          1.9740906004864247,
          0.8399728426296991,
          -0.06900862170430426,
          0.3050884857376401,
          -0.24929546241599287,
          0.22540055450182636,
          -1.9464725746598737,
          -0.013967839426258875,
          1.146660179529997,
          -1.8798754854886035,
          -0.40737114477860115,
          -0.5535966777043381,
          -0.9046493670712153,
          -0.2165903294015373,
          -1.5978791360078572,
          -1.3858322851196112,
          -1.0314493305780452,
          1.2198575387415684,
          -0.5408288300390035,
          -0.136382172634374,
          -0.8522283472752146,
          -1.105056411687845,
          -1.5317431813873281,
          1.583062570780521,
          -0.5433498971348376,
          -0.8166347685311419,
          1.188444648041088,
          1.2914964306290924,
          0.8093118784465675,
          -2.2319460048066775,
          -0.6725420748091804,
          -0.03225818317810197,
          -0.02957431018242885,
          1.3781411773100498,
          -0.20446219959169973,
          0.7892794713371499,
          0.06304076348528372,
          0.7397415414777962,
          0.07953236164410435,
          0.20439894314802834,
          -0.13400910629225057,
          -0.42058647511319996,
          -0.3945684866149251,
          2.502544202353219,
          -1.2099348465143327,
          -0.45678523003251864,
          1.658444813234687,
          -0.5805059472672414,
          -0.28552340803789444,
          0.3230214214336419,
          0.9383761746830033,
          0.01073116888838524,
          0.5290085286062141,
          -2.279993493907933,
          0.36593355315096493,
          -0.27987443799520223,
          0.5427764918925077,
          -0.19185176677469148,
          0.7150314393582368,
          1.2759738685362205,
          0.04545720514712179,
          -0.551929296600115,
          0.6566504637125637,
          0.11765627356863474,
          0.6719491850445272,
          0.6469902247765215,
          2.036967266780365
         ],
         "yaxis": "y5"
        },
        {
         "histfunc": "count",
         "histnorm": "",
         "marker": {
          "color": "rgba(55, 128, 191, 1.0)",
          "line": {
           "color": "#4D5663",
           "width": 1.3
          }
         },
         "name": "B",
         "nbinsx": 10,
         "opacity": 0.8,
         "orientation": "v",
         "type": "histogram",
         "x": [
          0.34937467752453855,
          -0.6963689003611885,
          0.49444390521925163,
          -0.5216091706513676,
          0.4724087770975294,
          -0.7451485094842482,
          -1.034922517004572,
          -0.7231837962892254,
          -0.3565877101781193,
          0.5561839128654138,
          1.4995719633555327,
          0.10904078889562052,
          0.026129809655202986,
          1.461617696540569,
          -0.5402179049296549,
          -0.20317357616560444,
          0.6218015091883577,
          0.6203131147082552,
          1.6198556238181445,
          1.3750576201475166,
          1.7665147161583103,
          0.9736869943203338,
          1.6632487833008511,
          1.1946869607840391,
          -1.3181911639397836,
          0.21483071972553233,
          0.9532299081544663,
          -0.47835866959161855,
          -0.05367608683761055,
          -0.6233004340756563,
          -0.44763279779657505,
          1.540650986930894,
          -0.10041228764413782,
          1.9740906004864247,
          0.8399728426296991,
          -0.06900862170430426,
          0.3050884857376401,
          -0.24929546241599287,
          0.22540055450182636,
          -1.9464725746598737,
          -0.013967839426258875,
          1.146660179529997,
          -1.8798754854886035,
          -0.40737114477860115,
          -0.5535966777043381,
          -0.9046493670712153,
          -0.2165903294015373,
          -1.5978791360078572,
          -1.3858322851196112,
          -1.0314493305780452,
          1.2198575387415684,
          -0.5408288300390035,
          -0.136382172634374,
          -0.8522283472752146,
          -1.105056411687845,
          -1.5317431813873281,
          1.583062570780521,
          -0.5433498971348376,
          -0.8166347685311419,
          1.188444648041088,
          1.2914964306290924,
          0.8093118784465675,
          -2.2319460048066775,
          -0.6725420748091804,
          -0.03225818317810197,
          -0.02957431018242885,
          1.3781411773100498,
          -0.20446219959169973,
          0.7892794713371499,
          0.06304076348528372,
          0.7397415414777962,
          0.07953236164410435,
          0.20439894314802834,
          -0.13400910629225057,
          -0.42058647511319996,
          -0.3945684866149251,
          2.502544202353219,
          -1.2099348465143327,
          -0.45678523003251864,
          1.658444813234687,
          -0.5805059472672414,
          -0.28552340803789444,
          0.3230214214336419,
          0.9383761746830033,
          0.01073116888838524,
          0.5290085286062141,
          -2.279993493907933,
          0.36593355315096493,
          -0.27987443799520223,
          0.5427764918925077,
          -0.19185176677469148,
          0.7150314393582368,
          1.2759738685362205,
          0.04545720514712179,
          -0.551929296600115,
          0.6566504637125637,
          0.11765627356863474,
          0.6719491850445272,
          0.6469902247765215,
          2.036967266780365
         ],
         "xaxis": "x6",
         "yaxis": "y6"
        },
        {
         "line": {
          "color": "rgba(128, 128, 128, 1.0)",
          "dash": "solid",
          "shape": "linear",
          "width": 1.3
         },
         "marker": {
          "size": 2,
          "symbol": "circle"
         },
         "mode": "markers",
         "name": "B",
         "text": "",
         "type": "scatter",
         "x": [
          -0.45894363207003874,
          -0.722493736425623,
          0.20048308182644103,
          0.21013691749919605,
          -1.2582865634030673,
          0.15572381409310349,
          0.12722318672967606,
          -1.1172841759524756,
          -0.32167088487824663,
          1.2820924469897839,
          1.2746458957351432,
          0.19741381168422306,
          -0.026319680326124247,
          -0.6261956419918936,
          -1.827317797523706,
          1.5295751806362594,
          0.7978671095184491,
          -0.44242771455398616,
          1.2517093954017375,
          -0.4374002164271172,
          -0.2088761217760585,
          0.9914351899287585,
          -0.7757534649373191,
          0.15542069423383104,
          0.9105883849758006,
          -0.8777810552672228,
          -0.03755979623072555,
          0.41750579681315453,
          -0.49868192335410727,
          0.1359567357943551,
          0.5864092616365337,
          0.26810355894023286,
          0.4319092888365515,
          -0.33843652019396325,
          -1.556954816131435,
          0.017076645905988314,
          -1.2335428860410314,
          -0.5300277115200999,
          0.3557121879215574,
          -0.8702906692057076,
          -0.24771759336054197,
          -0.48238627289842134,
          -0.8539490525967117,
          1.6052144620788638,
          0.5948825722463177,
          0.5014783883450039,
          -1.5907686489548516,
          1.9592711941149723,
          -0.6590501882893535,
          0.6786312915292462,
          0.8007490340778324,
          0.4851452973951361,
          0.39726682011532344,
          0.5613441269665118,
          -0.36841609809838377,
          -2.301110635895323,
          1.0053731213812054,
          0.6884809214427433,
          -0.9679707519166635,
          -0.7985724226436826,
          0.9337282554968057,
          0.8016901054013353,
          -1.0864386506924104,
          0.1346620359267253,
          0.31981939534048587,
          0.4191066003474241,
          -0.9283653171090223,
          0.5651018665991434,
          0.2566207279016743,
          -0.9221379263744246,
          -0.275295703480833,
          -0.9040403621229179,
          -0.3418758056386093,
          0.882667564012617,
          -0.9575256897906781,
          -0.04220720553214903,
          0.12741630715091679,
          0.0801350988925898,
          -0.5881973704909578,
          -0.7989183038951643,
          -0.6123211464779134,
          2.0838216800295455,
          0.3860616944646757,
          -1.029595696286652,
          -0.29495079443307226,
          -1.85696806597112,
          -0.6833149525264706,
          -1.1254056305928566,
          -0.5709866578437394,
          -1.4199453804058024,
          -0.048221072258501606,
          -0.5183785708099345,
          -1.3164874905403154,
          -0.7998440621438979,
          -0.5431410573120433,
          -0.7334628539190104,
          -0.5759876195881625,
          0.2714706891156414,
          -0.1394462507553613,
          1.67677868861515
         ],
         "xaxis": "x7",
         "y": [
          0.34937467752453855,
          -0.6963689003611885,
          0.49444390521925163,
          -0.5216091706513676,
          0.4724087770975294,
          -0.7451485094842482,
          -1.034922517004572,
          -0.7231837962892254,
          -0.3565877101781193,
          0.5561839128654138,
          1.4995719633555327,
          0.10904078889562052,
          0.026129809655202986,
          1.461617696540569,
          -0.5402179049296549,
          -0.20317357616560444,
          0.6218015091883577,
          0.6203131147082552,
          1.6198556238181445,
          1.3750576201475166,
          1.7665147161583103,
          0.9736869943203338,
          1.6632487833008511,
          1.1946869607840391,
          -1.3181911639397836,
          0.21483071972553233,
          0.9532299081544663,
          -0.47835866959161855,
          -0.05367608683761055,
          -0.6233004340756563,
          -0.44763279779657505,
          1.540650986930894,
          -0.10041228764413782,
          1.9740906004864247,
          0.8399728426296991,
          -0.06900862170430426,
          0.3050884857376401,
          -0.24929546241599287,
          0.22540055450182636,
          -1.9464725746598737,
          -0.013967839426258875,
          1.146660179529997,
          -1.8798754854886035,
          -0.40737114477860115,
          -0.5535966777043381,
          -0.9046493670712153,
          -0.2165903294015373,
          -1.5978791360078572,
          -1.3858322851196112,
          -1.0314493305780452,
          1.2198575387415684,
          -0.5408288300390035,
          -0.136382172634374,
          -0.8522283472752146,
          -1.105056411687845,
          -1.5317431813873281,
          1.583062570780521,
          -0.5433498971348376,
          -0.8166347685311419,
          1.188444648041088,
          1.2914964306290924,
          0.8093118784465675,
          -2.2319460048066775,
          -0.6725420748091804,
          -0.03225818317810197,
          -0.02957431018242885,
          1.3781411773100498,
          -0.20446219959169973,
          0.7892794713371499,
          0.06304076348528372,
          0.7397415414777962,
          0.07953236164410435,
          0.20439894314802834,
          -0.13400910629225057,
          -0.42058647511319996,
          -0.3945684866149251,
          2.502544202353219,
          -1.2099348465143327,
          -0.45678523003251864,
          1.658444813234687,
          -0.5805059472672414,
          -0.28552340803789444,
          0.3230214214336419,
          0.9383761746830033,
          0.01073116888838524,
          0.5290085286062141,
          -2.279993493907933,
          0.36593355315096493,
          -0.27987443799520223,
          0.5427764918925077,
          -0.19185176677469148,
          0.7150314393582368,
          1.2759738685362205,
          0.04545720514712179,
          -0.551929296600115,
          0.6566504637125637,
          0.11765627356863474,
          0.6719491850445272,
          0.6469902247765215,
          2.036967266780365
         ],
         "yaxis": "y7"
        },
        {
         "line": {
          "color": "rgba(128, 128, 128, 1.0)",
          "dash": "solid",
          "shape": "linear",
          "width": 1.3
         },
         "marker": {
          "size": 2,
          "symbol": "circle"
         },
         "mode": "markers",
         "name": "B",
         "text": "",
         "type": "scatter",
         "x": [
          -0.34169268609277414,
          -0.34183801529160274,
          1.6062682592776023,
          -1.4450737393234019,
          -0.18522747172328866,
          -0.04069753018788604,
          0.7841468872020846,
          -1.611535831087613,
          0.1925890588357887,
          -0.7102571091807316,
          -0.9164694284920862,
          0.33078348659333273,
          1.327120173806734,
          -0.16560282354401276,
          -1.3657921245126956,
          -0.6051346730350797,
          -0.12268962327513441,
          0.0139238356541641,
          -0.8184951383923359,
          1.4568988073114435,
          0.5289402475146002,
          -1.743837024545892,
          0.9611719636513841,
          2.189351795330784,
          -0.7889314212630767,
          -1.5449007522392284,
          -1.3515124119050888,
          -0.8756587316558068,
          1.8530171382776812,
          1.9482165983272408,
          -0.8854191015533303,
          -0.5317653592338805,
          -0.08804611429214376,
          0.8810490425739139,
          0.9619079856272028,
          -0.6639964508596742,
          0.8944136624556296,
          -1.2582374112630885,
          -1.67498985383671,
          -0.5019404224796657,
          -1.617466517909237,
          0.33815522490584576,
          -0.19395511995208742,
          0.5564847798722077,
          0.7391988057687954,
          0.3864284359754881,
          1.3731110127115635,
          -1.812818992105761,
          -0.4766651921726845,
          -1.8697231000573862,
          -0.7667995982992395,
          2.2684860401190576,
          -0.24475253253371743,
          1.6589311028707305,
          -0.675376241837252,
          -0.11669023620788196,
          2.622243055593758,
          1.4984155002845336,
          -0.34564021682288026,
          1.2112516135244957,
          1.878484203150067,
          2.1620680333740823,
          -0.11580270774452468,
          -0.616590807718963,
          -0.4339821237291172,
          -0.08744975797638274,
          0.5703588245895896,
          -1.8007497542298683,
          0.30698259902780795,
          -0.7308696008707364,
          0.7412597006927252,
          1.55436335423711,
          -0.08361996181585983,
          1.105701669276414,
          -0.11208411866423354,
          0.8232462503051557,
          -1.5096306486477309,
          -1.2610073085639086,
          -0.10347061027879353,
          0.13335711264795141,
          0.7966018644090099,
          -0.5017975897580077,
          0.195065487908468,
          -0.11533106260527573,
          -1.3114838277041492,
          0.08585906865151684,
          1.0285583423417954,
          -0.8591616694968488,
          1.2497869396172856,
          0.15795189060603929,
          2.013604612560534,
          0.4533456804254915,
          -1.3495704596081035,
          -1.0930391280601481,
          -1.0645998423595764,
          -1.406992645223996,
          0.8237833699483021,
          -1.13520291306774,
          -0.35218681524264417,
          1.3879333308792428
         ],
         "xaxis": "x8",
         "y": [
          0.34937467752453855,
          -0.6963689003611885,
          0.49444390521925163,
          -0.5216091706513676,
          0.4724087770975294,
          -0.7451485094842482,
          -1.034922517004572,
          -0.7231837962892254,
          -0.3565877101781193,
          0.5561839128654138,
          1.4995719633555327,
          0.10904078889562052,
          0.026129809655202986,
          1.461617696540569,
          -0.5402179049296549,
          -0.20317357616560444,
          0.6218015091883577,
          0.6203131147082552,
          1.6198556238181445,
          1.3750576201475166,
          1.7665147161583103,
          0.9736869943203338,
          1.6632487833008511,
          1.1946869607840391,
          -1.3181911639397836,
          0.21483071972553233,
          0.9532299081544663,
          -0.47835866959161855,
          -0.05367608683761055,
          -0.6233004340756563,
          -0.44763279779657505,
          1.540650986930894,
          -0.10041228764413782,
          1.9740906004864247,
          0.8399728426296991,
          -0.06900862170430426,
          0.3050884857376401,
          -0.24929546241599287,
          0.22540055450182636,
          -1.9464725746598737,
          -0.013967839426258875,
          1.146660179529997,
          -1.8798754854886035,
          -0.40737114477860115,
          -0.5535966777043381,
          -0.9046493670712153,
          -0.2165903294015373,
          -1.5978791360078572,
          -1.3858322851196112,
          -1.0314493305780452,
          1.2198575387415684,
          -0.5408288300390035,
          -0.136382172634374,
          -0.8522283472752146,
          -1.105056411687845,
          -1.5317431813873281,
          1.583062570780521,
          -0.5433498971348376,
          -0.8166347685311419,
          1.188444648041088,
          1.2914964306290924,
          0.8093118784465675,
          -2.2319460048066775,
          -0.6725420748091804,
          -0.03225818317810197,
          -0.02957431018242885,
          1.3781411773100498,
          -0.20446219959169973,
          0.7892794713371499,
          0.06304076348528372,
          0.7397415414777962,
          0.07953236164410435,
          0.20439894314802834,
          -0.13400910629225057,
          -0.42058647511319996,
          -0.3945684866149251,
          2.502544202353219,
          -1.2099348465143327,
          -0.45678523003251864,
          1.658444813234687,
          -0.5805059472672414,
          -0.28552340803789444,
          0.3230214214336419,
          0.9383761746830033,
          0.01073116888838524,
          0.5290085286062141,
          -2.279993493907933,
          0.36593355315096493,
          -0.27987443799520223,
          0.5427764918925077,
          -0.19185176677469148,
          0.7150314393582368,
          1.2759738685362205,
          0.04545720514712179,
          -0.551929296600115,
          0.6566504637125637,
          0.11765627356863474,
          0.6719491850445272,
          0.6469902247765215,
          2.036967266780365
         ],
         "yaxis": "y8"
        },
        {
         "line": {
          "color": "rgba(128, 128, 128, 1.0)",
          "dash": "solid",
          "shape": "linear",
          "width": 1.3
         },
         "marker": {
          "size": 2,
          "symbol": "circle"
         },
         "mode": "markers",
         "name": "C",
         "text": "",
         "type": "scatter",
         "x": [
          -0.6035297959382414,
          -0.8168839180464849,
          -0.6156857927636435,
          -0.96809123662696,
          -0.6854691740293992,
          0.7199714768803681,
          1.446160156463076,
          1.799627965830823,
          1.7157877533685324,
          -0.17901370565073169,
          0.005449232404899039,
          -1.0833144371751064,
          -0.9551544617528701,
          -0.806542516870636,
          2.192659195836407,
          0.15416197000598228,
          0.01631753712948887,
          1.7267160752937727,
          0.57985045638903,
          0.09791585210952843,
          0.21351052704706053,
          0.2810617979115468,
          0.432292126121937,
          -1.1735741563193232,
          -1.1583974052626016,
          1.5614876377792792,
          -1.2881469804000822,
          -0.26495107714432603,
          1.3312459821437788,
          -0.08333634781307717,
          0.460140024288853,
          2.0200389221711164,
          -0.2964711710980584,
          1.7438707329329075,
          0.6965071847803438,
          0.9616884505199493,
          -1.0826686274947974,
          -0.2290348397768763,
          0.22539764253003775,
          2.3790211963457173,
          0.3472056319516496,
          0.035911286437501085,
          1.259055281551953,
          0.5918447616263801,
          -0.6822565116504726,
          -0.8928399410348654,
          -0.6615460317551572,
          0.04214420334432419,
          0.32233108348176587,
          -0.2000440217299358,
          0.326674581272999,
          0.9432398763689777,
          -0.8168202319197175,
          0.07617503642020822,
          -0.10923092299046434,
          -2.3793044960670433,
          -0.7364273736220023,
          -0.11339616677514272,
          -0.6902054596789023,
          -1.38642008999562,
          0.8495427939718966,
          -0.3878460284258634,
          -0.8089657350136299,
          -0.368755861201994,
          -0.0070429161289379105,
          -0.2524318160687466,
          -1.1110786925423664,
          1.6950918157689456,
          0.6672081179643534,
          -0.03371141339443632,
          1.9001276876037883,
          -0.9192875396872777,
          0.5871667111331204,
          -0.08438004513753744,
          0.07309561806045688,
          0.7562262739315151,
          0.4462221113646279,
          0.4266663764331806,
          0.6155194400559172,
          0.27929381908824663,
          -1.053986571099971,
          0.18020245770246723,
          -0.04058567909420326,
          1.1441406510591838,
          -0.4794020094470726,
          -1.0881453768671514,
          0.24795817635371536,
          -0.6311227016730568,
          -2.4387748259857727,
          0.9572567814279553,
          -1.8090332855133209,
          -0.16035983288459527,
          0.2862808765695702,
          -0.13959297740089516,
          -1.7815333343184052,
          0.07132219757149803,
          1.062568166469194,
          -0.5821359801529373,
          0.13735274878157913,
          -1.0609086520436461
         ],
         "xaxis": "x9",
         "y": [
          -0.45894363207003874,
          -0.722493736425623,
          0.20048308182644103,
          0.21013691749919605,
          -1.2582865634030673,
          0.15572381409310349,
          0.12722318672967606,
          -1.1172841759524756,
          -0.32167088487824663,
          1.2820924469897839,
          1.2746458957351432,
          0.19741381168422306,
          -0.026319680326124247,
          -0.6261956419918936,
          -1.827317797523706,
          1.5295751806362594,
          0.7978671095184491,
          -0.44242771455398616,
          1.2517093954017375,
          -0.4374002164271172,
          -0.2088761217760585,
          0.9914351899287585,
          -0.7757534649373191,
          0.15542069423383104,
          0.9105883849758006,
          -0.8777810552672228,
          -0.03755979623072555,
          0.41750579681315453,
          -0.49868192335410727,
          0.1359567357943551,
          0.5864092616365337,
          0.26810355894023286,
          0.4319092888365515,
          -0.33843652019396325,
          -1.556954816131435,
          0.017076645905988314,
          -1.2335428860410314,
          -0.5300277115200999,
          0.3557121879215574,
          -0.8702906692057076,
          -0.24771759336054197,
          -0.48238627289842134,
          -0.8539490525967117,
          1.6052144620788638,
          0.5948825722463177,
          0.5014783883450039,
          -1.5907686489548516,
          1.9592711941149723,
          -0.6590501882893535,
          0.6786312915292462,
          0.8007490340778324,
          0.4851452973951361,
          0.39726682011532344,
          0.5613441269665118,
          -0.36841609809838377,
          -2.301110635895323,
          1.0053731213812054,
          0.6884809214427433,
          -0.9679707519166635,
          -0.7985724226436826,
          0.9337282554968057,
          0.8016901054013353,
          -1.0864386506924104,
          0.1346620359267253,
          0.31981939534048587,
          0.4191066003474241,
          -0.9283653171090223,
          0.5651018665991434,
          0.2566207279016743,
          -0.9221379263744246,
          -0.275295703480833,
          -0.9040403621229179,
          -0.3418758056386093,
          0.882667564012617,
          -0.9575256897906781,
          -0.04220720553214903,
          0.12741630715091679,
          0.0801350988925898,
          -0.5881973704909578,
          -0.7989183038951643,
          -0.6123211464779134,
          2.0838216800295455,
          0.3860616944646757,
          -1.029595696286652,
          -0.29495079443307226,
          -1.85696806597112,
          -0.6833149525264706,
          -1.1254056305928566,
          -0.5709866578437394,
          -1.4199453804058024,
          -0.048221072258501606,
          -0.5183785708099345,
          -1.3164874905403154,
          -0.7998440621438979,
          -0.5431410573120433,
          -0.7334628539190104,
          -0.5759876195881625,
          0.2714706891156414,
          -0.1394462507553613,
          1.67677868861515
         ],
         "yaxis": "y9"
        },
        {
         "line": {
          "color": "rgba(128, 128, 128, 1.0)",
          "dash": "solid",
          "shape": "linear",
          "width": 1.3
         },
         "marker": {
          "size": 2,
          "symbol": "circle"
         },
         "mode": "markers",
         "name": "C",
         "text": "",
         "type": "scatter",
         "x": [
          0.34937467752453855,
          -0.6963689003611885,
          0.49444390521925163,
          -0.5216091706513676,
          0.4724087770975294,
          -0.7451485094842482,
          -1.034922517004572,
          -0.7231837962892254,
          -0.3565877101781193,
          0.5561839128654138,
          1.4995719633555327,
          0.10904078889562052,
          0.026129809655202986,
          1.461617696540569,
          -0.5402179049296549,
          -0.20317357616560444,
          0.6218015091883577,
          0.6203131147082552,
          1.6198556238181445,
          1.3750576201475166,
          1.7665147161583103,
          0.9736869943203338,
          1.6632487833008511,
          1.1946869607840391,
          -1.3181911639397836,
          0.21483071972553233,
          0.9532299081544663,
          -0.47835866959161855,
          -0.05367608683761055,
          -0.6233004340756563,
          -0.44763279779657505,
          1.540650986930894,
          -0.10041228764413782,
          1.9740906004864247,
          0.8399728426296991,
          -0.06900862170430426,
          0.3050884857376401,
          -0.24929546241599287,
          0.22540055450182636,
          -1.9464725746598737,
          -0.013967839426258875,
          1.146660179529997,
          -1.8798754854886035,
          -0.40737114477860115,
          -0.5535966777043381,
          -0.9046493670712153,
          -0.2165903294015373,
          -1.5978791360078572,
          -1.3858322851196112,
          -1.0314493305780452,
          1.2198575387415684,
          -0.5408288300390035,
          -0.136382172634374,
          -0.8522283472752146,
          -1.105056411687845,
          -1.5317431813873281,
          1.583062570780521,
          -0.5433498971348376,
          -0.8166347685311419,
          1.188444648041088,
          1.2914964306290924,
          0.8093118784465675,
          -2.2319460048066775,
          -0.6725420748091804,
          -0.03225818317810197,
          -0.02957431018242885,
          1.3781411773100498,
          -0.20446219959169973,
          0.7892794713371499,
          0.06304076348528372,
          0.7397415414777962,
          0.07953236164410435,
          0.20439894314802834,
          -0.13400910629225057,
          -0.42058647511319996,
          -0.3945684866149251,
          2.502544202353219,
          -1.2099348465143327,
          -0.45678523003251864,
          1.658444813234687,
          -0.5805059472672414,
          -0.28552340803789444,
          0.3230214214336419,
          0.9383761746830033,
          0.01073116888838524,
          0.5290085286062141,
          -2.279993493907933,
          0.36593355315096493,
          -0.27987443799520223,
          0.5427764918925077,
          -0.19185176677469148,
          0.7150314393582368,
          1.2759738685362205,
          0.04545720514712179,
          -0.551929296600115,
          0.6566504637125637,
          0.11765627356863474,
          0.6719491850445272,
          0.6469902247765215,
          2.036967266780365
         ],
         "xaxis": "x10",
         "y": [
          -0.45894363207003874,
          -0.722493736425623,
          0.20048308182644103,
          0.21013691749919605,
          -1.2582865634030673,
          0.15572381409310349,
          0.12722318672967606,
          -1.1172841759524756,
          -0.32167088487824663,
          1.2820924469897839,
          1.2746458957351432,
          0.19741381168422306,
          -0.026319680326124247,
          -0.6261956419918936,
          -1.827317797523706,
          1.5295751806362594,
          0.7978671095184491,
          -0.44242771455398616,
          1.2517093954017375,
          -0.4374002164271172,
          -0.2088761217760585,
          0.9914351899287585,
          -0.7757534649373191,
          0.15542069423383104,
          0.9105883849758006,
          -0.8777810552672228,
          -0.03755979623072555,
          0.41750579681315453,
          -0.49868192335410727,
          0.1359567357943551,
          0.5864092616365337,
          0.26810355894023286,
          0.4319092888365515,
          -0.33843652019396325,
          -1.556954816131435,
          0.017076645905988314,
          -1.2335428860410314,
          -0.5300277115200999,
          0.3557121879215574,
          -0.8702906692057076,
          -0.24771759336054197,
          -0.48238627289842134,
          -0.8539490525967117,
          1.6052144620788638,
          0.5948825722463177,
          0.5014783883450039,
          -1.5907686489548516,
          1.9592711941149723,
          -0.6590501882893535,
          0.6786312915292462,
          0.8007490340778324,
          0.4851452973951361,
          0.39726682011532344,
          0.5613441269665118,
          -0.36841609809838377,
          -2.301110635895323,
          1.0053731213812054,
          0.6884809214427433,
          -0.9679707519166635,
          -0.7985724226436826,
          0.9337282554968057,
          0.8016901054013353,
          -1.0864386506924104,
          0.1346620359267253,
          0.31981939534048587,
          0.4191066003474241,
          -0.9283653171090223,
          0.5651018665991434,
          0.2566207279016743,
          -0.9221379263744246,
          -0.275295703480833,
          -0.9040403621229179,
          -0.3418758056386093,
          0.882667564012617,
          -0.9575256897906781,
          -0.04220720553214903,
          0.12741630715091679,
          0.0801350988925898,
          -0.5881973704909578,
          -0.7989183038951643,
          -0.6123211464779134,
          2.0838216800295455,
          0.3860616944646757,
          -1.029595696286652,
          -0.29495079443307226,
          -1.85696806597112,
          -0.6833149525264706,
          -1.1254056305928566,
          -0.5709866578437394,
          -1.4199453804058024,
          -0.048221072258501606,
          -0.5183785708099345,
          -1.3164874905403154,
          -0.7998440621438979,
          -0.5431410573120433,
          -0.7334628539190104,
          -0.5759876195881625,
          0.2714706891156414,
          -0.1394462507553613,
          1.67677868861515
         ],
         "yaxis": "y10"
        },
        {
         "histfunc": "count",
         "histnorm": "",
         "marker": {
          "color": "rgba(50, 171, 96, 1.0)",
          "line": {
           "color": "#4D5663",
           "width": 1.3
          }
         },
         "name": "C",
         "nbinsx": 10,
         "opacity": 0.8,
         "orientation": "v",
         "type": "histogram",
         "x": [
          -0.45894363207003874,
          -0.722493736425623,
          0.20048308182644103,
          0.21013691749919605,
          -1.2582865634030673,
          0.15572381409310349,
          0.12722318672967606,
          -1.1172841759524756,
          -0.32167088487824663,
          1.2820924469897839,
          1.2746458957351432,
          0.19741381168422306,
          -0.026319680326124247,
          -0.6261956419918936,
          -1.827317797523706,
          1.5295751806362594,
          0.7978671095184491,
          -0.44242771455398616,
          1.2517093954017375,
          -0.4374002164271172,
          -0.2088761217760585,
          0.9914351899287585,
          -0.7757534649373191,
          0.15542069423383104,
          0.9105883849758006,
          -0.8777810552672228,
          -0.03755979623072555,
          0.41750579681315453,
          -0.49868192335410727,
          0.1359567357943551,
          0.5864092616365337,
          0.26810355894023286,
          0.4319092888365515,
          -0.33843652019396325,
          -1.556954816131435,
          0.017076645905988314,
          -1.2335428860410314,
          -0.5300277115200999,
          0.3557121879215574,
          -0.8702906692057076,
          -0.24771759336054197,
          -0.48238627289842134,
          -0.8539490525967117,
          1.6052144620788638,
          0.5948825722463177,
          0.5014783883450039,
          -1.5907686489548516,
          1.9592711941149723,
          -0.6590501882893535,
          0.6786312915292462,
          0.8007490340778324,
          0.4851452973951361,
          0.39726682011532344,
          0.5613441269665118,
          -0.36841609809838377,
          -2.301110635895323,
          1.0053731213812054,
          0.6884809214427433,
          -0.9679707519166635,
          -0.7985724226436826,
          0.9337282554968057,
          0.8016901054013353,
          -1.0864386506924104,
          0.1346620359267253,
          0.31981939534048587,
          0.4191066003474241,
          -0.9283653171090223,
          0.5651018665991434,
          0.2566207279016743,
          -0.9221379263744246,
          -0.275295703480833,
          -0.9040403621229179,
          -0.3418758056386093,
          0.882667564012617,
          -0.9575256897906781,
          -0.04220720553214903,
          0.12741630715091679,
          0.0801350988925898,
          -0.5881973704909578,
          -0.7989183038951643,
          -0.6123211464779134,
          2.0838216800295455,
          0.3860616944646757,
          -1.029595696286652,
          -0.29495079443307226,
          -1.85696806597112,
          -0.6833149525264706,
          -1.1254056305928566,
          -0.5709866578437394,
          -1.4199453804058024,
          -0.048221072258501606,
          -0.5183785708099345,
          -1.3164874905403154,
          -0.7998440621438979,
          -0.5431410573120433,
          -0.7334628539190104,
          -0.5759876195881625,
          0.2714706891156414,
          -0.1394462507553613,
          1.67677868861515
         ],
         "xaxis": "x11",
         "yaxis": "y11"
        },
        {
         "line": {
          "color": "rgba(128, 128, 128, 1.0)",
          "dash": "solid",
          "shape": "linear",
          "width": 1.3
         },
         "marker": {
          "size": 2,
          "symbol": "circle"
         },
         "mode": "markers",
         "name": "C",
         "text": "",
         "type": "scatter",
         "x": [
          -0.34169268609277414,
          -0.34183801529160274,
          1.6062682592776023,
          -1.4450737393234019,
          -0.18522747172328866,
          -0.04069753018788604,
          0.7841468872020846,
          -1.611535831087613,
          0.1925890588357887,
          -0.7102571091807316,
          -0.9164694284920862,
          0.33078348659333273,
          1.327120173806734,
          -0.16560282354401276,
          -1.3657921245126956,
          -0.6051346730350797,
          -0.12268962327513441,
          0.0139238356541641,
          -0.8184951383923359,
          1.4568988073114435,
          0.5289402475146002,
          -1.743837024545892,
          0.9611719636513841,
          2.189351795330784,
          -0.7889314212630767,
          -1.5449007522392284,
          -1.3515124119050888,
          -0.8756587316558068,
          1.8530171382776812,
          1.9482165983272408,
          -0.8854191015533303,
          -0.5317653592338805,
          -0.08804611429214376,
          0.8810490425739139,
          0.9619079856272028,
          -0.6639964508596742,
          0.8944136624556296,
          -1.2582374112630885,
          -1.67498985383671,
          -0.5019404224796657,
          -1.617466517909237,
          0.33815522490584576,
          -0.19395511995208742,
          0.5564847798722077,
          0.7391988057687954,
          0.3864284359754881,
          1.3731110127115635,
          -1.812818992105761,
          -0.4766651921726845,
          -1.8697231000573862,
          -0.7667995982992395,
          2.2684860401190576,
          -0.24475253253371743,
          1.6589311028707305,
          -0.675376241837252,
          -0.11669023620788196,
          2.622243055593758,
          1.4984155002845336,
          -0.34564021682288026,
          1.2112516135244957,
          1.878484203150067,
          2.1620680333740823,
          -0.11580270774452468,
          -0.616590807718963,
          -0.4339821237291172,
          -0.08744975797638274,
          0.5703588245895896,
          -1.8007497542298683,
          0.30698259902780795,
          -0.7308696008707364,
          0.7412597006927252,
          1.55436335423711,
          -0.08361996181585983,
          1.105701669276414,
          -0.11208411866423354,
          0.8232462503051557,
          -1.5096306486477309,
          -1.2610073085639086,
          -0.10347061027879353,
          0.13335711264795141,
          0.7966018644090099,
          -0.5017975897580077,
          0.195065487908468,
          -0.11533106260527573,
          -1.3114838277041492,
          0.08585906865151684,
          1.0285583423417954,
          -0.8591616694968488,
          1.2497869396172856,
          0.15795189060603929,
          2.013604612560534,
          0.4533456804254915,
          -1.3495704596081035,
          -1.0930391280601481,
          -1.0645998423595764,
          -1.406992645223996,
          0.8237833699483021,
          -1.13520291306774,
          -0.35218681524264417,
          1.3879333308792428
         ],
         "xaxis": "x12",
         "y": [
          -0.45894363207003874,
          -0.722493736425623,
          0.20048308182644103,
          0.21013691749919605,
          -1.2582865634030673,
          0.15572381409310349,
          0.12722318672967606,
          -1.1172841759524756,
          -0.32167088487824663,
          1.2820924469897839,
          1.2746458957351432,
          0.19741381168422306,
          -0.026319680326124247,
          -0.6261956419918936,
          -1.827317797523706,
          1.5295751806362594,
          0.7978671095184491,
          -0.44242771455398616,
          1.2517093954017375,
          -0.4374002164271172,
          -0.2088761217760585,
          0.9914351899287585,
          -0.7757534649373191,
          0.15542069423383104,
          0.9105883849758006,
          -0.8777810552672228,
          -0.03755979623072555,
          0.41750579681315453,
          -0.49868192335410727,
          0.1359567357943551,
          0.5864092616365337,
          0.26810355894023286,
          0.4319092888365515,
          -0.33843652019396325,
          -1.556954816131435,
          0.017076645905988314,
          -1.2335428860410314,
          -0.5300277115200999,
          0.3557121879215574,
          -0.8702906692057076,
          -0.24771759336054197,
          -0.48238627289842134,
          -0.8539490525967117,
          1.6052144620788638,
          0.5948825722463177,
          0.5014783883450039,
          -1.5907686489548516,
          1.9592711941149723,
          -0.6590501882893535,
          0.6786312915292462,
          0.8007490340778324,
          0.4851452973951361,
          0.39726682011532344,
          0.5613441269665118,
          -0.36841609809838377,
          -2.301110635895323,
          1.0053731213812054,
          0.6884809214427433,
          -0.9679707519166635,
          -0.7985724226436826,
          0.9337282554968057,
          0.8016901054013353,
          -1.0864386506924104,
          0.1346620359267253,
          0.31981939534048587,
          0.4191066003474241,
          -0.9283653171090223,
          0.5651018665991434,
          0.2566207279016743,
          -0.9221379263744246,
          -0.275295703480833,
          -0.9040403621229179,
          -0.3418758056386093,
          0.882667564012617,
          -0.9575256897906781,
          -0.04220720553214903,
          0.12741630715091679,
          0.0801350988925898,
          -0.5881973704909578,
          -0.7989183038951643,
          -0.6123211464779134,
          2.0838216800295455,
          0.3860616944646757,
          -1.029595696286652,
          -0.29495079443307226,
          -1.85696806597112,
          -0.6833149525264706,
          -1.1254056305928566,
          -0.5709866578437394,
          -1.4199453804058024,
          -0.048221072258501606,
          -0.5183785708099345,
          -1.3164874905403154,
          -0.7998440621438979,
          -0.5431410573120433,
          -0.7334628539190104,
          -0.5759876195881625,
          0.2714706891156414,
          -0.1394462507553613,
          1.67677868861515
         ],
         "yaxis": "y12"
        },
        {
         "line": {
          "color": "rgba(128, 128, 128, 1.0)",
          "dash": "solid",
          "shape": "linear",
          "width": 1.3
         },
         "marker": {
          "size": 2,
          "symbol": "circle"
         },
         "mode": "markers",
         "name": "D",
         "text": "",
         "type": "scatter",
         "x": [
          -0.6035297959382414,
          -0.8168839180464849,
          -0.6156857927636435,
          -0.96809123662696,
          -0.6854691740293992,
          0.7199714768803681,
          1.446160156463076,
          1.799627965830823,
          1.7157877533685324,
          -0.17901370565073169,
          0.005449232404899039,
          -1.0833144371751064,
          -0.9551544617528701,
          -0.806542516870636,
          2.192659195836407,
          0.15416197000598228,
          0.01631753712948887,
          1.7267160752937727,
          0.57985045638903,
          0.09791585210952843,
          0.21351052704706053,
          0.2810617979115468,
          0.432292126121937,
          -1.1735741563193232,
          -1.1583974052626016,
          1.5614876377792792,
          -1.2881469804000822,
          -0.26495107714432603,
          1.3312459821437788,
          -0.08333634781307717,
          0.460140024288853,
          2.0200389221711164,
          -0.2964711710980584,
          1.7438707329329075,
          0.6965071847803438,
          0.9616884505199493,
          -1.0826686274947974,
          -0.2290348397768763,
          0.22539764253003775,
          2.3790211963457173,
          0.3472056319516496,
          0.035911286437501085,
          1.259055281551953,
          0.5918447616263801,
          -0.6822565116504726,
          -0.8928399410348654,
          -0.6615460317551572,
          0.04214420334432419,
          0.32233108348176587,
          -0.2000440217299358,
          0.326674581272999,
          0.9432398763689777,
          -0.8168202319197175,
          0.07617503642020822,
          -0.10923092299046434,
          -2.3793044960670433,
          -0.7364273736220023,
          -0.11339616677514272,
          -0.6902054596789023,
          -1.38642008999562,
          0.8495427939718966,
          -0.3878460284258634,
          -0.8089657350136299,
          -0.368755861201994,
          -0.0070429161289379105,
          -0.2524318160687466,
          -1.1110786925423664,
          1.6950918157689456,
          0.6672081179643534,
          -0.03371141339443632,
          1.9001276876037883,
          -0.9192875396872777,
          0.5871667111331204,
          -0.08438004513753744,
          0.07309561806045688,
          0.7562262739315151,
          0.4462221113646279,
          0.4266663764331806,
          0.6155194400559172,
          0.27929381908824663,
          -1.053986571099971,
          0.18020245770246723,
          -0.04058567909420326,
          1.1441406510591838,
          -0.4794020094470726,
          -1.0881453768671514,
          0.24795817635371536,
          -0.6311227016730568,
          -2.4387748259857727,
          0.9572567814279553,
          -1.8090332855133209,
          -0.16035983288459527,
          0.2862808765695702,
          -0.13959297740089516,
          -1.7815333343184052,
          0.07132219757149803,
          1.062568166469194,
          -0.5821359801529373,
          0.13735274878157913,
          -1.0609086520436461
         ],
         "xaxis": "x13",
         "y": [
          -0.34169268609277414,
          -0.34183801529160274,
          1.6062682592776023,
          -1.4450737393234019,
          -0.18522747172328866,
          -0.04069753018788604,
          0.7841468872020846,
          -1.611535831087613,
          0.1925890588357887,
          -0.7102571091807316,
          -0.9164694284920862,
          0.33078348659333273,
          1.327120173806734,
          -0.16560282354401276,
          -1.3657921245126956,
          -0.6051346730350797,
          -0.12268962327513441,
          0.0139238356541641,
          -0.8184951383923359,
          1.4568988073114435,
          0.5289402475146002,
          -1.743837024545892,
          0.9611719636513841,
          2.189351795330784,
          -0.7889314212630767,
          -1.5449007522392284,
          -1.3515124119050888,
          -0.8756587316558068,
          1.8530171382776812,
          1.9482165983272408,
          -0.8854191015533303,
          -0.5317653592338805,
          -0.08804611429214376,
          0.8810490425739139,
          0.9619079856272028,
          -0.6639964508596742,
          0.8944136624556296,
          -1.2582374112630885,
          -1.67498985383671,
          -0.5019404224796657,
          -1.617466517909237,
          0.33815522490584576,
          -0.19395511995208742,
          0.5564847798722077,
          0.7391988057687954,
          0.3864284359754881,
          1.3731110127115635,
          -1.812818992105761,
          -0.4766651921726845,
          -1.8697231000573862,
          -0.7667995982992395,
          2.2684860401190576,
          -0.24475253253371743,
          1.6589311028707305,
          -0.675376241837252,
          -0.11669023620788196,
          2.622243055593758,
          1.4984155002845336,
          -0.34564021682288026,
          1.2112516135244957,
          1.878484203150067,
          2.1620680333740823,
          -0.11580270774452468,
          -0.616590807718963,
          -0.4339821237291172,
          -0.08744975797638274,
          0.5703588245895896,
          -1.8007497542298683,
          0.30698259902780795,
          -0.7308696008707364,
          0.7412597006927252,
          1.55436335423711,
          -0.08361996181585983,
          1.105701669276414,
          -0.11208411866423354,
          0.8232462503051557,
          -1.5096306486477309,
          -1.2610073085639086,
          -0.10347061027879353,
          0.13335711264795141,
          0.7966018644090099,
          -0.5017975897580077,
          0.195065487908468,
          -0.11533106260527573,
          -1.3114838277041492,
          0.08585906865151684,
          1.0285583423417954,
          -0.8591616694968488,
          1.2497869396172856,
          0.15795189060603929,
          2.013604612560534,
          0.4533456804254915,
          -1.3495704596081035,
          -1.0930391280601481,
          -1.0645998423595764,
          -1.406992645223996,
          0.8237833699483021,
          -1.13520291306774,
          -0.35218681524264417,
          1.3879333308792428
         ],
         "yaxis": "y13"
        },
        {
         "line": {
          "color": "rgba(128, 128, 128, 1.0)",
          "dash": "solid",
          "shape": "linear",
          "width": 1.3
         },
         "marker": {
          "size": 2,
          "symbol": "circle"
         },
         "mode": "markers",
         "name": "D",
         "text": "",
         "type": "scatter",
         "x": [
          0.34937467752453855,
          -0.6963689003611885,
          0.49444390521925163,
          -0.5216091706513676,
          0.4724087770975294,
          -0.7451485094842482,
          -1.034922517004572,
          -0.7231837962892254,
          -0.3565877101781193,
          0.5561839128654138,
          1.4995719633555327,
          0.10904078889562052,
          0.026129809655202986,
          1.461617696540569,
          -0.5402179049296549,
          -0.20317357616560444,
          0.6218015091883577,
          0.6203131147082552,
          1.6198556238181445,
          1.3750576201475166,
          1.7665147161583103,
          0.9736869943203338,
          1.6632487833008511,
          1.1946869607840391,
          -1.3181911639397836,
          0.21483071972553233,
          0.9532299081544663,
          -0.47835866959161855,
          -0.05367608683761055,
          -0.6233004340756563,
          -0.44763279779657505,
          1.540650986930894,
          -0.10041228764413782,
          1.9740906004864247,
          0.8399728426296991,
          -0.06900862170430426,
          0.3050884857376401,
          -0.24929546241599287,
          0.22540055450182636,
          -1.9464725746598737,
          -0.013967839426258875,
          1.146660179529997,
          -1.8798754854886035,
          -0.40737114477860115,
          -0.5535966777043381,
          -0.9046493670712153,
          -0.2165903294015373,
          -1.5978791360078572,
          -1.3858322851196112,
          -1.0314493305780452,
          1.2198575387415684,
          -0.5408288300390035,
          -0.136382172634374,
          -0.8522283472752146,
          -1.105056411687845,
          -1.5317431813873281,
          1.583062570780521,
          -0.5433498971348376,
          -0.8166347685311419,
          1.188444648041088,
          1.2914964306290924,
          0.8093118784465675,
          -2.2319460048066775,
          -0.6725420748091804,
          -0.03225818317810197,
          -0.02957431018242885,
          1.3781411773100498,
          -0.20446219959169973,
          0.7892794713371499,
          0.06304076348528372,
          0.7397415414777962,
          0.07953236164410435,
          0.20439894314802834,
          -0.13400910629225057,
          -0.42058647511319996,
          -0.3945684866149251,
          2.502544202353219,
          -1.2099348465143327,
          -0.45678523003251864,
          1.658444813234687,
          -0.5805059472672414,
          -0.28552340803789444,
          0.3230214214336419,
          0.9383761746830033,
          0.01073116888838524,
          0.5290085286062141,
          -2.279993493907933,
          0.36593355315096493,
          -0.27987443799520223,
          0.5427764918925077,
          -0.19185176677469148,
          0.7150314393582368,
          1.2759738685362205,
          0.04545720514712179,
          -0.551929296600115,
          0.6566504637125637,
          0.11765627356863474,
          0.6719491850445272,
          0.6469902247765215,
          2.036967266780365
         ],
         "xaxis": "x14",
         "y": [
          -0.34169268609277414,
          -0.34183801529160274,
          1.6062682592776023,
          -1.4450737393234019,
          -0.18522747172328866,
          -0.04069753018788604,
          0.7841468872020846,
          -1.611535831087613,
          0.1925890588357887,
          -0.7102571091807316,
          -0.9164694284920862,
          0.33078348659333273,
          1.327120173806734,
          -0.16560282354401276,
          -1.3657921245126956,
          -0.6051346730350797,
          -0.12268962327513441,
          0.0139238356541641,
          -0.8184951383923359,
          1.4568988073114435,
          0.5289402475146002,
          -1.743837024545892,
          0.9611719636513841,
          2.189351795330784,
          -0.7889314212630767,
          -1.5449007522392284,
          -1.3515124119050888,
          -0.8756587316558068,
          1.8530171382776812,
          1.9482165983272408,
          -0.8854191015533303,
          -0.5317653592338805,
          -0.08804611429214376,
          0.8810490425739139,
          0.9619079856272028,
          -0.6639964508596742,
          0.8944136624556296,
          -1.2582374112630885,
          -1.67498985383671,
          -0.5019404224796657,
          -1.617466517909237,
          0.33815522490584576,
          -0.19395511995208742,
          0.5564847798722077,
          0.7391988057687954,
          0.3864284359754881,
          1.3731110127115635,
          -1.812818992105761,
          -0.4766651921726845,
          -1.8697231000573862,
          -0.7667995982992395,
          2.2684860401190576,
          -0.24475253253371743,
          1.6589311028707305,
          -0.675376241837252,
          -0.11669023620788196,
          2.622243055593758,
          1.4984155002845336,
          -0.34564021682288026,
          1.2112516135244957,
          1.878484203150067,
          2.1620680333740823,
          -0.11580270774452468,
          -0.616590807718963,
          -0.4339821237291172,
          -0.08744975797638274,
          0.5703588245895896,
          -1.8007497542298683,
          0.30698259902780795,
          -0.7308696008707364,
          0.7412597006927252,
          1.55436335423711,
          -0.08361996181585983,
          1.105701669276414,
          -0.11208411866423354,
          0.8232462503051557,
          -1.5096306486477309,
          -1.2610073085639086,
          -0.10347061027879353,
          0.13335711264795141,
          0.7966018644090099,
          -0.5017975897580077,
          0.195065487908468,
          -0.11533106260527573,
          -1.3114838277041492,
          0.08585906865151684,
          1.0285583423417954,
          -0.8591616694968488,
          1.2497869396172856,
          0.15795189060603929,
          2.013604612560534,
          0.4533456804254915,
          -1.3495704596081035,
          -1.0930391280601481,
          -1.0645998423595764,
          -1.406992645223996,
          0.8237833699483021,
          -1.13520291306774,
          -0.35218681524264417,
          1.3879333308792428
         ],
         "yaxis": "y14"
        },
        {
         "line": {
          "color": "rgba(128, 128, 128, 1.0)",
          "dash": "solid",
          "shape": "linear",
          "width": 1.3
         },
         "marker": {
          "size": 2,
          "symbol": "circle"
         },
         "mode": "markers",
         "name": "D",
         "text": "",
         "type": "scatter",
         "x": [
          -0.45894363207003874,
          -0.722493736425623,
          0.20048308182644103,
          0.21013691749919605,
          -1.2582865634030673,
          0.15572381409310349,
          0.12722318672967606,
          -1.1172841759524756,
          -0.32167088487824663,
          1.2820924469897839,
          1.2746458957351432,
          0.19741381168422306,
          -0.026319680326124247,
          -0.6261956419918936,
          -1.827317797523706,
          1.5295751806362594,
          0.7978671095184491,
          -0.44242771455398616,
          1.2517093954017375,
          -0.4374002164271172,
          -0.2088761217760585,
          0.9914351899287585,
          -0.7757534649373191,
          0.15542069423383104,
          0.9105883849758006,
          -0.8777810552672228,
          -0.03755979623072555,
          0.41750579681315453,
          -0.49868192335410727,
          0.1359567357943551,
          0.5864092616365337,
          0.26810355894023286,
          0.4319092888365515,
          -0.33843652019396325,
          -1.556954816131435,
          0.017076645905988314,
          -1.2335428860410314,
          -0.5300277115200999,
          0.3557121879215574,
          -0.8702906692057076,
          -0.24771759336054197,
          -0.48238627289842134,
          -0.8539490525967117,
          1.6052144620788638,
          0.5948825722463177,
          0.5014783883450039,
          -1.5907686489548516,
          1.9592711941149723,
          -0.6590501882893535,
          0.6786312915292462,
          0.8007490340778324,
          0.4851452973951361,
          0.39726682011532344,
          0.5613441269665118,
          -0.36841609809838377,
          -2.301110635895323,
          1.0053731213812054,
          0.6884809214427433,
          -0.9679707519166635,
          -0.7985724226436826,
          0.9337282554968057,
          0.8016901054013353,
          -1.0864386506924104,
          0.1346620359267253,
          0.31981939534048587,
          0.4191066003474241,
          -0.9283653171090223,
          0.5651018665991434,
          0.2566207279016743,
          -0.9221379263744246,
          -0.275295703480833,
          -0.9040403621229179,
          -0.3418758056386093,
          0.882667564012617,
          -0.9575256897906781,
          -0.04220720553214903,
          0.12741630715091679,
          0.0801350988925898,
          -0.5881973704909578,
          -0.7989183038951643,
          -0.6123211464779134,
          2.0838216800295455,
          0.3860616944646757,
          -1.029595696286652,
          -0.29495079443307226,
          -1.85696806597112,
          -0.6833149525264706,
          -1.1254056305928566,
          -0.5709866578437394,
          -1.4199453804058024,
          -0.048221072258501606,
          -0.5183785708099345,
          -1.3164874905403154,
          -0.7998440621438979,
          -0.5431410573120433,
          -0.7334628539190104,
          -0.5759876195881625,
          0.2714706891156414,
          -0.1394462507553613,
          1.67677868861515
         ],
         "xaxis": "x15",
         "y": [
          -0.34169268609277414,
          -0.34183801529160274,
          1.6062682592776023,
          -1.4450737393234019,
          -0.18522747172328866,
          -0.04069753018788604,
          0.7841468872020846,
          -1.611535831087613,
          0.1925890588357887,
          -0.7102571091807316,
          -0.9164694284920862,
          0.33078348659333273,
          1.327120173806734,
          -0.16560282354401276,
          -1.3657921245126956,
          -0.6051346730350797,
          -0.12268962327513441,
          0.0139238356541641,
          -0.8184951383923359,
          1.4568988073114435,
          0.5289402475146002,
          -1.743837024545892,
          0.9611719636513841,
          2.189351795330784,
          -0.7889314212630767,
          -1.5449007522392284,
          -1.3515124119050888,
          -0.8756587316558068,
          1.8530171382776812,
          1.9482165983272408,
          -0.8854191015533303,
          -0.5317653592338805,
          -0.08804611429214376,
          0.8810490425739139,
          0.9619079856272028,
          -0.6639964508596742,
          0.8944136624556296,
          -1.2582374112630885,
          -1.67498985383671,
          -0.5019404224796657,
          -1.617466517909237,
          0.33815522490584576,
          -0.19395511995208742,
          0.5564847798722077,
          0.7391988057687954,
          0.3864284359754881,
          1.3731110127115635,
          -1.812818992105761,
          -0.4766651921726845,
          -1.8697231000573862,
          -0.7667995982992395,
          2.2684860401190576,
          -0.24475253253371743,
          1.6589311028707305,
          -0.675376241837252,
          -0.11669023620788196,
          2.622243055593758,
          1.4984155002845336,
          -0.34564021682288026,
          1.2112516135244957,
          1.878484203150067,
          2.1620680333740823,
          -0.11580270774452468,
          -0.616590807718963,
          -0.4339821237291172,
          -0.08744975797638274,
          0.5703588245895896,
          -1.8007497542298683,
          0.30698259902780795,
          -0.7308696008707364,
          0.7412597006927252,
          1.55436335423711,
          -0.08361996181585983,
          1.105701669276414,
          -0.11208411866423354,
          0.8232462503051557,
          -1.5096306486477309,
          -1.2610073085639086,
          -0.10347061027879353,
          0.13335711264795141,
          0.7966018644090099,
          -0.5017975897580077,
          0.195065487908468,
          -0.11533106260527573,
          -1.3114838277041492,
          0.08585906865151684,
          1.0285583423417954,
          -0.8591616694968488,
          1.2497869396172856,
          0.15795189060603929,
          2.013604612560534,
          0.4533456804254915,
          -1.3495704596081035,
          -1.0930391280601481,
          -1.0645998423595764,
          -1.406992645223996,
          0.8237833699483021,
          -1.13520291306774,
          -0.35218681524264417,
          1.3879333308792428
         ],
         "yaxis": "y15"
        },
        {
         "histfunc": "count",
         "histnorm": "",
         "marker": {
          "color": "rgba(128, 0, 128, 1.0)",
          "line": {
           "color": "#4D5663",
           "width": 1.3
          }
         },
         "name": "D",
         "nbinsx": 10,
         "opacity": 0.8,
         "orientation": "v",
         "type": "histogram",
         "x": [
          -0.34169268609277414,
          -0.34183801529160274,
          1.6062682592776023,
          -1.4450737393234019,
          -0.18522747172328866,
          -0.04069753018788604,
          0.7841468872020846,
          -1.611535831087613,
          0.1925890588357887,
          -0.7102571091807316,
          -0.9164694284920862,
          0.33078348659333273,
          1.327120173806734,
          -0.16560282354401276,
          -1.3657921245126956,
          -0.6051346730350797,
          -0.12268962327513441,
          0.0139238356541641,
          -0.8184951383923359,
          1.4568988073114435,
          0.5289402475146002,
          -1.743837024545892,
          0.9611719636513841,
          2.189351795330784,
          -0.7889314212630767,
          -1.5449007522392284,
          -1.3515124119050888,
          -0.8756587316558068,
          1.8530171382776812,
          1.9482165983272408,
          -0.8854191015533303,
          -0.5317653592338805,
          -0.08804611429214376,
          0.8810490425739139,
          0.9619079856272028,
          -0.6639964508596742,
          0.8944136624556296,
          -1.2582374112630885,
          -1.67498985383671,
          -0.5019404224796657,
          -1.617466517909237,
          0.33815522490584576,
          -0.19395511995208742,
          0.5564847798722077,
          0.7391988057687954,
          0.3864284359754881,
          1.3731110127115635,
          -1.812818992105761,
          -0.4766651921726845,
          -1.8697231000573862,
          -0.7667995982992395,
          2.2684860401190576,
          -0.24475253253371743,
          1.6589311028707305,
          -0.675376241837252,
          -0.11669023620788196,
          2.622243055593758,
          1.4984155002845336,
          -0.34564021682288026,
          1.2112516135244957,
          1.878484203150067,
          2.1620680333740823,
          -0.11580270774452468,
          -0.616590807718963,
          -0.4339821237291172,
          -0.08744975797638274,
          0.5703588245895896,
          -1.8007497542298683,
          0.30698259902780795,
          -0.7308696008707364,
          0.7412597006927252,
          1.55436335423711,
          -0.08361996181585983,
          1.105701669276414,
          -0.11208411866423354,
          0.8232462503051557,
          -1.5096306486477309,
          -1.2610073085639086,
          -0.10347061027879353,
          0.13335711264795141,
          0.7966018644090099,
          -0.5017975897580077,
          0.195065487908468,
          -0.11533106260527573,
          -1.3114838277041492,
          0.08585906865151684,
          1.0285583423417954,
          -0.8591616694968488,
          1.2497869396172856,
          0.15795189060603929,
          2.013604612560534,
          0.4533456804254915,
          -1.3495704596081035,
          -1.0930391280601481,
          -1.0645998423595764,
          -1.406992645223996,
          0.8237833699483021,
          -1.13520291306774,
          -0.35218681524264417,
          1.3879333308792428
         ],
         "xaxis": "x16",
         "yaxis": "y16"
        }
       ],
       "layout": {
        "bargap": 0.02,
        "legend": {
         "bgcolor": "#F5F6F9",
         "font": {
          "color": "#4D5663"
         }
        },
        "paper_bgcolor": "#F5F6F9",
        "plot_bgcolor": "#F5F6F9",
        "showlegend": false,
        "template": {
         "data": {
          "bar": [
           {
            "error_x": {
             "color": "#2a3f5f"
            },
            "error_y": {
             "color": "#2a3f5f"
            },
            "marker": {
             "line": {
              "color": "#E5ECF6",
              "width": 0.5
             },
             "pattern": {
              "fillmode": "overlay",
              "size": 10,
              "solidity": 0.2
             }
            },
            "type": "bar"
           }
          ],
          "barpolar": [
           {
            "marker": {
             "line": {
              "color": "#E5ECF6",
              "width": 0.5
             },
             "pattern": {
              "fillmode": "overlay",
              "size": 10,
              "solidity": 0.2
             }
            },
            "type": "barpolar"
           }
          ],
          "carpet": [
           {
            "aaxis": {
             "endlinecolor": "#2a3f5f",
             "gridcolor": "white",
             "linecolor": "white",
             "minorgridcolor": "white",
             "startlinecolor": "#2a3f5f"
            },
            "baxis": {
             "endlinecolor": "#2a3f5f",
             "gridcolor": "white",
             "linecolor": "white",
             "minorgridcolor": "white",
             "startlinecolor": "#2a3f5f"
            },
            "type": "carpet"
           }
          ],
          "choropleth": [
           {
            "colorbar": {
             "outlinewidth": 0,
             "ticks": ""
            },
            "type": "choropleth"
           }
          ],
          "contour": [
           {
            "colorbar": {
             "outlinewidth": 0,
             "ticks": ""
            },
            "colorscale": [
             [
              0,
              "#0d0887"
             ],
             [
              0.1111111111111111,
              "#46039f"
             ],
             [
              0.2222222222222222,
              "#7201a8"
             ],
             [
              0.3333333333333333,
              "#9c179e"
             ],
             [
              0.4444444444444444,
              "#bd3786"
             ],
             [
              0.5555555555555556,
              "#d8576b"
             ],
             [
              0.6666666666666666,
              "#ed7953"
             ],
             [
              0.7777777777777778,
              "#fb9f3a"
             ],
             [
              0.8888888888888888,
              "#fdca26"
             ],
             [
              1,
              "#f0f921"
             ]
            ],
            "type": "contour"
           }
          ],
          "contourcarpet": [
           {
            "colorbar": {
             "outlinewidth": 0,
             "ticks": ""
            },
            "type": "contourcarpet"
           }
          ],
          "heatmap": [
           {
            "colorbar": {
             "outlinewidth": 0,
             "ticks": ""
            },
            "colorscale": [
             [
              0,
              "#0d0887"
             ],
             [
              0.1111111111111111,
              "#46039f"
             ],
             [
              0.2222222222222222,
              "#7201a8"
             ],
             [
              0.3333333333333333,
              "#9c179e"
             ],
             [
              0.4444444444444444,
              "#bd3786"
             ],
             [
              0.5555555555555556,
              "#d8576b"
             ],
             [
              0.6666666666666666,
              "#ed7953"
             ],
             [
              0.7777777777777778,
              "#fb9f3a"
             ],
             [
              0.8888888888888888,
              "#fdca26"
             ],
             [
              1,
              "#f0f921"
             ]
            ],
            "type": "heatmap"
           }
          ],
          "heatmapgl": [
           {
            "colorbar": {
             "outlinewidth": 0,
             "ticks": ""
            },
            "colorscale": [
             [
              0,
              "#0d0887"
             ],
             [
              0.1111111111111111,
              "#46039f"
             ],
             [
              0.2222222222222222,
              "#7201a8"
             ],
             [
              0.3333333333333333,
              "#9c179e"
             ],
             [
              0.4444444444444444,
              "#bd3786"
             ],
             [
              0.5555555555555556,
              "#d8576b"
             ],
             [
              0.6666666666666666,
              "#ed7953"
             ],
             [
              0.7777777777777778,
              "#fb9f3a"
             ],
             [
              0.8888888888888888,
              "#fdca26"
             ],
             [
              1,
              "#f0f921"
             ]
            ],
            "type": "heatmapgl"
           }
          ],
          "histogram": [
           {
            "marker": {
             "pattern": {
              "fillmode": "overlay",
              "size": 10,
              "solidity": 0.2
             }
            },
            "type": "histogram"
           }
          ],
          "histogram2d": [
           {
            "colorbar": {
             "outlinewidth": 0,
             "ticks": ""
            },
            "colorscale": [
             [
              0,
              "#0d0887"
             ],
             [
              0.1111111111111111,
              "#46039f"
             ],
             [
              0.2222222222222222,
              "#7201a8"
             ],
             [
              0.3333333333333333,
              "#9c179e"
             ],
             [
              0.4444444444444444,
              "#bd3786"
             ],
             [
              0.5555555555555556,
              "#d8576b"
             ],
             [
              0.6666666666666666,
              "#ed7953"
             ],
             [
              0.7777777777777778,
              "#fb9f3a"
             ],
             [
              0.8888888888888888,
              "#fdca26"
             ],
             [
              1,
              "#f0f921"
             ]
            ],
            "type": "histogram2d"
           }
          ],
          "histogram2dcontour": [
           {
            "colorbar": {
             "outlinewidth": 0,
             "ticks": ""
            },
            "colorscale": [
             [
              0,
              "#0d0887"
             ],
             [
              0.1111111111111111,
              "#46039f"
             ],
             [
              0.2222222222222222,
              "#7201a8"
             ],
             [
              0.3333333333333333,
              "#9c179e"
             ],
             [
              0.4444444444444444,
              "#bd3786"
             ],
             [
              0.5555555555555556,
              "#d8576b"
             ],
             [
              0.6666666666666666,
              "#ed7953"
             ],
             [
              0.7777777777777778,
              "#fb9f3a"
             ],
             [
              0.8888888888888888,
              "#fdca26"
             ],
             [
              1,
              "#f0f921"
             ]
            ],
            "type": "histogram2dcontour"
           }
          ],
          "mesh3d": [
           {
            "colorbar": {
             "outlinewidth": 0,
             "ticks": ""
            },
            "type": "mesh3d"
           }
          ],
          "parcoords": [
           {
            "line": {
             "colorbar": {
              "outlinewidth": 0,
              "ticks": ""
             }
            },
            "type": "parcoords"
           }
          ],
          "pie": [
           {
            "automargin": true,
            "type": "pie"
           }
          ],
          "scatter": [
           {
            "fillpattern": {
             "fillmode": "overlay",
             "size": 10,
             "solidity": 0.2
            },
            "type": "scatter"
           }
          ],
          "scatter3d": [
           {
            "line": {
             "colorbar": {
              "outlinewidth": 0,
              "ticks": ""
             }
            },
            "marker": {
             "colorbar": {
              "outlinewidth": 0,
              "ticks": ""
             }
            },
            "type": "scatter3d"
           }
          ],
          "scattercarpet": [
           {
            "marker": {
             "colorbar": {
              "outlinewidth": 0,
              "ticks": ""
             }
            },
            "type": "scattercarpet"
           }
          ],
          "scattergeo": [
           {
            "marker": {
             "colorbar": {
              "outlinewidth": 0,
              "ticks": ""
             }
            },
            "type": "scattergeo"
           }
          ],
          "scattergl": [
           {
            "marker": {
             "colorbar": {
              "outlinewidth": 0,
              "ticks": ""
             }
            },
            "type": "scattergl"
           }
          ],
          "scattermapbox": [
           {
            "marker": {
             "colorbar": {
              "outlinewidth": 0,
              "ticks": ""
             }
            },
            "type": "scattermapbox"
           }
          ],
          "scatterpolar": [
           {
            "marker": {
             "colorbar": {
              "outlinewidth": 0,
              "ticks": ""
             }
            },
            "type": "scatterpolar"
           }
          ],
          "scatterpolargl": [
           {
            "marker": {
             "colorbar": {
              "outlinewidth": 0,
              "ticks": ""
             }
            },
            "type": "scatterpolargl"
           }
          ],
          "scatterternary": [
           {
            "marker": {
             "colorbar": {
              "outlinewidth": 0,
              "ticks": ""
             }
            },
            "type": "scatterternary"
           }
          ],
          "surface": [
           {
            "colorbar": {
             "outlinewidth": 0,
             "ticks": ""
            },
            "colorscale": [
             [
              0,
              "#0d0887"
             ],
             [
              0.1111111111111111,
              "#46039f"
             ],
             [
              0.2222222222222222,
              "#7201a8"
             ],
             [
              0.3333333333333333,
              "#9c179e"
             ],
             [
              0.4444444444444444,
              "#bd3786"
             ],
             [
              0.5555555555555556,
              "#d8576b"
             ],
             [
              0.6666666666666666,
              "#ed7953"
             ],
             [
              0.7777777777777778,
              "#fb9f3a"
             ],
             [
              0.8888888888888888,
              "#fdca26"
             ],
             [
              1,
              "#f0f921"
             ]
            ],
            "type": "surface"
           }
          ],
          "table": [
           {
            "cells": {
             "fill": {
              "color": "#EBF0F8"
             },
             "line": {
              "color": "white"
             }
            },
            "header": {
             "fill": {
              "color": "#C8D4E3"
             },
             "line": {
              "color": "white"
             }
            },
            "type": "table"
           }
          ]
         },
         "layout": {
          "annotationdefaults": {
           "arrowcolor": "#2a3f5f",
           "arrowhead": 0,
           "arrowwidth": 1
          },
          "autotypenumbers": "strict",
          "coloraxis": {
           "colorbar": {
            "outlinewidth": 0,
            "ticks": ""
           }
          },
          "colorscale": {
           "diverging": [
            [
             0,
             "#8e0152"
            ],
            [
             0.1,
             "#c51b7d"
            ],
            [
             0.2,
             "#de77ae"
            ],
            [
             0.3,
             "#f1b6da"
            ],
            [
             0.4,
             "#fde0ef"
            ],
            [
             0.5,
             "#f7f7f7"
            ],
            [
             0.6,
             "#e6f5d0"
            ],
            [
             0.7,
             "#b8e186"
            ],
            [
             0.8,
             "#7fbc41"
            ],
            [
             0.9,
             "#4d9221"
            ],
            [
             1,
             "#276419"
            ]
           ],
           "sequential": [
            [
             0,
             "#0d0887"
            ],
            [
             0.1111111111111111,
             "#46039f"
            ],
            [
             0.2222222222222222,
             "#7201a8"
            ],
            [
             0.3333333333333333,
             "#9c179e"
            ],
            [
             0.4444444444444444,
             "#bd3786"
            ],
            [
             0.5555555555555556,
             "#d8576b"
            ],
            [
             0.6666666666666666,
             "#ed7953"
            ],
            [
             0.7777777777777778,
             "#fb9f3a"
            ],
            [
             0.8888888888888888,
             "#fdca26"
            ],
            [
             1,
             "#f0f921"
            ]
           ],
           "sequentialminus": [
            [
             0,
             "#0d0887"
            ],
            [
             0.1111111111111111,
             "#46039f"
            ],
            [
             0.2222222222222222,
             "#7201a8"
            ],
            [
             0.3333333333333333,
             "#9c179e"
            ],
            [
             0.4444444444444444,
             "#bd3786"
            ],
            [
             0.5555555555555556,
             "#d8576b"
            ],
            [
             0.6666666666666666,
             "#ed7953"
            ],
            [
             0.7777777777777778,
             "#fb9f3a"
            ],
            [
             0.8888888888888888,
             "#fdca26"
            ],
            [
             1,
             "#f0f921"
            ]
           ]
          },
          "colorway": [
           "#636efa",
           "#EF553B",
           "#00cc96",
           "#ab63fa",
           "#FFA15A",
           "#19d3f3",
           "#FF6692",
           "#B6E880",
           "#FF97FF",
           "#FECB52"
          ],
          "font": {
           "color": "#2a3f5f"
          },
          "geo": {
           "bgcolor": "white",
           "lakecolor": "white",
           "landcolor": "#E5ECF6",
           "showlakes": true,
           "showland": true,
           "subunitcolor": "white"
          },
          "hoverlabel": {
           "align": "left"
          },
          "hovermode": "closest",
          "mapbox": {
           "style": "light"
          },
          "paper_bgcolor": "white",
          "plot_bgcolor": "#E5ECF6",
          "polar": {
           "angularaxis": {
            "gridcolor": "white",
            "linecolor": "white",
            "ticks": ""
           },
           "bgcolor": "#E5ECF6",
           "radialaxis": {
            "gridcolor": "white",
            "linecolor": "white",
            "ticks": ""
           }
          },
          "scene": {
           "xaxis": {
            "backgroundcolor": "#E5ECF6",
            "gridcolor": "white",
            "gridwidth": 2,
            "linecolor": "white",
            "showbackground": true,
            "ticks": "",
            "zerolinecolor": "white"
           },
           "yaxis": {
            "backgroundcolor": "#E5ECF6",
            "gridcolor": "white",
            "gridwidth": 2,
            "linecolor": "white",
            "showbackground": true,
            "ticks": "",
            "zerolinecolor": "white"
           },
           "zaxis": {
            "backgroundcolor": "#E5ECF6",
            "gridcolor": "white",
            "gridwidth": 2,
            "linecolor": "white",
            "showbackground": true,
            "ticks": "",
            "zerolinecolor": "white"
           }
          },
          "shapedefaults": {
           "line": {
            "color": "#2a3f5f"
           }
          },
          "ternary": {
           "aaxis": {
            "gridcolor": "white",
            "linecolor": "white",
            "ticks": ""
           },
           "baxis": {
            "gridcolor": "white",
            "linecolor": "white",
            "ticks": ""
           },
           "bgcolor": "#E5ECF6",
           "caxis": {
            "gridcolor": "white",
            "linecolor": "white",
            "ticks": ""
           }
          },
          "title": {
           "x": 0.05
          },
          "xaxis": {
           "automargin": true,
           "gridcolor": "white",
           "linecolor": "white",
           "ticks": "",
           "title": {
            "standoff": 15
           },
           "zerolinecolor": "white",
           "zerolinewidth": 2
          },
          "yaxis": {
           "automargin": true,
           "gridcolor": "white",
           "linecolor": "white",
           "ticks": "",
           "title": {
            "standoff": 15
           },
           "zerolinecolor": "white",
           "zerolinewidth": 2
          }
         }
        },
        "title": {
         "font": {
          "color": "#4D5663"
         }
        },
        "xaxis": {
         "anchor": "y",
         "domain": [
          0,
          0.2125
         ],
         "gridcolor": "#E1E5ED",
         "showgrid": false,
         "tickfont": {
          "color": "#4D5663"
         },
         "title": {
          "font": {
           "color": "#4D5663"
          },
          "text": ""
         },
         "zerolinecolor": "#E1E5ED"
        },
        "xaxis10": {
         "anchor": "y10",
         "domain": [
          0.2625,
          0.475
         ],
         "gridcolor": "#E1E5ED",
         "showgrid": false,
         "tickfont": {
          "color": "#4D5663"
         },
         "title": {
          "font": {
           "color": "#4D5663"
          },
          "text": ""
         },
         "zerolinecolor": "#E1E5ED"
        },
        "xaxis11": {
         "anchor": "y11",
         "domain": [
          0.525,
          0.7375
         ],
         "gridcolor": "#E1E5ED",
         "showgrid": false,
         "tickfont": {
          "color": "#4D5663"
         },
         "title": {
          "font": {
           "color": "#4D5663"
          },
          "text": ""
         },
         "zerolinecolor": "#E1E5ED"
        },
        "xaxis12": {
         "anchor": "y12",
         "domain": [
          0.7875,
          1
         ],
         "gridcolor": "#E1E5ED",
         "showgrid": false,
         "tickfont": {
          "color": "#4D5663"
         },
         "title": {
          "font": {
           "color": "#4D5663"
          },
          "text": ""
         },
         "zerolinecolor": "#E1E5ED"
        },
        "xaxis13": {
         "anchor": "y13",
         "domain": [
          0,
          0.2125
         ],
         "gridcolor": "#E1E5ED",
         "showgrid": false,
         "tickfont": {
          "color": "#4D5663"
         },
         "title": {
          "font": {
           "color": "#4D5663"
          },
          "text": ""
         },
         "zerolinecolor": "#E1E5ED"
        },
        "xaxis14": {
         "anchor": "y14",
         "domain": [
          0.2625,
          0.475
         ],
         "gridcolor": "#E1E5ED",
         "showgrid": false,
         "tickfont": {
          "color": "#4D5663"
         },
         "title": {
          "font": {
           "color": "#4D5663"
          },
          "text": ""
         },
         "zerolinecolor": "#E1E5ED"
        },
        "xaxis15": {
         "anchor": "y15",
         "domain": [
          0.525,
          0.7375
         ],
         "gridcolor": "#E1E5ED",
         "showgrid": false,
         "tickfont": {
          "color": "#4D5663"
         },
         "title": {
          "font": {
           "color": "#4D5663"
          },
          "text": ""
         },
         "zerolinecolor": "#E1E5ED"
        },
        "xaxis16": {
         "anchor": "y16",
         "domain": [
          0.7875,
          1
         ],
         "gridcolor": "#E1E5ED",
         "showgrid": false,
         "tickfont": {
          "color": "#4D5663"
         },
         "title": {
          "font": {
           "color": "#4D5663"
          },
          "text": ""
         },
         "zerolinecolor": "#E1E5ED"
        },
        "xaxis2": {
         "anchor": "y2",
         "domain": [
          0.2625,
          0.475
         ],
         "gridcolor": "#E1E5ED",
         "showgrid": false,
         "tickfont": {
          "color": "#4D5663"
         },
         "title": {
          "font": {
           "color": "#4D5663"
          },
          "text": ""
         },
         "zerolinecolor": "#E1E5ED"
        },
        "xaxis3": {
         "anchor": "y3",
         "domain": [
          0.525,
          0.7375
         ],
         "gridcolor": "#E1E5ED",
         "showgrid": false,
         "tickfont": {
          "color": "#4D5663"
         },
         "title": {
          "font": {
           "color": "#4D5663"
          },
          "text": ""
         },
         "zerolinecolor": "#E1E5ED"
        },
        "xaxis4": {
         "anchor": "y4",
         "domain": [
          0.7875,
          1
         ],
         "gridcolor": "#E1E5ED",
         "showgrid": false,
         "tickfont": {
          "color": "#4D5663"
         },
         "title": {
          "font": {
           "color": "#4D5663"
          },
          "text": ""
         },
         "zerolinecolor": "#E1E5ED"
        },
        "xaxis5": {
         "anchor": "y5",
         "domain": [
          0,
          0.2125
         ],
         "gridcolor": "#E1E5ED",
         "showgrid": false,
         "tickfont": {
          "color": "#4D5663"
         },
         "title": {
          "font": {
           "color": "#4D5663"
          },
          "text": ""
         },
         "zerolinecolor": "#E1E5ED"
        },
        "xaxis6": {
         "anchor": "y6",
         "domain": [
          0.2625,
          0.475
         ],
         "gridcolor": "#E1E5ED",
         "showgrid": false,
         "tickfont": {
          "color": "#4D5663"
         },
         "title": {
          "font": {
           "color": "#4D5663"
          },
          "text": ""
         },
         "zerolinecolor": "#E1E5ED"
        },
        "xaxis7": {
         "anchor": "y7",
         "domain": [
          0.525,
          0.7375
         ],
         "gridcolor": "#E1E5ED",
         "showgrid": false,
         "tickfont": {
          "color": "#4D5663"
         },
         "title": {
          "font": {
           "color": "#4D5663"
          },
          "text": ""
         },
         "zerolinecolor": "#E1E5ED"
        },
        "xaxis8": {
         "anchor": "y8",
         "domain": [
          0.7875,
          1
         ],
         "gridcolor": "#E1E5ED",
         "showgrid": false,
         "tickfont": {
          "color": "#4D5663"
         },
         "title": {
          "font": {
           "color": "#4D5663"
          },
          "text": ""
         },
         "zerolinecolor": "#E1E5ED"
        },
        "xaxis9": {
         "anchor": "y9",
         "domain": [
          0,
          0.2125
         ],
         "gridcolor": "#E1E5ED",
         "showgrid": false,
         "tickfont": {
          "color": "#4D5663"
         },
         "title": {
          "font": {
           "color": "#4D5663"
          },
          "text": ""
         },
         "zerolinecolor": "#E1E5ED"
        },
        "yaxis": {
         "anchor": "x",
         "domain": [
          0.8025,
          1
         ],
         "gridcolor": "#E1E5ED",
         "showgrid": false,
         "tickfont": {
          "color": "#4D5663"
         },
         "title": {
          "font": {
           "color": "#4D5663"
          },
          "text": ""
         },
         "zerolinecolor": "#E1E5ED"
        },
        "yaxis10": {
         "anchor": "x10",
         "domain": [
          0.2675,
          0.465
         ],
         "gridcolor": "#E1E5ED",
         "showgrid": false,
         "tickfont": {
          "color": "#4D5663"
         },
         "title": {
          "font": {
           "color": "#4D5663"
          },
          "text": ""
         },
         "zerolinecolor": "#E1E5ED"
        },
        "yaxis11": {
         "anchor": "x11",
         "domain": [
          0.2675,
          0.465
         ],
         "gridcolor": "#E1E5ED",
         "showgrid": false,
         "tickfont": {
          "color": "#4D5663"
         },
         "title": {
          "font": {
           "color": "#4D5663"
          },
          "text": ""
         },
         "zerolinecolor": "#E1E5ED"
        },
        "yaxis12": {
         "anchor": "x12",
         "domain": [
          0.2675,
          0.465
         ],
         "gridcolor": "#E1E5ED",
         "showgrid": false,
         "tickfont": {
          "color": "#4D5663"
         },
         "title": {
          "font": {
           "color": "#4D5663"
          },
          "text": ""
         },
         "zerolinecolor": "#E1E5ED"
        },
        "yaxis13": {
         "anchor": "x13",
         "domain": [
          0,
          0.1975
         ],
         "gridcolor": "#E1E5ED",
         "showgrid": false,
         "tickfont": {
          "color": "#4D5663"
         },
         "title": {
          "font": {
           "color": "#4D5663"
          },
          "text": ""
         },
         "zerolinecolor": "#E1E5ED"
        },
        "yaxis14": {
         "anchor": "x14",
         "domain": [
          0,
          0.1975
         ],
         "gridcolor": "#E1E5ED",
         "showgrid": false,
         "tickfont": {
          "color": "#4D5663"
         },
         "title": {
          "font": {
           "color": "#4D5663"
          },
          "text": ""
         },
         "zerolinecolor": "#E1E5ED"
        },
        "yaxis15": {
         "anchor": "x15",
         "domain": [
          0,
          0.1975
         ],
         "gridcolor": "#E1E5ED",
         "showgrid": false,
         "tickfont": {
          "color": "#4D5663"
         },
         "title": {
          "font": {
           "color": "#4D5663"
          },
          "text": ""
         },
         "zerolinecolor": "#E1E5ED"
        },
        "yaxis16": {
         "anchor": "x16",
         "domain": [
          0,
          0.1975
         ],
         "gridcolor": "#E1E5ED",
         "showgrid": false,
         "tickfont": {
          "color": "#4D5663"
         },
         "title": {
          "font": {
           "color": "#4D5663"
          },
          "text": ""
         },
         "zerolinecolor": "#E1E5ED"
        },
        "yaxis2": {
         "anchor": "x2",
         "domain": [
          0.8025,
          1
         ],
         "gridcolor": "#E1E5ED",
         "showgrid": false,
         "tickfont": {
          "color": "#4D5663"
         },
         "title": {
          "font": {
           "color": "#4D5663"
          },
          "text": ""
         },
         "zerolinecolor": "#E1E5ED"
        },
        "yaxis3": {
         "anchor": "x3",
         "domain": [
          0.8025,
          1
         ],
         "gridcolor": "#E1E5ED",
         "showgrid": false,
         "tickfont": {
          "color": "#4D5663"
         },
         "title": {
          "font": {
           "color": "#4D5663"
          },
          "text": ""
         },
         "zerolinecolor": "#E1E5ED"
        },
        "yaxis4": {
         "anchor": "x4",
         "domain": [
          0.8025,
          1
         ],
         "gridcolor": "#E1E5ED",
         "showgrid": false,
         "tickfont": {
          "color": "#4D5663"
         },
         "title": {
          "font": {
           "color": "#4D5663"
          },
          "text": ""
         },
         "zerolinecolor": "#E1E5ED"
        },
        "yaxis5": {
         "anchor": "x5",
         "domain": [
          0.535,
          0.7325
         ],
         "gridcolor": "#E1E5ED",
         "showgrid": false,
         "tickfont": {
          "color": "#4D5663"
         },
         "title": {
          "font": {
           "color": "#4D5663"
          },
          "text": ""
         },
         "zerolinecolor": "#E1E5ED"
        },
        "yaxis6": {
         "anchor": "x6",
         "domain": [
          0.535,
          0.7325
         ],
         "gridcolor": "#E1E5ED",
         "showgrid": false,
         "tickfont": {
          "color": "#4D5663"
         },
         "title": {
          "font": {
           "color": "#4D5663"
          },
          "text": ""
         },
         "zerolinecolor": "#E1E5ED"
        },
        "yaxis7": {
         "anchor": "x7",
         "domain": [
          0.535,
          0.7325
         ],
         "gridcolor": "#E1E5ED",
         "showgrid": false,
         "tickfont": {
          "color": "#4D5663"
         },
         "title": {
          "font": {
           "color": "#4D5663"
          },
          "text": ""
         },
         "zerolinecolor": "#E1E5ED"
        },
        "yaxis8": {
         "anchor": "x8",
         "domain": [
          0.535,
          0.7325
         ],
         "gridcolor": "#E1E5ED",
         "showgrid": false,
         "tickfont": {
          "color": "#4D5663"
         },
         "title": {
          "font": {
           "color": "#4D5663"
          },
          "text": ""
         },
         "zerolinecolor": "#E1E5ED"
        },
        "yaxis9": {
         "anchor": "x9",
         "domain": [
          0.2675,
          0.465
         ],
         "gridcolor": "#E1E5ED",
         "showgrid": false,
         "tickfont": {
          "color": "#4D5663"
         },
         "title": {
          "font": {
           "color": "#4D5663"
          },
          "text": ""
         },
         "zerolinecolor": "#E1E5ED"
        }
       }
      },
      "text/html": [
       "<div>                            <div id=\"e3fd2647-75d9-4e41-9381-e57383711447\" class=\"plotly-graph-div\" style=\"height:525px; width:100%;\"></div>            <script type=\"text/javascript\">                require([\"plotly\"], function(Plotly) {                    window.PLOTLYENV=window.PLOTLYENV || {};\n",
       "                    window.PLOTLYENV.BASE_URL='https://plot.ly';                                    if (document.getElementById(\"e3fd2647-75d9-4e41-9381-e57383711447\")) {                    Plotly.newPlot(                        \"e3fd2647-75d9-4e41-9381-e57383711447\",                        [{\"histfunc\":\"count\",\"histnorm\":\"\",\"marker\":{\"color\":\"rgba(255, 153, 51, 1.0)\",\"line\":{\"color\":\"#4D5663\",\"width\":1.3}},\"name\":\"A\",\"nbinsx\":10,\"opacity\":0.8,\"orientation\":\"v\",\"x\":[-0.6035297959382414,-0.8168839180464849,-0.6156857927636435,-0.96809123662696,-0.6854691740293992,0.7199714768803681,1.446160156463076,1.799627965830823,1.7157877533685324,-0.17901370565073169,0.005449232404899039,-1.0833144371751064,-0.9551544617528701,-0.806542516870636,2.192659195836407,0.15416197000598228,0.01631753712948887,1.7267160752937727,0.57985045638903,0.09791585210952843,0.21351052704706053,0.2810617979115468,0.432292126121937,-1.1735741563193232,-1.1583974052626016,1.5614876377792792,-1.2881469804000822,-0.26495107714432603,1.3312459821437788,-0.08333634781307717,0.460140024288853,2.0200389221711164,-0.2964711710980584,1.7438707329329075,0.6965071847803438,0.9616884505199493,-1.0826686274947974,-0.2290348397768763,0.22539764253003775,2.3790211963457173,0.3472056319516496,0.035911286437501085,1.259055281551953,0.5918447616263801,-0.6822565116504726,-0.8928399410348654,-0.6615460317551572,0.04214420334432419,0.32233108348176587,-0.2000440217299358,0.326674581272999,0.9432398763689777,-0.8168202319197175,0.07617503642020822,-0.10923092299046434,-2.3793044960670433,-0.7364273736220023,-0.11339616677514272,-0.6902054596789023,-1.38642008999562,0.8495427939718966,-0.3878460284258634,-0.8089657350136299,-0.368755861201994,-0.0070429161289379105,-0.2524318160687466,-1.1110786925423664,1.6950918157689456,0.6672081179643534,-0.03371141339443632,1.9001276876037883,-0.9192875396872777,0.5871667111331204,-0.08438004513753744,0.07309561806045688,0.7562262739315151,0.4462221113646279,0.4266663764331806,0.6155194400559172,0.27929381908824663,-1.053986571099971,0.18020245770246723,-0.04058567909420326,1.1441406510591838,-0.4794020094470726,-1.0881453768671514,0.24795817635371536,-0.6311227016730568,-2.4387748259857727,0.9572567814279553,-1.8090332855133209,-0.16035983288459527,0.2862808765695702,-0.13959297740089516,-1.7815333343184052,0.07132219757149803,1.062568166469194,-0.5821359801529373,0.13735274878157913,-1.0609086520436461],\"xaxis\":\"x\",\"yaxis\":\"y\",\"type\":\"histogram\"},{\"line\":{\"color\":\"rgba(128, 128, 128, 1.0)\",\"dash\":\"solid\",\"shape\":\"linear\",\"width\":1.3},\"marker\":{\"size\":2,\"symbol\":\"circle\"},\"mode\":\"markers\",\"name\":\"A\",\"text\":\"\",\"x\":[0.34937467752453855,-0.6963689003611885,0.49444390521925163,-0.5216091706513676,0.4724087770975294,-0.7451485094842482,-1.034922517004572,-0.7231837962892254,-0.3565877101781193,0.5561839128654138,1.4995719633555327,0.10904078889562052,0.026129809655202986,1.461617696540569,-0.5402179049296549,-0.20317357616560444,0.6218015091883577,0.6203131147082552,1.6198556238181445,1.3750576201475166,1.7665147161583103,0.9736869943203338,1.6632487833008511,1.1946869607840391,-1.3181911639397836,0.21483071972553233,0.9532299081544663,-0.47835866959161855,-0.05367608683761055,-0.6233004340756563,-0.44763279779657505,1.540650986930894,-0.10041228764413782,1.9740906004864247,0.8399728426296991,-0.06900862170430426,0.3050884857376401,-0.24929546241599287,0.22540055450182636,-1.9464725746598737,-0.013967839426258875,1.146660179529997,-1.8798754854886035,-0.40737114477860115,-0.5535966777043381,-0.9046493670712153,-0.2165903294015373,-1.5978791360078572,-1.3858322851196112,-1.0314493305780452,1.2198575387415684,-0.5408288300390035,-0.136382172634374,-0.8522283472752146,-1.105056411687845,-1.5317431813873281,1.583062570780521,-0.5433498971348376,-0.8166347685311419,1.188444648041088,1.2914964306290924,0.8093118784465675,-2.2319460048066775,-0.6725420748091804,-0.03225818317810197,-0.02957431018242885,1.3781411773100498,-0.20446219959169973,0.7892794713371499,0.06304076348528372,0.7397415414777962,0.07953236164410435,0.20439894314802834,-0.13400910629225057,-0.42058647511319996,-0.3945684866149251,2.502544202353219,-1.2099348465143327,-0.45678523003251864,1.658444813234687,-0.5805059472672414,-0.28552340803789444,0.3230214214336419,0.9383761746830033,0.01073116888838524,0.5290085286062141,-2.279993493907933,0.36593355315096493,-0.27987443799520223,0.5427764918925077,-0.19185176677469148,0.7150314393582368,1.2759738685362205,0.04545720514712179,-0.551929296600115,0.6566504637125637,0.11765627356863474,0.6719491850445272,0.6469902247765215,2.036967266780365],\"xaxis\":\"x2\",\"y\":[-0.6035297959382414,-0.8168839180464849,-0.6156857927636435,-0.96809123662696,-0.6854691740293992,0.7199714768803681,1.446160156463076,1.799627965830823,1.7157877533685324,-0.17901370565073169,0.005449232404899039,-1.0833144371751064,-0.9551544617528701,-0.806542516870636,2.192659195836407,0.15416197000598228,0.01631753712948887,1.7267160752937727,0.57985045638903,0.09791585210952843,0.21351052704706053,0.2810617979115468,0.432292126121937,-1.1735741563193232,-1.1583974052626016,1.5614876377792792,-1.2881469804000822,-0.26495107714432603,1.3312459821437788,-0.08333634781307717,0.460140024288853,2.0200389221711164,-0.2964711710980584,1.7438707329329075,0.6965071847803438,0.9616884505199493,-1.0826686274947974,-0.2290348397768763,0.22539764253003775,2.3790211963457173,0.3472056319516496,0.035911286437501085,1.259055281551953,0.5918447616263801,-0.6822565116504726,-0.8928399410348654,-0.6615460317551572,0.04214420334432419,0.32233108348176587,-0.2000440217299358,0.326674581272999,0.9432398763689777,-0.8168202319197175,0.07617503642020822,-0.10923092299046434,-2.3793044960670433,-0.7364273736220023,-0.11339616677514272,-0.6902054596789023,-1.38642008999562,0.8495427939718966,-0.3878460284258634,-0.8089657350136299,-0.368755861201994,-0.0070429161289379105,-0.2524318160687466,-1.1110786925423664,1.6950918157689456,0.6672081179643534,-0.03371141339443632,1.9001276876037883,-0.9192875396872777,0.5871667111331204,-0.08438004513753744,0.07309561806045688,0.7562262739315151,0.4462221113646279,0.4266663764331806,0.6155194400559172,0.27929381908824663,-1.053986571099971,0.18020245770246723,-0.04058567909420326,1.1441406510591838,-0.4794020094470726,-1.0881453768671514,0.24795817635371536,-0.6311227016730568,-2.4387748259857727,0.9572567814279553,-1.8090332855133209,-0.16035983288459527,0.2862808765695702,-0.13959297740089516,-1.7815333343184052,0.07132219757149803,1.062568166469194,-0.5821359801529373,0.13735274878157913,-1.0609086520436461],\"yaxis\":\"y2\",\"type\":\"scatter\"},{\"line\":{\"color\":\"rgba(128, 128, 128, 1.0)\",\"dash\":\"solid\",\"shape\":\"linear\",\"width\":1.3},\"marker\":{\"size\":2,\"symbol\":\"circle\"},\"mode\":\"markers\",\"name\":\"A\",\"text\":\"\",\"x\":[-0.45894363207003874,-0.722493736425623,0.20048308182644103,0.21013691749919605,-1.2582865634030673,0.15572381409310349,0.12722318672967606,-1.1172841759524756,-0.32167088487824663,1.2820924469897839,1.2746458957351432,0.19741381168422306,-0.026319680326124247,-0.6261956419918936,-1.827317797523706,1.5295751806362594,0.7978671095184491,-0.44242771455398616,1.2517093954017375,-0.4374002164271172,-0.2088761217760585,0.9914351899287585,-0.7757534649373191,0.15542069423383104,0.9105883849758006,-0.8777810552672228,-0.03755979623072555,0.41750579681315453,-0.49868192335410727,0.1359567357943551,0.5864092616365337,0.26810355894023286,0.4319092888365515,-0.33843652019396325,-1.556954816131435,0.017076645905988314,-1.2335428860410314,-0.5300277115200999,0.3557121879215574,-0.8702906692057076,-0.24771759336054197,-0.48238627289842134,-0.8539490525967117,1.6052144620788638,0.5948825722463177,0.5014783883450039,-1.5907686489548516,1.9592711941149723,-0.6590501882893535,0.6786312915292462,0.8007490340778324,0.4851452973951361,0.39726682011532344,0.5613441269665118,-0.36841609809838377,-2.301110635895323,1.0053731213812054,0.6884809214427433,-0.9679707519166635,-0.7985724226436826,0.9337282554968057,0.8016901054013353,-1.0864386506924104,0.1346620359267253,0.31981939534048587,0.4191066003474241,-0.9283653171090223,0.5651018665991434,0.2566207279016743,-0.9221379263744246,-0.275295703480833,-0.9040403621229179,-0.3418758056386093,0.882667564012617,-0.9575256897906781,-0.04220720553214903,0.12741630715091679,0.0801350988925898,-0.5881973704909578,-0.7989183038951643,-0.6123211464779134,2.0838216800295455,0.3860616944646757,-1.029595696286652,-0.29495079443307226,-1.85696806597112,-0.6833149525264706,-1.1254056305928566,-0.5709866578437394,-1.4199453804058024,-0.048221072258501606,-0.5183785708099345,-1.3164874905403154,-0.7998440621438979,-0.5431410573120433,-0.7334628539190104,-0.5759876195881625,0.2714706891156414,-0.1394462507553613,1.67677868861515],\"xaxis\":\"x3\",\"y\":[-0.6035297959382414,-0.8168839180464849,-0.6156857927636435,-0.96809123662696,-0.6854691740293992,0.7199714768803681,1.446160156463076,1.799627965830823,1.7157877533685324,-0.17901370565073169,0.005449232404899039,-1.0833144371751064,-0.9551544617528701,-0.806542516870636,2.192659195836407,0.15416197000598228,0.01631753712948887,1.7267160752937727,0.57985045638903,0.09791585210952843,0.21351052704706053,0.2810617979115468,0.432292126121937,-1.1735741563193232,-1.1583974052626016,1.5614876377792792,-1.2881469804000822,-0.26495107714432603,1.3312459821437788,-0.08333634781307717,0.460140024288853,2.0200389221711164,-0.2964711710980584,1.7438707329329075,0.6965071847803438,0.9616884505199493,-1.0826686274947974,-0.2290348397768763,0.22539764253003775,2.3790211963457173,0.3472056319516496,0.035911286437501085,1.259055281551953,0.5918447616263801,-0.6822565116504726,-0.8928399410348654,-0.6615460317551572,0.04214420334432419,0.32233108348176587,-0.2000440217299358,0.326674581272999,0.9432398763689777,-0.8168202319197175,0.07617503642020822,-0.10923092299046434,-2.3793044960670433,-0.7364273736220023,-0.11339616677514272,-0.6902054596789023,-1.38642008999562,0.8495427939718966,-0.3878460284258634,-0.8089657350136299,-0.368755861201994,-0.0070429161289379105,-0.2524318160687466,-1.1110786925423664,1.6950918157689456,0.6672081179643534,-0.03371141339443632,1.9001276876037883,-0.9192875396872777,0.5871667111331204,-0.08438004513753744,0.07309561806045688,0.7562262739315151,0.4462221113646279,0.4266663764331806,0.6155194400559172,0.27929381908824663,-1.053986571099971,0.18020245770246723,-0.04058567909420326,1.1441406510591838,-0.4794020094470726,-1.0881453768671514,0.24795817635371536,-0.6311227016730568,-2.4387748259857727,0.9572567814279553,-1.8090332855133209,-0.16035983288459527,0.2862808765695702,-0.13959297740089516,-1.7815333343184052,0.07132219757149803,1.062568166469194,-0.5821359801529373,0.13735274878157913,-1.0609086520436461],\"yaxis\":\"y3\",\"type\":\"scatter\"},{\"line\":{\"color\":\"rgba(128, 128, 128, 1.0)\",\"dash\":\"solid\",\"shape\":\"linear\",\"width\":1.3},\"marker\":{\"size\":2,\"symbol\":\"circle\"},\"mode\":\"markers\",\"name\":\"A\",\"text\":\"\",\"x\":[-0.34169268609277414,-0.34183801529160274,1.6062682592776023,-1.4450737393234019,-0.18522747172328866,-0.04069753018788604,0.7841468872020846,-1.611535831087613,0.1925890588357887,-0.7102571091807316,-0.9164694284920862,0.33078348659333273,1.327120173806734,-0.16560282354401276,-1.3657921245126956,-0.6051346730350797,-0.12268962327513441,0.0139238356541641,-0.8184951383923359,1.4568988073114435,0.5289402475146002,-1.743837024545892,0.9611719636513841,2.189351795330784,-0.7889314212630767,-1.5449007522392284,-1.3515124119050888,-0.8756587316558068,1.8530171382776812,1.9482165983272408,-0.8854191015533303,-0.5317653592338805,-0.08804611429214376,0.8810490425739139,0.9619079856272028,-0.6639964508596742,0.8944136624556296,-1.2582374112630885,-1.67498985383671,-0.5019404224796657,-1.617466517909237,0.33815522490584576,-0.19395511995208742,0.5564847798722077,0.7391988057687954,0.3864284359754881,1.3731110127115635,-1.812818992105761,-0.4766651921726845,-1.8697231000573862,-0.7667995982992395,2.2684860401190576,-0.24475253253371743,1.6589311028707305,-0.675376241837252,-0.11669023620788196,2.622243055593758,1.4984155002845336,-0.34564021682288026,1.2112516135244957,1.878484203150067,2.1620680333740823,-0.11580270774452468,-0.616590807718963,-0.4339821237291172,-0.08744975797638274,0.5703588245895896,-1.8007497542298683,0.30698259902780795,-0.7308696008707364,0.7412597006927252,1.55436335423711,-0.08361996181585983,1.105701669276414,-0.11208411866423354,0.8232462503051557,-1.5096306486477309,-1.2610073085639086,-0.10347061027879353,0.13335711264795141,0.7966018644090099,-0.5017975897580077,0.195065487908468,-0.11533106260527573,-1.3114838277041492,0.08585906865151684,1.0285583423417954,-0.8591616694968488,1.2497869396172856,0.15795189060603929,2.013604612560534,0.4533456804254915,-1.3495704596081035,-1.0930391280601481,-1.0645998423595764,-1.406992645223996,0.8237833699483021,-1.13520291306774,-0.35218681524264417,1.3879333308792428],\"xaxis\":\"x4\",\"y\":[-0.6035297959382414,-0.8168839180464849,-0.6156857927636435,-0.96809123662696,-0.6854691740293992,0.7199714768803681,1.446160156463076,1.799627965830823,1.7157877533685324,-0.17901370565073169,0.005449232404899039,-1.0833144371751064,-0.9551544617528701,-0.806542516870636,2.192659195836407,0.15416197000598228,0.01631753712948887,1.7267160752937727,0.57985045638903,0.09791585210952843,0.21351052704706053,0.2810617979115468,0.432292126121937,-1.1735741563193232,-1.1583974052626016,1.5614876377792792,-1.2881469804000822,-0.26495107714432603,1.3312459821437788,-0.08333634781307717,0.460140024288853,2.0200389221711164,-0.2964711710980584,1.7438707329329075,0.6965071847803438,0.9616884505199493,-1.0826686274947974,-0.2290348397768763,0.22539764253003775,2.3790211963457173,0.3472056319516496,0.035911286437501085,1.259055281551953,0.5918447616263801,-0.6822565116504726,-0.8928399410348654,-0.6615460317551572,0.04214420334432419,0.32233108348176587,-0.2000440217299358,0.326674581272999,0.9432398763689777,-0.8168202319197175,0.07617503642020822,-0.10923092299046434,-2.3793044960670433,-0.7364273736220023,-0.11339616677514272,-0.6902054596789023,-1.38642008999562,0.8495427939718966,-0.3878460284258634,-0.8089657350136299,-0.368755861201994,-0.0070429161289379105,-0.2524318160687466,-1.1110786925423664,1.6950918157689456,0.6672081179643534,-0.03371141339443632,1.9001276876037883,-0.9192875396872777,0.5871667111331204,-0.08438004513753744,0.07309561806045688,0.7562262739315151,0.4462221113646279,0.4266663764331806,0.6155194400559172,0.27929381908824663,-1.053986571099971,0.18020245770246723,-0.04058567909420326,1.1441406510591838,-0.4794020094470726,-1.0881453768671514,0.24795817635371536,-0.6311227016730568,-2.4387748259857727,0.9572567814279553,-1.8090332855133209,-0.16035983288459527,0.2862808765695702,-0.13959297740089516,-1.7815333343184052,0.07132219757149803,1.062568166469194,-0.5821359801529373,0.13735274878157913,-1.0609086520436461],\"yaxis\":\"y4\",\"type\":\"scatter\"},{\"line\":{\"color\":\"rgba(128, 128, 128, 1.0)\",\"dash\":\"solid\",\"shape\":\"linear\",\"width\":1.3},\"marker\":{\"size\":2,\"symbol\":\"circle\"},\"mode\":\"markers\",\"name\":\"B\",\"text\":\"\",\"x\":[-0.6035297959382414,-0.8168839180464849,-0.6156857927636435,-0.96809123662696,-0.6854691740293992,0.7199714768803681,1.446160156463076,1.799627965830823,1.7157877533685324,-0.17901370565073169,0.005449232404899039,-1.0833144371751064,-0.9551544617528701,-0.806542516870636,2.192659195836407,0.15416197000598228,0.01631753712948887,1.7267160752937727,0.57985045638903,0.09791585210952843,0.21351052704706053,0.2810617979115468,0.432292126121937,-1.1735741563193232,-1.1583974052626016,1.5614876377792792,-1.2881469804000822,-0.26495107714432603,1.3312459821437788,-0.08333634781307717,0.460140024288853,2.0200389221711164,-0.2964711710980584,1.7438707329329075,0.6965071847803438,0.9616884505199493,-1.0826686274947974,-0.2290348397768763,0.22539764253003775,2.3790211963457173,0.3472056319516496,0.035911286437501085,1.259055281551953,0.5918447616263801,-0.6822565116504726,-0.8928399410348654,-0.6615460317551572,0.04214420334432419,0.32233108348176587,-0.2000440217299358,0.326674581272999,0.9432398763689777,-0.8168202319197175,0.07617503642020822,-0.10923092299046434,-2.3793044960670433,-0.7364273736220023,-0.11339616677514272,-0.6902054596789023,-1.38642008999562,0.8495427939718966,-0.3878460284258634,-0.8089657350136299,-0.368755861201994,-0.0070429161289379105,-0.2524318160687466,-1.1110786925423664,1.6950918157689456,0.6672081179643534,-0.03371141339443632,1.9001276876037883,-0.9192875396872777,0.5871667111331204,-0.08438004513753744,0.07309561806045688,0.7562262739315151,0.4462221113646279,0.4266663764331806,0.6155194400559172,0.27929381908824663,-1.053986571099971,0.18020245770246723,-0.04058567909420326,1.1441406510591838,-0.4794020094470726,-1.0881453768671514,0.24795817635371536,-0.6311227016730568,-2.4387748259857727,0.9572567814279553,-1.8090332855133209,-0.16035983288459527,0.2862808765695702,-0.13959297740089516,-1.7815333343184052,0.07132219757149803,1.062568166469194,-0.5821359801529373,0.13735274878157913,-1.0609086520436461],\"xaxis\":\"x5\",\"y\":[0.34937467752453855,-0.6963689003611885,0.49444390521925163,-0.5216091706513676,0.4724087770975294,-0.7451485094842482,-1.034922517004572,-0.7231837962892254,-0.3565877101781193,0.5561839128654138,1.4995719633555327,0.10904078889562052,0.026129809655202986,1.461617696540569,-0.5402179049296549,-0.20317357616560444,0.6218015091883577,0.6203131147082552,1.6198556238181445,1.3750576201475166,1.7665147161583103,0.9736869943203338,1.6632487833008511,1.1946869607840391,-1.3181911639397836,0.21483071972553233,0.9532299081544663,-0.47835866959161855,-0.05367608683761055,-0.6233004340756563,-0.44763279779657505,1.540650986930894,-0.10041228764413782,1.9740906004864247,0.8399728426296991,-0.06900862170430426,0.3050884857376401,-0.24929546241599287,0.22540055450182636,-1.9464725746598737,-0.013967839426258875,1.146660179529997,-1.8798754854886035,-0.40737114477860115,-0.5535966777043381,-0.9046493670712153,-0.2165903294015373,-1.5978791360078572,-1.3858322851196112,-1.0314493305780452,1.2198575387415684,-0.5408288300390035,-0.136382172634374,-0.8522283472752146,-1.105056411687845,-1.5317431813873281,1.583062570780521,-0.5433498971348376,-0.8166347685311419,1.188444648041088,1.2914964306290924,0.8093118784465675,-2.2319460048066775,-0.6725420748091804,-0.03225818317810197,-0.02957431018242885,1.3781411773100498,-0.20446219959169973,0.7892794713371499,0.06304076348528372,0.7397415414777962,0.07953236164410435,0.20439894314802834,-0.13400910629225057,-0.42058647511319996,-0.3945684866149251,2.502544202353219,-1.2099348465143327,-0.45678523003251864,1.658444813234687,-0.5805059472672414,-0.28552340803789444,0.3230214214336419,0.9383761746830033,0.01073116888838524,0.5290085286062141,-2.279993493907933,0.36593355315096493,-0.27987443799520223,0.5427764918925077,-0.19185176677469148,0.7150314393582368,1.2759738685362205,0.04545720514712179,-0.551929296600115,0.6566504637125637,0.11765627356863474,0.6719491850445272,0.6469902247765215,2.036967266780365],\"yaxis\":\"y5\",\"type\":\"scatter\"},{\"histfunc\":\"count\",\"histnorm\":\"\",\"marker\":{\"color\":\"rgba(55, 128, 191, 1.0)\",\"line\":{\"color\":\"#4D5663\",\"width\":1.3}},\"name\":\"B\",\"nbinsx\":10,\"opacity\":0.8,\"orientation\":\"v\",\"x\":[0.34937467752453855,-0.6963689003611885,0.49444390521925163,-0.5216091706513676,0.4724087770975294,-0.7451485094842482,-1.034922517004572,-0.7231837962892254,-0.3565877101781193,0.5561839128654138,1.4995719633555327,0.10904078889562052,0.026129809655202986,1.461617696540569,-0.5402179049296549,-0.20317357616560444,0.6218015091883577,0.6203131147082552,1.6198556238181445,1.3750576201475166,1.7665147161583103,0.9736869943203338,1.6632487833008511,1.1946869607840391,-1.3181911639397836,0.21483071972553233,0.9532299081544663,-0.47835866959161855,-0.05367608683761055,-0.6233004340756563,-0.44763279779657505,1.540650986930894,-0.10041228764413782,1.9740906004864247,0.8399728426296991,-0.06900862170430426,0.3050884857376401,-0.24929546241599287,0.22540055450182636,-1.9464725746598737,-0.013967839426258875,1.146660179529997,-1.8798754854886035,-0.40737114477860115,-0.5535966777043381,-0.9046493670712153,-0.2165903294015373,-1.5978791360078572,-1.3858322851196112,-1.0314493305780452,1.2198575387415684,-0.5408288300390035,-0.136382172634374,-0.8522283472752146,-1.105056411687845,-1.5317431813873281,1.583062570780521,-0.5433498971348376,-0.8166347685311419,1.188444648041088,1.2914964306290924,0.8093118784465675,-2.2319460048066775,-0.6725420748091804,-0.03225818317810197,-0.02957431018242885,1.3781411773100498,-0.20446219959169973,0.7892794713371499,0.06304076348528372,0.7397415414777962,0.07953236164410435,0.20439894314802834,-0.13400910629225057,-0.42058647511319996,-0.3945684866149251,2.502544202353219,-1.2099348465143327,-0.45678523003251864,1.658444813234687,-0.5805059472672414,-0.28552340803789444,0.3230214214336419,0.9383761746830033,0.01073116888838524,0.5290085286062141,-2.279993493907933,0.36593355315096493,-0.27987443799520223,0.5427764918925077,-0.19185176677469148,0.7150314393582368,1.2759738685362205,0.04545720514712179,-0.551929296600115,0.6566504637125637,0.11765627356863474,0.6719491850445272,0.6469902247765215,2.036967266780365],\"xaxis\":\"x6\",\"yaxis\":\"y6\",\"type\":\"histogram\"},{\"line\":{\"color\":\"rgba(128, 128, 128, 1.0)\",\"dash\":\"solid\",\"shape\":\"linear\",\"width\":1.3},\"marker\":{\"size\":2,\"symbol\":\"circle\"},\"mode\":\"markers\",\"name\":\"B\",\"text\":\"\",\"x\":[-0.45894363207003874,-0.722493736425623,0.20048308182644103,0.21013691749919605,-1.2582865634030673,0.15572381409310349,0.12722318672967606,-1.1172841759524756,-0.32167088487824663,1.2820924469897839,1.2746458957351432,0.19741381168422306,-0.026319680326124247,-0.6261956419918936,-1.827317797523706,1.5295751806362594,0.7978671095184491,-0.44242771455398616,1.2517093954017375,-0.4374002164271172,-0.2088761217760585,0.9914351899287585,-0.7757534649373191,0.15542069423383104,0.9105883849758006,-0.8777810552672228,-0.03755979623072555,0.41750579681315453,-0.49868192335410727,0.1359567357943551,0.5864092616365337,0.26810355894023286,0.4319092888365515,-0.33843652019396325,-1.556954816131435,0.017076645905988314,-1.2335428860410314,-0.5300277115200999,0.3557121879215574,-0.8702906692057076,-0.24771759336054197,-0.48238627289842134,-0.8539490525967117,1.6052144620788638,0.5948825722463177,0.5014783883450039,-1.5907686489548516,1.9592711941149723,-0.6590501882893535,0.6786312915292462,0.8007490340778324,0.4851452973951361,0.39726682011532344,0.5613441269665118,-0.36841609809838377,-2.301110635895323,1.0053731213812054,0.6884809214427433,-0.9679707519166635,-0.7985724226436826,0.9337282554968057,0.8016901054013353,-1.0864386506924104,0.1346620359267253,0.31981939534048587,0.4191066003474241,-0.9283653171090223,0.5651018665991434,0.2566207279016743,-0.9221379263744246,-0.275295703480833,-0.9040403621229179,-0.3418758056386093,0.882667564012617,-0.9575256897906781,-0.04220720553214903,0.12741630715091679,0.0801350988925898,-0.5881973704909578,-0.7989183038951643,-0.6123211464779134,2.0838216800295455,0.3860616944646757,-1.029595696286652,-0.29495079443307226,-1.85696806597112,-0.6833149525264706,-1.1254056305928566,-0.5709866578437394,-1.4199453804058024,-0.048221072258501606,-0.5183785708099345,-1.3164874905403154,-0.7998440621438979,-0.5431410573120433,-0.7334628539190104,-0.5759876195881625,0.2714706891156414,-0.1394462507553613,1.67677868861515],\"xaxis\":\"x7\",\"y\":[0.34937467752453855,-0.6963689003611885,0.49444390521925163,-0.5216091706513676,0.4724087770975294,-0.7451485094842482,-1.034922517004572,-0.7231837962892254,-0.3565877101781193,0.5561839128654138,1.4995719633555327,0.10904078889562052,0.026129809655202986,1.461617696540569,-0.5402179049296549,-0.20317357616560444,0.6218015091883577,0.6203131147082552,1.6198556238181445,1.3750576201475166,1.7665147161583103,0.9736869943203338,1.6632487833008511,1.1946869607840391,-1.3181911639397836,0.21483071972553233,0.9532299081544663,-0.47835866959161855,-0.05367608683761055,-0.6233004340756563,-0.44763279779657505,1.540650986930894,-0.10041228764413782,1.9740906004864247,0.8399728426296991,-0.06900862170430426,0.3050884857376401,-0.24929546241599287,0.22540055450182636,-1.9464725746598737,-0.013967839426258875,1.146660179529997,-1.8798754854886035,-0.40737114477860115,-0.5535966777043381,-0.9046493670712153,-0.2165903294015373,-1.5978791360078572,-1.3858322851196112,-1.0314493305780452,1.2198575387415684,-0.5408288300390035,-0.136382172634374,-0.8522283472752146,-1.105056411687845,-1.5317431813873281,1.583062570780521,-0.5433498971348376,-0.8166347685311419,1.188444648041088,1.2914964306290924,0.8093118784465675,-2.2319460048066775,-0.6725420748091804,-0.03225818317810197,-0.02957431018242885,1.3781411773100498,-0.20446219959169973,0.7892794713371499,0.06304076348528372,0.7397415414777962,0.07953236164410435,0.20439894314802834,-0.13400910629225057,-0.42058647511319996,-0.3945684866149251,2.502544202353219,-1.2099348465143327,-0.45678523003251864,1.658444813234687,-0.5805059472672414,-0.28552340803789444,0.3230214214336419,0.9383761746830033,0.01073116888838524,0.5290085286062141,-2.279993493907933,0.36593355315096493,-0.27987443799520223,0.5427764918925077,-0.19185176677469148,0.7150314393582368,1.2759738685362205,0.04545720514712179,-0.551929296600115,0.6566504637125637,0.11765627356863474,0.6719491850445272,0.6469902247765215,2.036967266780365],\"yaxis\":\"y7\",\"type\":\"scatter\"},{\"line\":{\"color\":\"rgba(128, 128, 128, 1.0)\",\"dash\":\"solid\",\"shape\":\"linear\",\"width\":1.3},\"marker\":{\"size\":2,\"symbol\":\"circle\"},\"mode\":\"markers\",\"name\":\"B\",\"text\":\"\",\"x\":[-0.34169268609277414,-0.34183801529160274,1.6062682592776023,-1.4450737393234019,-0.18522747172328866,-0.04069753018788604,0.7841468872020846,-1.611535831087613,0.1925890588357887,-0.7102571091807316,-0.9164694284920862,0.33078348659333273,1.327120173806734,-0.16560282354401276,-1.3657921245126956,-0.6051346730350797,-0.12268962327513441,0.0139238356541641,-0.8184951383923359,1.4568988073114435,0.5289402475146002,-1.743837024545892,0.9611719636513841,2.189351795330784,-0.7889314212630767,-1.5449007522392284,-1.3515124119050888,-0.8756587316558068,1.8530171382776812,1.9482165983272408,-0.8854191015533303,-0.5317653592338805,-0.08804611429214376,0.8810490425739139,0.9619079856272028,-0.6639964508596742,0.8944136624556296,-1.2582374112630885,-1.67498985383671,-0.5019404224796657,-1.617466517909237,0.33815522490584576,-0.19395511995208742,0.5564847798722077,0.7391988057687954,0.3864284359754881,1.3731110127115635,-1.812818992105761,-0.4766651921726845,-1.8697231000573862,-0.7667995982992395,2.2684860401190576,-0.24475253253371743,1.6589311028707305,-0.675376241837252,-0.11669023620788196,2.622243055593758,1.4984155002845336,-0.34564021682288026,1.2112516135244957,1.878484203150067,2.1620680333740823,-0.11580270774452468,-0.616590807718963,-0.4339821237291172,-0.08744975797638274,0.5703588245895896,-1.8007497542298683,0.30698259902780795,-0.7308696008707364,0.7412597006927252,1.55436335423711,-0.08361996181585983,1.105701669276414,-0.11208411866423354,0.8232462503051557,-1.5096306486477309,-1.2610073085639086,-0.10347061027879353,0.13335711264795141,0.7966018644090099,-0.5017975897580077,0.195065487908468,-0.11533106260527573,-1.3114838277041492,0.08585906865151684,1.0285583423417954,-0.8591616694968488,1.2497869396172856,0.15795189060603929,2.013604612560534,0.4533456804254915,-1.3495704596081035,-1.0930391280601481,-1.0645998423595764,-1.406992645223996,0.8237833699483021,-1.13520291306774,-0.35218681524264417,1.3879333308792428],\"xaxis\":\"x8\",\"y\":[0.34937467752453855,-0.6963689003611885,0.49444390521925163,-0.5216091706513676,0.4724087770975294,-0.7451485094842482,-1.034922517004572,-0.7231837962892254,-0.3565877101781193,0.5561839128654138,1.4995719633555327,0.10904078889562052,0.026129809655202986,1.461617696540569,-0.5402179049296549,-0.20317357616560444,0.6218015091883577,0.6203131147082552,1.6198556238181445,1.3750576201475166,1.7665147161583103,0.9736869943203338,1.6632487833008511,1.1946869607840391,-1.3181911639397836,0.21483071972553233,0.9532299081544663,-0.47835866959161855,-0.05367608683761055,-0.6233004340756563,-0.44763279779657505,1.540650986930894,-0.10041228764413782,1.9740906004864247,0.8399728426296991,-0.06900862170430426,0.3050884857376401,-0.24929546241599287,0.22540055450182636,-1.9464725746598737,-0.013967839426258875,1.146660179529997,-1.8798754854886035,-0.40737114477860115,-0.5535966777043381,-0.9046493670712153,-0.2165903294015373,-1.5978791360078572,-1.3858322851196112,-1.0314493305780452,1.2198575387415684,-0.5408288300390035,-0.136382172634374,-0.8522283472752146,-1.105056411687845,-1.5317431813873281,1.583062570780521,-0.5433498971348376,-0.8166347685311419,1.188444648041088,1.2914964306290924,0.8093118784465675,-2.2319460048066775,-0.6725420748091804,-0.03225818317810197,-0.02957431018242885,1.3781411773100498,-0.20446219959169973,0.7892794713371499,0.06304076348528372,0.7397415414777962,0.07953236164410435,0.20439894314802834,-0.13400910629225057,-0.42058647511319996,-0.3945684866149251,2.502544202353219,-1.2099348465143327,-0.45678523003251864,1.658444813234687,-0.5805059472672414,-0.28552340803789444,0.3230214214336419,0.9383761746830033,0.01073116888838524,0.5290085286062141,-2.279993493907933,0.36593355315096493,-0.27987443799520223,0.5427764918925077,-0.19185176677469148,0.7150314393582368,1.2759738685362205,0.04545720514712179,-0.551929296600115,0.6566504637125637,0.11765627356863474,0.6719491850445272,0.6469902247765215,2.036967266780365],\"yaxis\":\"y8\",\"type\":\"scatter\"},{\"line\":{\"color\":\"rgba(128, 128, 128, 1.0)\",\"dash\":\"solid\",\"shape\":\"linear\",\"width\":1.3},\"marker\":{\"size\":2,\"symbol\":\"circle\"},\"mode\":\"markers\",\"name\":\"C\",\"text\":\"\",\"x\":[-0.6035297959382414,-0.8168839180464849,-0.6156857927636435,-0.96809123662696,-0.6854691740293992,0.7199714768803681,1.446160156463076,1.799627965830823,1.7157877533685324,-0.17901370565073169,0.005449232404899039,-1.0833144371751064,-0.9551544617528701,-0.806542516870636,2.192659195836407,0.15416197000598228,0.01631753712948887,1.7267160752937727,0.57985045638903,0.09791585210952843,0.21351052704706053,0.2810617979115468,0.432292126121937,-1.1735741563193232,-1.1583974052626016,1.5614876377792792,-1.2881469804000822,-0.26495107714432603,1.3312459821437788,-0.08333634781307717,0.460140024288853,2.0200389221711164,-0.2964711710980584,1.7438707329329075,0.6965071847803438,0.9616884505199493,-1.0826686274947974,-0.2290348397768763,0.22539764253003775,2.3790211963457173,0.3472056319516496,0.035911286437501085,1.259055281551953,0.5918447616263801,-0.6822565116504726,-0.8928399410348654,-0.6615460317551572,0.04214420334432419,0.32233108348176587,-0.2000440217299358,0.326674581272999,0.9432398763689777,-0.8168202319197175,0.07617503642020822,-0.10923092299046434,-2.3793044960670433,-0.7364273736220023,-0.11339616677514272,-0.6902054596789023,-1.38642008999562,0.8495427939718966,-0.3878460284258634,-0.8089657350136299,-0.368755861201994,-0.0070429161289379105,-0.2524318160687466,-1.1110786925423664,1.6950918157689456,0.6672081179643534,-0.03371141339443632,1.9001276876037883,-0.9192875396872777,0.5871667111331204,-0.08438004513753744,0.07309561806045688,0.7562262739315151,0.4462221113646279,0.4266663764331806,0.6155194400559172,0.27929381908824663,-1.053986571099971,0.18020245770246723,-0.04058567909420326,1.1441406510591838,-0.4794020094470726,-1.0881453768671514,0.24795817635371536,-0.6311227016730568,-2.4387748259857727,0.9572567814279553,-1.8090332855133209,-0.16035983288459527,0.2862808765695702,-0.13959297740089516,-1.7815333343184052,0.07132219757149803,1.062568166469194,-0.5821359801529373,0.13735274878157913,-1.0609086520436461],\"xaxis\":\"x9\",\"y\":[-0.45894363207003874,-0.722493736425623,0.20048308182644103,0.21013691749919605,-1.2582865634030673,0.15572381409310349,0.12722318672967606,-1.1172841759524756,-0.32167088487824663,1.2820924469897839,1.2746458957351432,0.19741381168422306,-0.026319680326124247,-0.6261956419918936,-1.827317797523706,1.5295751806362594,0.7978671095184491,-0.44242771455398616,1.2517093954017375,-0.4374002164271172,-0.2088761217760585,0.9914351899287585,-0.7757534649373191,0.15542069423383104,0.9105883849758006,-0.8777810552672228,-0.03755979623072555,0.41750579681315453,-0.49868192335410727,0.1359567357943551,0.5864092616365337,0.26810355894023286,0.4319092888365515,-0.33843652019396325,-1.556954816131435,0.017076645905988314,-1.2335428860410314,-0.5300277115200999,0.3557121879215574,-0.8702906692057076,-0.24771759336054197,-0.48238627289842134,-0.8539490525967117,1.6052144620788638,0.5948825722463177,0.5014783883450039,-1.5907686489548516,1.9592711941149723,-0.6590501882893535,0.6786312915292462,0.8007490340778324,0.4851452973951361,0.39726682011532344,0.5613441269665118,-0.36841609809838377,-2.301110635895323,1.0053731213812054,0.6884809214427433,-0.9679707519166635,-0.7985724226436826,0.9337282554968057,0.8016901054013353,-1.0864386506924104,0.1346620359267253,0.31981939534048587,0.4191066003474241,-0.9283653171090223,0.5651018665991434,0.2566207279016743,-0.9221379263744246,-0.275295703480833,-0.9040403621229179,-0.3418758056386093,0.882667564012617,-0.9575256897906781,-0.04220720553214903,0.12741630715091679,0.0801350988925898,-0.5881973704909578,-0.7989183038951643,-0.6123211464779134,2.0838216800295455,0.3860616944646757,-1.029595696286652,-0.29495079443307226,-1.85696806597112,-0.6833149525264706,-1.1254056305928566,-0.5709866578437394,-1.4199453804058024,-0.048221072258501606,-0.5183785708099345,-1.3164874905403154,-0.7998440621438979,-0.5431410573120433,-0.7334628539190104,-0.5759876195881625,0.2714706891156414,-0.1394462507553613,1.67677868861515],\"yaxis\":\"y9\",\"type\":\"scatter\"},{\"line\":{\"color\":\"rgba(128, 128, 128, 1.0)\",\"dash\":\"solid\",\"shape\":\"linear\",\"width\":1.3},\"marker\":{\"size\":2,\"symbol\":\"circle\"},\"mode\":\"markers\",\"name\":\"C\",\"text\":\"\",\"x\":[0.34937467752453855,-0.6963689003611885,0.49444390521925163,-0.5216091706513676,0.4724087770975294,-0.7451485094842482,-1.034922517004572,-0.7231837962892254,-0.3565877101781193,0.5561839128654138,1.4995719633555327,0.10904078889562052,0.026129809655202986,1.461617696540569,-0.5402179049296549,-0.20317357616560444,0.6218015091883577,0.6203131147082552,1.6198556238181445,1.3750576201475166,1.7665147161583103,0.9736869943203338,1.6632487833008511,1.1946869607840391,-1.3181911639397836,0.21483071972553233,0.9532299081544663,-0.47835866959161855,-0.05367608683761055,-0.6233004340756563,-0.44763279779657505,1.540650986930894,-0.10041228764413782,1.9740906004864247,0.8399728426296991,-0.06900862170430426,0.3050884857376401,-0.24929546241599287,0.22540055450182636,-1.9464725746598737,-0.013967839426258875,1.146660179529997,-1.8798754854886035,-0.40737114477860115,-0.5535966777043381,-0.9046493670712153,-0.2165903294015373,-1.5978791360078572,-1.3858322851196112,-1.0314493305780452,1.2198575387415684,-0.5408288300390035,-0.136382172634374,-0.8522283472752146,-1.105056411687845,-1.5317431813873281,1.583062570780521,-0.5433498971348376,-0.8166347685311419,1.188444648041088,1.2914964306290924,0.8093118784465675,-2.2319460048066775,-0.6725420748091804,-0.03225818317810197,-0.02957431018242885,1.3781411773100498,-0.20446219959169973,0.7892794713371499,0.06304076348528372,0.7397415414777962,0.07953236164410435,0.20439894314802834,-0.13400910629225057,-0.42058647511319996,-0.3945684866149251,2.502544202353219,-1.2099348465143327,-0.45678523003251864,1.658444813234687,-0.5805059472672414,-0.28552340803789444,0.3230214214336419,0.9383761746830033,0.01073116888838524,0.5290085286062141,-2.279993493907933,0.36593355315096493,-0.27987443799520223,0.5427764918925077,-0.19185176677469148,0.7150314393582368,1.2759738685362205,0.04545720514712179,-0.551929296600115,0.6566504637125637,0.11765627356863474,0.6719491850445272,0.6469902247765215,2.036967266780365],\"xaxis\":\"x10\",\"y\":[-0.45894363207003874,-0.722493736425623,0.20048308182644103,0.21013691749919605,-1.2582865634030673,0.15572381409310349,0.12722318672967606,-1.1172841759524756,-0.32167088487824663,1.2820924469897839,1.2746458957351432,0.19741381168422306,-0.026319680326124247,-0.6261956419918936,-1.827317797523706,1.5295751806362594,0.7978671095184491,-0.44242771455398616,1.2517093954017375,-0.4374002164271172,-0.2088761217760585,0.9914351899287585,-0.7757534649373191,0.15542069423383104,0.9105883849758006,-0.8777810552672228,-0.03755979623072555,0.41750579681315453,-0.49868192335410727,0.1359567357943551,0.5864092616365337,0.26810355894023286,0.4319092888365515,-0.33843652019396325,-1.556954816131435,0.017076645905988314,-1.2335428860410314,-0.5300277115200999,0.3557121879215574,-0.8702906692057076,-0.24771759336054197,-0.48238627289842134,-0.8539490525967117,1.6052144620788638,0.5948825722463177,0.5014783883450039,-1.5907686489548516,1.9592711941149723,-0.6590501882893535,0.6786312915292462,0.8007490340778324,0.4851452973951361,0.39726682011532344,0.5613441269665118,-0.36841609809838377,-2.301110635895323,1.0053731213812054,0.6884809214427433,-0.9679707519166635,-0.7985724226436826,0.9337282554968057,0.8016901054013353,-1.0864386506924104,0.1346620359267253,0.31981939534048587,0.4191066003474241,-0.9283653171090223,0.5651018665991434,0.2566207279016743,-0.9221379263744246,-0.275295703480833,-0.9040403621229179,-0.3418758056386093,0.882667564012617,-0.9575256897906781,-0.04220720553214903,0.12741630715091679,0.0801350988925898,-0.5881973704909578,-0.7989183038951643,-0.6123211464779134,2.0838216800295455,0.3860616944646757,-1.029595696286652,-0.29495079443307226,-1.85696806597112,-0.6833149525264706,-1.1254056305928566,-0.5709866578437394,-1.4199453804058024,-0.048221072258501606,-0.5183785708099345,-1.3164874905403154,-0.7998440621438979,-0.5431410573120433,-0.7334628539190104,-0.5759876195881625,0.2714706891156414,-0.1394462507553613,1.67677868861515],\"yaxis\":\"y10\",\"type\":\"scatter\"},{\"histfunc\":\"count\",\"histnorm\":\"\",\"marker\":{\"color\":\"rgba(50, 171, 96, 1.0)\",\"line\":{\"color\":\"#4D5663\",\"width\":1.3}},\"name\":\"C\",\"nbinsx\":10,\"opacity\":0.8,\"orientation\":\"v\",\"x\":[-0.45894363207003874,-0.722493736425623,0.20048308182644103,0.21013691749919605,-1.2582865634030673,0.15572381409310349,0.12722318672967606,-1.1172841759524756,-0.32167088487824663,1.2820924469897839,1.2746458957351432,0.19741381168422306,-0.026319680326124247,-0.6261956419918936,-1.827317797523706,1.5295751806362594,0.7978671095184491,-0.44242771455398616,1.2517093954017375,-0.4374002164271172,-0.2088761217760585,0.9914351899287585,-0.7757534649373191,0.15542069423383104,0.9105883849758006,-0.8777810552672228,-0.03755979623072555,0.41750579681315453,-0.49868192335410727,0.1359567357943551,0.5864092616365337,0.26810355894023286,0.4319092888365515,-0.33843652019396325,-1.556954816131435,0.017076645905988314,-1.2335428860410314,-0.5300277115200999,0.3557121879215574,-0.8702906692057076,-0.24771759336054197,-0.48238627289842134,-0.8539490525967117,1.6052144620788638,0.5948825722463177,0.5014783883450039,-1.5907686489548516,1.9592711941149723,-0.6590501882893535,0.6786312915292462,0.8007490340778324,0.4851452973951361,0.39726682011532344,0.5613441269665118,-0.36841609809838377,-2.301110635895323,1.0053731213812054,0.6884809214427433,-0.9679707519166635,-0.7985724226436826,0.9337282554968057,0.8016901054013353,-1.0864386506924104,0.1346620359267253,0.31981939534048587,0.4191066003474241,-0.9283653171090223,0.5651018665991434,0.2566207279016743,-0.9221379263744246,-0.275295703480833,-0.9040403621229179,-0.3418758056386093,0.882667564012617,-0.9575256897906781,-0.04220720553214903,0.12741630715091679,0.0801350988925898,-0.5881973704909578,-0.7989183038951643,-0.6123211464779134,2.0838216800295455,0.3860616944646757,-1.029595696286652,-0.29495079443307226,-1.85696806597112,-0.6833149525264706,-1.1254056305928566,-0.5709866578437394,-1.4199453804058024,-0.048221072258501606,-0.5183785708099345,-1.3164874905403154,-0.7998440621438979,-0.5431410573120433,-0.7334628539190104,-0.5759876195881625,0.2714706891156414,-0.1394462507553613,1.67677868861515],\"xaxis\":\"x11\",\"yaxis\":\"y11\",\"type\":\"histogram\"},{\"line\":{\"color\":\"rgba(128, 128, 128, 1.0)\",\"dash\":\"solid\",\"shape\":\"linear\",\"width\":1.3},\"marker\":{\"size\":2,\"symbol\":\"circle\"},\"mode\":\"markers\",\"name\":\"C\",\"text\":\"\",\"x\":[-0.34169268609277414,-0.34183801529160274,1.6062682592776023,-1.4450737393234019,-0.18522747172328866,-0.04069753018788604,0.7841468872020846,-1.611535831087613,0.1925890588357887,-0.7102571091807316,-0.9164694284920862,0.33078348659333273,1.327120173806734,-0.16560282354401276,-1.3657921245126956,-0.6051346730350797,-0.12268962327513441,0.0139238356541641,-0.8184951383923359,1.4568988073114435,0.5289402475146002,-1.743837024545892,0.9611719636513841,2.189351795330784,-0.7889314212630767,-1.5449007522392284,-1.3515124119050888,-0.8756587316558068,1.8530171382776812,1.9482165983272408,-0.8854191015533303,-0.5317653592338805,-0.08804611429214376,0.8810490425739139,0.9619079856272028,-0.6639964508596742,0.8944136624556296,-1.2582374112630885,-1.67498985383671,-0.5019404224796657,-1.617466517909237,0.33815522490584576,-0.19395511995208742,0.5564847798722077,0.7391988057687954,0.3864284359754881,1.3731110127115635,-1.812818992105761,-0.4766651921726845,-1.8697231000573862,-0.7667995982992395,2.2684860401190576,-0.24475253253371743,1.6589311028707305,-0.675376241837252,-0.11669023620788196,2.622243055593758,1.4984155002845336,-0.34564021682288026,1.2112516135244957,1.878484203150067,2.1620680333740823,-0.11580270774452468,-0.616590807718963,-0.4339821237291172,-0.08744975797638274,0.5703588245895896,-1.8007497542298683,0.30698259902780795,-0.7308696008707364,0.7412597006927252,1.55436335423711,-0.08361996181585983,1.105701669276414,-0.11208411866423354,0.8232462503051557,-1.5096306486477309,-1.2610073085639086,-0.10347061027879353,0.13335711264795141,0.7966018644090099,-0.5017975897580077,0.195065487908468,-0.11533106260527573,-1.3114838277041492,0.08585906865151684,1.0285583423417954,-0.8591616694968488,1.2497869396172856,0.15795189060603929,2.013604612560534,0.4533456804254915,-1.3495704596081035,-1.0930391280601481,-1.0645998423595764,-1.406992645223996,0.8237833699483021,-1.13520291306774,-0.35218681524264417,1.3879333308792428],\"xaxis\":\"x12\",\"y\":[-0.45894363207003874,-0.722493736425623,0.20048308182644103,0.21013691749919605,-1.2582865634030673,0.15572381409310349,0.12722318672967606,-1.1172841759524756,-0.32167088487824663,1.2820924469897839,1.2746458957351432,0.19741381168422306,-0.026319680326124247,-0.6261956419918936,-1.827317797523706,1.5295751806362594,0.7978671095184491,-0.44242771455398616,1.2517093954017375,-0.4374002164271172,-0.2088761217760585,0.9914351899287585,-0.7757534649373191,0.15542069423383104,0.9105883849758006,-0.8777810552672228,-0.03755979623072555,0.41750579681315453,-0.49868192335410727,0.1359567357943551,0.5864092616365337,0.26810355894023286,0.4319092888365515,-0.33843652019396325,-1.556954816131435,0.017076645905988314,-1.2335428860410314,-0.5300277115200999,0.3557121879215574,-0.8702906692057076,-0.24771759336054197,-0.48238627289842134,-0.8539490525967117,1.6052144620788638,0.5948825722463177,0.5014783883450039,-1.5907686489548516,1.9592711941149723,-0.6590501882893535,0.6786312915292462,0.8007490340778324,0.4851452973951361,0.39726682011532344,0.5613441269665118,-0.36841609809838377,-2.301110635895323,1.0053731213812054,0.6884809214427433,-0.9679707519166635,-0.7985724226436826,0.9337282554968057,0.8016901054013353,-1.0864386506924104,0.1346620359267253,0.31981939534048587,0.4191066003474241,-0.9283653171090223,0.5651018665991434,0.2566207279016743,-0.9221379263744246,-0.275295703480833,-0.9040403621229179,-0.3418758056386093,0.882667564012617,-0.9575256897906781,-0.04220720553214903,0.12741630715091679,0.0801350988925898,-0.5881973704909578,-0.7989183038951643,-0.6123211464779134,2.0838216800295455,0.3860616944646757,-1.029595696286652,-0.29495079443307226,-1.85696806597112,-0.6833149525264706,-1.1254056305928566,-0.5709866578437394,-1.4199453804058024,-0.048221072258501606,-0.5183785708099345,-1.3164874905403154,-0.7998440621438979,-0.5431410573120433,-0.7334628539190104,-0.5759876195881625,0.2714706891156414,-0.1394462507553613,1.67677868861515],\"yaxis\":\"y12\",\"type\":\"scatter\"},{\"line\":{\"color\":\"rgba(128, 128, 128, 1.0)\",\"dash\":\"solid\",\"shape\":\"linear\",\"width\":1.3},\"marker\":{\"size\":2,\"symbol\":\"circle\"},\"mode\":\"markers\",\"name\":\"D\",\"text\":\"\",\"x\":[-0.6035297959382414,-0.8168839180464849,-0.6156857927636435,-0.96809123662696,-0.6854691740293992,0.7199714768803681,1.446160156463076,1.799627965830823,1.7157877533685324,-0.17901370565073169,0.005449232404899039,-1.0833144371751064,-0.9551544617528701,-0.806542516870636,2.192659195836407,0.15416197000598228,0.01631753712948887,1.7267160752937727,0.57985045638903,0.09791585210952843,0.21351052704706053,0.2810617979115468,0.432292126121937,-1.1735741563193232,-1.1583974052626016,1.5614876377792792,-1.2881469804000822,-0.26495107714432603,1.3312459821437788,-0.08333634781307717,0.460140024288853,2.0200389221711164,-0.2964711710980584,1.7438707329329075,0.6965071847803438,0.9616884505199493,-1.0826686274947974,-0.2290348397768763,0.22539764253003775,2.3790211963457173,0.3472056319516496,0.035911286437501085,1.259055281551953,0.5918447616263801,-0.6822565116504726,-0.8928399410348654,-0.6615460317551572,0.04214420334432419,0.32233108348176587,-0.2000440217299358,0.326674581272999,0.9432398763689777,-0.8168202319197175,0.07617503642020822,-0.10923092299046434,-2.3793044960670433,-0.7364273736220023,-0.11339616677514272,-0.6902054596789023,-1.38642008999562,0.8495427939718966,-0.3878460284258634,-0.8089657350136299,-0.368755861201994,-0.0070429161289379105,-0.2524318160687466,-1.1110786925423664,1.6950918157689456,0.6672081179643534,-0.03371141339443632,1.9001276876037883,-0.9192875396872777,0.5871667111331204,-0.08438004513753744,0.07309561806045688,0.7562262739315151,0.4462221113646279,0.4266663764331806,0.6155194400559172,0.27929381908824663,-1.053986571099971,0.18020245770246723,-0.04058567909420326,1.1441406510591838,-0.4794020094470726,-1.0881453768671514,0.24795817635371536,-0.6311227016730568,-2.4387748259857727,0.9572567814279553,-1.8090332855133209,-0.16035983288459527,0.2862808765695702,-0.13959297740089516,-1.7815333343184052,0.07132219757149803,1.062568166469194,-0.5821359801529373,0.13735274878157913,-1.0609086520436461],\"xaxis\":\"x13\",\"y\":[-0.34169268609277414,-0.34183801529160274,1.6062682592776023,-1.4450737393234019,-0.18522747172328866,-0.04069753018788604,0.7841468872020846,-1.611535831087613,0.1925890588357887,-0.7102571091807316,-0.9164694284920862,0.33078348659333273,1.327120173806734,-0.16560282354401276,-1.3657921245126956,-0.6051346730350797,-0.12268962327513441,0.0139238356541641,-0.8184951383923359,1.4568988073114435,0.5289402475146002,-1.743837024545892,0.9611719636513841,2.189351795330784,-0.7889314212630767,-1.5449007522392284,-1.3515124119050888,-0.8756587316558068,1.8530171382776812,1.9482165983272408,-0.8854191015533303,-0.5317653592338805,-0.08804611429214376,0.8810490425739139,0.9619079856272028,-0.6639964508596742,0.8944136624556296,-1.2582374112630885,-1.67498985383671,-0.5019404224796657,-1.617466517909237,0.33815522490584576,-0.19395511995208742,0.5564847798722077,0.7391988057687954,0.3864284359754881,1.3731110127115635,-1.812818992105761,-0.4766651921726845,-1.8697231000573862,-0.7667995982992395,2.2684860401190576,-0.24475253253371743,1.6589311028707305,-0.675376241837252,-0.11669023620788196,2.622243055593758,1.4984155002845336,-0.34564021682288026,1.2112516135244957,1.878484203150067,2.1620680333740823,-0.11580270774452468,-0.616590807718963,-0.4339821237291172,-0.08744975797638274,0.5703588245895896,-1.8007497542298683,0.30698259902780795,-0.7308696008707364,0.7412597006927252,1.55436335423711,-0.08361996181585983,1.105701669276414,-0.11208411866423354,0.8232462503051557,-1.5096306486477309,-1.2610073085639086,-0.10347061027879353,0.13335711264795141,0.7966018644090099,-0.5017975897580077,0.195065487908468,-0.11533106260527573,-1.3114838277041492,0.08585906865151684,1.0285583423417954,-0.8591616694968488,1.2497869396172856,0.15795189060603929,2.013604612560534,0.4533456804254915,-1.3495704596081035,-1.0930391280601481,-1.0645998423595764,-1.406992645223996,0.8237833699483021,-1.13520291306774,-0.35218681524264417,1.3879333308792428],\"yaxis\":\"y13\",\"type\":\"scatter\"},{\"line\":{\"color\":\"rgba(128, 128, 128, 1.0)\",\"dash\":\"solid\",\"shape\":\"linear\",\"width\":1.3},\"marker\":{\"size\":2,\"symbol\":\"circle\"},\"mode\":\"markers\",\"name\":\"D\",\"text\":\"\",\"x\":[0.34937467752453855,-0.6963689003611885,0.49444390521925163,-0.5216091706513676,0.4724087770975294,-0.7451485094842482,-1.034922517004572,-0.7231837962892254,-0.3565877101781193,0.5561839128654138,1.4995719633555327,0.10904078889562052,0.026129809655202986,1.461617696540569,-0.5402179049296549,-0.20317357616560444,0.6218015091883577,0.6203131147082552,1.6198556238181445,1.3750576201475166,1.7665147161583103,0.9736869943203338,1.6632487833008511,1.1946869607840391,-1.3181911639397836,0.21483071972553233,0.9532299081544663,-0.47835866959161855,-0.05367608683761055,-0.6233004340756563,-0.44763279779657505,1.540650986930894,-0.10041228764413782,1.9740906004864247,0.8399728426296991,-0.06900862170430426,0.3050884857376401,-0.24929546241599287,0.22540055450182636,-1.9464725746598737,-0.013967839426258875,1.146660179529997,-1.8798754854886035,-0.40737114477860115,-0.5535966777043381,-0.9046493670712153,-0.2165903294015373,-1.5978791360078572,-1.3858322851196112,-1.0314493305780452,1.2198575387415684,-0.5408288300390035,-0.136382172634374,-0.8522283472752146,-1.105056411687845,-1.5317431813873281,1.583062570780521,-0.5433498971348376,-0.8166347685311419,1.188444648041088,1.2914964306290924,0.8093118784465675,-2.2319460048066775,-0.6725420748091804,-0.03225818317810197,-0.02957431018242885,1.3781411773100498,-0.20446219959169973,0.7892794713371499,0.06304076348528372,0.7397415414777962,0.07953236164410435,0.20439894314802834,-0.13400910629225057,-0.42058647511319996,-0.3945684866149251,2.502544202353219,-1.2099348465143327,-0.45678523003251864,1.658444813234687,-0.5805059472672414,-0.28552340803789444,0.3230214214336419,0.9383761746830033,0.01073116888838524,0.5290085286062141,-2.279993493907933,0.36593355315096493,-0.27987443799520223,0.5427764918925077,-0.19185176677469148,0.7150314393582368,1.2759738685362205,0.04545720514712179,-0.551929296600115,0.6566504637125637,0.11765627356863474,0.6719491850445272,0.6469902247765215,2.036967266780365],\"xaxis\":\"x14\",\"y\":[-0.34169268609277414,-0.34183801529160274,1.6062682592776023,-1.4450737393234019,-0.18522747172328866,-0.04069753018788604,0.7841468872020846,-1.611535831087613,0.1925890588357887,-0.7102571091807316,-0.9164694284920862,0.33078348659333273,1.327120173806734,-0.16560282354401276,-1.3657921245126956,-0.6051346730350797,-0.12268962327513441,0.0139238356541641,-0.8184951383923359,1.4568988073114435,0.5289402475146002,-1.743837024545892,0.9611719636513841,2.189351795330784,-0.7889314212630767,-1.5449007522392284,-1.3515124119050888,-0.8756587316558068,1.8530171382776812,1.9482165983272408,-0.8854191015533303,-0.5317653592338805,-0.08804611429214376,0.8810490425739139,0.9619079856272028,-0.6639964508596742,0.8944136624556296,-1.2582374112630885,-1.67498985383671,-0.5019404224796657,-1.617466517909237,0.33815522490584576,-0.19395511995208742,0.5564847798722077,0.7391988057687954,0.3864284359754881,1.3731110127115635,-1.812818992105761,-0.4766651921726845,-1.8697231000573862,-0.7667995982992395,2.2684860401190576,-0.24475253253371743,1.6589311028707305,-0.675376241837252,-0.11669023620788196,2.622243055593758,1.4984155002845336,-0.34564021682288026,1.2112516135244957,1.878484203150067,2.1620680333740823,-0.11580270774452468,-0.616590807718963,-0.4339821237291172,-0.08744975797638274,0.5703588245895896,-1.8007497542298683,0.30698259902780795,-0.7308696008707364,0.7412597006927252,1.55436335423711,-0.08361996181585983,1.105701669276414,-0.11208411866423354,0.8232462503051557,-1.5096306486477309,-1.2610073085639086,-0.10347061027879353,0.13335711264795141,0.7966018644090099,-0.5017975897580077,0.195065487908468,-0.11533106260527573,-1.3114838277041492,0.08585906865151684,1.0285583423417954,-0.8591616694968488,1.2497869396172856,0.15795189060603929,2.013604612560534,0.4533456804254915,-1.3495704596081035,-1.0930391280601481,-1.0645998423595764,-1.406992645223996,0.8237833699483021,-1.13520291306774,-0.35218681524264417,1.3879333308792428],\"yaxis\":\"y14\",\"type\":\"scatter\"},{\"line\":{\"color\":\"rgba(128, 128, 128, 1.0)\",\"dash\":\"solid\",\"shape\":\"linear\",\"width\":1.3},\"marker\":{\"size\":2,\"symbol\":\"circle\"},\"mode\":\"markers\",\"name\":\"D\",\"text\":\"\",\"x\":[-0.45894363207003874,-0.722493736425623,0.20048308182644103,0.21013691749919605,-1.2582865634030673,0.15572381409310349,0.12722318672967606,-1.1172841759524756,-0.32167088487824663,1.2820924469897839,1.2746458957351432,0.19741381168422306,-0.026319680326124247,-0.6261956419918936,-1.827317797523706,1.5295751806362594,0.7978671095184491,-0.44242771455398616,1.2517093954017375,-0.4374002164271172,-0.2088761217760585,0.9914351899287585,-0.7757534649373191,0.15542069423383104,0.9105883849758006,-0.8777810552672228,-0.03755979623072555,0.41750579681315453,-0.49868192335410727,0.1359567357943551,0.5864092616365337,0.26810355894023286,0.4319092888365515,-0.33843652019396325,-1.556954816131435,0.017076645905988314,-1.2335428860410314,-0.5300277115200999,0.3557121879215574,-0.8702906692057076,-0.24771759336054197,-0.48238627289842134,-0.8539490525967117,1.6052144620788638,0.5948825722463177,0.5014783883450039,-1.5907686489548516,1.9592711941149723,-0.6590501882893535,0.6786312915292462,0.8007490340778324,0.4851452973951361,0.39726682011532344,0.5613441269665118,-0.36841609809838377,-2.301110635895323,1.0053731213812054,0.6884809214427433,-0.9679707519166635,-0.7985724226436826,0.9337282554968057,0.8016901054013353,-1.0864386506924104,0.1346620359267253,0.31981939534048587,0.4191066003474241,-0.9283653171090223,0.5651018665991434,0.2566207279016743,-0.9221379263744246,-0.275295703480833,-0.9040403621229179,-0.3418758056386093,0.882667564012617,-0.9575256897906781,-0.04220720553214903,0.12741630715091679,0.0801350988925898,-0.5881973704909578,-0.7989183038951643,-0.6123211464779134,2.0838216800295455,0.3860616944646757,-1.029595696286652,-0.29495079443307226,-1.85696806597112,-0.6833149525264706,-1.1254056305928566,-0.5709866578437394,-1.4199453804058024,-0.048221072258501606,-0.5183785708099345,-1.3164874905403154,-0.7998440621438979,-0.5431410573120433,-0.7334628539190104,-0.5759876195881625,0.2714706891156414,-0.1394462507553613,1.67677868861515],\"xaxis\":\"x15\",\"y\":[-0.34169268609277414,-0.34183801529160274,1.6062682592776023,-1.4450737393234019,-0.18522747172328866,-0.04069753018788604,0.7841468872020846,-1.611535831087613,0.1925890588357887,-0.7102571091807316,-0.9164694284920862,0.33078348659333273,1.327120173806734,-0.16560282354401276,-1.3657921245126956,-0.6051346730350797,-0.12268962327513441,0.0139238356541641,-0.8184951383923359,1.4568988073114435,0.5289402475146002,-1.743837024545892,0.9611719636513841,2.189351795330784,-0.7889314212630767,-1.5449007522392284,-1.3515124119050888,-0.8756587316558068,1.8530171382776812,1.9482165983272408,-0.8854191015533303,-0.5317653592338805,-0.08804611429214376,0.8810490425739139,0.9619079856272028,-0.6639964508596742,0.8944136624556296,-1.2582374112630885,-1.67498985383671,-0.5019404224796657,-1.617466517909237,0.33815522490584576,-0.19395511995208742,0.5564847798722077,0.7391988057687954,0.3864284359754881,1.3731110127115635,-1.812818992105761,-0.4766651921726845,-1.8697231000573862,-0.7667995982992395,2.2684860401190576,-0.24475253253371743,1.6589311028707305,-0.675376241837252,-0.11669023620788196,2.622243055593758,1.4984155002845336,-0.34564021682288026,1.2112516135244957,1.878484203150067,2.1620680333740823,-0.11580270774452468,-0.616590807718963,-0.4339821237291172,-0.08744975797638274,0.5703588245895896,-1.8007497542298683,0.30698259902780795,-0.7308696008707364,0.7412597006927252,1.55436335423711,-0.08361996181585983,1.105701669276414,-0.11208411866423354,0.8232462503051557,-1.5096306486477309,-1.2610073085639086,-0.10347061027879353,0.13335711264795141,0.7966018644090099,-0.5017975897580077,0.195065487908468,-0.11533106260527573,-1.3114838277041492,0.08585906865151684,1.0285583423417954,-0.8591616694968488,1.2497869396172856,0.15795189060603929,2.013604612560534,0.4533456804254915,-1.3495704596081035,-1.0930391280601481,-1.0645998423595764,-1.406992645223996,0.8237833699483021,-1.13520291306774,-0.35218681524264417,1.3879333308792428],\"yaxis\":\"y15\",\"type\":\"scatter\"},{\"histfunc\":\"count\",\"histnorm\":\"\",\"marker\":{\"color\":\"rgba(128, 0, 128, 1.0)\",\"line\":{\"color\":\"#4D5663\",\"width\":1.3}},\"name\":\"D\",\"nbinsx\":10,\"opacity\":0.8,\"orientation\":\"v\",\"x\":[-0.34169268609277414,-0.34183801529160274,1.6062682592776023,-1.4450737393234019,-0.18522747172328866,-0.04069753018788604,0.7841468872020846,-1.611535831087613,0.1925890588357887,-0.7102571091807316,-0.9164694284920862,0.33078348659333273,1.327120173806734,-0.16560282354401276,-1.3657921245126956,-0.6051346730350797,-0.12268962327513441,0.0139238356541641,-0.8184951383923359,1.4568988073114435,0.5289402475146002,-1.743837024545892,0.9611719636513841,2.189351795330784,-0.7889314212630767,-1.5449007522392284,-1.3515124119050888,-0.8756587316558068,1.8530171382776812,1.9482165983272408,-0.8854191015533303,-0.5317653592338805,-0.08804611429214376,0.8810490425739139,0.9619079856272028,-0.6639964508596742,0.8944136624556296,-1.2582374112630885,-1.67498985383671,-0.5019404224796657,-1.617466517909237,0.33815522490584576,-0.19395511995208742,0.5564847798722077,0.7391988057687954,0.3864284359754881,1.3731110127115635,-1.812818992105761,-0.4766651921726845,-1.8697231000573862,-0.7667995982992395,2.2684860401190576,-0.24475253253371743,1.6589311028707305,-0.675376241837252,-0.11669023620788196,2.622243055593758,1.4984155002845336,-0.34564021682288026,1.2112516135244957,1.878484203150067,2.1620680333740823,-0.11580270774452468,-0.616590807718963,-0.4339821237291172,-0.08744975797638274,0.5703588245895896,-1.8007497542298683,0.30698259902780795,-0.7308696008707364,0.7412597006927252,1.55436335423711,-0.08361996181585983,1.105701669276414,-0.11208411866423354,0.8232462503051557,-1.5096306486477309,-1.2610073085639086,-0.10347061027879353,0.13335711264795141,0.7966018644090099,-0.5017975897580077,0.195065487908468,-0.11533106260527573,-1.3114838277041492,0.08585906865151684,1.0285583423417954,-0.8591616694968488,1.2497869396172856,0.15795189060603929,2.013604612560534,0.4533456804254915,-1.3495704596081035,-1.0930391280601481,-1.0645998423595764,-1.406992645223996,0.8237833699483021,-1.13520291306774,-0.35218681524264417,1.3879333308792428],\"xaxis\":\"x16\",\"yaxis\":\"y16\",\"type\":\"histogram\"}],                        {\"bargap\":0.02,\"legend\":{\"bgcolor\":\"#F5F6F9\",\"font\":{\"color\":\"#4D5663\"}},\"paper_bgcolor\":\"#F5F6F9\",\"plot_bgcolor\":\"#F5F6F9\",\"showlegend\":false,\"template\":{\"data\":{\"barpolar\":[{\"marker\":{\"line\":{\"color\":\"#E5ECF6\",\"width\":0.5},\"pattern\":{\"fillmode\":\"overlay\",\"size\":10,\"solidity\":0.2}},\"type\":\"barpolar\"}],\"bar\":[{\"error_x\":{\"color\":\"#2a3f5f\"},\"error_y\":{\"color\":\"#2a3f5f\"},\"marker\":{\"line\":{\"color\":\"#E5ECF6\",\"width\":0.5},\"pattern\":{\"fillmode\":\"overlay\",\"size\":10,\"solidity\":0.2}},\"type\":\"bar\"}],\"carpet\":[{\"aaxis\":{\"endlinecolor\":\"#2a3f5f\",\"gridcolor\":\"white\",\"linecolor\":\"white\",\"minorgridcolor\":\"white\",\"startlinecolor\":\"#2a3f5f\"},\"baxis\":{\"endlinecolor\":\"#2a3f5f\",\"gridcolor\":\"white\",\"linecolor\":\"white\",\"minorgridcolor\":\"white\",\"startlinecolor\":\"#2a3f5f\"},\"type\":\"carpet\"}],\"choropleth\":[{\"colorbar\":{\"outlinewidth\":0,\"ticks\":\"\"},\"type\":\"choropleth\"}],\"contourcarpet\":[{\"colorbar\":{\"outlinewidth\":0,\"ticks\":\"\"},\"type\":\"contourcarpet\"}],\"contour\":[{\"colorbar\":{\"outlinewidth\":0,\"ticks\":\"\"},\"colorscale\":[[0.0,\"#0d0887\"],[0.1111111111111111,\"#46039f\"],[0.2222222222222222,\"#7201a8\"],[0.3333333333333333,\"#9c179e\"],[0.4444444444444444,\"#bd3786\"],[0.5555555555555556,\"#d8576b\"],[0.6666666666666666,\"#ed7953\"],[0.7777777777777778,\"#fb9f3a\"],[0.8888888888888888,\"#fdca26\"],[1.0,\"#f0f921\"]],\"type\":\"contour\"}],\"heatmapgl\":[{\"colorbar\":{\"outlinewidth\":0,\"ticks\":\"\"},\"colorscale\":[[0.0,\"#0d0887\"],[0.1111111111111111,\"#46039f\"],[0.2222222222222222,\"#7201a8\"],[0.3333333333333333,\"#9c179e\"],[0.4444444444444444,\"#bd3786\"],[0.5555555555555556,\"#d8576b\"],[0.6666666666666666,\"#ed7953\"],[0.7777777777777778,\"#fb9f3a\"],[0.8888888888888888,\"#fdca26\"],[1.0,\"#f0f921\"]],\"type\":\"heatmapgl\"}],\"heatmap\":[{\"colorbar\":{\"outlinewidth\":0,\"ticks\":\"\"},\"colorscale\":[[0.0,\"#0d0887\"],[0.1111111111111111,\"#46039f\"],[0.2222222222222222,\"#7201a8\"],[0.3333333333333333,\"#9c179e\"],[0.4444444444444444,\"#bd3786\"],[0.5555555555555556,\"#d8576b\"],[0.6666666666666666,\"#ed7953\"],[0.7777777777777778,\"#fb9f3a\"],[0.8888888888888888,\"#fdca26\"],[1.0,\"#f0f921\"]],\"type\":\"heatmap\"}],\"histogram2dcontour\":[{\"colorbar\":{\"outlinewidth\":0,\"ticks\":\"\"},\"colorscale\":[[0.0,\"#0d0887\"],[0.1111111111111111,\"#46039f\"],[0.2222222222222222,\"#7201a8\"],[0.3333333333333333,\"#9c179e\"],[0.4444444444444444,\"#bd3786\"],[0.5555555555555556,\"#d8576b\"],[0.6666666666666666,\"#ed7953\"],[0.7777777777777778,\"#fb9f3a\"],[0.8888888888888888,\"#fdca26\"],[1.0,\"#f0f921\"]],\"type\":\"histogram2dcontour\"}],\"histogram2d\":[{\"colorbar\":{\"outlinewidth\":0,\"ticks\":\"\"},\"colorscale\":[[0.0,\"#0d0887\"],[0.1111111111111111,\"#46039f\"],[0.2222222222222222,\"#7201a8\"],[0.3333333333333333,\"#9c179e\"],[0.4444444444444444,\"#bd3786\"],[0.5555555555555556,\"#d8576b\"],[0.6666666666666666,\"#ed7953\"],[0.7777777777777778,\"#fb9f3a\"],[0.8888888888888888,\"#fdca26\"],[1.0,\"#f0f921\"]],\"type\":\"histogram2d\"}],\"histogram\":[{\"marker\":{\"pattern\":{\"fillmode\":\"overlay\",\"size\":10,\"solidity\":0.2}},\"type\":\"histogram\"}],\"mesh3d\":[{\"colorbar\":{\"outlinewidth\":0,\"ticks\":\"\"},\"type\":\"mesh3d\"}],\"parcoords\":[{\"line\":{\"colorbar\":{\"outlinewidth\":0,\"ticks\":\"\"}},\"type\":\"parcoords\"}],\"pie\":[{\"automargin\":true,\"type\":\"pie\"}],\"scatter3d\":[{\"line\":{\"colorbar\":{\"outlinewidth\":0,\"ticks\":\"\"}},\"marker\":{\"colorbar\":{\"outlinewidth\":0,\"ticks\":\"\"}},\"type\":\"scatter3d\"}],\"scattercarpet\":[{\"marker\":{\"colorbar\":{\"outlinewidth\":0,\"ticks\":\"\"}},\"type\":\"scattercarpet\"}],\"scattergeo\":[{\"marker\":{\"colorbar\":{\"outlinewidth\":0,\"ticks\":\"\"}},\"type\":\"scattergeo\"}],\"scattergl\":[{\"marker\":{\"colorbar\":{\"outlinewidth\":0,\"ticks\":\"\"}},\"type\":\"scattergl\"}],\"scattermapbox\":[{\"marker\":{\"colorbar\":{\"outlinewidth\":0,\"ticks\":\"\"}},\"type\":\"scattermapbox\"}],\"scatterpolargl\":[{\"marker\":{\"colorbar\":{\"outlinewidth\":0,\"ticks\":\"\"}},\"type\":\"scatterpolargl\"}],\"scatterpolar\":[{\"marker\":{\"colorbar\":{\"outlinewidth\":0,\"ticks\":\"\"}},\"type\":\"scatterpolar\"}],\"scatter\":[{\"fillpattern\":{\"fillmode\":\"overlay\",\"size\":10,\"solidity\":0.2},\"type\":\"scatter\"}],\"scatterternary\":[{\"marker\":{\"colorbar\":{\"outlinewidth\":0,\"ticks\":\"\"}},\"type\":\"scatterternary\"}],\"surface\":[{\"colorbar\":{\"outlinewidth\":0,\"ticks\":\"\"},\"colorscale\":[[0.0,\"#0d0887\"],[0.1111111111111111,\"#46039f\"],[0.2222222222222222,\"#7201a8\"],[0.3333333333333333,\"#9c179e\"],[0.4444444444444444,\"#bd3786\"],[0.5555555555555556,\"#d8576b\"],[0.6666666666666666,\"#ed7953\"],[0.7777777777777778,\"#fb9f3a\"],[0.8888888888888888,\"#fdca26\"],[1.0,\"#f0f921\"]],\"type\":\"surface\"}],\"table\":[{\"cells\":{\"fill\":{\"color\":\"#EBF0F8\"},\"line\":{\"color\":\"white\"}},\"header\":{\"fill\":{\"color\":\"#C8D4E3\"},\"line\":{\"color\":\"white\"}},\"type\":\"table\"}]},\"layout\":{\"annotationdefaults\":{\"arrowcolor\":\"#2a3f5f\",\"arrowhead\":0,\"arrowwidth\":1},\"autotypenumbers\":\"strict\",\"coloraxis\":{\"colorbar\":{\"outlinewidth\":0,\"ticks\":\"\"}},\"colorscale\":{\"diverging\":[[0,\"#8e0152\"],[0.1,\"#c51b7d\"],[0.2,\"#de77ae\"],[0.3,\"#f1b6da\"],[0.4,\"#fde0ef\"],[0.5,\"#f7f7f7\"],[0.6,\"#e6f5d0\"],[0.7,\"#b8e186\"],[0.8,\"#7fbc41\"],[0.9,\"#4d9221\"],[1,\"#276419\"]],\"sequential\":[[0.0,\"#0d0887\"],[0.1111111111111111,\"#46039f\"],[0.2222222222222222,\"#7201a8\"],[0.3333333333333333,\"#9c179e\"],[0.4444444444444444,\"#bd3786\"],[0.5555555555555556,\"#d8576b\"],[0.6666666666666666,\"#ed7953\"],[0.7777777777777778,\"#fb9f3a\"],[0.8888888888888888,\"#fdca26\"],[1.0,\"#f0f921\"]],\"sequentialminus\":[[0.0,\"#0d0887\"],[0.1111111111111111,\"#46039f\"],[0.2222222222222222,\"#7201a8\"],[0.3333333333333333,\"#9c179e\"],[0.4444444444444444,\"#bd3786\"],[0.5555555555555556,\"#d8576b\"],[0.6666666666666666,\"#ed7953\"],[0.7777777777777778,\"#fb9f3a\"],[0.8888888888888888,\"#fdca26\"],[1.0,\"#f0f921\"]]},\"colorway\":[\"#636efa\",\"#EF553B\",\"#00cc96\",\"#ab63fa\",\"#FFA15A\",\"#19d3f3\",\"#FF6692\",\"#B6E880\",\"#FF97FF\",\"#FECB52\"],\"font\":{\"color\":\"#2a3f5f\"},\"geo\":{\"bgcolor\":\"white\",\"lakecolor\":\"white\",\"landcolor\":\"#E5ECF6\",\"showlakes\":true,\"showland\":true,\"subunitcolor\":\"white\"},\"hoverlabel\":{\"align\":\"left\"},\"hovermode\":\"closest\",\"mapbox\":{\"style\":\"light\"},\"paper_bgcolor\":\"white\",\"plot_bgcolor\":\"#E5ECF6\",\"polar\":{\"angularaxis\":{\"gridcolor\":\"white\",\"linecolor\":\"white\",\"ticks\":\"\"},\"bgcolor\":\"#E5ECF6\",\"radialaxis\":{\"gridcolor\":\"white\",\"linecolor\":\"white\",\"ticks\":\"\"}},\"scene\":{\"xaxis\":{\"backgroundcolor\":\"#E5ECF6\",\"gridcolor\":\"white\",\"gridwidth\":2,\"linecolor\":\"white\",\"showbackground\":true,\"ticks\":\"\",\"zerolinecolor\":\"white\"},\"yaxis\":{\"backgroundcolor\":\"#E5ECF6\",\"gridcolor\":\"white\",\"gridwidth\":2,\"linecolor\":\"white\",\"showbackground\":true,\"ticks\":\"\",\"zerolinecolor\":\"white\"},\"zaxis\":{\"backgroundcolor\":\"#E5ECF6\",\"gridcolor\":\"white\",\"gridwidth\":2,\"linecolor\":\"white\",\"showbackground\":true,\"ticks\":\"\",\"zerolinecolor\":\"white\"}},\"shapedefaults\":{\"line\":{\"color\":\"#2a3f5f\"}},\"ternary\":{\"aaxis\":{\"gridcolor\":\"white\",\"linecolor\":\"white\",\"ticks\":\"\"},\"baxis\":{\"gridcolor\":\"white\",\"linecolor\":\"white\",\"ticks\":\"\"},\"bgcolor\":\"#E5ECF6\",\"caxis\":{\"gridcolor\":\"white\",\"linecolor\":\"white\",\"ticks\":\"\"}},\"title\":{\"x\":0.05},\"xaxis\":{\"automargin\":true,\"gridcolor\":\"white\",\"linecolor\":\"white\",\"ticks\":\"\",\"title\":{\"standoff\":15},\"zerolinecolor\":\"white\",\"zerolinewidth\":2},\"yaxis\":{\"automargin\":true,\"gridcolor\":\"white\",\"linecolor\":\"white\",\"ticks\":\"\",\"title\":{\"standoff\":15},\"zerolinecolor\":\"white\",\"zerolinewidth\":2}}},\"title\":{\"font\":{\"color\":\"#4D5663\"}},\"xaxis\":{\"anchor\":\"y\",\"domain\":[0.0,0.2125],\"gridcolor\":\"#E1E5ED\",\"showgrid\":false,\"tickfont\":{\"color\":\"#4D5663\"},\"title\":{\"font\":{\"color\":\"#4D5663\"},\"text\":\"\"},\"zerolinecolor\":\"#E1E5ED\"},\"yaxis\":{\"anchor\":\"x\",\"domain\":[0.8025,1.0],\"gridcolor\":\"#E1E5ED\",\"showgrid\":false,\"tickfont\":{\"color\":\"#4D5663\"},\"title\":{\"font\":{\"color\":\"#4D5663\"},\"text\":\"\"},\"zerolinecolor\":\"#E1E5ED\"},\"xaxis2\":{\"anchor\":\"y2\",\"domain\":[0.2625,0.475],\"gridcolor\":\"#E1E5ED\",\"showgrid\":false,\"tickfont\":{\"color\":\"#4D5663\"},\"title\":{\"font\":{\"color\":\"#4D5663\"},\"text\":\"\"},\"zerolinecolor\":\"#E1E5ED\"},\"yaxis2\":{\"anchor\":\"x2\",\"domain\":[0.8025,1.0],\"gridcolor\":\"#E1E5ED\",\"showgrid\":false,\"tickfont\":{\"color\":\"#4D5663\"},\"title\":{\"font\":{\"color\":\"#4D5663\"},\"text\":\"\"},\"zerolinecolor\":\"#E1E5ED\"},\"xaxis3\":{\"anchor\":\"y3\",\"domain\":[0.525,0.7375],\"gridcolor\":\"#E1E5ED\",\"showgrid\":false,\"tickfont\":{\"color\":\"#4D5663\"},\"title\":{\"font\":{\"color\":\"#4D5663\"},\"text\":\"\"},\"zerolinecolor\":\"#E1E5ED\"},\"yaxis3\":{\"anchor\":\"x3\",\"domain\":[0.8025,1.0],\"gridcolor\":\"#E1E5ED\",\"showgrid\":false,\"tickfont\":{\"color\":\"#4D5663\"},\"title\":{\"font\":{\"color\":\"#4D5663\"},\"text\":\"\"},\"zerolinecolor\":\"#E1E5ED\"},\"xaxis4\":{\"anchor\":\"y4\",\"domain\":[0.7875,1.0],\"gridcolor\":\"#E1E5ED\",\"showgrid\":false,\"tickfont\":{\"color\":\"#4D5663\"},\"title\":{\"font\":{\"color\":\"#4D5663\"},\"text\":\"\"},\"zerolinecolor\":\"#E1E5ED\"},\"yaxis4\":{\"anchor\":\"x4\",\"domain\":[0.8025,1.0],\"gridcolor\":\"#E1E5ED\",\"showgrid\":false,\"tickfont\":{\"color\":\"#4D5663\"},\"title\":{\"font\":{\"color\":\"#4D5663\"},\"text\":\"\"},\"zerolinecolor\":\"#E1E5ED\"},\"xaxis5\":{\"anchor\":\"y5\",\"domain\":[0.0,0.2125],\"gridcolor\":\"#E1E5ED\",\"showgrid\":false,\"tickfont\":{\"color\":\"#4D5663\"},\"title\":{\"font\":{\"color\":\"#4D5663\"},\"text\":\"\"},\"zerolinecolor\":\"#E1E5ED\"},\"yaxis5\":{\"anchor\":\"x5\",\"domain\":[0.535,0.7325],\"gridcolor\":\"#E1E5ED\",\"showgrid\":false,\"tickfont\":{\"color\":\"#4D5663\"},\"title\":{\"font\":{\"color\":\"#4D5663\"},\"text\":\"\"},\"zerolinecolor\":\"#E1E5ED\"},\"xaxis6\":{\"anchor\":\"y6\",\"domain\":[0.2625,0.475],\"gridcolor\":\"#E1E5ED\",\"showgrid\":false,\"tickfont\":{\"color\":\"#4D5663\"},\"title\":{\"font\":{\"color\":\"#4D5663\"},\"text\":\"\"},\"zerolinecolor\":\"#E1E5ED\"},\"yaxis6\":{\"anchor\":\"x6\",\"domain\":[0.535,0.7325],\"gridcolor\":\"#E1E5ED\",\"showgrid\":false,\"tickfont\":{\"color\":\"#4D5663\"},\"title\":{\"font\":{\"color\":\"#4D5663\"},\"text\":\"\"},\"zerolinecolor\":\"#E1E5ED\"},\"xaxis7\":{\"anchor\":\"y7\",\"domain\":[0.525,0.7375],\"gridcolor\":\"#E1E5ED\",\"showgrid\":false,\"tickfont\":{\"color\":\"#4D5663\"},\"title\":{\"font\":{\"color\":\"#4D5663\"},\"text\":\"\"},\"zerolinecolor\":\"#E1E5ED\"},\"yaxis7\":{\"anchor\":\"x7\",\"domain\":[0.535,0.7325],\"gridcolor\":\"#E1E5ED\",\"showgrid\":false,\"tickfont\":{\"color\":\"#4D5663\"},\"title\":{\"font\":{\"color\":\"#4D5663\"},\"text\":\"\"},\"zerolinecolor\":\"#E1E5ED\"},\"xaxis8\":{\"anchor\":\"y8\",\"domain\":[0.7875,1.0],\"gridcolor\":\"#E1E5ED\",\"showgrid\":false,\"tickfont\":{\"color\":\"#4D5663\"},\"title\":{\"font\":{\"color\":\"#4D5663\"},\"text\":\"\"},\"zerolinecolor\":\"#E1E5ED\"},\"yaxis8\":{\"anchor\":\"x8\",\"domain\":[0.535,0.7325],\"gridcolor\":\"#E1E5ED\",\"showgrid\":false,\"tickfont\":{\"color\":\"#4D5663\"},\"title\":{\"font\":{\"color\":\"#4D5663\"},\"text\":\"\"},\"zerolinecolor\":\"#E1E5ED\"},\"xaxis9\":{\"anchor\":\"y9\",\"domain\":[0.0,0.2125],\"gridcolor\":\"#E1E5ED\",\"showgrid\":false,\"tickfont\":{\"color\":\"#4D5663\"},\"title\":{\"font\":{\"color\":\"#4D5663\"},\"text\":\"\"},\"zerolinecolor\":\"#E1E5ED\"},\"yaxis9\":{\"anchor\":\"x9\",\"domain\":[0.2675,0.465],\"gridcolor\":\"#E1E5ED\",\"showgrid\":false,\"tickfont\":{\"color\":\"#4D5663\"},\"title\":{\"font\":{\"color\":\"#4D5663\"},\"text\":\"\"},\"zerolinecolor\":\"#E1E5ED\"},\"xaxis10\":{\"anchor\":\"y10\",\"domain\":[0.2625,0.475],\"gridcolor\":\"#E1E5ED\",\"showgrid\":false,\"tickfont\":{\"color\":\"#4D5663\"},\"title\":{\"font\":{\"color\":\"#4D5663\"},\"text\":\"\"},\"zerolinecolor\":\"#E1E5ED\"},\"yaxis10\":{\"anchor\":\"x10\",\"domain\":[0.2675,0.465],\"gridcolor\":\"#E1E5ED\",\"showgrid\":false,\"tickfont\":{\"color\":\"#4D5663\"},\"title\":{\"font\":{\"color\":\"#4D5663\"},\"text\":\"\"},\"zerolinecolor\":\"#E1E5ED\"},\"xaxis11\":{\"anchor\":\"y11\",\"domain\":[0.525,0.7375],\"gridcolor\":\"#E1E5ED\",\"showgrid\":false,\"tickfont\":{\"color\":\"#4D5663\"},\"title\":{\"font\":{\"color\":\"#4D5663\"},\"text\":\"\"},\"zerolinecolor\":\"#E1E5ED\"},\"yaxis11\":{\"anchor\":\"x11\",\"domain\":[0.2675,0.465],\"gridcolor\":\"#E1E5ED\",\"showgrid\":false,\"tickfont\":{\"color\":\"#4D5663\"},\"title\":{\"font\":{\"color\":\"#4D5663\"},\"text\":\"\"},\"zerolinecolor\":\"#E1E5ED\"},\"xaxis12\":{\"anchor\":\"y12\",\"domain\":[0.7875,1.0],\"gridcolor\":\"#E1E5ED\",\"showgrid\":false,\"tickfont\":{\"color\":\"#4D5663\"},\"title\":{\"font\":{\"color\":\"#4D5663\"},\"text\":\"\"},\"zerolinecolor\":\"#E1E5ED\"},\"yaxis12\":{\"anchor\":\"x12\",\"domain\":[0.2675,0.465],\"gridcolor\":\"#E1E5ED\",\"showgrid\":false,\"tickfont\":{\"color\":\"#4D5663\"},\"title\":{\"font\":{\"color\":\"#4D5663\"},\"text\":\"\"},\"zerolinecolor\":\"#E1E5ED\"},\"xaxis13\":{\"anchor\":\"y13\",\"domain\":[0.0,0.2125],\"gridcolor\":\"#E1E5ED\",\"showgrid\":false,\"tickfont\":{\"color\":\"#4D5663\"},\"title\":{\"font\":{\"color\":\"#4D5663\"},\"text\":\"\"},\"zerolinecolor\":\"#E1E5ED\"},\"yaxis13\":{\"anchor\":\"x13\",\"domain\":[0.0,0.1975],\"gridcolor\":\"#E1E5ED\",\"showgrid\":false,\"tickfont\":{\"color\":\"#4D5663\"},\"title\":{\"font\":{\"color\":\"#4D5663\"},\"text\":\"\"},\"zerolinecolor\":\"#E1E5ED\"},\"xaxis14\":{\"anchor\":\"y14\",\"domain\":[0.2625,0.475],\"gridcolor\":\"#E1E5ED\",\"showgrid\":false,\"tickfont\":{\"color\":\"#4D5663\"},\"title\":{\"font\":{\"color\":\"#4D5663\"},\"text\":\"\"},\"zerolinecolor\":\"#E1E5ED\"},\"yaxis14\":{\"anchor\":\"x14\",\"domain\":[0.0,0.1975],\"gridcolor\":\"#E1E5ED\",\"showgrid\":false,\"tickfont\":{\"color\":\"#4D5663\"},\"title\":{\"font\":{\"color\":\"#4D5663\"},\"text\":\"\"},\"zerolinecolor\":\"#E1E5ED\"},\"xaxis15\":{\"anchor\":\"y15\",\"domain\":[0.525,0.7375],\"gridcolor\":\"#E1E5ED\",\"showgrid\":false,\"tickfont\":{\"color\":\"#4D5663\"},\"title\":{\"font\":{\"color\":\"#4D5663\"},\"text\":\"\"},\"zerolinecolor\":\"#E1E5ED\"},\"yaxis15\":{\"anchor\":\"x15\",\"domain\":[0.0,0.1975],\"gridcolor\":\"#E1E5ED\",\"showgrid\":false,\"tickfont\":{\"color\":\"#4D5663\"},\"title\":{\"font\":{\"color\":\"#4D5663\"},\"text\":\"\"},\"zerolinecolor\":\"#E1E5ED\"},\"xaxis16\":{\"anchor\":\"y16\",\"domain\":[0.7875,1.0],\"gridcolor\":\"#E1E5ED\",\"showgrid\":false,\"tickfont\":{\"color\":\"#4D5663\"},\"title\":{\"font\":{\"color\":\"#4D5663\"},\"text\":\"\"},\"zerolinecolor\":\"#E1E5ED\"},\"yaxis16\":{\"anchor\":\"x16\",\"domain\":[0.0,0.1975],\"gridcolor\":\"#E1E5ED\",\"showgrid\":false,\"tickfont\":{\"color\":\"#4D5663\"},\"title\":{\"font\":{\"color\":\"#4D5663\"},\"text\":\"\"},\"zerolinecolor\":\"#E1E5ED\"}},                        {\"showLink\": true, \"linkText\": \"Export to plot.ly\", \"plotlyServerURL\": \"https://plot.ly\", \"responsive\": true}                    ).then(function(){\n",
       "                            \n",
       "var gd = document.getElementById('e3fd2647-75d9-4e41-9381-e57383711447');\n",
       "var x = new MutationObserver(function (mutations, observer) {{\n",
       "        var display = window.getComputedStyle(gd).display;\n",
       "        if (!display || display === 'none') {{\n",
       "            console.log([gd, 'removed!']);\n",
       "            Plotly.purge(gd);\n",
       "            observer.disconnect();\n",
       "        }}\n",
       "}});\n",
       "\n",
       "// Listen for the removal of the full notebook cells\n",
       "var notebookContainer = gd.closest('#notebook-container');\n",
       "if (notebookContainer) {{\n",
       "    x.observe(notebookContainer, {childList: true});\n",
       "}}\n",
       "\n",
       "// Listen for the clearing of the current output cell\n",
       "var outputEl = gd.closest('.output');\n",
       "if (outputEl) {{\n",
       "    x.observe(outputEl, {childList: true});\n",
       "}}\n",
       "\n",
       "                        })                };                });            </script>        </div>"
      ]
     },
     "metadata": {},
     "output_type": "display_data"
    }
   ],
   "source": [
    "df.scatter_matrix()"
   ]
  },
  {
   "cell_type": "markdown",
   "metadata": {},
   "source": [
    "## Choropleth US Maps\n",
    "\n",
    "Plotly's mapping can be a bit hard to get used to at first, remember to reference the cheat sheet in the data visualization folder, or [find it online here](https://images.plot.ly/plotly-documentation/images/python_cheat_sheet.pdf)."
   ]
  },
  {
   "cell_type": "code",
   "execution_count": 3,
   "metadata": {},
   "outputs": [],
   "source": [
    "import plotly.graph_objs as go "
   ]
  },
  {
   "cell_type": "markdown",
   "metadata": {},
   "source": [
    "Now we need to begin to build our data dictionary. Easiest way to do this is to use the **dict()** function of the general form:\n",
    "\n",
    "* type = 'choropleth',\n",
    "* locations = list of states\n",
    "* locationmode = 'USA-states'\n",
    "* colorscale= \n",
    "\n",
    "Either a predefined string:\n",
    "\n",
    "    'pairs' | 'Greys' | 'Greens' | 'Bluered' | 'Hot' | 'Picnic' | 'Portland' | 'Jet' | 'RdBu' | 'Blackbody' | 'Earth' | 'Electric' | 'YIOrRd' | 'YIGnBu'\n",
    "\n",
    "or create a [custom colorscale](https://www.geeksforgeeks.org/built-in-continuous-color-scales-in-python-plotly/)\n",
    "\n",
    "* text= list or array of text to display per point\n",
    "* z= array of values on z axis (color of state)\n",
    "* colorbar = {'title':'Colorbar Title'})"
   ]
  },
  {
   "cell_type": "code",
   "execution_count": 19,
   "metadata": {},
   "outputs": [],
   "source": [
    "data = dict(type = 'choropleth',\n",
    "            locations = ['AZ','CA','NY'],\n",
    "            locationmode = 'USA-states',\n",
    "            colorscale= 'Portland',\n",
    "            text= ['text1','text2','text3'],\n",
    "            z=[1.0,2.0,3.0],\n",
    "            colorbar = {'title':'Colorbar Title'})"
   ]
  },
  {
   "cell_type": "markdown",
   "metadata": {},
   "source": [
    "Then we create the layout nested dictionary:"
   ]
  },
  {
   "cell_type": "code",
   "execution_count": 20,
   "metadata": {},
   "outputs": [],
   "source": [
    "layout = dict(geo = {'scope':'usa'})"
   ]
  },
  {
   "cell_type": "markdown",
   "metadata": {},
   "source": [
    "Then we use: \n",
    "\n",
    "    go.Figure(data = [data],layout = layout)\n",
    "    \n",
    "to set up the object that finally gets passed into iplot()"
   ]
  },
  {
   "cell_type": "code",
   "execution_count": 23,
   "metadata": {},
   "outputs": [],
   "source": [
    "choromap = go.Figure(data = [data],layout = layout)"
   ]
  },
  {
   "cell_type": "code",
   "execution_count": 24,
   "metadata": {},
   "outputs": [
    {
     "data": {
      "application/vnd.plotly.v1+json": {
       "config": {
        "linkText": "Export to plot.ly",
        "plotlyServerURL": "https://plot.ly",
        "showLink": false
       },
       "data": [
        {
         "colorbar": {
          "title": {
           "text": "Colorbar Title"
          }
         },
         "colorscale": [
          [
           0,
           "rgb(12,51,131)"
          ],
          [
           0.25,
           "rgb(10,136,186)"
          ],
          [
           0.5,
           "rgb(242,211,56)"
          ],
          [
           0.75,
           "rgb(242,143,56)"
          ],
          [
           1,
           "rgb(217,30,30)"
          ]
         ],
         "locationmode": "USA-states",
         "locations": [
          "AZ",
          "CA",
          "NY"
         ],
         "text": [
          "text1",
          "text2",
          "text3"
         ],
         "type": "choropleth",
         "z": [
          1,
          2,
          3
         ]
        }
       ],
       "layout": {
        "geo": {
         "scope": "usa"
        },
        "template": {
         "data": {
          "bar": [
           {
            "error_x": {
             "color": "#2a3f5f"
            },
            "error_y": {
             "color": "#2a3f5f"
            },
            "marker": {
             "line": {
              "color": "#E5ECF6",
              "width": 0.5
             },
             "pattern": {
              "fillmode": "overlay",
              "size": 10,
              "solidity": 0.2
             }
            },
            "type": "bar"
           }
          ],
          "barpolar": [
           {
            "marker": {
             "line": {
              "color": "#E5ECF6",
              "width": 0.5
             },
             "pattern": {
              "fillmode": "overlay",
              "size": 10,
              "solidity": 0.2
             }
            },
            "type": "barpolar"
           }
          ],
          "carpet": [
           {
            "aaxis": {
             "endlinecolor": "#2a3f5f",
             "gridcolor": "white",
             "linecolor": "white",
             "minorgridcolor": "white",
             "startlinecolor": "#2a3f5f"
            },
            "baxis": {
             "endlinecolor": "#2a3f5f",
             "gridcolor": "white",
             "linecolor": "white",
             "minorgridcolor": "white",
             "startlinecolor": "#2a3f5f"
            },
            "type": "carpet"
           }
          ],
          "choropleth": [
           {
            "colorbar": {
             "outlinewidth": 0,
             "ticks": ""
            },
            "type": "choropleth"
           }
          ],
          "contour": [
           {
            "colorbar": {
             "outlinewidth": 0,
             "ticks": ""
            },
            "colorscale": [
             [
              0,
              "#0d0887"
             ],
             [
              0.1111111111111111,
              "#46039f"
             ],
             [
              0.2222222222222222,
              "#7201a8"
             ],
             [
              0.3333333333333333,
              "#9c179e"
             ],
             [
              0.4444444444444444,
              "#bd3786"
             ],
             [
              0.5555555555555556,
              "#d8576b"
             ],
             [
              0.6666666666666666,
              "#ed7953"
             ],
             [
              0.7777777777777778,
              "#fb9f3a"
             ],
             [
              0.8888888888888888,
              "#fdca26"
             ],
             [
              1,
              "#f0f921"
             ]
            ],
            "type": "contour"
           }
          ],
          "contourcarpet": [
           {
            "colorbar": {
             "outlinewidth": 0,
             "ticks": ""
            },
            "type": "contourcarpet"
           }
          ],
          "heatmap": [
           {
            "colorbar": {
             "outlinewidth": 0,
             "ticks": ""
            },
            "colorscale": [
             [
              0,
              "#0d0887"
             ],
             [
              0.1111111111111111,
              "#46039f"
             ],
             [
              0.2222222222222222,
              "#7201a8"
             ],
             [
              0.3333333333333333,
              "#9c179e"
             ],
             [
              0.4444444444444444,
              "#bd3786"
             ],
             [
              0.5555555555555556,
              "#d8576b"
             ],
             [
              0.6666666666666666,
              "#ed7953"
             ],
             [
              0.7777777777777778,
              "#fb9f3a"
             ],
             [
              0.8888888888888888,
              "#fdca26"
             ],
             [
              1,
              "#f0f921"
             ]
            ],
            "type": "heatmap"
           }
          ],
          "heatmapgl": [
           {
            "colorbar": {
             "outlinewidth": 0,
             "ticks": ""
            },
            "colorscale": [
             [
              0,
              "#0d0887"
             ],
             [
              0.1111111111111111,
              "#46039f"
             ],
             [
              0.2222222222222222,
              "#7201a8"
             ],
             [
              0.3333333333333333,
              "#9c179e"
             ],
             [
              0.4444444444444444,
              "#bd3786"
             ],
             [
              0.5555555555555556,
              "#d8576b"
             ],
             [
              0.6666666666666666,
              "#ed7953"
             ],
             [
              0.7777777777777778,
              "#fb9f3a"
             ],
             [
              0.8888888888888888,
              "#fdca26"
             ],
             [
              1,
              "#f0f921"
             ]
            ],
            "type": "heatmapgl"
           }
          ],
          "histogram": [
           {
            "marker": {
             "pattern": {
              "fillmode": "overlay",
              "size": 10,
              "solidity": 0.2
             }
            },
            "type": "histogram"
           }
          ],
          "histogram2d": [
           {
            "colorbar": {
             "outlinewidth": 0,
             "ticks": ""
            },
            "colorscale": [
             [
              0,
              "#0d0887"
             ],
             [
              0.1111111111111111,
              "#46039f"
             ],
             [
              0.2222222222222222,
              "#7201a8"
             ],
             [
              0.3333333333333333,
              "#9c179e"
             ],
             [
              0.4444444444444444,
              "#bd3786"
             ],
             [
              0.5555555555555556,
              "#d8576b"
             ],
             [
              0.6666666666666666,
              "#ed7953"
             ],
             [
              0.7777777777777778,
              "#fb9f3a"
             ],
             [
              0.8888888888888888,
              "#fdca26"
             ],
             [
              1,
              "#f0f921"
             ]
            ],
            "type": "histogram2d"
           }
          ],
          "histogram2dcontour": [
           {
            "colorbar": {
             "outlinewidth": 0,
             "ticks": ""
            },
            "colorscale": [
             [
              0,
              "#0d0887"
             ],
             [
              0.1111111111111111,
              "#46039f"
             ],
             [
              0.2222222222222222,
              "#7201a8"
             ],
             [
              0.3333333333333333,
              "#9c179e"
             ],
             [
              0.4444444444444444,
              "#bd3786"
             ],
             [
              0.5555555555555556,
              "#d8576b"
             ],
             [
              0.6666666666666666,
              "#ed7953"
             ],
             [
              0.7777777777777778,
              "#fb9f3a"
             ],
             [
              0.8888888888888888,
              "#fdca26"
             ],
             [
              1,
              "#f0f921"
             ]
            ],
            "type": "histogram2dcontour"
           }
          ],
          "mesh3d": [
           {
            "colorbar": {
             "outlinewidth": 0,
             "ticks": ""
            },
            "type": "mesh3d"
           }
          ],
          "parcoords": [
           {
            "line": {
             "colorbar": {
              "outlinewidth": 0,
              "ticks": ""
             }
            },
            "type": "parcoords"
           }
          ],
          "pie": [
           {
            "automargin": true,
            "type": "pie"
           }
          ],
          "scatter": [
           {
            "fillpattern": {
             "fillmode": "overlay",
             "size": 10,
             "solidity": 0.2
            },
            "type": "scatter"
           }
          ],
          "scatter3d": [
           {
            "line": {
             "colorbar": {
              "outlinewidth": 0,
              "ticks": ""
             }
            },
            "marker": {
             "colorbar": {
              "outlinewidth": 0,
              "ticks": ""
             }
            },
            "type": "scatter3d"
           }
          ],
          "scattercarpet": [
           {
            "marker": {
             "colorbar": {
              "outlinewidth": 0,
              "ticks": ""
             }
            },
            "type": "scattercarpet"
           }
          ],
          "scattergeo": [
           {
            "marker": {
             "colorbar": {
              "outlinewidth": 0,
              "ticks": ""
             }
            },
            "type": "scattergeo"
           }
          ],
          "scattergl": [
           {
            "marker": {
             "colorbar": {
              "outlinewidth": 0,
              "ticks": ""
             }
            },
            "type": "scattergl"
           }
          ],
          "scattermapbox": [
           {
            "marker": {
             "colorbar": {
              "outlinewidth": 0,
              "ticks": ""
             }
            },
            "type": "scattermapbox"
           }
          ],
          "scatterpolar": [
           {
            "marker": {
             "colorbar": {
              "outlinewidth": 0,
              "ticks": ""
             }
            },
            "type": "scatterpolar"
           }
          ],
          "scatterpolargl": [
           {
            "marker": {
             "colorbar": {
              "outlinewidth": 0,
              "ticks": ""
             }
            },
            "type": "scatterpolargl"
           }
          ],
          "scatterternary": [
           {
            "marker": {
             "colorbar": {
              "outlinewidth": 0,
              "ticks": ""
             }
            },
            "type": "scatterternary"
           }
          ],
          "surface": [
           {
            "colorbar": {
             "outlinewidth": 0,
             "ticks": ""
            },
            "colorscale": [
             [
              0,
              "#0d0887"
             ],
             [
              0.1111111111111111,
              "#46039f"
             ],
             [
              0.2222222222222222,
              "#7201a8"
             ],
             [
              0.3333333333333333,
              "#9c179e"
             ],
             [
              0.4444444444444444,
              "#bd3786"
             ],
             [
              0.5555555555555556,
              "#d8576b"
             ],
             [
              0.6666666666666666,
              "#ed7953"
             ],
             [
              0.7777777777777778,
              "#fb9f3a"
             ],
             [
              0.8888888888888888,
              "#fdca26"
             ],
             [
              1,
              "#f0f921"
             ]
            ],
            "type": "surface"
           }
          ],
          "table": [
           {
            "cells": {
             "fill": {
              "color": "#EBF0F8"
             },
             "line": {
              "color": "white"
             }
            },
            "header": {
             "fill": {
              "color": "#C8D4E3"
             },
             "line": {
              "color": "white"
             }
            },
            "type": "table"
           }
          ]
         },
         "layout": {
          "annotationdefaults": {
           "arrowcolor": "#2a3f5f",
           "arrowhead": 0,
           "arrowwidth": 1
          },
          "autotypenumbers": "strict",
          "coloraxis": {
           "colorbar": {
            "outlinewidth": 0,
            "ticks": ""
           }
          },
          "colorscale": {
           "diverging": [
            [
             0,
             "#8e0152"
            ],
            [
             0.1,
             "#c51b7d"
            ],
            [
             0.2,
             "#de77ae"
            ],
            [
             0.3,
             "#f1b6da"
            ],
            [
             0.4,
             "#fde0ef"
            ],
            [
             0.5,
             "#f7f7f7"
            ],
            [
             0.6,
             "#e6f5d0"
            ],
            [
             0.7,
             "#b8e186"
            ],
            [
             0.8,
             "#7fbc41"
            ],
            [
             0.9,
             "#4d9221"
            ],
            [
             1,
             "#276419"
            ]
           ],
           "sequential": [
            [
             0,
             "#0d0887"
            ],
            [
             0.1111111111111111,
             "#46039f"
            ],
            [
             0.2222222222222222,
             "#7201a8"
            ],
            [
             0.3333333333333333,
             "#9c179e"
            ],
            [
             0.4444444444444444,
             "#bd3786"
            ],
            [
             0.5555555555555556,
             "#d8576b"
            ],
            [
             0.6666666666666666,
             "#ed7953"
            ],
            [
             0.7777777777777778,
             "#fb9f3a"
            ],
            [
             0.8888888888888888,
             "#fdca26"
            ],
            [
             1,
             "#f0f921"
            ]
           ],
           "sequentialminus": [
            [
             0,
             "#0d0887"
            ],
            [
             0.1111111111111111,
             "#46039f"
            ],
            [
             0.2222222222222222,
             "#7201a8"
            ],
            [
             0.3333333333333333,
             "#9c179e"
            ],
            [
             0.4444444444444444,
             "#bd3786"
            ],
            [
             0.5555555555555556,
             "#d8576b"
            ],
            [
             0.6666666666666666,
             "#ed7953"
            ],
            [
             0.7777777777777778,
             "#fb9f3a"
            ],
            [
             0.8888888888888888,
             "#fdca26"
            ],
            [
             1,
             "#f0f921"
            ]
           ]
          },
          "colorway": [
           "#636efa",
           "#EF553B",
           "#00cc96",
           "#ab63fa",
           "#FFA15A",
           "#19d3f3",
           "#FF6692",
           "#B6E880",
           "#FF97FF",
           "#FECB52"
          ],
          "font": {
           "color": "#2a3f5f"
          },
          "geo": {
           "bgcolor": "white",
           "lakecolor": "white",
           "landcolor": "#E5ECF6",
           "showlakes": true,
           "showland": true,
           "subunitcolor": "white"
          },
          "hoverlabel": {
           "align": "left"
          },
          "hovermode": "closest",
          "mapbox": {
           "style": "light"
          },
          "paper_bgcolor": "white",
          "plot_bgcolor": "#E5ECF6",
          "polar": {
           "angularaxis": {
            "gridcolor": "white",
            "linecolor": "white",
            "ticks": ""
           },
           "bgcolor": "#E5ECF6",
           "radialaxis": {
            "gridcolor": "white",
            "linecolor": "white",
            "ticks": ""
           }
          },
          "scene": {
           "xaxis": {
            "backgroundcolor": "#E5ECF6",
            "gridcolor": "white",
            "gridwidth": 2,
            "linecolor": "white",
            "showbackground": true,
            "ticks": "",
            "zerolinecolor": "white"
           },
           "yaxis": {
            "backgroundcolor": "#E5ECF6",
            "gridcolor": "white",
            "gridwidth": 2,
            "linecolor": "white",
            "showbackground": true,
            "ticks": "",
            "zerolinecolor": "white"
           },
           "zaxis": {
            "backgroundcolor": "#E5ECF6",
            "gridcolor": "white",
            "gridwidth": 2,
            "linecolor": "white",
            "showbackground": true,
            "ticks": "",
            "zerolinecolor": "white"
           }
          },
          "shapedefaults": {
           "line": {
            "color": "#2a3f5f"
           }
          },
          "ternary": {
           "aaxis": {
            "gridcolor": "white",
            "linecolor": "white",
            "ticks": ""
           },
           "baxis": {
            "gridcolor": "white",
            "linecolor": "white",
            "ticks": ""
           },
           "bgcolor": "#E5ECF6",
           "caxis": {
            "gridcolor": "white",
            "linecolor": "white",
            "ticks": ""
           }
          },
          "title": {
           "x": 0.05
          },
          "xaxis": {
           "automargin": true,
           "gridcolor": "white",
           "linecolor": "white",
           "ticks": "",
           "title": {
            "standoff": 15
           },
           "zerolinecolor": "white",
           "zerolinewidth": 2
          },
          "yaxis": {
           "automargin": true,
           "gridcolor": "white",
           "linecolor": "white",
           "ticks": "",
           "title": {
            "standoff": 15
           },
           "zerolinecolor": "white",
           "zerolinewidth": 2
          }
         }
        }
       }
      },
      "text/html": [
       "<div>                            <div id=\"a17bc4a6-64e2-4a36-84d2-77e6373daac2\" class=\"plotly-graph-div\" style=\"height:525px; width:100%;\"></div>            <script type=\"text/javascript\">                require([\"plotly\"], function(Plotly) {                    window.PLOTLYENV=window.PLOTLYENV || {};                                    if (document.getElementById(\"a17bc4a6-64e2-4a36-84d2-77e6373daac2\")) {                    Plotly.newPlot(                        \"a17bc4a6-64e2-4a36-84d2-77e6373daac2\",                        [{\"colorbar\":{\"title\":{\"text\":\"Colorbar Title\"}},\"colorscale\":[[0.0,\"rgb(12,51,131)\"],[0.25,\"rgb(10,136,186)\"],[0.5,\"rgb(242,211,56)\"],[0.75,\"rgb(242,143,56)\"],[1.0,\"rgb(217,30,30)\"]],\"locationmode\":\"USA-states\",\"locations\":[\"AZ\",\"CA\",\"NY\"],\"text\":[\"text1\",\"text2\",\"text3\"],\"z\":[1.0,2.0,3.0],\"type\":\"choropleth\"}],                        {\"geo\":{\"scope\":\"usa\"},\"template\":{\"data\":{\"barpolar\":[{\"marker\":{\"line\":{\"color\":\"#E5ECF6\",\"width\":0.5},\"pattern\":{\"fillmode\":\"overlay\",\"size\":10,\"solidity\":0.2}},\"type\":\"barpolar\"}],\"bar\":[{\"error_x\":{\"color\":\"#2a3f5f\"},\"error_y\":{\"color\":\"#2a3f5f\"},\"marker\":{\"line\":{\"color\":\"#E5ECF6\",\"width\":0.5},\"pattern\":{\"fillmode\":\"overlay\",\"size\":10,\"solidity\":0.2}},\"type\":\"bar\"}],\"carpet\":[{\"aaxis\":{\"endlinecolor\":\"#2a3f5f\",\"gridcolor\":\"white\",\"linecolor\":\"white\",\"minorgridcolor\":\"white\",\"startlinecolor\":\"#2a3f5f\"},\"baxis\":{\"endlinecolor\":\"#2a3f5f\",\"gridcolor\":\"white\",\"linecolor\":\"white\",\"minorgridcolor\":\"white\",\"startlinecolor\":\"#2a3f5f\"},\"type\":\"carpet\"}],\"choropleth\":[{\"colorbar\":{\"outlinewidth\":0,\"ticks\":\"\"},\"type\":\"choropleth\"}],\"contourcarpet\":[{\"colorbar\":{\"outlinewidth\":0,\"ticks\":\"\"},\"type\":\"contourcarpet\"}],\"contour\":[{\"colorbar\":{\"outlinewidth\":0,\"ticks\":\"\"},\"colorscale\":[[0.0,\"#0d0887\"],[0.1111111111111111,\"#46039f\"],[0.2222222222222222,\"#7201a8\"],[0.3333333333333333,\"#9c179e\"],[0.4444444444444444,\"#bd3786\"],[0.5555555555555556,\"#d8576b\"],[0.6666666666666666,\"#ed7953\"],[0.7777777777777778,\"#fb9f3a\"],[0.8888888888888888,\"#fdca26\"],[1.0,\"#f0f921\"]],\"type\":\"contour\"}],\"heatmapgl\":[{\"colorbar\":{\"outlinewidth\":0,\"ticks\":\"\"},\"colorscale\":[[0.0,\"#0d0887\"],[0.1111111111111111,\"#46039f\"],[0.2222222222222222,\"#7201a8\"],[0.3333333333333333,\"#9c179e\"],[0.4444444444444444,\"#bd3786\"],[0.5555555555555556,\"#d8576b\"],[0.6666666666666666,\"#ed7953\"],[0.7777777777777778,\"#fb9f3a\"],[0.8888888888888888,\"#fdca26\"],[1.0,\"#f0f921\"]],\"type\":\"heatmapgl\"}],\"heatmap\":[{\"colorbar\":{\"outlinewidth\":0,\"ticks\":\"\"},\"colorscale\":[[0.0,\"#0d0887\"],[0.1111111111111111,\"#46039f\"],[0.2222222222222222,\"#7201a8\"],[0.3333333333333333,\"#9c179e\"],[0.4444444444444444,\"#bd3786\"],[0.5555555555555556,\"#d8576b\"],[0.6666666666666666,\"#ed7953\"],[0.7777777777777778,\"#fb9f3a\"],[0.8888888888888888,\"#fdca26\"],[1.0,\"#f0f921\"]],\"type\":\"heatmap\"}],\"histogram2dcontour\":[{\"colorbar\":{\"outlinewidth\":0,\"ticks\":\"\"},\"colorscale\":[[0.0,\"#0d0887\"],[0.1111111111111111,\"#46039f\"],[0.2222222222222222,\"#7201a8\"],[0.3333333333333333,\"#9c179e\"],[0.4444444444444444,\"#bd3786\"],[0.5555555555555556,\"#d8576b\"],[0.6666666666666666,\"#ed7953\"],[0.7777777777777778,\"#fb9f3a\"],[0.8888888888888888,\"#fdca26\"],[1.0,\"#f0f921\"]],\"type\":\"histogram2dcontour\"}],\"histogram2d\":[{\"colorbar\":{\"outlinewidth\":0,\"ticks\":\"\"},\"colorscale\":[[0.0,\"#0d0887\"],[0.1111111111111111,\"#46039f\"],[0.2222222222222222,\"#7201a8\"],[0.3333333333333333,\"#9c179e\"],[0.4444444444444444,\"#bd3786\"],[0.5555555555555556,\"#d8576b\"],[0.6666666666666666,\"#ed7953\"],[0.7777777777777778,\"#fb9f3a\"],[0.8888888888888888,\"#fdca26\"],[1.0,\"#f0f921\"]],\"type\":\"histogram2d\"}],\"histogram\":[{\"marker\":{\"pattern\":{\"fillmode\":\"overlay\",\"size\":10,\"solidity\":0.2}},\"type\":\"histogram\"}],\"mesh3d\":[{\"colorbar\":{\"outlinewidth\":0,\"ticks\":\"\"},\"type\":\"mesh3d\"}],\"parcoords\":[{\"line\":{\"colorbar\":{\"outlinewidth\":0,\"ticks\":\"\"}},\"type\":\"parcoords\"}],\"pie\":[{\"automargin\":true,\"type\":\"pie\"}],\"scatter3d\":[{\"line\":{\"colorbar\":{\"outlinewidth\":0,\"ticks\":\"\"}},\"marker\":{\"colorbar\":{\"outlinewidth\":0,\"ticks\":\"\"}},\"type\":\"scatter3d\"}],\"scattercarpet\":[{\"marker\":{\"colorbar\":{\"outlinewidth\":0,\"ticks\":\"\"}},\"type\":\"scattercarpet\"}],\"scattergeo\":[{\"marker\":{\"colorbar\":{\"outlinewidth\":0,\"ticks\":\"\"}},\"type\":\"scattergeo\"}],\"scattergl\":[{\"marker\":{\"colorbar\":{\"outlinewidth\":0,\"ticks\":\"\"}},\"type\":\"scattergl\"}],\"scattermapbox\":[{\"marker\":{\"colorbar\":{\"outlinewidth\":0,\"ticks\":\"\"}},\"type\":\"scattermapbox\"}],\"scatterpolargl\":[{\"marker\":{\"colorbar\":{\"outlinewidth\":0,\"ticks\":\"\"}},\"type\":\"scatterpolargl\"}],\"scatterpolar\":[{\"marker\":{\"colorbar\":{\"outlinewidth\":0,\"ticks\":\"\"}},\"type\":\"scatterpolar\"}],\"scatter\":[{\"fillpattern\":{\"fillmode\":\"overlay\",\"size\":10,\"solidity\":0.2},\"type\":\"scatter\"}],\"scatterternary\":[{\"marker\":{\"colorbar\":{\"outlinewidth\":0,\"ticks\":\"\"}},\"type\":\"scatterternary\"}],\"surface\":[{\"colorbar\":{\"outlinewidth\":0,\"ticks\":\"\"},\"colorscale\":[[0.0,\"#0d0887\"],[0.1111111111111111,\"#46039f\"],[0.2222222222222222,\"#7201a8\"],[0.3333333333333333,\"#9c179e\"],[0.4444444444444444,\"#bd3786\"],[0.5555555555555556,\"#d8576b\"],[0.6666666666666666,\"#ed7953\"],[0.7777777777777778,\"#fb9f3a\"],[0.8888888888888888,\"#fdca26\"],[1.0,\"#f0f921\"]],\"type\":\"surface\"}],\"table\":[{\"cells\":{\"fill\":{\"color\":\"#EBF0F8\"},\"line\":{\"color\":\"white\"}},\"header\":{\"fill\":{\"color\":\"#C8D4E3\"},\"line\":{\"color\":\"white\"}},\"type\":\"table\"}]},\"layout\":{\"annotationdefaults\":{\"arrowcolor\":\"#2a3f5f\",\"arrowhead\":0,\"arrowwidth\":1},\"autotypenumbers\":\"strict\",\"coloraxis\":{\"colorbar\":{\"outlinewidth\":0,\"ticks\":\"\"}},\"colorscale\":{\"diverging\":[[0,\"#8e0152\"],[0.1,\"#c51b7d\"],[0.2,\"#de77ae\"],[0.3,\"#f1b6da\"],[0.4,\"#fde0ef\"],[0.5,\"#f7f7f7\"],[0.6,\"#e6f5d0\"],[0.7,\"#b8e186\"],[0.8,\"#7fbc41\"],[0.9,\"#4d9221\"],[1,\"#276419\"]],\"sequential\":[[0.0,\"#0d0887\"],[0.1111111111111111,\"#46039f\"],[0.2222222222222222,\"#7201a8\"],[0.3333333333333333,\"#9c179e\"],[0.4444444444444444,\"#bd3786\"],[0.5555555555555556,\"#d8576b\"],[0.6666666666666666,\"#ed7953\"],[0.7777777777777778,\"#fb9f3a\"],[0.8888888888888888,\"#fdca26\"],[1.0,\"#f0f921\"]],\"sequentialminus\":[[0.0,\"#0d0887\"],[0.1111111111111111,\"#46039f\"],[0.2222222222222222,\"#7201a8\"],[0.3333333333333333,\"#9c179e\"],[0.4444444444444444,\"#bd3786\"],[0.5555555555555556,\"#d8576b\"],[0.6666666666666666,\"#ed7953\"],[0.7777777777777778,\"#fb9f3a\"],[0.8888888888888888,\"#fdca26\"],[1.0,\"#f0f921\"]]},\"colorway\":[\"#636efa\",\"#EF553B\",\"#00cc96\",\"#ab63fa\",\"#FFA15A\",\"#19d3f3\",\"#FF6692\",\"#B6E880\",\"#FF97FF\",\"#FECB52\"],\"font\":{\"color\":\"#2a3f5f\"},\"geo\":{\"bgcolor\":\"white\",\"lakecolor\":\"white\",\"landcolor\":\"#E5ECF6\",\"showlakes\":true,\"showland\":true,\"subunitcolor\":\"white\"},\"hoverlabel\":{\"align\":\"left\"},\"hovermode\":\"closest\",\"mapbox\":{\"style\":\"light\"},\"paper_bgcolor\":\"white\",\"plot_bgcolor\":\"#E5ECF6\",\"polar\":{\"angularaxis\":{\"gridcolor\":\"white\",\"linecolor\":\"white\",\"ticks\":\"\"},\"bgcolor\":\"#E5ECF6\",\"radialaxis\":{\"gridcolor\":\"white\",\"linecolor\":\"white\",\"ticks\":\"\"}},\"scene\":{\"xaxis\":{\"backgroundcolor\":\"#E5ECF6\",\"gridcolor\":\"white\",\"gridwidth\":2,\"linecolor\":\"white\",\"showbackground\":true,\"ticks\":\"\",\"zerolinecolor\":\"white\"},\"yaxis\":{\"backgroundcolor\":\"#E5ECF6\",\"gridcolor\":\"white\",\"gridwidth\":2,\"linecolor\":\"white\",\"showbackground\":true,\"ticks\":\"\",\"zerolinecolor\":\"white\"},\"zaxis\":{\"backgroundcolor\":\"#E5ECF6\",\"gridcolor\":\"white\",\"gridwidth\":2,\"linecolor\":\"white\",\"showbackground\":true,\"ticks\":\"\",\"zerolinecolor\":\"white\"}},\"shapedefaults\":{\"line\":{\"color\":\"#2a3f5f\"}},\"ternary\":{\"aaxis\":{\"gridcolor\":\"white\",\"linecolor\":\"white\",\"ticks\":\"\"},\"baxis\":{\"gridcolor\":\"white\",\"linecolor\":\"white\",\"ticks\":\"\"},\"bgcolor\":\"#E5ECF6\",\"caxis\":{\"gridcolor\":\"white\",\"linecolor\":\"white\",\"ticks\":\"\"}},\"title\":{\"x\":0.05},\"xaxis\":{\"automargin\":true,\"gridcolor\":\"white\",\"linecolor\":\"white\",\"ticks\":\"\",\"title\":{\"standoff\":15},\"zerolinecolor\":\"white\",\"zerolinewidth\":2},\"yaxis\":{\"automargin\":true,\"gridcolor\":\"white\",\"linecolor\":\"white\",\"ticks\":\"\",\"title\":{\"standoff\":15},\"zerolinecolor\":\"white\",\"zerolinewidth\":2}}}},                        {\"responsive\": true}                    ).then(function(){\n",
       "                            \n",
       "var gd = document.getElementById('a17bc4a6-64e2-4a36-84d2-77e6373daac2');\n",
       "var x = new MutationObserver(function (mutations, observer) {{\n",
       "        var display = window.getComputedStyle(gd).display;\n",
       "        if (!display || display === 'none') {{\n",
       "            console.log([gd, 'removed!']);\n",
       "            Plotly.purge(gd);\n",
       "            observer.disconnect();\n",
       "        }}\n",
       "}});\n",
       "\n",
       "// Listen for the removal of the full notebook cells\n",
       "var notebookContainer = gd.closest('#notebook-container');\n",
       "if (notebookContainer) {{\n",
       "    x.observe(notebookContainer, {childList: true});\n",
       "}}\n",
       "\n",
       "// Listen for the clearing of the current output cell\n",
       "var outputEl = gd.closest('.output');\n",
       "if (outputEl) {{\n",
       "    x.observe(outputEl, {childList: true});\n",
       "}}\n",
       "\n",
       "                        })                };                });            </script>        </div>"
      ]
     },
     "metadata": {},
     "output_type": "display_data"
    }
   ],
   "source": [
    "iplot(choromap)"
   ]
  },
  {
   "cell_type": "markdown",
   "metadata": {},
   "source": [
    "### Real Data US Map Choropleth\n",
    "\n",
    "Now let's show an example with some real data as well as some other options we can add to the dictionaries in data and layout."
   ]
  },
  {
   "cell_type": "code",
   "execution_count": 25,
   "metadata": {},
   "outputs": [
    {
     "data": {
      "text/html": [
       "<div>\n",
       "<style scoped>\n",
       "    .dataframe tbody tr th:only-of-type {\n",
       "        vertical-align: middle;\n",
       "    }\n",
       "\n",
       "    .dataframe tbody tr th {\n",
       "        vertical-align: top;\n",
       "    }\n",
       "\n",
       "    .dataframe thead th {\n",
       "        text-align: right;\n",
       "    }\n",
       "</style>\n",
       "<table border=\"1\" class=\"dataframe\">\n",
       "  <thead>\n",
       "    <tr style=\"text-align: right;\">\n",
       "      <th></th>\n",
       "      <th>code</th>\n",
       "      <th>state</th>\n",
       "      <th>category</th>\n",
       "      <th>total exports</th>\n",
       "      <th>beef</th>\n",
       "      <th>pork</th>\n",
       "      <th>poultry</th>\n",
       "      <th>dairy</th>\n",
       "      <th>fruits fresh</th>\n",
       "      <th>fruits proc</th>\n",
       "      <th>total fruits</th>\n",
       "      <th>veggies fresh</th>\n",
       "      <th>veggies proc</th>\n",
       "      <th>total veggies</th>\n",
       "      <th>corn</th>\n",
       "      <th>wheat</th>\n",
       "      <th>cotton</th>\n",
       "      <th>text</th>\n",
       "    </tr>\n",
       "  </thead>\n",
       "  <tbody>\n",
       "    <tr>\n",
       "      <th>0</th>\n",
       "      <td>AL</td>\n",
       "      <td>Alabama</td>\n",
       "      <td>state</td>\n",
       "      <td>1390.63</td>\n",
       "      <td>34.4</td>\n",
       "      <td>10.6</td>\n",
       "      <td>481.0</td>\n",
       "      <td>4.06</td>\n",
       "      <td>8.0</td>\n",
       "      <td>17.1</td>\n",
       "      <td>25.11</td>\n",
       "      <td>5.5</td>\n",
       "      <td>8.9</td>\n",
       "      <td>14.33</td>\n",
       "      <td>34.9</td>\n",
       "      <td>70.0</td>\n",
       "      <td>317.61</td>\n",
       "      <td>Alabama&lt;br&gt;Beef 34.4 Dairy 4.06&lt;br&gt;Fruits 25.1...</td>\n",
       "    </tr>\n",
       "    <tr>\n",
       "      <th>1</th>\n",
       "      <td>AK</td>\n",
       "      <td>Alaska</td>\n",
       "      <td>state</td>\n",
       "      <td>13.31</td>\n",
       "      <td>0.2</td>\n",
       "      <td>0.1</td>\n",
       "      <td>0.0</td>\n",
       "      <td>0.19</td>\n",
       "      <td>0.0</td>\n",
       "      <td>0.0</td>\n",
       "      <td>0.00</td>\n",
       "      <td>0.6</td>\n",
       "      <td>1.0</td>\n",
       "      <td>1.56</td>\n",
       "      <td>0.0</td>\n",
       "      <td>0.0</td>\n",
       "      <td>0.00</td>\n",
       "      <td>Alaska&lt;br&gt;Beef 0.2 Dairy 0.19&lt;br&gt;Fruits 0.0 Ve...</td>\n",
       "    </tr>\n",
       "    <tr>\n",
       "      <th>2</th>\n",
       "      <td>AZ</td>\n",
       "      <td>Arizona</td>\n",
       "      <td>state</td>\n",
       "      <td>1463.17</td>\n",
       "      <td>71.3</td>\n",
       "      <td>17.9</td>\n",
       "      <td>0.0</td>\n",
       "      <td>105.48</td>\n",
       "      <td>19.3</td>\n",
       "      <td>41.0</td>\n",
       "      <td>60.27</td>\n",
       "      <td>147.5</td>\n",
       "      <td>239.4</td>\n",
       "      <td>386.91</td>\n",
       "      <td>7.3</td>\n",
       "      <td>48.7</td>\n",
       "      <td>423.95</td>\n",
       "      <td>Arizona&lt;br&gt;Beef 71.3 Dairy 105.48&lt;br&gt;Fruits 60...</td>\n",
       "    </tr>\n",
       "    <tr>\n",
       "      <th>3</th>\n",
       "      <td>AR</td>\n",
       "      <td>Arkansas</td>\n",
       "      <td>state</td>\n",
       "      <td>3586.02</td>\n",
       "      <td>53.2</td>\n",
       "      <td>29.4</td>\n",
       "      <td>562.9</td>\n",
       "      <td>3.53</td>\n",
       "      <td>2.2</td>\n",
       "      <td>4.7</td>\n",
       "      <td>6.88</td>\n",
       "      <td>4.4</td>\n",
       "      <td>7.1</td>\n",
       "      <td>11.45</td>\n",
       "      <td>69.5</td>\n",
       "      <td>114.5</td>\n",
       "      <td>665.44</td>\n",
       "      <td>Arkansas&lt;br&gt;Beef 53.2 Dairy 3.53&lt;br&gt;Fruits 6.8...</td>\n",
       "    </tr>\n",
       "    <tr>\n",
       "      <th>4</th>\n",
       "      <td>CA</td>\n",
       "      <td>California</td>\n",
       "      <td>state</td>\n",
       "      <td>16472.88</td>\n",
       "      <td>228.7</td>\n",
       "      <td>11.1</td>\n",
       "      <td>225.4</td>\n",
       "      <td>929.95</td>\n",
       "      <td>2791.8</td>\n",
       "      <td>5944.6</td>\n",
       "      <td>8736.40</td>\n",
       "      <td>803.2</td>\n",
       "      <td>1303.5</td>\n",
       "      <td>2106.79</td>\n",
       "      <td>34.6</td>\n",
       "      <td>249.3</td>\n",
       "      <td>1064.95</td>\n",
       "      <td>California&lt;br&gt;Beef 228.7 Dairy 929.95&lt;br&gt;Frui...</td>\n",
       "    </tr>\n",
       "  </tbody>\n",
       "</table>\n",
       "</div>"
      ],
      "text/plain": [
       "  code        state category  total exports   beef  pork  poultry   dairy  \\\n",
       "0   AL      Alabama    state        1390.63   34.4  10.6    481.0    4.06   \n",
       "1   AK       Alaska    state          13.31    0.2   0.1      0.0    0.19   \n",
       "2   AZ      Arizona    state        1463.17   71.3  17.9      0.0  105.48   \n",
       "3   AR     Arkansas    state        3586.02   53.2  29.4    562.9    3.53   \n",
       "4   CA   California    state       16472.88  228.7  11.1    225.4  929.95   \n",
       "\n",
       "   fruits fresh  fruits proc  total fruits  veggies fresh  veggies proc  \\\n",
       "0           8.0         17.1         25.11            5.5           8.9   \n",
       "1           0.0          0.0          0.00            0.6           1.0   \n",
       "2          19.3         41.0         60.27          147.5         239.4   \n",
       "3           2.2          4.7          6.88            4.4           7.1   \n",
       "4        2791.8       5944.6       8736.40          803.2        1303.5   \n",
       "\n",
       "   total veggies  corn  wheat   cotton  \\\n",
       "0          14.33  34.9   70.0   317.61   \n",
       "1           1.56   0.0    0.0     0.00   \n",
       "2         386.91   7.3   48.7   423.95   \n",
       "3          11.45  69.5  114.5   665.44   \n",
       "4        2106.79  34.6  249.3  1064.95   \n",
       "\n",
       "                                                text  \n",
       "0  Alabama<br>Beef 34.4 Dairy 4.06<br>Fruits 25.1...  \n",
       "1  Alaska<br>Beef 0.2 Dairy 0.19<br>Fruits 0.0 Ve...  \n",
       "2  Arizona<br>Beef 71.3 Dairy 105.48<br>Fruits 60...  \n",
       "3  Arkansas<br>Beef 53.2 Dairy 3.53<br>Fruits 6.8...  \n",
       "4   California<br>Beef 228.7 Dairy 929.95<br>Frui...  "
      ]
     },
     "execution_count": 25,
     "metadata": {},
     "output_type": "execute_result"
    }
   ],
   "source": [
    "df = pd.read_csv('2011_US_AGRI_Exports')\n",
    "df.head()"
   ]
  },
  {
   "cell_type": "markdown",
   "metadata": {},
   "source": [
    "Now out data dictionary with some extra marker and colorbar arguments:"
   ]
  },
  {
   "cell_type": "code",
   "execution_count": 33,
   "metadata": {},
   "outputs": [],
   "source": [
    "data = dict(type='choropleth',\n",
    "            locations = df['code'],\n",
    "            z = df['total exports'],\n",
    "            locationmode = 'USA-states',\n",
    "            text = df['text'],\n",
    "            marker = dict(line = dict(color = 'rgb(255,255,255)',width = 2)),\n",
    "            colorbar = {'title':\"Millions USD\"}\n",
    "            ) "
   ]
  },
  {
   "cell_type": "markdown",
   "metadata": {},
   "source": [
    "And our layout dictionary with some more arguments:"
   ]
  },
  {
   "cell_type": "code",
   "execution_count": 34,
   "metadata": {},
   "outputs": [],
   "source": [
    "layout = dict(title = '2011 US Agriculture Exports by State',\n",
    "              geo = dict(scope='usa',\n",
    "                         showlakes = True,\n",
    "                         lakecolor = 'rgb(85,173,240)')\n",
    "             )"
   ]
  },
  {
   "cell_type": "code",
   "execution_count": 35,
   "metadata": {
    "scrolled": true
   },
   "outputs": [
    {
     "data": {
      "application/vnd.plotly.v1+json": {
       "config": {
        "linkText": "Export to plot.ly",
        "plotlyServerURL": "https://plot.ly",
        "showLink": false
       },
       "data": [
        {
         "colorbar": {
          "title": {
           "text": "Millions USD"
          }
         },
         "locationmode": "USA-states",
         "locations": [
          "AL",
          "AK",
          "AZ",
          "AR",
          "CA",
          "CO",
          "CT",
          "DE",
          "FL",
          "GA",
          "HI",
          "ID",
          "IL",
          "IN",
          "IA",
          "KS",
          "KY",
          "LA",
          "ME",
          "MD",
          "MA",
          "MI",
          "MN",
          "MS",
          "MO",
          "MT",
          "NE",
          "NV",
          "NH",
          "NJ",
          "NM",
          "NY",
          "NC",
          "ND",
          "OH",
          "OK",
          "OR",
          "PA",
          "RI",
          "SC",
          "SD",
          "TN",
          "TX",
          "UT",
          "VT",
          "VA",
          "WA",
          "WV",
          "WI",
          "WY"
         ],
         "marker": {
          "line": {
           "color": "rgb(255,255,255)",
           "width": 2
          }
         },
         "text": [
          "Alabama<br>Beef 34.4 Dairy 4.06<br>Fruits 25.11 Veggies 14.33<br>Wheat 70.0 Corn 34.9",
          "Alaska<br>Beef 0.2 Dairy 0.19<br>Fruits 0.0 Veggies 1.56<br>Wheat 0.0 Corn 0.0",
          "Arizona<br>Beef 71.3 Dairy 105.48<br>Fruits 60.27 Veggies 386.91<br>Wheat 48.7 Corn 7.3",
          "Arkansas<br>Beef 53.2 Dairy 3.53<br>Fruits 6.88 Veggies 11.45<br>Wheat 114.5 Corn 69.5",
          " California<br>Beef 228.7 Dairy 929.95<br>Fruits 8736.4 Veggies 2106.79<br>Wheat 249.3 Corn 34.6",
          "Colorado<br>Beef 261.4 Dairy 71.94<br>Fruits 17.99 Veggies 118.27<br>Wheat 400.5 Corn 183.2",
          "Connecticut<br>Beef 1.1 Dairy 9.49<br>Fruits 13.1 Veggies 11.16<br>Wheat 0.0 Corn 0.0",
          "Delaware<br>Beef 0.4 Dairy 2.3<br>Fruits 1.53 Veggies 20.03<br>Wheat 22.9 Corn 26.9",
          "Florida<br>Beef 42.6 Dairy 66.31<br>Fruits 1371.36 Veggies 450.86<br>Wheat 1.8 Corn 3.5",
          "Georgia<br>Beef 31.0 Dairy 38.38<br>Fruits 233.51 Veggies 154.77<br>Wheat 65.4 Corn 57.8",
          "Hawaii<br>Beef 4.0 Dairy 1.16<br>Fruits 55.51 Veggies 24.83<br>Wheat 0.0 Corn 0.0",
          "Idaho<br>Beef 119.8 Dairy 294.6<br>Fruits 21.64 Veggies 319.19<br>Wheat 568.2 Corn 24.0",
          "Illinois<br>Beef 53.7 Dairy 45.82<br>Fruits 12.53 Veggies 39.95<br>Wheat 223.8 Corn 2228.5",
          "Indiana<br>Beef 21.9 Dairy 89.7<br>Fruits 12.98 Veggies 37.89<br>Wheat 114.0 Corn 1123.2",
          "Iowa<br>Beef 289.8 Dairy 107.0<br>Fruits 3.24 Veggies 7.1<br>Wheat 3.1 Corn 2529.8",
          "Kansas<br>Beef 659.3 Dairy 65.45<br>Fruits 3.11 Veggies 9.32<br>Wheat 1426.5 Corn 457.3",
          "Kentucky<br>Beef 54.8 Dairy 28.27<br>Fruits 6.6 Veggies 0.0<br>Wheat 149.3 Corn 179.1",
          "Louisiana<br>Beef 19.8 Dairy 6.02<br>Fruits 17.83 Veggies 17.25<br>Wheat 78.7 Corn 91.4",
          "Maine<br>Beef 1.4 Dairy 16.18<br>Fruits 52.01 Veggies 62.9<br>Wheat 0.0 Corn 0.0",
          "Maryland<br>Beef 5.6 Dairy 24.81<br>Fruits 12.9 Veggies 20.43<br>Wheat 55.8 Corn 54.1",
          "Massachusetts<br>Beef 0.6 Dairy 5.81<br>Fruits 80.83 Veggies 21.13<br>Wheat 0.0 Corn 0.0",
          "Michigan<br>Beef 37.7 Dairy 214.82<br>Fruits 257.69 Veggies 189.96<br>Wheat 247.0 Corn 381.5",
          "Minnesota<br>Beef 112.3 Dairy 218.05<br>Fruits 7.91 Veggies 120.37<br>Wheat 538.1 Corn 1264.3",
          "Mississippi<br>Beef 12.8 Dairy 5.45<br>Fruits 17.04 Veggies 27.87<br>Wheat 102.2 Corn 110.0",
          "Missouri<br>Beef 137.2 Dairy 34.26<br>Fruits 13.18 Veggies 17.9<br>Wheat 161.7 Corn 428.8",
          "Montana<br>Beef 105.0 Dairy 6.82<br>Fruits 3.3 Veggies 45.27<br>Wheat 1198.1 Corn 5.4",
          "Nebraska<br>Beef 762.2 Dairy 30.07<br>Fruits 2.16 Veggies 53.5<br>Wheat 292.3 Corn 1735.9",
          "Nevada<br>Beef 21.8 Dairy 16.57<br>Fruits 1.19 Veggies 27.93<br>Wheat 5.4 Corn 0.0",
          "New Hampshire<br>Beef 0.6 Dairy 7.46<br>Fruits 7.98 Veggies 4.5<br>Wheat 0.0 Corn 0.0",
          "New Jersey<br>Beef 0.8 Dairy 3.37<br>Fruits 109.45 Veggies 56.54<br>Wheat 6.7 Corn 10.1",
          "New Mexico<br>Beef 117.2 Dairy 191.01<br>Fruits 101.9 Veggies 43.88<br>Wheat 13.9 Corn 11.2",
          "New York<br>Beef 22.2 Dairy 331.8<br>Fruits 202.56 Veggies 143.37<br>Wheat 29.9 Corn 106.1",
          "North Carolina<br>Beef 24.8 Dairy 24.9<br>Fruits 74.47 Veggies 150.45<br>Wheat 200.3 Corn 92.2",
          "North Dakota<br>Beef 78.5 Dairy 8.14<br>Fruits 0.25 Veggies 130.79<br>Wheat 1664.5 Corn 236.1",
          "Ohio<br>Beef 36.2 Dairy 134.57<br>Fruits 27.21 Veggies 53.53<br>Wheat 207.4 Corn 535.1",
          "Oklahoma<br>Beef 337.6 Dairy 24.35<br>Fruits 9.24 Veggies 8.9<br>Wheat 324.8 Corn 27.5",
          "Oregon<br>Beef 58.8 Dairy 63.66<br>Fruits 315.04 Veggies 126.5<br>Wheat 320.3 Corn 11.7",
          "Pennsylvania<br>Beef 50.9 Dairy 280.87<br>Fruits 89.48 Veggies 38.26<br>Wheat 41.0 Corn 112.1",
          "Rhode Island<br>Beef 0.1 Dairy 0.52<br>Fruits 2.83 Veggies 3.02<br>Wheat 0.0 Corn 0.0",
          "South Carolina<br>Beef 15.2 Dairy 7.62<br>Fruits 53.45 Veggies 42.66<br>Wheat 55.3 Corn 32.1",
          "South Dakota<br>Beef 193.5 Dairy 46.77<br>Fruits 0.8 Veggies 4.06<br>Wheat 704.5 Corn 643.6",
          "Tennessee<br>Beef 51.1 Dairy 21.18<br>Fruits 6.23 Veggies 24.67<br>Wheat 100.0 Corn 88.8",
          "Texas<br>Beef 961.0 Dairy 240.55<br>Fruits 99.9 Veggies 115.23<br>Wheat 309.7 Corn 167.2",
          "Utah<br>Beef 27.9 Dairy 48.6<br>Fruits 12.34 Veggies 6.6<br>Wheat 42.8 Corn 5.3",
          "Vermont<br>Beef 6.2 Dairy 65.98<br>Fruits 8.01 Veggies 4.05<br>Wheat 0.0 Corn 0.0",
          "Virginia<br>Beef 39.5 Dairy 47.85<br>Fruits 36.48 Veggies 27.25<br>Wheat 77.5 Corn 39.5",
          "Washington<br>Beef 59.2 Dairy 154.18<br>Fruits 1738.57 Veggies 363.79<br>Wheat 786.3 Corn 29.5",
          "West Virginia<br>Beef 12.0 Dairy 3.9<br>Fruits 11.54 Veggies 0.0<br>Wheat 1.6 Corn 3.5",
          "Wisconsin<br>Beef 107.3 Dairy 633.6<br>Fruits 133.8 Veggies 148.99<br>Wheat 96.7 Corn 460.5",
          "Wyoming<br>Beef 75.1 Dairy 2.89<br>Fruits 0.17 Veggies 10.23<br>Wheat 20.7 Corn 9.0"
         ],
         "type": "choropleth",
         "z": [
          1390.63,
          13.31,
          1463.17,
          3586.02,
          16472.88,
          1851.33,
          259.62,
          282.19,
          3764.09,
          2860.84,
          401.84,
          2078.89,
          8709.48,
          5050.23,
          11273.76,
          4589.01,
          1889.15,
          1914.23,
          278.37,
          692.75,
          248.65,
          3164.16,
          7192.33,
          2170.8,
          3933.42,
          1718,
          7114.13,
          139.89,
          73.06,
          500.4,
          751.58,
          1488.9,
          3806.05,
          3761.96,
          3979.79,
          1646.41,
          1794.57,
          1969.87,
          31.59,
          929.93,
          3770.19,
          1535.13,
          6648.22,
          453.39,
          180.14,
          1146.48,
          3894.81,
          138.89,
          3090.23,
          349.69
         ]
        }
       ],
       "layout": {
        "geo": {
         "lakecolor": "rgb(85,173,240)",
         "scope": "usa",
         "showlakes": true
        },
        "template": {
         "data": {
          "bar": [
           {
            "error_x": {
             "color": "#2a3f5f"
            },
            "error_y": {
             "color": "#2a3f5f"
            },
            "marker": {
             "line": {
              "color": "#E5ECF6",
              "width": 0.5
             },
             "pattern": {
              "fillmode": "overlay",
              "size": 10,
              "solidity": 0.2
             }
            },
            "type": "bar"
           }
          ],
          "barpolar": [
           {
            "marker": {
             "line": {
              "color": "#E5ECF6",
              "width": 0.5
             },
             "pattern": {
              "fillmode": "overlay",
              "size": 10,
              "solidity": 0.2
             }
            },
            "type": "barpolar"
           }
          ],
          "carpet": [
           {
            "aaxis": {
             "endlinecolor": "#2a3f5f",
             "gridcolor": "white",
             "linecolor": "white",
             "minorgridcolor": "white",
             "startlinecolor": "#2a3f5f"
            },
            "baxis": {
             "endlinecolor": "#2a3f5f",
             "gridcolor": "white",
             "linecolor": "white",
             "minorgridcolor": "white",
             "startlinecolor": "#2a3f5f"
            },
            "type": "carpet"
           }
          ],
          "choropleth": [
           {
            "colorbar": {
             "outlinewidth": 0,
             "ticks": ""
            },
            "type": "choropleth"
           }
          ],
          "contour": [
           {
            "colorbar": {
             "outlinewidth": 0,
             "ticks": ""
            },
            "colorscale": [
             [
              0,
              "#0d0887"
             ],
             [
              0.1111111111111111,
              "#46039f"
             ],
             [
              0.2222222222222222,
              "#7201a8"
             ],
             [
              0.3333333333333333,
              "#9c179e"
             ],
             [
              0.4444444444444444,
              "#bd3786"
             ],
             [
              0.5555555555555556,
              "#d8576b"
             ],
             [
              0.6666666666666666,
              "#ed7953"
             ],
             [
              0.7777777777777778,
              "#fb9f3a"
             ],
             [
              0.8888888888888888,
              "#fdca26"
             ],
             [
              1,
              "#f0f921"
             ]
            ],
            "type": "contour"
           }
          ],
          "contourcarpet": [
           {
            "colorbar": {
             "outlinewidth": 0,
             "ticks": ""
            },
            "type": "contourcarpet"
           }
          ],
          "heatmap": [
           {
            "colorbar": {
             "outlinewidth": 0,
             "ticks": ""
            },
            "colorscale": [
             [
              0,
              "#0d0887"
             ],
             [
              0.1111111111111111,
              "#46039f"
             ],
             [
              0.2222222222222222,
              "#7201a8"
             ],
             [
              0.3333333333333333,
              "#9c179e"
             ],
             [
              0.4444444444444444,
              "#bd3786"
             ],
             [
              0.5555555555555556,
              "#d8576b"
             ],
             [
              0.6666666666666666,
              "#ed7953"
             ],
             [
              0.7777777777777778,
              "#fb9f3a"
             ],
             [
              0.8888888888888888,
              "#fdca26"
             ],
             [
              1,
              "#f0f921"
             ]
            ],
            "type": "heatmap"
           }
          ],
          "heatmapgl": [
           {
            "colorbar": {
             "outlinewidth": 0,
             "ticks": ""
            },
            "colorscale": [
             [
              0,
              "#0d0887"
             ],
             [
              0.1111111111111111,
              "#46039f"
             ],
             [
              0.2222222222222222,
              "#7201a8"
             ],
             [
              0.3333333333333333,
              "#9c179e"
             ],
             [
              0.4444444444444444,
              "#bd3786"
             ],
             [
              0.5555555555555556,
              "#d8576b"
             ],
             [
              0.6666666666666666,
              "#ed7953"
             ],
             [
              0.7777777777777778,
              "#fb9f3a"
             ],
             [
              0.8888888888888888,
              "#fdca26"
             ],
             [
              1,
              "#f0f921"
             ]
            ],
            "type": "heatmapgl"
           }
          ],
          "histogram": [
           {
            "marker": {
             "pattern": {
              "fillmode": "overlay",
              "size": 10,
              "solidity": 0.2
             }
            },
            "type": "histogram"
           }
          ],
          "histogram2d": [
           {
            "colorbar": {
             "outlinewidth": 0,
             "ticks": ""
            },
            "colorscale": [
             [
              0,
              "#0d0887"
             ],
             [
              0.1111111111111111,
              "#46039f"
             ],
             [
              0.2222222222222222,
              "#7201a8"
             ],
             [
              0.3333333333333333,
              "#9c179e"
             ],
             [
              0.4444444444444444,
              "#bd3786"
             ],
             [
              0.5555555555555556,
              "#d8576b"
             ],
             [
              0.6666666666666666,
              "#ed7953"
             ],
             [
              0.7777777777777778,
              "#fb9f3a"
             ],
             [
              0.8888888888888888,
              "#fdca26"
             ],
             [
              1,
              "#f0f921"
             ]
            ],
            "type": "histogram2d"
           }
          ],
          "histogram2dcontour": [
           {
            "colorbar": {
             "outlinewidth": 0,
             "ticks": ""
            },
            "colorscale": [
             [
              0,
              "#0d0887"
             ],
             [
              0.1111111111111111,
              "#46039f"
             ],
             [
              0.2222222222222222,
              "#7201a8"
             ],
             [
              0.3333333333333333,
              "#9c179e"
             ],
             [
              0.4444444444444444,
              "#bd3786"
             ],
             [
              0.5555555555555556,
              "#d8576b"
             ],
             [
              0.6666666666666666,
              "#ed7953"
             ],
             [
              0.7777777777777778,
              "#fb9f3a"
             ],
             [
              0.8888888888888888,
              "#fdca26"
             ],
             [
              1,
              "#f0f921"
             ]
            ],
            "type": "histogram2dcontour"
           }
          ],
          "mesh3d": [
           {
            "colorbar": {
             "outlinewidth": 0,
             "ticks": ""
            },
            "type": "mesh3d"
           }
          ],
          "parcoords": [
           {
            "line": {
             "colorbar": {
              "outlinewidth": 0,
              "ticks": ""
             }
            },
            "type": "parcoords"
           }
          ],
          "pie": [
           {
            "automargin": true,
            "type": "pie"
           }
          ],
          "scatter": [
           {
            "fillpattern": {
             "fillmode": "overlay",
             "size": 10,
             "solidity": 0.2
            },
            "type": "scatter"
           }
          ],
          "scatter3d": [
           {
            "line": {
             "colorbar": {
              "outlinewidth": 0,
              "ticks": ""
             }
            },
            "marker": {
             "colorbar": {
              "outlinewidth": 0,
              "ticks": ""
             }
            },
            "type": "scatter3d"
           }
          ],
          "scattercarpet": [
           {
            "marker": {
             "colorbar": {
              "outlinewidth": 0,
              "ticks": ""
             }
            },
            "type": "scattercarpet"
           }
          ],
          "scattergeo": [
           {
            "marker": {
             "colorbar": {
              "outlinewidth": 0,
              "ticks": ""
             }
            },
            "type": "scattergeo"
           }
          ],
          "scattergl": [
           {
            "marker": {
             "colorbar": {
              "outlinewidth": 0,
              "ticks": ""
             }
            },
            "type": "scattergl"
           }
          ],
          "scattermapbox": [
           {
            "marker": {
             "colorbar": {
              "outlinewidth": 0,
              "ticks": ""
             }
            },
            "type": "scattermapbox"
           }
          ],
          "scatterpolar": [
           {
            "marker": {
             "colorbar": {
              "outlinewidth": 0,
              "ticks": ""
             }
            },
            "type": "scatterpolar"
           }
          ],
          "scatterpolargl": [
           {
            "marker": {
             "colorbar": {
              "outlinewidth": 0,
              "ticks": ""
             }
            },
            "type": "scatterpolargl"
           }
          ],
          "scatterternary": [
           {
            "marker": {
             "colorbar": {
              "outlinewidth": 0,
              "ticks": ""
             }
            },
            "type": "scatterternary"
           }
          ],
          "surface": [
           {
            "colorbar": {
             "outlinewidth": 0,
             "ticks": ""
            },
            "colorscale": [
             [
              0,
              "#0d0887"
             ],
             [
              0.1111111111111111,
              "#46039f"
             ],
             [
              0.2222222222222222,
              "#7201a8"
             ],
             [
              0.3333333333333333,
              "#9c179e"
             ],
             [
              0.4444444444444444,
              "#bd3786"
             ],
             [
              0.5555555555555556,
              "#d8576b"
             ],
             [
              0.6666666666666666,
              "#ed7953"
             ],
             [
              0.7777777777777778,
              "#fb9f3a"
             ],
             [
              0.8888888888888888,
              "#fdca26"
             ],
             [
              1,
              "#f0f921"
             ]
            ],
            "type": "surface"
           }
          ],
          "table": [
           {
            "cells": {
             "fill": {
              "color": "#EBF0F8"
             },
             "line": {
              "color": "white"
             }
            },
            "header": {
             "fill": {
              "color": "#C8D4E3"
             },
             "line": {
              "color": "white"
             }
            },
            "type": "table"
           }
          ]
         },
         "layout": {
          "annotationdefaults": {
           "arrowcolor": "#2a3f5f",
           "arrowhead": 0,
           "arrowwidth": 1
          },
          "autotypenumbers": "strict",
          "coloraxis": {
           "colorbar": {
            "outlinewidth": 0,
            "ticks": ""
           }
          },
          "colorscale": {
           "diverging": [
            [
             0,
             "#8e0152"
            ],
            [
             0.1,
             "#c51b7d"
            ],
            [
             0.2,
             "#de77ae"
            ],
            [
             0.3,
             "#f1b6da"
            ],
            [
             0.4,
             "#fde0ef"
            ],
            [
             0.5,
             "#f7f7f7"
            ],
            [
             0.6,
             "#e6f5d0"
            ],
            [
             0.7,
             "#b8e186"
            ],
            [
             0.8,
             "#7fbc41"
            ],
            [
             0.9,
             "#4d9221"
            ],
            [
             1,
             "#276419"
            ]
           ],
           "sequential": [
            [
             0,
             "#0d0887"
            ],
            [
             0.1111111111111111,
             "#46039f"
            ],
            [
             0.2222222222222222,
             "#7201a8"
            ],
            [
             0.3333333333333333,
             "#9c179e"
            ],
            [
             0.4444444444444444,
             "#bd3786"
            ],
            [
             0.5555555555555556,
             "#d8576b"
            ],
            [
             0.6666666666666666,
             "#ed7953"
            ],
            [
             0.7777777777777778,
             "#fb9f3a"
            ],
            [
             0.8888888888888888,
             "#fdca26"
            ],
            [
             1,
             "#f0f921"
            ]
           ],
           "sequentialminus": [
            [
             0,
             "#0d0887"
            ],
            [
             0.1111111111111111,
             "#46039f"
            ],
            [
             0.2222222222222222,
             "#7201a8"
            ],
            [
             0.3333333333333333,
             "#9c179e"
            ],
            [
             0.4444444444444444,
             "#bd3786"
            ],
            [
             0.5555555555555556,
             "#d8576b"
            ],
            [
             0.6666666666666666,
             "#ed7953"
            ],
            [
             0.7777777777777778,
             "#fb9f3a"
            ],
            [
             0.8888888888888888,
             "#fdca26"
            ],
            [
             1,
             "#f0f921"
            ]
           ]
          },
          "colorway": [
           "#636efa",
           "#EF553B",
           "#00cc96",
           "#ab63fa",
           "#FFA15A",
           "#19d3f3",
           "#FF6692",
           "#B6E880",
           "#FF97FF",
           "#FECB52"
          ],
          "font": {
           "color": "#2a3f5f"
          },
          "geo": {
           "bgcolor": "white",
           "lakecolor": "white",
           "landcolor": "#E5ECF6",
           "showlakes": true,
           "showland": true,
           "subunitcolor": "white"
          },
          "hoverlabel": {
           "align": "left"
          },
          "hovermode": "closest",
          "mapbox": {
           "style": "light"
          },
          "paper_bgcolor": "white",
          "plot_bgcolor": "#E5ECF6",
          "polar": {
           "angularaxis": {
            "gridcolor": "white",
            "linecolor": "white",
            "ticks": ""
           },
           "bgcolor": "#E5ECF6",
           "radialaxis": {
            "gridcolor": "white",
            "linecolor": "white",
            "ticks": ""
           }
          },
          "scene": {
           "xaxis": {
            "backgroundcolor": "#E5ECF6",
            "gridcolor": "white",
            "gridwidth": 2,
            "linecolor": "white",
            "showbackground": true,
            "ticks": "",
            "zerolinecolor": "white"
           },
           "yaxis": {
            "backgroundcolor": "#E5ECF6",
            "gridcolor": "white",
            "gridwidth": 2,
            "linecolor": "white",
            "showbackground": true,
            "ticks": "",
            "zerolinecolor": "white"
           },
           "zaxis": {
            "backgroundcolor": "#E5ECF6",
            "gridcolor": "white",
            "gridwidth": 2,
            "linecolor": "white",
            "showbackground": true,
            "ticks": "",
            "zerolinecolor": "white"
           }
          },
          "shapedefaults": {
           "line": {
            "color": "#2a3f5f"
           }
          },
          "ternary": {
           "aaxis": {
            "gridcolor": "white",
            "linecolor": "white",
            "ticks": ""
           },
           "baxis": {
            "gridcolor": "white",
            "linecolor": "white",
            "ticks": ""
           },
           "bgcolor": "#E5ECF6",
           "caxis": {
            "gridcolor": "white",
            "linecolor": "white",
            "ticks": ""
           }
          },
          "title": {
           "x": 0.05
          },
          "xaxis": {
           "automargin": true,
           "gridcolor": "white",
           "linecolor": "white",
           "ticks": "",
           "title": {
            "standoff": 15
           },
           "zerolinecolor": "white",
           "zerolinewidth": 2
          },
          "yaxis": {
           "automargin": true,
           "gridcolor": "white",
           "linecolor": "white",
           "ticks": "",
           "title": {
            "standoff": 15
           },
           "zerolinecolor": "white",
           "zerolinewidth": 2
          }
         }
        },
        "title": {
         "text": "2011 US Agriculture Exports by State"
        }
       }
      },
      "text/html": [
       "<div>                            <div id=\"31a30bf9-c0df-48be-a0cc-27065b5326b8\" class=\"plotly-graph-div\" style=\"height:525px; width:100%;\"></div>            <script type=\"text/javascript\">                require([\"plotly\"], function(Plotly) {                    window.PLOTLYENV=window.PLOTLYENV || {};                                    if (document.getElementById(\"31a30bf9-c0df-48be-a0cc-27065b5326b8\")) {                    Plotly.newPlot(                        \"31a30bf9-c0df-48be-a0cc-27065b5326b8\",                        [{\"colorbar\":{\"title\":{\"text\":\"Millions USD\"}},\"locationmode\":\"USA-states\",\"locations\":[\"AL\",\"AK\",\"AZ\",\"AR\",\"CA\",\"CO\",\"CT\",\"DE\",\"FL\",\"GA\",\"HI\",\"ID\",\"IL\",\"IN\",\"IA\",\"KS\",\"KY\",\"LA\",\"ME\",\"MD\",\"MA\",\"MI\",\"MN\",\"MS\",\"MO\",\"MT\",\"NE\",\"NV\",\"NH\",\"NJ\",\"NM\",\"NY\",\"NC\",\"ND\",\"OH\",\"OK\",\"OR\",\"PA\",\"RI\",\"SC\",\"SD\",\"TN\",\"TX\",\"UT\",\"VT\",\"VA\",\"WA\",\"WV\",\"WI\",\"WY\"],\"marker\":{\"line\":{\"color\":\"rgb(255,255,255)\",\"width\":2}},\"text\":[\"Alabama\\u003cbr\\u003eBeef 34.4 Dairy 4.06\\u003cbr\\u003eFruits 25.11 Veggies 14.33\\u003cbr\\u003eWheat 70.0 Corn 34.9\",\"Alaska\\u003cbr\\u003eBeef 0.2 Dairy 0.19\\u003cbr\\u003eFruits 0.0 Veggies 1.56\\u003cbr\\u003eWheat 0.0 Corn 0.0\",\"Arizona\\u003cbr\\u003eBeef 71.3 Dairy 105.48\\u003cbr\\u003eFruits 60.27 Veggies 386.91\\u003cbr\\u003eWheat 48.7 Corn 7.3\",\"Arkansas\\u003cbr\\u003eBeef 53.2 Dairy 3.53\\u003cbr\\u003eFruits 6.88 Veggies 11.45\\u003cbr\\u003eWheat 114.5 Corn 69.5\",\" California\\u003cbr\\u003eBeef 228.7 Dairy 929.95\\u003cbr\\u003eFruits 8736.4 Veggies 2106.79\\u003cbr\\u003eWheat 249.3 Corn 34.6\",\"Colorado\\u003cbr\\u003eBeef 261.4 Dairy 71.94\\u003cbr\\u003eFruits 17.99 Veggies 118.27\\u003cbr\\u003eWheat 400.5 Corn 183.2\",\"Connecticut\\u003cbr\\u003eBeef 1.1 Dairy 9.49\\u003cbr\\u003eFruits 13.1 Veggies 11.16\\u003cbr\\u003eWheat 0.0 Corn 0.0\",\"Delaware\\u003cbr\\u003eBeef 0.4 Dairy 2.3\\u003cbr\\u003eFruits 1.53 Veggies 20.03\\u003cbr\\u003eWheat 22.9 Corn 26.9\",\"Florida\\u003cbr\\u003eBeef 42.6 Dairy 66.31\\u003cbr\\u003eFruits 1371.36 Veggies 450.86\\u003cbr\\u003eWheat 1.8 Corn 3.5\",\"Georgia\\u003cbr\\u003eBeef 31.0 Dairy 38.38\\u003cbr\\u003eFruits 233.51 Veggies 154.77\\u003cbr\\u003eWheat 65.4 Corn 57.8\",\"Hawaii\\u003cbr\\u003eBeef 4.0 Dairy 1.16\\u003cbr\\u003eFruits 55.51 Veggies 24.83\\u003cbr\\u003eWheat 0.0 Corn 0.0\",\"Idaho\\u003cbr\\u003eBeef 119.8 Dairy 294.6\\u003cbr\\u003eFruits 21.64 Veggies 319.19\\u003cbr\\u003eWheat 568.2 Corn 24.0\",\"Illinois\\u003cbr\\u003eBeef 53.7 Dairy 45.82\\u003cbr\\u003eFruits 12.53 Veggies 39.95\\u003cbr\\u003eWheat 223.8 Corn 2228.5\",\"Indiana\\u003cbr\\u003eBeef 21.9 Dairy 89.7\\u003cbr\\u003eFruits 12.98 Veggies 37.89\\u003cbr\\u003eWheat 114.0 Corn 1123.2\",\"Iowa\\u003cbr\\u003eBeef 289.8 Dairy 107.0\\u003cbr\\u003eFruits 3.24 Veggies 7.1\\u003cbr\\u003eWheat 3.1 Corn 2529.8\",\"Kansas\\u003cbr\\u003eBeef 659.3 Dairy 65.45\\u003cbr\\u003eFruits 3.11 Veggies 9.32\\u003cbr\\u003eWheat 1426.5 Corn 457.3\",\"Kentucky\\u003cbr\\u003eBeef 54.8 Dairy 28.27\\u003cbr\\u003eFruits 6.6 Veggies 0.0\\u003cbr\\u003eWheat 149.3 Corn 179.1\",\"Louisiana\\u003cbr\\u003eBeef 19.8 Dairy 6.02\\u003cbr\\u003eFruits 17.83 Veggies 17.25\\u003cbr\\u003eWheat 78.7 Corn 91.4\",\"Maine\\u003cbr\\u003eBeef 1.4 Dairy 16.18\\u003cbr\\u003eFruits 52.01 Veggies 62.9\\u003cbr\\u003eWheat 0.0 Corn 0.0\",\"Maryland\\u003cbr\\u003eBeef 5.6 Dairy 24.81\\u003cbr\\u003eFruits 12.9 Veggies 20.43\\u003cbr\\u003eWheat 55.8 Corn 54.1\",\"Massachusetts\\u003cbr\\u003eBeef 0.6 Dairy 5.81\\u003cbr\\u003eFruits 80.83 Veggies 21.13\\u003cbr\\u003eWheat 0.0 Corn 0.0\",\"Michigan\\u003cbr\\u003eBeef 37.7 Dairy 214.82\\u003cbr\\u003eFruits 257.69 Veggies 189.96\\u003cbr\\u003eWheat 247.0 Corn 381.5\",\"Minnesota\\u003cbr\\u003eBeef 112.3 Dairy 218.05\\u003cbr\\u003eFruits 7.91 Veggies 120.37\\u003cbr\\u003eWheat 538.1 Corn 1264.3\",\"Mississippi\\u003cbr\\u003eBeef 12.8 Dairy 5.45\\u003cbr\\u003eFruits 17.04 Veggies 27.87\\u003cbr\\u003eWheat 102.2 Corn 110.0\",\"Missouri\\u003cbr\\u003eBeef 137.2 Dairy 34.26\\u003cbr\\u003eFruits 13.18 Veggies 17.9\\u003cbr\\u003eWheat 161.7 Corn 428.8\",\"Montana\\u003cbr\\u003eBeef 105.0 Dairy 6.82\\u003cbr\\u003eFruits 3.3 Veggies 45.27\\u003cbr\\u003eWheat 1198.1 Corn 5.4\",\"Nebraska\\u003cbr\\u003eBeef 762.2 Dairy 30.07\\u003cbr\\u003eFruits 2.16 Veggies 53.5\\u003cbr\\u003eWheat 292.3 Corn 1735.9\",\"Nevada\\u003cbr\\u003eBeef 21.8 Dairy 16.57\\u003cbr\\u003eFruits 1.19 Veggies 27.93\\u003cbr\\u003eWheat 5.4 Corn 0.0\",\"New Hampshire\\u003cbr\\u003eBeef 0.6 Dairy 7.46\\u003cbr\\u003eFruits 7.98 Veggies 4.5\\u003cbr\\u003eWheat 0.0 Corn 0.0\",\"New Jersey\\u003cbr\\u003eBeef 0.8 Dairy 3.37\\u003cbr\\u003eFruits 109.45 Veggies 56.54\\u003cbr\\u003eWheat 6.7 Corn 10.1\",\"New Mexico\\u003cbr\\u003eBeef 117.2 Dairy 191.01\\u003cbr\\u003eFruits 101.9 Veggies 43.88\\u003cbr\\u003eWheat 13.9 Corn 11.2\",\"New York\\u003cbr\\u003eBeef 22.2 Dairy 331.8\\u003cbr\\u003eFruits 202.56 Veggies 143.37\\u003cbr\\u003eWheat 29.9 Corn 106.1\",\"North Carolina\\u003cbr\\u003eBeef 24.8 Dairy 24.9\\u003cbr\\u003eFruits 74.47 Veggies 150.45\\u003cbr\\u003eWheat 200.3 Corn 92.2\",\"North Dakota\\u003cbr\\u003eBeef 78.5 Dairy 8.14\\u003cbr\\u003eFruits 0.25 Veggies 130.79\\u003cbr\\u003eWheat 1664.5 Corn 236.1\",\"Ohio\\u003cbr\\u003eBeef 36.2 Dairy 134.57\\u003cbr\\u003eFruits 27.21 Veggies 53.53\\u003cbr\\u003eWheat 207.4 Corn 535.1\",\"Oklahoma\\u003cbr\\u003eBeef 337.6 Dairy 24.35\\u003cbr\\u003eFruits 9.24 Veggies 8.9\\u003cbr\\u003eWheat 324.8 Corn 27.5\",\"Oregon\\u003cbr\\u003eBeef 58.8 Dairy 63.66\\u003cbr\\u003eFruits 315.04 Veggies 126.5\\u003cbr\\u003eWheat 320.3 Corn 11.7\",\"Pennsylvania\\u003cbr\\u003eBeef 50.9 Dairy 280.87\\u003cbr\\u003eFruits 89.48 Veggies 38.26\\u003cbr\\u003eWheat 41.0 Corn 112.1\",\"Rhode Island\\u003cbr\\u003eBeef 0.1 Dairy 0.52\\u003cbr\\u003eFruits 2.83 Veggies 3.02\\u003cbr\\u003eWheat 0.0 Corn 0.0\",\"South Carolina\\u003cbr\\u003eBeef 15.2 Dairy 7.62\\u003cbr\\u003eFruits 53.45 Veggies 42.66\\u003cbr\\u003eWheat 55.3 Corn 32.1\",\"South Dakota\\u003cbr\\u003eBeef 193.5 Dairy 46.77\\u003cbr\\u003eFruits 0.8 Veggies 4.06\\u003cbr\\u003eWheat 704.5 Corn 643.6\",\"Tennessee\\u003cbr\\u003eBeef 51.1 Dairy 21.18\\u003cbr\\u003eFruits 6.23 Veggies 24.67\\u003cbr\\u003eWheat 100.0 Corn 88.8\",\"Texas\\u003cbr\\u003eBeef 961.0 Dairy 240.55\\u003cbr\\u003eFruits 99.9 Veggies 115.23\\u003cbr\\u003eWheat 309.7 Corn 167.2\",\"Utah\\u003cbr\\u003eBeef 27.9 Dairy 48.6\\u003cbr\\u003eFruits 12.34 Veggies 6.6\\u003cbr\\u003eWheat 42.8 Corn 5.3\",\"Vermont\\u003cbr\\u003eBeef 6.2 Dairy 65.98\\u003cbr\\u003eFruits 8.01 Veggies 4.05\\u003cbr\\u003eWheat 0.0 Corn 0.0\",\"Virginia\\u003cbr\\u003eBeef 39.5 Dairy 47.85\\u003cbr\\u003eFruits 36.48 Veggies 27.25\\u003cbr\\u003eWheat 77.5 Corn 39.5\",\"Washington\\u003cbr\\u003eBeef 59.2 Dairy 154.18\\u003cbr\\u003eFruits 1738.57 Veggies 363.79\\u003cbr\\u003eWheat 786.3 Corn 29.5\",\"West Virginia\\u003cbr\\u003eBeef 12.0 Dairy 3.9\\u003cbr\\u003eFruits 11.54 Veggies 0.0\\u003cbr\\u003eWheat 1.6 Corn 3.5\",\"Wisconsin\\u003cbr\\u003eBeef 107.3 Dairy 633.6\\u003cbr\\u003eFruits 133.8 Veggies 148.99\\u003cbr\\u003eWheat 96.7 Corn 460.5\",\"Wyoming\\u003cbr\\u003eBeef 75.1 Dairy 2.89\\u003cbr\\u003eFruits 0.17 Veggies 10.23\\u003cbr\\u003eWheat 20.7 Corn 9.0\"],\"z\":[1390.63,13.31,1463.17,3586.02,16472.88,1851.33,259.62,282.19,3764.09,2860.84,401.84,2078.89,8709.48,5050.23,11273.76,4589.01,1889.15,1914.23,278.37,692.75,248.65,3164.16,7192.33,2170.8,3933.42,1718.0,7114.13,139.89,73.06,500.4,751.58,1488.9,3806.05,3761.96,3979.79,1646.41,1794.57,1969.87,31.59,929.93,3770.19,1535.13,6648.22,453.39,180.14,1146.48,3894.81,138.89,3090.23,349.69],\"type\":\"choropleth\"}],                        {\"geo\":{\"lakecolor\":\"rgb(85,173,240)\",\"scope\":\"usa\",\"showlakes\":true},\"template\":{\"data\":{\"barpolar\":[{\"marker\":{\"line\":{\"color\":\"#E5ECF6\",\"width\":0.5},\"pattern\":{\"fillmode\":\"overlay\",\"size\":10,\"solidity\":0.2}},\"type\":\"barpolar\"}],\"bar\":[{\"error_x\":{\"color\":\"#2a3f5f\"},\"error_y\":{\"color\":\"#2a3f5f\"},\"marker\":{\"line\":{\"color\":\"#E5ECF6\",\"width\":0.5},\"pattern\":{\"fillmode\":\"overlay\",\"size\":10,\"solidity\":0.2}},\"type\":\"bar\"}],\"carpet\":[{\"aaxis\":{\"endlinecolor\":\"#2a3f5f\",\"gridcolor\":\"white\",\"linecolor\":\"white\",\"minorgridcolor\":\"white\",\"startlinecolor\":\"#2a3f5f\"},\"baxis\":{\"endlinecolor\":\"#2a3f5f\",\"gridcolor\":\"white\",\"linecolor\":\"white\",\"minorgridcolor\":\"white\",\"startlinecolor\":\"#2a3f5f\"},\"type\":\"carpet\"}],\"choropleth\":[{\"colorbar\":{\"outlinewidth\":0,\"ticks\":\"\"},\"type\":\"choropleth\"}],\"contourcarpet\":[{\"colorbar\":{\"outlinewidth\":0,\"ticks\":\"\"},\"type\":\"contourcarpet\"}],\"contour\":[{\"colorbar\":{\"outlinewidth\":0,\"ticks\":\"\"},\"colorscale\":[[0.0,\"#0d0887\"],[0.1111111111111111,\"#46039f\"],[0.2222222222222222,\"#7201a8\"],[0.3333333333333333,\"#9c179e\"],[0.4444444444444444,\"#bd3786\"],[0.5555555555555556,\"#d8576b\"],[0.6666666666666666,\"#ed7953\"],[0.7777777777777778,\"#fb9f3a\"],[0.8888888888888888,\"#fdca26\"],[1.0,\"#f0f921\"]],\"type\":\"contour\"}],\"heatmapgl\":[{\"colorbar\":{\"outlinewidth\":0,\"ticks\":\"\"},\"colorscale\":[[0.0,\"#0d0887\"],[0.1111111111111111,\"#46039f\"],[0.2222222222222222,\"#7201a8\"],[0.3333333333333333,\"#9c179e\"],[0.4444444444444444,\"#bd3786\"],[0.5555555555555556,\"#d8576b\"],[0.6666666666666666,\"#ed7953\"],[0.7777777777777778,\"#fb9f3a\"],[0.8888888888888888,\"#fdca26\"],[1.0,\"#f0f921\"]],\"type\":\"heatmapgl\"}],\"heatmap\":[{\"colorbar\":{\"outlinewidth\":0,\"ticks\":\"\"},\"colorscale\":[[0.0,\"#0d0887\"],[0.1111111111111111,\"#46039f\"],[0.2222222222222222,\"#7201a8\"],[0.3333333333333333,\"#9c179e\"],[0.4444444444444444,\"#bd3786\"],[0.5555555555555556,\"#d8576b\"],[0.6666666666666666,\"#ed7953\"],[0.7777777777777778,\"#fb9f3a\"],[0.8888888888888888,\"#fdca26\"],[1.0,\"#f0f921\"]],\"type\":\"heatmap\"}],\"histogram2dcontour\":[{\"colorbar\":{\"outlinewidth\":0,\"ticks\":\"\"},\"colorscale\":[[0.0,\"#0d0887\"],[0.1111111111111111,\"#46039f\"],[0.2222222222222222,\"#7201a8\"],[0.3333333333333333,\"#9c179e\"],[0.4444444444444444,\"#bd3786\"],[0.5555555555555556,\"#d8576b\"],[0.6666666666666666,\"#ed7953\"],[0.7777777777777778,\"#fb9f3a\"],[0.8888888888888888,\"#fdca26\"],[1.0,\"#f0f921\"]],\"type\":\"histogram2dcontour\"}],\"histogram2d\":[{\"colorbar\":{\"outlinewidth\":0,\"ticks\":\"\"},\"colorscale\":[[0.0,\"#0d0887\"],[0.1111111111111111,\"#46039f\"],[0.2222222222222222,\"#7201a8\"],[0.3333333333333333,\"#9c179e\"],[0.4444444444444444,\"#bd3786\"],[0.5555555555555556,\"#d8576b\"],[0.6666666666666666,\"#ed7953\"],[0.7777777777777778,\"#fb9f3a\"],[0.8888888888888888,\"#fdca26\"],[1.0,\"#f0f921\"]],\"type\":\"histogram2d\"}],\"histogram\":[{\"marker\":{\"pattern\":{\"fillmode\":\"overlay\",\"size\":10,\"solidity\":0.2}},\"type\":\"histogram\"}],\"mesh3d\":[{\"colorbar\":{\"outlinewidth\":0,\"ticks\":\"\"},\"type\":\"mesh3d\"}],\"parcoords\":[{\"line\":{\"colorbar\":{\"outlinewidth\":0,\"ticks\":\"\"}},\"type\":\"parcoords\"}],\"pie\":[{\"automargin\":true,\"type\":\"pie\"}],\"scatter3d\":[{\"line\":{\"colorbar\":{\"outlinewidth\":0,\"ticks\":\"\"}},\"marker\":{\"colorbar\":{\"outlinewidth\":0,\"ticks\":\"\"}},\"type\":\"scatter3d\"}],\"scattercarpet\":[{\"marker\":{\"colorbar\":{\"outlinewidth\":0,\"ticks\":\"\"}},\"type\":\"scattercarpet\"}],\"scattergeo\":[{\"marker\":{\"colorbar\":{\"outlinewidth\":0,\"ticks\":\"\"}},\"type\":\"scattergeo\"}],\"scattergl\":[{\"marker\":{\"colorbar\":{\"outlinewidth\":0,\"ticks\":\"\"}},\"type\":\"scattergl\"}],\"scattermapbox\":[{\"marker\":{\"colorbar\":{\"outlinewidth\":0,\"ticks\":\"\"}},\"type\":\"scattermapbox\"}],\"scatterpolargl\":[{\"marker\":{\"colorbar\":{\"outlinewidth\":0,\"ticks\":\"\"}},\"type\":\"scatterpolargl\"}],\"scatterpolar\":[{\"marker\":{\"colorbar\":{\"outlinewidth\":0,\"ticks\":\"\"}},\"type\":\"scatterpolar\"}],\"scatter\":[{\"fillpattern\":{\"fillmode\":\"overlay\",\"size\":10,\"solidity\":0.2},\"type\":\"scatter\"}],\"scatterternary\":[{\"marker\":{\"colorbar\":{\"outlinewidth\":0,\"ticks\":\"\"}},\"type\":\"scatterternary\"}],\"surface\":[{\"colorbar\":{\"outlinewidth\":0,\"ticks\":\"\"},\"colorscale\":[[0.0,\"#0d0887\"],[0.1111111111111111,\"#46039f\"],[0.2222222222222222,\"#7201a8\"],[0.3333333333333333,\"#9c179e\"],[0.4444444444444444,\"#bd3786\"],[0.5555555555555556,\"#d8576b\"],[0.6666666666666666,\"#ed7953\"],[0.7777777777777778,\"#fb9f3a\"],[0.8888888888888888,\"#fdca26\"],[1.0,\"#f0f921\"]],\"type\":\"surface\"}],\"table\":[{\"cells\":{\"fill\":{\"color\":\"#EBF0F8\"},\"line\":{\"color\":\"white\"}},\"header\":{\"fill\":{\"color\":\"#C8D4E3\"},\"line\":{\"color\":\"white\"}},\"type\":\"table\"}]},\"layout\":{\"annotationdefaults\":{\"arrowcolor\":\"#2a3f5f\",\"arrowhead\":0,\"arrowwidth\":1},\"autotypenumbers\":\"strict\",\"coloraxis\":{\"colorbar\":{\"outlinewidth\":0,\"ticks\":\"\"}},\"colorscale\":{\"diverging\":[[0,\"#8e0152\"],[0.1,\"#c51b7d\"],[0.2,\"#de77ae\"],[0.3,\"#f1b6da\"],[0.4,\"#fde0ef\"],[0.5,\"#f7f7f7\"],[0.6,\"#e6f5d0\"],[0.7,\"#b8e186\"],[0.8,\"#7fbc41\"],[0.9,\"#4d9221\"],[1,\"#276419\"]],\"sequential\":[[0.0,\"#0d0887\"],[0.1111111111111111,\"#46039f\"],[0.2222222222222222,\"#7201a8\"],[0.3333333333333333,\"#9c179e\"],[0.4444444444444444,\"#bd3786\"],[0.5555555555555556,\"#d8576b\"],[0.6666666666666666,\"#ed7953\"],[0.7777777777777778,\"#fb9f3a\"],[0.8888888888888888,\"#fdca26\"],[1.0,\"#f0f921\"]],\"sequentialminus\":[[0.0,\"#0d0887\"],[0.1111111111111111,\"#46039f\"],[0.2222222222222222,\"#7201a8\"],[0.3333333333333333,\"#9c179e\"],[0.4444444444444444,\"#bd3786\"],[0.5555555555555556,\"#d8576b\"],[0.6666666666666666,\"#ed7953\"],[0.7777777777777778,\"#fb9f3a\"],[0.8888888888888888,\"#fdca26\"],[1.0,\"#f0f921\"]]},\"colorway\":[\"#636efa\",\"#EF553B\",\"#00cc96\",\"#ab63fa\",\"#FFA15A\",\"#19d3f3\",\"#FF6692\",\"#B6E880\",\"#FF97FF\",\"#FECB52\"],\"font\":{\"color\":\"#2a3f5f\"},\"geo\":{\"bgcolor\":\"white\",\"lakecolor\":\"white\",\"landcolor\":\"#E5ECF6\",\"showlakes\":true,\"showland\":true,\"subunitcolor\":\"white\"},\"hoverlabel\":{\"align\":\"left\"},\"hovermode\":\"closest\",\"mapbox\":{\"style\":\"light\"},\"paper_bgcolor\":\"white\",\"plot_bgcolor\":\"#E5ECF6\",\"polar\":{\"angularaxis\":{\"gridcolor\":\"white\",\"linecolor\":\"white\",\"ticks\":\"\"},\"bgcolor\":\"#E5ECF6\",\"radialaxis\":{\"gridcolor\":\"white\",\"linecolor\":\"white\",\"ticks\":\"\"}},\"scene\":{\"xaxis\":{\"backgroundcolor\":\"#E5ECF6\",\"gridcolor\":\"white\",\"gridwidth\":2,\"linecolor\":\"white\",\"showbackground\":true,\"ticks\":\"\",\"zerolinecolor\":\"white\"},\"yaxis\":{\"backgroundcolor\":\"#E5ECF6\",\"gridcolor\":\"white\",\"gridwidth\":2,\"linecolor\":\"white\",\"showbackground\":true,\"ticks\":\"\",\"zerolinecolor\":\"white\"},\"zaxis\":{\"backgroundcolor\":\"#E5ECF6\",\"gridcolor\":\"white\",\"gridwidth\":2,\"linecolor\":\"white\",\"showbackground\":true,\"ticks\":\"\",\"zerolinecolor\":\"white\"}},\"shapedefaults\":{\"line\":{\"color\":\"#2a3f5f\"}},\"ternary\":{\"aaxis\":{\"gridcolor\":\"white\",\"linecolor\":\"white\",\"ticks\":\"\"},\"baxis\":{\"gridcolor\":\"white\",\"linecolor\":\"white\",\"ticks\":\"\"},\"bgcolor\":\"#E5ECF6\",\"caxis\":{\"gridcolor\":\"white\",\"linecolor\":\"white\",\"ticks\":\"\"}},\"title\":{\"x\":0.05},\"xaxis\":{\"automargin\":true,\"gridcolor\":\"white\",\"linecolor\":\"white\",\"ticks\":\"\",\"title\":{\"standoff\":15},\"zerolinecolor\":\"white\",\"zerolinewidth\":2},\"yaxis\":{\"automargin\":true,\"gridcolor\":\"white\",\"linecolor\":\"white\",\"ticks\":\"\",\"title\":{\"standoff\":15},\"zerolinecolor\":\"white\",\"zerolinewidth\":2}}},\"title\":{\"text\":\"2011 US Agriculture Exports by State\"}},                        {\"responsive\": true}                    ).then(function(){\n",
       "                            \n",
       "var gd = document.getElementById('31a30bf9-c0df-48be-a0cc-27065b5326b8');\n",
       "var x = new MutationObserver(function (mutations, observer) {{\n",
       "        var display = window.getComputedStyle(gd).display;\n",
       "        if (!display || display === 'none') {{\n",
       "            console.log([gd, 'removed!']);\n",
       "            Plotly.purge(gd);\n",
       "            observer.disconnect();\n",
       "        }}\n",
       "}});\n",
       "\n",
       "// Listen for the removal of the full notebook cells\n",
       "var notebookContainer = gd.closest('#notebook-container');\n",
       "if (notebookContainer) {{\n",
       "    x.observe(notebookContainer, {childList: true});\n",
       "}}\n",
       "\n",
       "// Listen for the clearing of the current output cell\n",
       "var outputEl = gd.closest('.output');\n",
       "if (outputEl) {{\n",
       "    x.observe(outputEl, {childList: true});\n",
       "}}\n",
       "\n",
       "                        })                };                });            </script>        </div>"
      ]
     },
     "metadata": {},
     "output_type": "display_data"
    }
   ],
   "source": [
    "choromap = go.Figure(data = [data],layout = layout)\n",
    "iplot(choromap)"
   ]
  },
  {
   "cell_type": "markdown",
   "metadata": {},
   "source": [
    "# World Choropleth Map\n",
    "\n",
    "Now let's see an example with a World Map:"
   ]
  },
  {
   "cell_type": "code",
   "execution_count": 36,
   "metadata": {},
   "outputs": [
    {
     "data": {
      "text/html": [
       "<div>\n",
       "<style scoped>\n",
       "    .dataframe tbody tr th:only-of-type {\n",
       "        vertical-align: middle;\n",
       "    }\n",
       "\n",
       "    .dataframe tbody tr th {\n",
       "        vertical-align: top;\n",
       "    }\n",
       "\n",
       "    .dataframe thead th {\n",
       "        text-align: right;\n",
       "    }\n",
       "</style>\n",
       "<table border=\"1\" class=\"dataframe\">\n",
       "  <thead>\n",
       "    <tr style=\"text-align: right;\">\n",
       "      <th></th>\n",
       "      <th>COUNTRY</th>\n",
       "      <th>GDP (BILLIONS)</th>\n",
       "      <th>CODE</th>\n",
       "    </tr>\n",
       "  </thead>\n",
       "  <tbody>\n",
       "    <tr>\n",
       "      <th>0</th>\n",
       "      <td>Afghanistan</td>\n",
       "      <td>21.71</td>\n",
       "      <td>AFG</td>\n",
       "    </tr>\n",
       "    <tr>\n",
       "      <th>1</th>\n",
       "      <td>Albania</td>\n",
       "      <td>13.40</td>\n",
       "      <td>ALB</td>\n",
       "    </tr>\n",
       "    <tr>\n",
       "      <th>2</th>\n",
       "      <td>Algeria</td>\n",
       "      <td>227.80</td>\n",
       "      <td>DZA</td>\n",
       "    </tr>\n",
       "    <tr>\n",
       "      <th>3</th>\n",
       "      <td>American Samoa</td>\n",
       "      <td>0.75</td>\n",
       "      <td>ASM</td>\n",
       "    </tr>\n",
       "    <tr>\n",
       "      <th>4</th>\n",
       "      <td>Andorra</td>\n",
       "      <td>4.80</td>\n",
       "      <td>AND</td>\n",
       "    </tr>\n",
       "  </tbody>\n",
       "</table>\n",
       "</div>"
      ],
      "text/plain": [
       "          COUNTRY  GDP (BILLIONS) CODE\n",
       "0     Afghanistan           21.71  AFG\n",
       "1         Albania           13.40  ALB\n",
       "2         Algeria          227.80  DZA\n",
       "3  American Samoa            0.75  ASM\n",
       "4         Andorra            4.80  AND"
      ]
     },
     "execution_count": 36,
     "metadata": {},
     "output_type": "execute_result"
    }
   ],
   "source": [
    "df = pd.read_csv('2014_World_GDP')\n",
    "df.head()"
   ]
  },
  {
   "cell_type": "code",
   "execution_count": 37,
   "metadata": {},
   "outputs": [],
   "source": [
    "data = dict(\n",
    "        type = 'choropleth',\n",
    "        locations = df['CODE'],\n",
    "        z = df['GDP (BILLIONS)'],\n",
    "        text = df['COUNTRY'],\n",
    "        colorbar = {'title' : 'GDP Billions US'},\n",
    "      ) "
   ]
  },
  {
   "cell_type": "code",
   "execution_count": 38,
   "metadata": {},
   "outputs": [],
   "source": [
    "layout = dict(\n",
    "    title = '2014 Global GDP',\n",
    "    geo = dict(\n",
    "        showframe = False,\n",
    "        projection = {'type':'Mercator'}\n",
    "    )\n",
    ")"
   ]
  },
  {
   "cell_type": "code",
   "execution_count": 39,
   "metadata": {},
   "outputs": [
    {
     "ename": "ValueError",
     "evalue": "\n    Invalid value of type 'builtins.str' received for the 'type' property of layout.geo.projection\n        Received value: 'Mercator'\n\n    The 'type' property is an enumeration that may be specified as:\n      - One of the following enumeration values:\n            ['airy', 'aitoff', 'albers', 'albers usa', 'august',\n            'azimuthal equal area', 'azimuthal equidistant', 'baker',\n            'bertin1953', 'boggs', 'bonne', 'bottomley', 'bromley',\n            'collignon', 'conic conformal', 'conic equal area', 'conic\n            equidistant', 'craig', 'craster', 'cylindrical equal\n            area', 'cylindrical stereographic', 'eckert1', 'eckert2',\n            'eckert3', 'eckert4', 'eckert5', 'eckert6', 'eisenlohr',\n            'equal earth', 'equirectangular', 'fahey', 'foucaut',\n            'foucaut sinusoidal', 'ginzburg4', 'ginzburg5',\n            'ginzburg6', 'ginzburg8', 'ginzburg9', 'gnomonic',\n            'gringorten', 'gringorten quincuncial', 'guyou', 'hammer',\n            'hill', 'homolosine', 'hufnagel', 'hyperelliptical',\n            'kavrayskiy7', 'lagrange', 'larrivee', 'laskowski',\n            'loximuthal', 'mercator', 'miller', 'mollweide', 'mt flat\n            polar parabolic', 'mt flat polar quartic', 'mt flat polar\n            sinusoidal', 'natural earth', 'natural earth1', 'natural\n            earth2', 'nell hammer', 'nicolosi', 'orthographic',\n            'patterson', 'peirce quincuncial', 'polyconic',\n            'rectangular polyconic', 'robinson', 'satellite', 'sinu\n            mollweide', 'sinusoidal', 'stereographic', 'times',\n            'transverse mercator', 'van der grinten', 'van der\n            grinten2', 'van der grinten3', 'van der grinten4',\n            'wagner4', 'wagner6', 'wiechel', 'winkel tripel',\n            'winkel3']",
     "output_type": "error",
     "traceback": [
      "\u001b[1;31m---------------------------------------------------------------------------\u001b[0m",
      "\u001b[1;31mValueError\u001b[0m                                Traceback (most recent call last)",
      "Input \u001b[1;32mIn [39]\u001b[0m, in \u001b[0;36m<cell line: 1>\u001b[1;34m()\u001b[0m\n\u001b[1;32m----> 1\u001b[0m choromap \u001b[38;5;241m=\u001b[39m \u001b[43mgo\u001b[49m\u001b[38;5;241;43m.\u001b[39;49m\u001b[43mFigure\u001b[49m\u001b[43m(\u001b[49m\u001b[43mdata\u001b[49m\u001b[43m \u001b[49m\u001b[38;5;241;43m=\u001b[39;49m\u001b[43m \u001b[49m\u001b[43m[\u001b[49m\u001b[43mdata\u001b[49m\u001b[43m]\u001b[49m\u001b[43m,\u001b[49m\u001b[43mlayout\u001b[49m\u001b[43m \u001b[49m\u001b[38;5;241;43m=\u001b[39;49m\u001b[43m \u001b[49m\u001b[43mlayout\u001b[49m\u001b[43m)\u001b[49m\n\u001b[0;32m      2\u001b[0m iplot(choromap)\n",
      "File \u001b[1;32m~\\anaconda3\\lib\\site-packages\\plotly\\graph_objs\\_figure.py:633\u001b[0m, in \u001b[0;36mFigure.__init__\u001b[1;34m(self, data, layout, frames, skip_invalid, **kwargs)\u001b[0m\n\u001b[0;32m      5\u001b[0m \u001b[38;5;28;01mdef\u001b[39;00m \u001b[38;5;21m__init__\u001b[39m(\n\u001b[0;32m      6\u001b[0m     \u001b[38;5;28mself\u001b[39m, data\u001b[38;5;241m=\u001b[39m\u001b[38;5;28;01mNone\u001b[39;00m, layout\u001b[38;5;241m=\u001b[39m\u001b[38;5;28;01mNone\u001b[39;00m, frames\u001b[38;5;241m=\u001b[39m\u001b[38;5;28;01mNone\u001b[39;00m, skip_invalid\u001b[38;5;241m=\u001b[39m\u001b[38;5;28;01mFalse\u001b[39;00m, \u001b[38;5;241m*\u001b[39m\u001b[38;5;241m*\u001b[39mkwargs\n\u001b[0;32m      7\u001b[0m ):\n\u001b[0;32m      8\u001b[0m     \u001b[38;5;124;03m\"\"\"\u001b[39;00m\n\u001b[0;32m      9\u001b[0m \u001b[38;5;124;03m    Create a new :class:Figure instance\u001b[39;00m\n\u001b[0;32m     10\u001b[0m \n\u001b[1;32m   (...)\u001b[0m\n\u001b[0;32m    631\u001b[0m \u001b[38;5;124;03m        is invalid AND skip_invalid is False\u001b[39;00m\n\u001b[0;32m    632\u001b[0m \u001b[38;5;124;03m    \"\"\"\u001b[39;00m\n\u001b[1;32m--> 633\u001b[0m     \u001b[38;5;28msuper\u001b[39m(Figure, \u001b[38;5;28mself\u001b[39m)\u001b[38;5;241m.\u001b[39m\u001b[38;5;21m__init__\u001b[39m(data, layout, frames, skip_invalid, \u001b[38;5;241m*\u001b[39m\u001b[38;5;241m*\u001b[39mkwargs)\n",
      "File \u001b[1;32m~\\anaconda3\\lib\\site-packages\\plotly\\basedatatypes.py:555\u001b[0m, in \u001b[0;36mBaseFigure.__init__\u001b[1;34m(self, data, layout_plotly, frames, skip_invalid, **kwargs)\u001b[0m\n\u001b[0;32m    552\u001b[0m \u001b[38;5;28mself\u001b[39m\u001b[38;5;241m.\u001b[39m_layout_validator \u001b[38;5;241m=\u001b[39m LayoutValidator()\n\u001b[0;32m    554\u001b[0m \u001b[38;5;66;03m# ### Import Layout ###\u001b[39;00m\n\u001b[1;32m--> 555\u001b[0m \u001b[38;5;28mself\u001b[39m\u001b[38;5;241m.\u001b[39m_layout_obj \u001b[38;5;241m=\u001b[39m \u001b[38;5;28;43mself\u001b[39;49m\u001b[38;5;241;43m.\u001b[39;49m\u001b[43m_layout_validator\u001b[49m\u001b[38;5;241;43m.\u001b[39;49m\u001b[43mvalidate_coerce\u001b[49m\u001b[43m(\u001b[49m\n\u001b[0;32m    556\u001b[0m \u001b[43m    \u001b[49m\u001b[43mlayout\u001b[49m\u001b[43m,\u001b[49m\u001b[43m \u001b[49m\u001b[43mskip_invalid\u001b[49m\u001b[38;5;241;43m=\u001b[39;49m\u001b[43mskip_invalid\u001b[49m\u001b[43m,\u001b[49m\u001b[43m \u001b[49m\u001b[43m_validate\u001b[49m\u001b[38;5;241;43m=\u001b[39;49m\u001b[38;5;28;43mself\u001b[39;49m\u001b[38;5;241;43m.\u001b[39;49m\u001b[43m_validate\u001b[49m\n\u001b[0;32m    557\u001b[0m \u001b[43m\u001b[49m\u001b[43m)\u001b[49m\n\u001b[0;32m    559\u001b[0m \u001b[38;5;66;03m# ### Import clone of layout properties ###\u001b[39;00m\n\u001b[0;32m    560\u001b[0m \u001b[38;5;28mself\u001b[39m\u001b[38;5;241m.\u001b[39m_layout \u001b[38;5;241m=\u001b[39m deepcopy(\u001b[38;5;28mself\u001b[39m\u001b[38;5;241m.\u001b[39m_layout_obj\u001b[38;5;241m.\u001b[39m_props)\n",
      "File \u001b[1;32m~\\anaconda3\\lib\\site-packages\\_plotly_utils\\basevalidators.py:2484\u001b[0m, in \u001b[0;36mCompoundValidator.validate_coerce\u001b[1;34m(self, v, skip_invalid, _validate)\u001b[0m\n\u001b[0;32m   2481\u001b[0m     v \u001b[38;5;241m=\u001b[39m \u001b[38;5;28mself\u001b[39m\u001b[38;5;241m.\u001b[39mdata_class()\n\u001b[0;32m   2483\u001b[0m \u001b[38;5;28;01melif\u001b[39;00m \u001b[38;5;28misinstance\u001b[39m(v, \u001b[38;5;28mdict\u001b[39m):\n\u001b[1;32m-> 2484\u001b[0m     v \u001b[38;5;241m=\u001b[39m \u001b[38;5;28;43mself\u001b[39;49m\u001b[38;5;241;43m.\u001b[39;49m\u001b[43mdata_class\u001b[49m\u001b[43m(\u001b[49m\u001b[43mv\u001b[49m\u001b[43m,\u001b[49m\u001b[43m \u001b[49m\u001b[43mskip_invalid\u001b[49m\u001b[38;5;241;43m=\u001b[39;49m\u001b[43mskip_invalid\u001b[49m\u001b[43m,\u001b[49m\u001b[43m \u001b[49m\u001b[43m_validate\u001b[49m\u001b[38;5;241;43m=\u001b[39;49m\u001b[43m_validate\u001b[49m\u001b[43m)\u001b[49m\n\u001b[0;32m   2486\u001b[0m \u001b[38;5;28;01melif\u001b[39;00m \u001b[38;5;28misinstance\u001b[39m(v, \u001b[38;5;28mself\u001b[39m\u001b[38;5;241m.\u001b[39mdata_class):\n\u001b[0;32m   2487\u001b[0m     \u001b[38;5;66;03m# Copy object\u001b[39;00m\n\u001b[0;32m   2488\u001b[0m     v \u001b[38;5;241m=\u001b[39m \u001b[38;5;28mself\u001b[39m\u001b[38;5;241m.\u001b[39mdata_class(v)\n",
      "File \u001b[1;32m~\\anaconda3\\lib\\site-packages\\plotly\\graph_objs\\_layout.py:6770\u001b[0m, in \u001b[0;36mLayout.__init__\u001b[1;34m(self, arg, activeselection, activeshape, annotations, annotationdefaults, autosize, autotypenumbers, barcornerradius, bargap, bargroupgap, barmode, barnorm, boxgap, boxgroupgap, boxmode, calendar, clickmode, coloraxis, colorscale, colorway, computed, datarevision, dragmode, editrevision, extendfunnelareacolors, extendiciclecolors, extendpiecolors, extendsunburstcolors, extendtreemapcolors, font, funnelareacolorway, funnelgap, funnelgroupgap, funnelmode, geo, grid, height, hiddenlabels, hiddenlabelssrc, hidesources, hoverdistance, hoverlabel, hovermode, iciclecolorway, images, imagedefaults, legend, mapbox, margin, meta, metasrc, minreducedheight, minreducedwidth, modebar, newselection, newshape, paper_bgcolor, piecolorway, plot_bgcolor, polar, scattergap, scattermode, scene, selectdirection, selectionrevision, selections, selectiondefaults, separators, shapes, shapedefaults, showlegend, sliders, sliderdefaults, smith, spikedistance, sunburstcolorway, template, ternary, title, titlefont, transition, treemapcolorway, uirevision, uniformtext, updatemenus, updatemenudefaults, violingap, violingroupgap, violinmode, waterfallgap, waterfallgroupgap, waterfallmode, width, xaxis, yaxis, **kwargs)\u001b[0m\n\u001b[0;32m   6768\u001b[0m _v \u001b[38;5;241m=\u001b[39m geo \u001b[38;5;28;01mif\u001b[39;00m geo \u001b[38;5;129;01mis\u001b[39;00m \u001b[38;5;129;01mnot\u001b[39;00m \u001b[38;5;28;01mNone\u001b[39;00m \u001b[38;5;28;01melse\u001b[39;00m _v\n\u001b[0;32m   6769\u001b[0m \u001b[38;5;28;01mif\u001b[39;00m _v \u001b[38;5;129;01mis\u001b[39;00m \u001b[38;5;129;01mnot\u001b[39;00m \u001b[38;5;28;01mNone\u001b[39;00m:\n\u001b[1;32m-> 6770\u001b[0m     \u001b[38;5;28mself\u001b[39m[\u001b[38;5;124m\"\u001b[39m\u001b[38;5;124mgeo\u001b[39m\u001b[38;5;124m\"\u001b[39m] \u001b[38;5;241m=\u001b[39m _v\n\u001b[0;32m   6771\u001b[0m _v \u001b[38;5;241m=\u001b[39m arg\u001b[38;5;241m.\u001b[39mpop(\u001b[38;5;124m\"\u001b[39m\u001b[38;5;124mgrid\u001b[39m\u001b[38;5;124m\"\u001b[39m, \u001b[38;5;28;01mNone\u001b[39;00m)\n\u001b[0;32m   6772\u001b[0m _v \u001b[38;5;241m=\u001b[39m grid \u001b[38;5;28;01mif\u001b[39;00m grid \u001b[38;5;129;01mis\u001b[39;00m \u001b[38;5;129;01mnot\u001b[39;00m \u001b[38;5;28;01mNone\u001b[39;00m \u001b[38;5;28;01melse\u001b[39;00m _v\n",
      "File \u001b[1;32m~\\anaconda3\\lib\\site-packages\\plotly\\basedatatypes.py:5912\u001b[0m, in \u001b[0;36mBaseLayoutType.__setitem__\u001b[1;34m(self, prop, value)\u001b[0m\n\u001b[0;32m   5909\u001b[0m match \u001b[38;5;241m=\u001b[39m \u001b[38;5;28mself\u001b[39m\u001b[38;5;241m.\u001b[39m_subplot_re_match(prop)\n\u001b[0;32m   5910\u001b[0m \u001b[38;5;28;01mif\u001b[39;00m match \u001b[38;5;129;01mis\u001b[39;00m \u001b[38;5;28;01mNone\u001b[39;00m:\n\u001b[0;32m   5911\u001b[0m     \u001b[38;5;66;03m# Set as ordinary property\u001b[39;00m\n\u001b[1;32m-> 5912\u001b[0m     \u001b[38;5;28;43msuper\u001b[39;49m\u001b[43m(\u001b[49m\u001b[43mBaseLayoutHierarchyType\u001b[49m\u001b[43m,\u001b[49m\u001b[43m \u001b[49m\u001b[38;5;28;43mself\u001b[39;49m\u001b[43m)\u001b[49m\u001b[38;5;241;43m.\u001b[39;49m\u001b[38;5;21;43m__setitem__\u001b[39;49m\u001b[43m(\u001b[49m\u001b[43mprop\u001b[49m\u001b[43m,\u001b[49m\u001b[43m \u001b[49m\u001b[43mvalue\u001b[49m\u001b[43m)\u001b[49m\n\u001b[0;32m   5913\u001b[0m \u001b[38;5;28;01melse\u001b[39;00m:\n\u001b[0;32m   5914\u001b[0m     \u001b[38;5;66;03m# Set as subplotid property\u001b[39;00m\n\u001b[0;32m   5915\u001b[0m     \u001b[38;5;28mself\u001b[39m\u001b[38;5;241m.\u001b[39m_set_subplotid_prop(prop, value)\n",
      "File \u001b[1;32m~\\anaconda3\\lib\\site-packages\\plotly\\basedatatypes.py:4866\u001b[0m, in \u001b[0;36mBasePlotlyType.__setitem__\u001b[1;34m(self, prop, value)\u001b[0m\n\u001b[0;32m   4864\u001b[0m \u001b[38;5;66;03m# ### Handle compound property ###\u001b[39;00m\n\u001b[0;32m   4865\u001b[0m \u001b[38;5;28;01mif\u001b[39;00m \u001b[38;5;28misinstance\u001b[39m(validator, CompoundValidator):\n\u001b[1;32m-> 4866\u001b[0m     \u001b[38;5;28;43mself\u001b[39;49m\u001b[38;5;241;43m.\u001b[39;49m\u001b[43m_set_compound_prop\u001b[49m\u001b[43m(\u001b[49m\u001b[43mprop\u001b[49m\u001b[43m,\u001b[49m\u001b[43m \u001b[49m\u001b[43mvalue\u001b[49m\u001b[43m)\u001b[49m\n\u001b[0;32m   4868\u001b[0m \u001b[38;5;66;03m# ### Handle compound array property ###\u001b[39;00m\n\u001b[0;32m   4869\u001b[0m \u001b[38;5;28;01melif\u001b[39;00m \u001b[38;5;28misinstance\u001b[39m(validator, (CompoundArrayValidator, BaseDataValidator)):\n",
      "File \u001b[1;32m~\\anaconda3\\lib\\site-packages\\plotly\\basedatatypes.py:5277\u001b[0m, in \u001b[0;36mBasePlotlyType._set_compound_prop\u001b[1;34m(self, prop, val)\u001b[0m\n\u001b[0;32m   5274\u001b[0m \u001b[38;5;66;03m# Import value\u001b[39;00m\n\u001b[0;32m   5275\u001b[0m \u001b[38;5;66;03m# ------------\u001b[39;00m\n\u001b[0;32m   5276\u001b[0m validator \u001b[38;5;241m=\u001b[39m \u001b[38;5;28mself\u001b[39m\u001b[38;5;241m.\u001b[39m_get_validator(prop)\n\u001b[1;32m-> 5277\u001b[0m val \u001b[38;5;241m=\u001b[39m \u001b[43mvalidator\u001b[49m\u001b[38;5;241;43m.\u001b[39;49m\u001b[43mvalidate_coerce\u001b[49m\u001b[43m(\u001b[49m\u001b[43mval\u001b[49m\u001b[43m,\u001b[49m\u001b[43m \u001b[49m\u001b[43mskip_invalid\u001b[49m\u001b[38;5;241;43m=\u001b[39;49m\u001b[38;5;28;43mself\u001b[39;49m\u001b[38;5;241;43m.\u001b[39;49m\u001b[43m_skip_invalid\u001b[49m\u001b[43m)\u001b[49m\n\u001b[0;32m   5279\u001b[0m \u001b[38;5;66;03m# Save deep copies of current and new states\u001b[39;00m\n\u001b[0;32m   5280\u001b[0m \u001b[38;5;66;03m# ------------------------------------------\u001b[39;00m\n\u001b[0;32m   5281\u001b[0m curr_val \u001b[38;5;241m=\u001b[39m \u001b[38;5;28mself\u001b[39m\u001b[38;5;241m.\u001b[39m_compound_props\u001b[38;5;241m.\u001b[39mget(prop, \u001b[38;5;28;01mNone\u001b[39;00m)\n",
      "File \u001b[1;32m~\\anaconda3\\lib\\site-packages\\_plotly_utils\\basevalidators.py:2484\u001b[0m, in \u001b[0;36mCompoundValidator.validate_coerce\u001b[1;34m(self, v, skip_invalid, _validate)\u001b[0m\n\u001b[0;32m   2481\u001b[0m     v \u001b[38;5;241m=\u001b[39m \u001b[38;5;28mself\u001b[39m\u001b[38;5;241m.\u001b[39mdata_class()\n\u001b[0;32m   2483\u001b[0m \u001b[38;5;28;01melif\u001b[39;00m \u001b[38;5;28misinstance\u001b[39m(v, \u001b[38;5;28mdict\u001b[39m):\n\u001b[1;32m-> 2484\u001b[0m     v \u001b[38;5;241m=\u001b[39m \u001b[38;5;28;43mself\u001b[39;49m\u001b[38;5;241;43m.\u001b[39;49m\u001b[43mdata_class\u001b[49m\u001b[43m(\u001b[49m\u001b[43mv\u001b[49m\u001b[43m,\u001b[49m\u001b[43m \u001b[49m\u001b[43mskip_invalid\u001b[49m\u001b[38;5;241;43m=\u001b[39;49m\u001b[43mskip_invalid\u001b[49m\u001b[43m,\u001b[49m\u001b[43m \u001b[49m\u001b[43m_validate\u001b[49m\u001b[38;5;241;43m=\u001b[39;49m\u001b[43m_validate\u001b[49m\u001b[43m)\u001b[49m\n\u001b[0;32m   2486\u001b[0m \u001b[38;5;28;01melif\u001b[39;00m \u001b[38;5;28misinstance\u001b[39m(v, \u001b[38;5;28mself\u001b[39m\u001b[38;5;241m.\u001b[39mdata_class):\n\u001b[0;32m   2487\u001b[0m     \u001b[38;5;66;03m# Copy object\u001b[39;00m\n\u001b[0;32m   2488\u001b[0m     v \u001b[38;5;241m=\u001b[39m \u001b[38;5;28mself\u001b[39m\u001b[38;5;241m.\u001b[39mdata_class(v)\n",
      "File \u001b[1;32m~\\anaconda3\\lib\\site-packages\\plotly\\graph_objs\\layout\\_geo.py:1504\u001b[0m, in \u001b[0;36mGeo.__init__\u001b[1;34m(self, arg, bgcolor, center, coastlinecolor, coastlinewidth, countrycolor, countrywidth, domain, fitbounds, framecolor, framewidth, lakecolor, landcolor, lataxis, lonaxis, oceancolor, projection, resolution, rivercolor, riverwidth, scope, showcoastlines, showcountries, showframe, showlakes, showland, showocean, showrivers, showsubunits, subunitcolor, subunitwidth, uirevision, visible, **kwargs)\u001b[0m\n\u001b[0;32m   1502\u001b[0m _v \u001b[38;5;241m=\u001b[39m projection \u001b[38;5;28;01mif\u001b[39;00m projection \u001b[38;5;129;01mis\u001b[39;00m \u001b[38;5;129;01mnot\u001b[39;00m \u001b[38;5;28;01mNone\u001b[39;00m \u001b[38;5;28;01melse\u001b[39;00m _v\n\u001b[0;32m   1503\u001b[0m \u001b[38;5;28;01mif\u001b[39;00m _v \u001b[38;5;129;01mis\u001b[39;00m \u001b[38;5;129;01mnot\u001b[39;00m \u001b[38;5;28;01mNone\u001b[39;00m:\n\u001b[1;32m-> 1504\u001b[0m     \u001b[38;5;28mself\u001b[39m[\u001b[38;5;124m\"\u001b[39m\u001b[38;5;124mprojection\u001b[39m\u001b[38;5;124m\"\u001b[39m] \u001b[38;5;241m=\u001b[39m _v\n\u001b[0;32m   1505\u001b[0m _v \u001b[38;5;241m=\u001b[39m arg\u001b[38;5;241m.\u001b[39mpop(\u001b[38;5;124m\"\u001b[39m\u001b[38;5;124mresolution\u001b[39m\u001b[38;5;124m\"\u001b[39m, \u001b[38;5;28;01mNone\u001b[39;00m)\n\u001b[0;32m   1506\u001b[0m _v \u001b[38;5;241m=\u001b[39m resolution \u001b[38;5;28;01mif\u001b[39;00m resolution \u001b[38;5;129;01mis\u001b[39;00m \u001b[38;5;129;01mnot\u001b[39;00m \u001b[38;5;28;01mNone\u001b[39;00m \u001b[38;5;28;01melse\u001b[39;00m _v\n",
      "File \u001b[1;32m~\\anaconda3\\lib\\site-packages\\plotly\\basedatatypes.py:4866\u001b[0m, in \u001b[0;36mBasePlotlyType.__setitem__\u001b[1;34m(self, prop, value)\u001b[0m\n\u001b[0;32m   4864\u001b[0m \u001b[38;5;66;03m# ### Handle compound property ###\u001b[39;00m\n\u001b[0;32m   4865\u001b[0m \u001b[38;5;28;01mif\u001b[39;00m \u001b[38;5;28misinstance\u001b[39m(validator, CompoundValidator):\n\u001b[1;32m-> 4866\u001b[0m     \u001b[38;5;28;43mself\u001b[39;49m\u001b[38;5;241;43m.\u001b[39;49m\u001b[43m_set_compound_prop\u001b[49m\u001b[43m(\u001b[49m\u001b[43mprop\u001b[49m\u001b[43m,\u001b[49m\u001b[43m \u001b[49m\u001b[43mvalue\u001b[49m\u001b[43m)\u001b[49m\n\u001b[0;32m   4868\u001b[0m \u001b[38;5;66;03m# ### Handle compound array property ###\u001b[39;00m\n\u001b[0;32m   4869\u001b[0m \u001b[38;5;28;01melif\u001b[39;00m \u001b[38;5;28misinstance\u001b[39m(validator, (CompoundArrayValidator, BaseDataValidator)):\n",
      "File \u001b[1;32m~\\anaconda3\\lib\\site-packages\\plotly\\basedatatypes.py:5277\u001b[0m, in \u001b[0;36mBasePlotlyType._set_compound_prop\u001b[1;34m(self, prop, val)\u001b[0m\n\u001b[0;32m   5274\u001b[0m \u001b[38;5;66;03m# Import value\u001b[39;00m\n\u001b[0;32m   5275\u001b[0m \u001b[38;5;66;03m# ------------\u001b[39;00m\n\u001b[0;32m   5276\u001b[0m validator \u001b[38;5;241m=\u001b[39m \u001b[38;5;28mself\u001b[39m\u001b[38;5;241m.\u001b[39m_get_validator(prop)\n\u001b[1;32m-> 5277\u001b[0m val \u001b[38;5;241m=\u001b[39m \u001b[43mvalidator\u001b[49m\u001b[38;5;241;43m.\u001b[39;49m\u001b[43mvalidate_coerce\u001b[49m\u001b[43m(\u001b[49m\u001b[43mval\u001b[49m\u001b[43m,\u001b[49m\u001b[43m \u001b[49m\u001b[43mskip_invalid\u001b[49m\u001b[38;5;241;43m=\u001b[39;49m\u001b[38;5;28;43mself\u001b[39;49m\u001b[38;5;241;43m.\u001b[39;49m\u001b[43m_skip_invalid\u001b[49m\u001b[43m)\u001b[49m\n\u001b[0;32m   5279\u001b[0m \u001b[38;5;66;03m# Save deep copies of current and new states\u001b[39;00m\n\u001b[0;32m   5280\u001b[0m \u001b[38;5;66;03m# ------------------------------------------\u001b[39;00m\n\u001b[0;32m   5281\u001b[0m curr_val \u001b[38;5;241m=\u001b[39m \u001b[38;5;28mself\u001b[39m\u001b[38;5;241m.\u001b[39m_compound_props\u001b[38;5;241m.\u001b[39mget(prop, \u001b[38;5;28;01mNone\u001b[39;00m)\n",
      "File \u001b[1;32m~\\anaconda3\\lib\\site-packages\\_plotly_utils\\basevalidators.py:2484\u001b[0m, in \u001b[0;36mCompoundValidator.validate_coerce\u001b[1;34m(self, v, skip_invalid, _validate)\u001b[0m\n\u001b[0;32m   2481\u001b[0m     v \u001b[38;5;241m=\u001b[39m \u001b[38;5;28mself\u001b[39m\u001b[38;5;241m.\u001b[39mdata_class()\n\u001b[0;32m   2483\u001b[0m \u001b[38;5;28;01melif\u001b[39;00m \u001b[38;5;28misinstance\u001b[39m(v, \u001b[38;5;28mdict\u001b[39m):\n\u001b[1;32m-> 2484\u001b[0m     v \u001b[38;5;241m=\u001b[39m \u001b[38;5;28;43mself\u001b[39;49m\u001b[38;5;241;43m.\u001b[39;49m\u001b[43mdata_class\u001b[49m\u001b[43m(\u001b[49m\u001b[43mv\u001b[49m\u001b[43m,\u001b[49m\u001b[43m \u001b[49m\u001b[43mskip_invalid\u001b[49m\u001b[38;5;241;43m=\u001b[39;49m\u001b[43mskip_invalid\u001b[49m\u001b[43m,\u001b[49m\u001b[43m \u001b[49m\u001b[43m_validate\u001b[49m\u001b[38;5;241;43m=\u001b[39;49m\u001b[43m_validate\u001b[49m\u001b[43m)\u001b[49m\n\u001b[0;32m   2486\u001b[0m \u001b[38;5;28;01melif\u001b[39;00m \u001b[38;5;28misinstance\u001b[39m(v, \u001b[38;5;28mself\u001b[39m\u001b[38;5;241m.\u001b[39mdata_class):\n\u001b[0;32m   2487\u001b[0m     \u001b[38;5;66;03m# Copy object\u001b[39;00m\n\u001b[0;32m   2488\u001b[0m     v \u001b[38;5;241m=\u001b[39m \u001b[38;5;28mself\u001b[39m\u001b[38;5;241m.\u001b[39mdata_class(v)\n",
      "File \u001b[1;32m~\\anaconda3\\lib\\site-packages\\plotly\\graph_objs\\layout\\geo\\_projection.py:303\u001b[0m, in \u001b[0;36mProjection.__init__\u001b[1;34m(self, arg, distance, parallels, rotation, scale, tilt, type, **kwargs)\u001b[0m\n\u001b[0;32m    301\u001b[0m _v \u001b[38;5;241m=\u001b[39m \u001b[38;5;28mtype\u001b[39m \u001b[38;5;28;01mif\u001b[39;00m \u001b[38;5;28mtype\u001b[39m \u001b[38;5;129;01mis\u001b[39;00m \u001b[38;5;129;01mnot\u001b[39;00m \u001b[38;5;28;01mNone\u001b[39;00m \u001b[38;5;28;01melse\u001b[39;00m _v\n\u001b[0;32m    302\u001b[0m \u001b[38;5;28;01mif\u001b[39;00m _v \u001b[38;5;129;01mis\u001b[39;00m \u001b[38;5;129;01mnot\u001b[39;00m \u001b[38;5;28;01mNone\u001b[39;00m:\n\u001b[1;32m--> 303\u001b[0m     \u001b[38;5;28mself\u001b[39m[\u001b[38;5;124m\"\u001b[39m\u001b[38;5;124mtype\u001b[39m\u001b[38;5;124m\"\u001b[39m] \u001b[38;5;241m=\u001b[39m _v\n\u001b[0;32m    305\u001b[0m \u001b[38;5;66;03m# Process unknown kwargs\u001b[39;00m\n\u001b[0;32m    306\u001b[0m \u001b[38;5;66;03m# ----------------------\u001b[39;00m\n\u001b[0;32m    307\u001b[0m \u001b[38;5;28mself\u001b[39m\u001b[38;5;241m.\u001b[39m_process_kwargs(\u001b[38;5;241m*\u001b[39m\u001b[38;5;241m*\u001b[39m\u001b[38;5;28mdict\u001b[39m(arg, \u001b[38;5;241m*\u001b[39m\u001b[38;5;241m*\u001b[39mkwargs))\n",
      "File \u001b[1;32m~\\anaconda3\\lib\\site-packages\\plotly\\basedatatypes.py:4874\u001b[0m, in \u001b[0;36mBasePlotlyType.__setitem__\u001b[1;34m(self, prop, value)\u001b[0m\n\u001b[0;32m   4870\u001b[0m         \u001b[38;5;28mself\u001b[39m\u001b[38;5;241m.\u001b[39m_set_array_prop(prop, value)\n\u001b[0;32m   4872\u001b[0m     \u001b[38;5;66;03m# ### Handle simple property ###\u001b[39;00m\n\u001b[0;32m   4873\u001b[0m     \u001b[38;5;28;01melse\u001b[39;00m:\n\u001b[1;32m-> 4874\u001b[0m         \u001b[38;5;28;43mself\u001b[39;49m\u001b[38;5;241;43m.\u001b[39;49m\u001b[43m_set_prop\u001b[49m\u001b[43m(\u001b[49m\u001b[43mprop\u001b[49m\u001b[43m,\u001b[49m\u001b[43m \u001b[49m\u001b[43mvalue\u001b[49m\u001b[43m)\u001b[49m\n\u001b[0;32m   4875\u001b[0m \u001b[38;5;28;01melse\u001b[39;00m:\n\u001b[0;32m   4876\u001b[0m     \u001b[38;5;66;03m# Make sure properties dict is initialized\u001b[39;00m\n\u001b[0;32m   4877\u001b[0m     \u001b[38;5;28mself\u001b[39m\u001b[38;5;241m.\u001b[39m_init_props()\n",
      "File \u001b[1;32m~\\anaconda3\\lib\\site-packages\\plotly\\basedatatypes.py:5218\u001b[0m, in \u001b[0;36mBasePlotlyType._set_prop\u001b[1;34m(self, prop, val)\u001b[0m\n\u001b[0;32m   5216\u001b[0m         \u001b[38;5;28;01mreturn\u001b[39;00m\n\u001b[0;32m   5217\u001b[0m     \u001b[38;5;28;01melse\u001b[39;00m:\n\u001b[1;32m-> 5218\u001b[0m         \u001b[38;5;28;01mraise\u001b[39;00m err\n\u001b[0;32m   5220\u001b[0m \u001b[38;5;66;03m# val is None\u001b[39;00m\n\u001b[0;32m   5221\u001b[0m \u001b[38;5;66;03m# -----------\u001b[39;00m\n\u001b[0;32m   5222\u001b[0m \u001b[38;5;28;01mif\u001b[39;00m val \u001b[38;5;129;01mis\u001b[39;00m \u001b[38;5;28;01mNone\u001b[39;00m:\n\u001b[0;32m   5223\u001b[0m     \u001b[38;5;66;03m# Check if we should send null update\u001b[39;00m\n",
      "File \u001b[1;32m~\\anaconda3\\lib\\site-packages\\plotly\\basedatatypes.py:5213\u001b[0m, in \u001b[0;36mBasePlotlyType._set_prop\u001b[1;34m(self, prop, val)\u001b[0m\n\u001b[0;32m   5210\u001b[0m validator \u001b[38;5;241m=\u001b[39m \u001b[38;5;28mself\u001b[39m\u001b[38;5;241m.\u001b[39m_get_validator(prop)\n\u001b[0;32m   5212\u001b[0m \u001b[38;5;28;01mtry\u001b[39;00m:\n\u001b[1;32m-> 5213\u001b[0m     val \u001b[38;5;241m=\u001b[39m \u001b[43mvalidator\u001b[49m\u001b[38;5;241;43m.\u001b[39;49m\u001b[43mvalidate_coerce\u001b[49m\u001b[43m(\u001b[49m\u001b[43mval\u001b[49m\u001b[43m)\u001b[49m\n\u001b[0;32m   5214\u001b[0m \u001b[38;5;28;01mexcept\u001b[39;00m \u001b[38;5;167;01mValueError\u001b[39;00m \u001b[38;5;28;01mas\u001b[39;00m err:\n\u001b[0;32m   5215\u001b[0m     \u001b[38;5;28;01mif\u001b[39;00m \u001b[38;5;28mself\u001b[39m\u001b[38;5;241m.\u001b[39m_skip_invalid:\n",
      "File \u001b[1;32m~\\anaconda3\\lib\\site-packages\\_plotly_utils\\basevalidators.py:619\u001b[0m, in \u001b[0;36mEnumeratedValidator.validate_coerce\u001b[1;34m(self, v)\u001b[0m\n\u001b[0;32m    617\u001b[0m     v \u001b[38;5;241m=\u001b[39m \u001b[38;5;28mself\u001b[39m\u001b[38;5;241m.\u001b[39mperform_replacemenet(v)\n\u001b[0;32m    618\u001b[0m     \u001b[38;5;28;01mif\u001b[39;00m \u001b[38;5;129;01mnot\u001b[39;00m \u001b[38;5;28mself\u001b[39m\u001b[38;5;241m.\u001b[39min_values(v):\n\u001b[1;32m--> 619\u001b[0m         \u001b[38;5;28;43mself\u001b[39;49m\u001b[38;5;241;43m.\u001b[39;49m\u001b[43mraise_invalid_val\u001b[49m\u001b[43m(\u001b[49m\u001b[43mv\u001b[49m\u001b[43m)\u001b[49m\n\u001b[0;32m    620\u001b[0m \u001b[38;5;28;01mreturn\u001b[39;00m v\n",
      "File \u001b[1;32m~\\anaconda3\\lib\\site-packages\\_plotly_utils\\basevalidators.py:296\u001b[0m, in \u001b[0;36mBaseValidator.raise_invalid_val\u001b[1;34m(self, v, inds)\u001b[0m\n\u001b[0;32m    293\u001b[0m             \u001b[38;5;28;01mfor\u001b[39;00m i \u001b[38;5;129;01min\u001b[39;00m inds:\n\u001b[0;32m    294\u001b[0m                 name \u001b[38;5;241m+\u001b[39m\u001b[38;5;241m=\u001b[39m \u001b[38;5;124m\"\u001b[39m\u001b[38;5;124m[\u001b[39m\u001b[38;5;124m\"\u001b[39m \u001b[38;5;241m+\u001b[39m \u001b[38;5;28mstr\u001b[39m(i) \u001b[38;5;241m+\u001b[39m \u001b[38;5;124m\"\u001b[39m\u001b[38;5;124m]\u001b[39m\u001b[38;5;124m\"\u001b[39m\n\u001b[1;32m--> 296\u001b[0m         \u001b[38;5;28;01mraise\u001b[39;00m \u001b[38;5;167;01mValueError\u001b[39;00m(\n\u001b[0;32m    297\u001b[0m             \u001b[38;5;124;03m\"\"\"\u001b[39;00m\n\u001b[0;32m    298\u001b[0m \u001b[38;5;124;03m    Invalid value of type {typ} received for the '{name}' property of {pname}\u001b[39;00m\n\u001b[0;32m    299\u001b[0m \u001b[38;5;124;03m        Received value: {v}\u001b[39;00m\n\u001b[0;32m    300\u001b[0m \n\u001b[0;32m    301\u001b[0m \u001b[38;5;124;03m{valid_clr_desc}\"\"\"\u001b[39;00m\u001b[38;5;241m.\u001b[39mformat(\n\u001b[0;32m    302\u001b[0m                 name\u001b[38;5;241m=\u001b[39mname,\n\u001b[0;32m    303\u001b[0m                 pname\u001b[38;5;241m=\u001b[39m\u001b[38;5;28mself\u001b[39m\u001b[38;5;241m.\u001b[39mparent_name,\n\u001b[0;32m    304\u001b[0m                 typ\u001b[38;5;241m=\u001b[39mtype_str(v),\n\u001b[0;32m    305\u001b[0m                 v\u001b[38;5;241m=\u001b[39m\u001b[38;5;28mrepr\u001b[39m(v),\n\u001b[0;32m    306\u001b[0m                 valid_clr_desc\u001b[38;5;241m=\u001b[39m\u001b[38;5;28mself\u001b[39m\u001b[38;5;241m.\u001b[39mdescription(),\n\u001b[0;32m    307\u001b[0m             )\n\u001b[0;32m    308\u001b[0m         )\n",
      "\u001b[1;31mValueError\u001b[0m: \n    Invalid value of type 'builtins.str' received for the 'type' property of layout.geo.projection\n        Received value: 'Mercator'\n\n    The 'type' property is an enumeration that may be specified as:\n      - One of the following enumeration values:\n            ['airy', 'aitoff', 'albers', 'albers usa', 'august',\n            'azimuthal equal area', 'azimuthal equidistant', 'baker',\n            'bertin1953', 'boggs', 'bonne', 'bottomley', 'bromley',\n            'collignon', 'conic conformal', 'conic equal area', 'conic\n            equidistant', 'craig', 'craster', 'cylindrical equal\n            area', 'cylindrical stereographic', 'eckert1', 'eckert2',\n            'eckert3', 'eckert4', 'eckert5', 'eckert6', 'eisenlohr',\n            'equal earth', 'equirectangular', 'fahey', 'foucaut',\n            'foucaut sinusoidal', 'ginzburg4', 'ginzburg5',\n            'ginzburg6', 'ginzburg8', 'ginzburg9', 'gnomonic',\n            'gringorten', 'gringorten quincuncial', 'guyou', 'hammer',\n            'hill', 'homolosine', 'hufnagel', 'hyperelliptical',\n            'kavrayskiy7', 'lagrange', 'larrivee', 'laskowski',\n            'loximuthal', 'mercator', 'miller', 'mollweide', 'mt flat\n            polar parabolic', 'mt flat polar quartic', 'mt flat polar\n            sinusoidal', 'natural earth', 'natural earth1', 'natural\n            earth2', 'nell hammer', 'nicolosi', 'orthographic',\n            'patterson', 'peirce quincuncial', 'polyconic',\n            'rectangular polyconic', 'robinson', 'satellite', 'sinu\n            mollweide', 'sinusoidal', 'stereographic', 'times',\n            'transverse mercator', 'van der grinten', 'van der\n            grinten2', 'van der grinten3', 'van der grinten4',\n            'wagner4', 'wagner6', 'wiechel', 'winkel tripel',\n            'winkel3']"
     ]
    }
   ],
   "source": [
    "choromap = go.Figure(data = [data],layout = layout)\n",
    "iplot(choromap)"
   ]
  },
  {
   "cell_type": "code",
   "execution_count": null,
   "metadata": {},
   "outputs": [],
   "source": []
  },
  {
   "cell_type": "markdown",
   "metadata": {
    "collapsed": true
   },
   "source": [
    "# Great Job!"
   ]
  }
 ],
 "metadata": {
  "kernelspec": {
   "display_name": "Python 3 (ipykernel)",
   "language": "python",
   "name": "python3"
  },
  "language_info": {
   "codemirror_mode": {
    "name": "ipython",
    "version": 3
   },
   "file_extension": ".py",
   "mimetype": "text/x-python",
   "name": "python",
   "nbconvert_exporter": "python",
   "pygments_lexer": "ipython3",
   "version": "3.10.6"
  }
 },
 "nbformat": 4,
 "nbformat_minor": 1
}
