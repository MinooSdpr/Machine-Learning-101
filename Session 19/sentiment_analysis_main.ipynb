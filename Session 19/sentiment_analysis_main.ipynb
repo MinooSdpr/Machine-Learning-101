{
 "cells": [
  {
   "cell_type": "code",
   "execution_count": 3,
   "metadata": {
    "_cell_guid": "b1076dfc-b9ad-4769-8c92-a6c4dae69d19",
    "_uuid": "8f2839f25d086af736a60e9eeb907d3b93b6e0e5",
    "colab": {
     "base_uri": "https://localhost:8080/"
    },
    "execution": {
     "iopub.execute_input": "2021-03-28T19:10:47.935746Z",
     "iopub.status.busy": "2021-03-28T19:10:47.935032Z",
     "iopub.status.idle": "2021-03-28T19:10:55.999517Z",
     "shell.execute_reply": "2021-03-28T19:10:55.998869Z"
    },
    "id": "2U8imVbPId7p",
    "outputId": "583b3699-a6db-4752-ceca-37deb5736ded",
    "papermill": {
     "duration": 8.102851,
     "end_time": "2021-03-28T19:10:55.999755",
     "exception": false,
     "start_time": "2021-03-28T19:10:47.896904",
     "status": "completed"
    },
    "tags": []
   },
   "outputs": [
    {
     "name": "stderr",
     "output_type": "stream",
     "text": [
      "[nltk_data] Downloading package stopwords to /root/nltk_data...\n",
      "[nltk_data]   Unzipping corpora/stopwords.zip.\n",
      "[nltk_data] Downloading package punkt to /root/nltk_data...\n",
      "[nltk_data]   Unzipping tokenizers/punkt.zip.\n",
      "[nltk_data] Downloading package punkt to /root/nltk_data...\n",
      "[nltk_data]   Package punkt is already up-to-date!\n"
     ]
    },
    {
     "data": {
      "text/plain": [
       "True"
      ]
     },
     "execution_count": 3,
     "metadata": {},
     "output_type": "execute_result"
    }
   ],
   "source": [
    "import numpy as np\n",
    "import pandas as pd\n",
    "import matplotlib.pyplot as plt\n",
    "import seaborn as sns\n",
    "from scipy import stats\n",
    "\n",
    "from tensorflow.keras.models import Sequential\n",
    "from tensorflow.keras.layers import Dense, Embedding,LSTM\n",
    "from tensorflow.keras.preprocessing.text import Tokenizer\n",
    "from keras.optimizers import Adam\n",
    "from keras.layers import Dropout\n",
    "from keras.utils import pad_sequences\n",
    "from tensorflow.python.keras.models import load_model\n",
    "import re\n",
    "import nltk\n",
    "nltk.download(\"stopwords\")\n",
    "nltk.download(\"punkt\")\n",
    "from nltk.corpus import stopwords\n",
    "nltk.download('punkt')"
   ]
  },
  {
   "cell_type": "code",
   "execution_count": 4,
   "metadata": {
    "colab": {
     "base_uri": "https://localhost:8080/"
    },
    "id": "eA1-SxqKRbP2",
    "outputId": "3d69e02c-16d5-4d5e-dab5-6da22de4b9b3"
   },
   "outputs": [
    {
     "name": "stdout",
     "output_type": "stream",
     "text": [
      "Mounted at /content/drive\n"
     ]
    }
   ],
   "source": [
    "from google.colab import drive\n",
    "drive.mount('/content/drive')"
   ]
  },
  {
   "cell_type": "code",
   "execution_count": 5,
   "metadata": {
    "execution": {
     "iopub.execute_input": "2021-03-28T19:10:56.121753Z",
     "iopub.status.busy": "2021-03-28T19:10:56.121041Z",
     "iopub.status.idle": "2021-03-28T19:10:57.701259Z",
     "shell.execute_reply": "2021-03-28T19:10:57.700341Z"
    },
    "id": "ifa_UKrGId7t",
    "papermill": {
     "duration": 1.617869,
     "end_time": "2021-03-28T19:10:57.701431",
     "exception": false,
     "start_time": "2021-03-28T19:10:56.083562",
     "status": "completed"
    },
    "tags": []
   },
   "outputs": [],
   "source": [
    "data = pd.read_csv(\"/content/drive/MyDrive/IMDB-Dataset.csv\")"
   ]
  },
  {
   "cell_type": "code",
   "execution_count": 6,
   "metadata": {
    "colab": {
     "base_uri": "https://localhost:8080/",
     "height": 206
    },
    "execution": {
     "iopub.execute_input": "2021-03-28T19:10:57.771969Z",
     "iopub.status.busy": "2021-03-28T19:10:57.770908Z",
     "iopub.status.idle": "2021-03-28T19:10:57.789371Z",
     "shell.execute_reply": "2021-03-28T19:10:57.789905Z"
    },
    "id": "OzrP7NRDId7u",
    "outputId": "48f439e1-2638-4ffb-b8be-b933b324da0c",
    "papermill": {
     "duration": 0.060306,
     "end_time": "2021-03-28T19:10:57.790155",
     "exception": false,
     "start_time": "2021-03-28T19:10:57.729849",
     "status": "completed"
    },
    "tags": []
   },
   "outputs": [
    {
     "data": {
      "text/html": [
       "\n",
       "  <div id=\"df-880bfb7c-f9d0-460e-89c3-d0bcbde793de\" class=\"colab-df-container\">\n",
       "    <div>\n",
       "<style scoped>\n",
       "    .dataframe tbody tr th:only-of-type {\n",
       "        vertical-align: middle;\n",
       "    }\n",
       "\n",
       "    .dataframe tbody tr th {\n",
       "        vertical-align: top;\n",
       "    }\n",
       "\n",
       "    .dataframe thead th {\n",
       "        text-align: right;\n",
       "    }\n",
       "</style>\n",
       "<table border=\"1\" class=\"dataframe\">\n",
       "  <thead>\n",
       "    <tr style=\"text-align: right;\">\n",
       "      <th></th>\n",
       "      <th>review</th>\n",
       "      <th>sentiment</th>\n",
       "    </tr>\n",
       "  </thead>\n",
       "  <tbody>\n",
       "    <tr>\n",
       "      <th>0</th>\n",
       "      <td>One of the other reviewers has mentioned that ...</td>\n",
       "      <td>positive</td>\n",
       "    </tr>\n",
       "    <tr>\n",
       "      <th>1</th>\n",
       "      <td>A wonderful little production. &lt;br /&gt;&lt;br /&gt;The...</td>\n",
       "      <td>positive</td>\n",
       "    </tr>\n",
       "    <tr>\n",
       "      <th>2</th>\n",
       "      <td>I thought this was a wonderful way to spend ti...</td>\n",
       "      <td>positive</td>\n",
       "    </tr>\n",
       "    <tr>\n",
       "      <th>3</th>\n",
       "      <td>Basically there's a family where a little boy ...</td>\n",
       "      <td>negative</td>\n",
       "    </tr>\n",
       "    <tr>\n",
       "      <th>4</th>\n",
       "      <td>Petter Mattei's \"Love in the Time of Money\" is...</td>\n",
       "      <td>positive</td>\n",
       "    </tr>\n",
       "  </tbody>\n",
       "</table>\n",
       "</div>\n",
       "    <div class=\"colab-df-buttons\">\n",
       "\n",
       "  <div class=\"colab-df-container\">\n",
       "    <button class=\"colab-df-convert\" onclick=\"convertToInteractive('df-880bfb7c-f9d0-460e-89c3-d0bcbde793de')\"\n",
       "            title=\"Convert this dataframe to an interactive table.\"\n",
       "            style=\"display:none;\">\n",
       "\n",
       "  <svg xmlns=\"http://www.w3.org/2000/svg\" height=\"24px\" viewBox=\"0 -960 960 960\">\n",
       "    <path d=\"M120-120v-720h720v720H120Zm60-500h600v-160H180v160Zm220 220h160v-160H400v160Zm0 220h160v-160H400v160ZM180-400h160v-160H180v160Zm440 0h160v-160H620v160ZM180-180h160v-160H180v160Zm440 0h160v-160H620v160Z\"/>\n",
       "  </svg>\n",
       "    </button>\n",
       "\n",
       "  <style>\n",
       "    .colab-df-container {\n",
       "      display:flex;\n",
       "      gap: 12px;\n",
       "    }\n",
       "\n",
       "    .colab-df-convert {\n",
       "      background-color: #E8F0FE;\n",
       "      border: none;\n",
       "      border-radius: 50%;\n",
       "      cursor: pointer;\n",
       "      display: none;\n",
       "      fill: #1967D2;\n",
       "      height: 32px;\n",
       "      padding: 0 0 0 0;\n",
       "      width: 32px;\n",
       "    }\n",
       "\n",
       "    .colab-df-convert:hover {\n",
       "      background-color: #E2EBFA;\n",
       "      box-shadow: 0px 1px 2px rgba(60, 64, 67, 0.3), 0px 1px 3px 1px rgba(60, 64, 67, 0.15);\n",
       "      fill: #174EA6;\n",
       "    }\n",
       "\n",
       "    .colab-df-buttons div {\n",
       "      margin-bottom: 4px;\n",
       "    }\n",
       "\n",
       "    [theme=dark] .colab-df-convert {\n",
       "      background-color: #3B4455;\n",
       "      fill: #D2E3FC;\n",
       "    }\n",
       "\n",
       "    [theme=dark] .colab-df-convert:hover {\n",
       "      background-color: #434B5C;\n",
       "      box-shadow: 0px 1px 3px 1px rgba(0, 0, 0, 0.15);\n",
       "      filter: drop-shadow(0px 1px 2px rgba(0, 0, 0, 0.3));\n",
       "      fill: #FFFFFF;\n",
       "    }\n",
       "  </style>\n",
       "\n",
       "    <script>\n",
       "      const buttonEl =\n",
       "        document.querySelector('#df-880bfb7c-f9d0-460e-89c3-d0bcbde793de button.colab-df-convert');\n",
       "      buttonEl.style.display =\n",
       "        google.colab.kernel.accessAllowed ? 'block' : 'none';\n",
       "\n",
       "      async function convertToInteractive(key) {\n",
       "        const element = document.querySelector('#df-880bfb7c-f9d0-460e-89c3-d0bcbde793de');\n",
       "        const dataTable =\n",
       "          await google.colab.kernel.invokeFunction('convertToInteractive',\n",
       "                                                    [key], {});\n",
       "        if (!dataTable) return;\n",
       "\n",
       "        const docLinkHtml = 'Like what you see? Visit the ' +\n",
       "          '<a target=\"_blank\" href=https://colab.research.google.com/notebooks/data_table.ipynb>data table notebook</a>'\n",
       "          + ' to learn more about interactive tables.';\n",
       "        element.innerHTML = '';\n",
       "        dataTable['output_type'] = 'display_data';\n",
       "        await google.colab.output.renderOutput(dataTable, element);\n",
       "        const docLink = document.createElement('div');\n",
       "        docLink.innerHTML = docLinkHtml;\n",
       "        element.appendChild(docLink);\n",
       "      }\n",
       "    </script>\n",
       "  </div>\n",
       "\n",
       "\n",
       "<div id=\"df-7d24b6d8-4e63-47be-bcdd-c8f09567f9aa\">\n",
       "  <button class=\"colab-df-quickchart\" onclick=\"quickchart('df-7d24b6d8-4e63-47be-bcdd-c8f09567f9aa')\"\n",
       "            title=\"Suggest charts.\"\n",
       "            style=\"display:none;\">\n",
       "\n",
       "<svg xmlns=\"http://www.w3.org/2000/svg\" height=\"24px\"viewBox=\"0 0 24 24\"\n",
       "     width=\"24px\">\n",
       "    <g>\n",
       "        <path d=\"M19 3H5c-1.1 0-2 .9-2 2v14c0 1.1.9 2 2 2h14c1.1 0 2-.9 2-2V5c0-1.1-.9-2-2-2zM9 17H7v-7h2v7zm4 0h-2V7h2v10zm4 0h-2v-4h2v4z\"/>\n",
       "    </g>\n",
       "</svg>\n",
       "  </button>\n",
       "\n",
       "<style>\n",
       "  .colab-df-quickchart {\n",
       "      --bg-color: #E8F0FE;\n",
       "      --fill-color: #1967D2;\n",
       "      --hover-bg-color: #E2EBFA;\n",
       "      --hover-fill-color: #174EA6;\n",
       "      --disabled-fill-color: #AAA;\n",
       "      --disabled-bg-color: #DDD;\n",
       "  }\n",
       "\n",
       "  [theme=dark] .colab-df-quickchart {\n",
       "      --bg-color: #3B4455;\n",
       "      --fill-color: #D2E3FC;\n",
       "      --hover-bg-color: #434B5C;\n",
       "      --hover-fill-color: #FFFFFF;\n",
       "      --disabled-bg-color: #3B4455;\n",
       "      --disabled-fill-color: #666;\n",
       "  }\n",
       "\n",
       "  .colab-df-quickchart {\n",
       "    background-color: var(--bg-color);\n",
       "    border: none;\n",
       "    border-radius: 50%;\n",
       "    cursor: pointer;\n",
       "    display: none;\n",
       "    fill: var(--fill-color);\n",
       "    height: 32px;\n",
       "    padding: 0;\n",
       "    width: 32px;\n",
       "  }\n",
       "\n",
       "  .colab-df-quickchart:hover {\n",
       "    background-color: var(--hover-bg-color);\n",
       "    box-shadow: 0 1px 2px rgba(60, 64, 67, 0.3), 0 1px 3px 1px rgba(60, 64, 67, 0.15);\n",
       "    fill: var(--button-hover-fill-color);\n",
       "  }\n",
       "\n",
       "  .colab-df-quickchart-complete:disabled,\n",
       "  .colab-df-quickchart-complete:disabled:hover {\n",
       "    background-color: var(--disabled-bg-color);\n",
       "    fill: var(--disabled-fill-color);\n",
       "    box-shadow: none;\n",
       "  }\n",
       "\n",
       "  .colab-df-spinner {\n",
       "    border: 2px solid var(--fill-color);\n",
       "    border-color: transparent;\n",
       "    border-bottom-color: var(--fill-color);\n",
       "    animation:\n",
       "      spin 1s steps(1) infinite;\n",
       "  }\n",
       "\n",
       "  @keyframes spin {\n",
       "    0% {\n",
       "      border-color: transparent;\n",
       "      border-bottom-color: var(--fill-color);\n",
       "      border-left-color: var(--fill-color);\n",
       "    }\n",
       "    20% {\n",
       "      border-color: transparent;\n",
       "      border-left-color: var(--fill-color);\n",
       "      border-top-color: var(--fill-color);\n",
       "    }\n",
       "    30% {\n",
       "      border-color: transparent;\n",
       "      border-left-color: var(--fill-color);\n",
       "      border-top-color: var(--fill-color);\n",
       "      border-right-color: var(--fill-color);\n",
       "    }\n",
       "    40% {\n",
       "      border-color: transparent;\n",
       "      border-right-color: var(--fill-color);\n",
       "      border-top-color: var(--fill-color);\n",
       "    }\n",
       "    60% {\n",
       "      border-color: transparent;\n",
       "      border-right-color: var(--fill-color);\n",
       "    }\n",
       "    80% {\n",
       "      border-color: transparent;\n",
       "      border-right-color: var(--fill-color);\n",
       "      border-bottom-color: var(--fill-color);\n",
       "    }\n",
       "    90% {\n",
       "      border-color: transparent;\n",
       "      border-bottom-color: var(--fill-color);\n",
       "    }\n",
       "  }\n",
       "</style>\n",
       "\n",
       "  <script>\n",
       "    async function quickchart(key) {\n",
       "      const quickchartButtonEl =\n",
       "        document.querySelector('#' + key + ' button');\n",
       "      quickchartButtonEl.disabled = true;  // To prevent multiple clicks.\n",
       "      quickchartButtonEl.classList.add('colab-df-spinner');\n",
       "      try {\n",
       "        const charts = await google.colab.kernel.invokeFunction(\n",
       "            'suggestCharts', [key], {});\n",
       "      } catch (error) {\n",
       "        console.error('Error during call to suggestCharts:', error);\n",
       "      }\n",
       "      quickchartButtonEl.classList.remove('colab-df-spinner');\n",
       "      quickchartButtonEl.classList.add('colab-df-quickchart-complete');\n",
       "    }\n",
       "    (() => {\n",
       "      let quickchartButtonEl =\n",
       "        document.querySelector('#df-7d24b6d8-4e63-47be-bcdd-c8f09567f9aa button');\n",
       "      quickchartButtonEl.style.display =\n",
       "        google.colab.kernel.accessAllowed ? 'block' : 'none';\n",
       "    })();\n",
       "  </script>\n",
       "</div>\n",
       "    </div>\n",
       "  </div>\n"
      ],
      "text/plain": [
       "                                              review sentiment\n",
       "0  One of the other reviewers has mentioned that ...  positive\n",
       "1  A wonderful little production. <br /><br />The...  positive\n",
       "2  I thought this was a wonderful way to spend ti...  positive\n",
       "3  Basically there's a family where a little boy ...  negative\n",
       "4  Petter Mattei's \"Love in the Time of Money\" is...  positive"
      ]
     },
     "execution_count": 6,
     "metadata": {},
     "output_type": "execute_result"
    }
   ],
   "source": [
    "# we are browsing the data\n",
    "data.head()"
   ]
  },
  {
   "cell_type": "code",
   "execution_count": 7,
   "metadata": {
    "colab": {
     "base_uri": "https://localhost:8080/"
    },
    "execution": {
     "iopub.execute_input": "2021-03-28T19:10:57.854309Z",
     "iopub.status.busy": "2021-03-28T19:10:57.853358Z",
     "iopub.status.idle": "2021-03-28T19:10:57.858305Z",
     "shell.execute_reply": "2021-03-28T19:10:57.857767Z"
    },
    "id": "fu78ykViId7w",
    "outputId": "77a57741-5621-43c1-ed9b-680b6290e457",
    "papermill": {
     "duration": 0.038898,
     "end_time": "2021-03-28T19:10:57.858437",
     "exception": false,
     "start_time": "2021-03-28T19:10:57.819539",
     "status": "completed"
    },
    "tags": []
   },
   "outputs": [
    {
     "data": {
      "text/plain": [
       "Index(['review', 'sentiment'], dtype='object')"
      ]
     },
     "execution_count": 7,
     "metadata": {},
     "output_type": "execute_result"
    }
   ],
   "source": [
    "# the columns\n",
    "data.columns"
   ]
  },
  {
   "cell_type": "code",
   "execution_count": 8,
   "metadata": {
    "colab": {
     "base_uri": "https://localhost:8080/"
    },
    "execution": {
     "iopub.execute_input": "2021-03-28T19:10:57.922871Z",
     "iopub.status.busy": "2021-03-28T19:10:57.922030Z",
     "iopub.status.idle": "2021-03-28T19:10:57.924822Z",
     "shell.execute_reply": "2021-03-28T19:10:57.925326Z"
    },
    "id": "AoUlEB-dId7y",
    "outputId": "0a58667e-6ff0-4cfb-a7d0-59ffc811b293",
    "papermill": {
     "duration": 0.037673,
     "end_time": "2021-03-28T19:10:57.925508",
     "exception": false,
     "start_time": "2021-03-28T19:10:57.887835",
     "status": "completed"
    },
    "tags": []
   },
   "outputs": [
    {
     "data": {
      "text/plain": [
       "(50000, 2)"
      ]
     },
     "execution_count": 8,
     "metadata": {},
     "output_type": "execute_result"
    }
   ],
   "source": [
    "data.shape"
   ]
  },
  {
   "cell_type": "code",
   "execution_count": 9,
   "metadata": {
    "colab": {
     "base_uri": "https://localhost:8080/"
    },
    "execution": {
     "iopub.execute_input": "2021-03-28T19:10:57.988484Z",
     "iopub.status.busy": "2021-03-28T19:10:57.987867Z",
     "iopub.status.idle": "2021-03-28T19:10:58.019062Z",
     "shell.execute_reply": "2021-03-28T19:10:58.018386Z"
    },
    "id": "G1v9B1TLId7y",
    "outputId": "776575c8-b682-404e-fb5d-5986c881e586",
    "papermill": {
     "duration": 0.063606,
     "end_time": "2021-03-28T19:10:58.019212",
     "exception": false,
     "start_time": "2021-03-28T19:10:57.955606",
     "status": "completed"
    },
    "tags": []
   },
   "outputs": [
    {
     "name": "stdout",
     "output_type": "stream",
     "text": [
      "<class 'pandas.core.frame.DataFrame'>\n",
      "RangeIndex: 50000 entries, 0 to 49999\n",
      "Data columns (total 2 columns):\n",
      " #   Column     Non-Null Count  Dtype \n",
      "---  ------     --------------  ----- \n",
      " 0   review     50000 non-null  object\n",
      " 1   sentiment  50000 non-null  object\n",
      "dtypes: object(2)\n",
      "memory usage: 781.4+ KB\n"
     ]
    }
   ],
   "source": [
    "data.info()"
   ]
  },
  {
   "cell_type": "code",
   "execution_count": 10,
   "metadata": {
    "colab": {
     "base_uri": "https://localhost:8080/",
     "height": 175
    },
    "execution": {
     "iopub.execute_input": "2021-03-28T19:10:58.150727Z",
     "iopub.status.busy": "2021-03-28T19:10:58.150023Z",
     "iopub.status.idle": "2021-03-28T19:10:58.308482Z",
     "shell.execute_reply": "2021-03-28T19:10:58.309668Z"
    },
    "id": "UiWjFgugId70",
    "outputId": "36f3e7a7-3f0b-48f5-c78e-ad436a8e5d1d",
    "papermill": {
     "duration": 0.195755,
     "end_time": "2021-03-28T19:10:58.309848",
     "exception": false,
     "start_time": "2021-03-28T19:10:58.114093",
     "status": "completed"
    },
    "tags": []
   },
   "outputs": [
    {
     "data": {
      "text/html": [
       "\n",
       "  <div id=\"df-7ab0d63f-17cb-4e31-96bf-00dd180a07ce\" class=\"colab-df-container\">\n",
       "    <div>\n",
       "<style scoped>\n",
       "    .dataframe tbody tr th:only-of-type {\n",
       "        vertical-align: middle;\n",
       "    }\n",
       "\n",
       "    .dataframe tbody tr th {\n",
       "        vertical-align: top;\n",
       "    }\n",
       "\n",
       "    .dataframe thead th {\n",
       "        text-align: right;\n",
       "    }\n",
       "</style>\n",
       "<table border=\"1\" class=\"dataframe\">\n",
       "  <thead>\n",
       "    <tr style=\"text-align: right;\">\n",
       "      <th></th>\n",
       "      <th>review</th>\n",
       "      <th>sentiment</th>\n",
       "    </tr>\n",
       "  </thead>\n",
       "  <tbody>\n",
       "    <tr>\n",
       "      <th>count</th>\n",
       "      <td>50000</td>\n",
       "      <td>50000</td>\n",
       "    </tr>\n",
       "    <tr>\n",
       "      <th>unique</th>\n",
       "      <td>49582</td>\n",
       "      <td>2</td>\n",
       "    </tr>\n",
       "    <tr>\n",
       "      <th>top</th>\n",
       "      <td>Loved today's show!!! It was a variety and not...</td>\n",
       "      <td>positive</td>\n",
       "    </tr>\n",
       "    <tr>\n",
       "      <th>freq</th>\n",
       "      <td>5</td>\n",
       "      <td>25000</td>\n",
       "    </tr>\n",
       "  </tbody>\n",
       "</table>\n",
       "</div>\n",
       "    <div class=\"colab-df-buttons\">\n",
       "\n",
       "  <div class=\"colab-df-container\">\n",
       "    <button class=\"colab-df-convert\" onclick=\"convertToInteractive('df-7ab0d63f-17cb-4e31-96bf-00dd180a07ce')\"\n",
       "            title=\"Convert this dataframe to an interactive table.\"\n",
       "            style=\"display:none;\">\n",
       "\n",
       "  <svg xmlns=\"http://www.w3.org/2000/svg\" height=\"24px\" viewBox=\"0 -960 960 960\">\n",
       "    <path d=\"M120-120v-720h720v720H120Zm60-500h600v-160H180v160Zm220 220h160v-160H400v160Zm0 220h160v-160H400v160ZM180-400h160v-160H180v160Zm440 0h160v-160H620v160ZM180-180h160v-160H180v160Zm440 0h160v-160H620v160Z\"/>\n",
       "  </svg>\n",
       "    </button>\n",
       "\n",
       "  <style>\n",
       "    .colab-df-container {\n",
       "      display:flex;\n",
       "      gap: 12px;\n",
       "    }\n",
       "\n",
       "    .colab-df-convert {\n",
       "      background-color: #E8F0FE;\n",
       "      border: none;\n",
       "      border-radius: 50%;\n",
       "      cursor: pointer;\n",
       "      display: none;\n",
       "      fill: #1967D2;\n",
       "      height: 32px;\n",
       "      padding: 0 0 0 0;\n",
       "      width: 32px;\n",
       "    }\n",
       "\n",
       "    .colab-df-convert:hover {\n",
       "      background-color: #E2EBFA;\n",
       "      box-shadow: 0px 1px 2px rgba(60, 64, 67, 0.3), 0px 1px 3px 1px rgba(60, 64, 67, 0.15);\n",
       "      fill: #174EA6;\n",
       "    }\n",
       "\n",
       "    .colab-df-buttons div {\n",
       "      margin-bottom: 4px;\n",
       "    }\n",
       "\n",
       "    [theme=dark] .colab-df-convert {\n",
       "      background-color: #3B4455;\n",
       "      fill: #D2E3FC;\n",
       "    }\n",
       "\n",
       "    [theme=dark] .colab-df-convert:hover {\n",
       "      background-color: #434B5C;\n",
       "      box-shadow: 0px 1px 3px 1px rgba(0, 0, 0, 0.15);\n",
       "      filter: drop-shadow(0px 1px 2px rgba(0, 0, 0, 0.3));\n",
       "      fill: #FFFFFF;\n",
       "    }\n",
       "  </style>\n",
       "\n",
       "    <script>\n",
       "      const buttonEl =\n",
       "        document.querySelector('#df-7ab0d63f-17cb-4e31-96bf-00dd180a07ce button.colab-df-convert');\n",
       "      buttonEl.style.display =\n",
       "        google.colab.kernel.accessAllowed ? 'block' : 'none';\n",
       "\n",
       "      async function convertToInteractive(key) {\n",
       "        const element = document.querySelector('#df-7ab0d63f-17cb-4e31-96bf-00dd180a07ce');\n",
       "        const dataTable =\n",
       "          await google.colab.kernel.invokeFunction('convertToInteractive',\n",
       "                                                    [key], {});\n",
       "        if (!dataTable) return;\n",
       "\n",
       "        const docLinkHtml = 'Like what you see? Visit the ' +\n",
       "          '<a target=\"_blank\" href=https://colab.research.google.com/notebooks/data_table.ipynb>data table notebook</a>'\n",
       "          + ' to learn more about interactive tables.';\n",
       "        element.innerHTML = '';\n",
       "        dataTable['output_type'] = 'display_data';\n",
       "        await google.colab.output.renderOutput(dataTable, element);\n",
       "        const docLink = document.createElement('div');\n",
       "        docLink.innerHTML = docLinkHtml;\n",
       "        element.appendChild(docLink);\n",
       "      }\n",
       "    </script>\n",
       "  </div>\n",
       "\n",
       "\n",
       "<div id=\"df-26e0742d-742f-4f0b-a929-98004cb99228\">\n",
       "  <button class=\"colab-df-quickchart\" onclick=\"quickchart('df-26e0742d-742f-4f0b-a929-98004cb99228')\"\n",
       "            title=\"Suggest charts.\"\n",
       "            style=\"display:none;\">\n",
       "\n",
       "<svg xmlns=\"http://www.w3.org/2000/svg\" height=\"24px\"viewBox=\"0 0 24 24\"\n",
       "     width=\"24px\">\n",
       "    <g>\n",
       "        <path d=\"M19 3H5c-1.1 0-2 .9-2 2v14c0 1.1.9 2 2 2h14c1.1 0 2-.9 2-2V5c0-1.1-.9-2-2-2zM9 17H7v-7h2v7zm4 0h-2V7h2v10zm4 0h-2v-4h2v4z\"/>\n",
       "    </g>\n",
       "</svg>\n",
       "  </button>\n",
       "\n",
       "<style>\n",
       "  .colab-df-quickchart {\n",
       "      --bg-color: #E8F0FE;\n",
       "      --fill-color: #1967D2;\n",
       "      --hover-bg-color: #E2EBFA;\n",
       "      --hover-fill-color: #174EA6;\n",
       "      --disabled-fill-color: #AAA;\n",
       "      --disabled-bg-color: #DDD;\n",
       "  }\n",
       "\n",
       "  [theme=dark] .colab-df-quickchart {\n",
       "      --bg-color: #3B4455;\n",
       "      --fill-color: #D2E3FC;\n",
       "      --hover-bg-color: #434B5C;\n",
       "      --hover-fill-color: #FFFFFF;\n",
       "      --disabled-bg-color: #3B4455;\n",
       "      --disabled-fill-color: #666;\n",
       "  }\n",
       "\n",
       "  .colab-df-quickchart {\n",
       "    background-color: var(--bg-color);\n",
       "    border: none;\n",
       "    border-radius: 50%;\n",
       "    cursor: pointer;\n",
       "    display: none;\n",
       "    fill: var(--fill-color);\n",
       "    height: 32px;\n",
       "    padding: 0;\n",
       "    width: 32px;\n",
       "  }\n",
       "\n",
       "  .colab-df-quickchart:hover {\n",
       "    background-color: var(--hover-bg-color);\n",
       "    box-shadow: 0 1px 2px rgba(60, 64, 67, 0.3), 0 1px 3px 1px rgba(60, 64, 67, 0.15);\n",
       "    fill: var(--button-hover-fill-color);\n",
       "  }\n",
       "\n",
       "  .colab-df-quickchart-complete:disabled,\n",
       "  .colab-df-quickchart-complete:disabled:hover {\n",
       "    background-color: var(--disabled-bg-color);\n",
       "    fill: var(--disabled-fill-color);\n",
       "    box-shadow: none;\n",
       "  }\n",
       "\n",
       "  .colab-df-spinner {\n",
       "    border: 2px solid var(--fill-color);\n",
       "    border-color: transparent;\n",
       "    border-bottom-color: var(--fill-color);\n",
       "    animation:\n",
       "      spin 1s steps(1) infinite;\n",
       "  }\n",
       "\n",
       "  @keyframes spin {\n",
       "    0% {\n",
       "      border-color: transparent;\n",
       "      border-bottom-color: var(--fill-color);\n",
       "      border-left-color: var(--fill-color);\n",
       "    }\n",
       "    20% {\n",
       "      border-color: transparent;\n",
       "      border-left-color: var(--fill-color);\n",
       "      border-top-color: var(--fill-color);\n",
       "    }\n",
       "    30% {\n",
       "      border-color: transparent;\n",
       "      border-left-color: var(--fill-color);\n",
       "      border-top-color: var(--fill-color);\n",
       "      border-right-color: var(--fill-color);\n",
       "    }\n",
       "    40% {\n",
       "      border-color: transparent;\n",
       "      border-right-color: var(--fill-color);\n",
       "      border-top-color: var(--fill-color);\n",
       "    }\n",
       "    60% {\n",
       "      border-color: transparent;\n",
       "      border-right-color: var(--fill-color);\n",
       "    }\n",
       "    80% {\n",
       "      border-color: transparent;\n",
       "      border-right-color: var(--fill-color);\n",
       "      border-bottom-color: var(--fill-color);\n",
       "    }\n",
       "    90% {\n",
       "      border-color: transparent;\n",
       "      border-bottom-color: var(--fill-color);\n",
       "    }\n",
       "  }\n",
       "</style>\n",
       "\n",
       "  <script>\n",
       "    async function quickchart(key) {\n",
       "      const quickchartButtonEl =\n",
       "        document.querySelector('#' + key + ' button');\n",
       "      quickchartButtonEl.disabled = true;  // To prevent multiple clicks.\n",
       "      quickchartButtonEl.classList.add('colab-df-spinner');\n",
       "      try {\n",
       "        const charts = await google.colab.kernel.invokeFunction(\n",
       "            'suggestCharts', [key], {});\n",
       "      } catch (error) {\n",
       "        console.error('Error during call to suggestCharts:', error);\n",
       "      }\n",
       "      quickchartButtonEl.classList.remove('colab-df-spinner');\n",
       "      quickchartButtonEl.classList.add('colab-df-quickchart-complete');\n",
       "    }\n",
       "    (() => {\n",
       "      let quickchartButtonEl =\n",
       "        document.querySelector('#df-26e0742d-742f-4f0b-a929-98004cb99228 button');\n",
       "      quickchartButtonEl.style.display =\n",
       "        google.colab.kernel.accessAllowed ? 'block' : 'none';\n",
       "    })();\n",
       "  </script>\n",
       "</div>\n",
       "    </div>\n",
       "  </div>\n"
      ],
      "text/plain": [
       "                                                   review sentiment\n",
       "count                                               50000     50000\n",
       "unique                                              49582         2\n",
       "top     Loved today's show!!! It was a variety and not...  positive\n",
       "freq                                                    5     25000"
      ]
     },
     "execution_count": 10,
     "metadata": {},
     "output_type": "execute_result"
    }
   ],
   "source": [
    "data.describe()"
   ]
  },
  {
   "cell_type": "code",
   "execution_count": 13,
   "metadata": {
    "colab": {
     "base_uri": "https://localhost:8080/"
    },
    "execution": {
     "iopub.execute_input": "2021-03-28T19:10:58.383405Z",
     "iopub.status.busy": "2021-03-28T19:10:58.382744Z",
     "iopub.status.idle": "2021-03-28T19:10:58.583415Z",
     "shell.execute_reply": "2021-03-28T19:10:58.582901Z"
    },
    "id": "zOPLQ7VHId71",
    "outputId": "43b9992d-6f37-42b5-97ab-470331638693",
    "papermill": {
     "duration": 0.241918,
     "end_time": "2021-03-28T19:10:58.583554",
     "exception": false,
     "start_time": "2021-03-28T19:10:58.341636",
     "status": "completed"
    },
    "tags": []
   },
   "outputs": [
    {
     "name": "stdout",
     "output_type": "stream",
     "text": [
      "positive    25000\n",
      "negative    25000\n",
      "Name: sentiment, dtype: int64\n"
     ]
    }
   ],
   "source": [
    "print(data.sentiment.value_counts())"
   ]
  },
  {
   "cell_type": "code",
   "execution_count": 14,
   "metadata": {
    "execution": {
     "iopub.execute_input": "2021-03-28T19:10:58.749115Z",
     "iopub.status.busy": "2021-03-28T19:10:58.724541Z",
     "iopub.status.idle": "2021-03-28T19:10:58.754562Z",
     "shell.execute_reply": "2021-03-28T19:10:58.753990Z"
    },
    "id": "3DxFDQDVId72",
    "papermill": {
     "duration": 0.075879,
     "end_time": "2021-03-28T19:10:58.754724",
     "exception": false,
     "start_time": "2021-03-28T19:10:58.678845",
     "status": "completed"
    },
    "tags": []
   },
   "outputs": [],
   "source": [
    "data.sentiment = [ 1 if each == \"positive\" else 0 for each in data.sentiment]"
   ]
  },
  {
   "cell_type": "code",
   "execution_count": 15,
   "metadata": {
    "colab": {
     "base_uri": "https://localhost:8080/",
     "height": 206
    },
    "execution": {
     "iopub.execute_input": "2021-03-28T19:10:58.890761Z",
     "iopub.status.busy": "2021-03-28T19:10:58.890027Z",
     "iopub.status.idle": "2021-03-28T19:10:58.893657Z",
     "shell.execute_reply": "2021-03-28T19:10:58.893129Z"
    },
    "id": "Z3PfF24sId73",
    "outputId": "12b7d766-f467-40c7-9009-eb56c6c24196",
    "papermill": {
     "duration": 0.04402,
     "end_time": "2021-03-28T19:10:58.893794",
     "exception": false,
     "start_time": "2021-03-28T19:10:58.849774",
     "status": "completed"
    },
    "tags": []
   },
   "outputs": [
    {
     "data": {
      "text/html": [
       "\n",
       "  <div id=\"df-e8cd1d67-84fa-447d-a3f8-2009f40c04f9\" class=\"colab-df-container\">\n",
       "    <div>\n",
       "<style scoped>\n",
       "    .dataframe tbody tr th:only-of-type {\n",
       "        vertical-align: middle;\n",
       "    }\n",
       "\n",
       "    .dataframe tbody tr th {\n",
       "        vertical-align: top;\n",
       "    }\n",
       "\n",
       "    .dataframe thead th {\n",
       "        text-align: right;\n",
       "    }\n",
       "</style>\n",
       "<table border=\"1\" class=\"dataframe\">\n",
       "  <thead>\n",
       "    <tr style=\"text-align: right;\">\n",
       "      <th></th>\n",
       "      <th>review</th>\n",
       "      <th>sentiment</th>\n",
       "    </tr>\n",
       "  </thead>\n",
       "  <tbody>\n",
       "    <tr>\n",
       "      <th>0</th>\n",
       "      <td>One of the other reviewers has mentioned that ...</td>\n",
       "      <td>1</td>\n",
       "    </tr>\n",
       "    <tr>\n",
       "      <th>1</th>\n",
       "      <td>A wonderful little production. &lt;br /&gt;&lt;br /&gt;The...</td>\n",
       "      <td>1</td>\n",
       "    </tr>\n",
       "    <tr>\n",
       "      <th>2</th>\n",
       "      <td>I thought this was a wonderful way to spend ti...</td>\n",
       "      <td>1</td>\n",
       "    </tr>\n",
       "    <tr>\n",
       "      <th>3</th>\n",
       "      <td>Basically there's a family where a little boy ...</td>\n",
       "      <td>0</td>\n",
       "    </tr>\n",
       "    <tr>\n",
       "      <th>4</th>\n",
       "      <td>Petter Mattei's \"Love in the Time of Money\" is...</td>\n",
       "      <td>1</td>\n",
       "    </tr>\n",
       "  </tbody>\n",
       "</table>\n",
       "</div>\n",
       "    <div class=\"colab-df-buttons\">\n",
       "\n",
       "  <div class=\"colab-df-container\">\n",
       "    <button class=\"colab-df-convert\" onclick=\"convertToInteractive('df-e8cd1d67-84fa-447d-a3f8-2009f40c04f9')\"\n",
       "            title=\"Convert this dataframe to an interactive table.\"\n",
       "            style=\"display:none;\">\n",
       "\n",
       "  <svg xmlns=\"http://www.w3.org/2000/svg\" height=\"24px\" viewBox=\"0 -960 960 960\">\n",
       "    <path d=\"M120-120v-720h720v720H120Zm60-500h600v-160H180v160Zm220 220h160v-160H400v160Zm0 220h160v-160H400v160ZM180-400h160v-160H180v160Zm440 0h160v-160H620v160ZM180-180h160v-160H180v160Zm440 0h160v-160H620v160Z\"/>\n",
       "  </svg>\n",
       "    </button>\n",
       "\n",
       "  <style>\n",
       "    .colab-df-container {\n",
       "      display:flex;\n",
       "      gap: 12px;\n",
       "    }\n",
       "\n",
       "    .colab-df-convert {\n",
       "      background-color: #E8F0FE;\n",
       "      border: none;\n",
       "      border-radius: 50%;\n",
       "      cursor: pointer;\n",
       "      display: none;\n",
       "      fill: #1967D2;\n",
       "      height: 32px;\n",
       "      padding: 0 0 0 0;\n",
       "      width: 32px;\n",
       "    }\n",
       "\n",
       "    .colab-df-convert:hover {\n",
       "      background-color: #E2EBFA;\n",
       "      box-shadow: 0px 1px 2px rgba(60, 64, 67, 0.3), 0px 1px 3px 1px rgba(60, 64, 67, 0.15);\n",
       "      fill: #174EA6;\n",
       "    }\n",
       "\n",
       "    .colab-df-buttons div {\n",
       "      margin-bottom: 4px;\n",
       "    }\n",
       "\n",
       "    [theme=dark] .colab-df-convert {\n",
       "      background-color: #3B4455;\n",
       "      fill: #D2E3FC;\n",
       "    }\n",
       "\n",
       "    [theme=dark] .colab-df-convert:hover {\n",
       "      background-color: #434B5C;\n",
       "      box-shadow: 0px 1px 3px 1px rgba(0, 0, 0, 0.15);\n",
       "      filter: drop-shadow(0px 1px 2px rgba(0, 0, 0, 0.3));\n",
       "      fill: #FFFFFF;\n",
       "    }\n",
       "  </style>\n",
       "\n",
       "    <script>\n",
       "      const buttonEl =\n",
       "        document.querySelector('#df-e8cd1d67-84fa-447d-a3f8-2009f40c04f9 button.colab-df-convert');\n",
       "      buttonEl.style.display =\n",
       "        google.colab.kernel.accessAllowed ? 'block' : 'none';\n",
       "\n",
       "      async function convertToInteractive(key) {\n",
       "        const element = document.querySelector('#df-e8cd1d67-84fa-447d-a3f8-2009f40c04f9');\n",
       "        const dataTable =\n",
       "          await google.colab.kernel.invokeFunction('convertToInteractive',\n",
       "                                                    [key], {});\n",
       "        if (!dataTable) return;\n",
       "\n",
       "        const docLinkHtml = 'Like what you see? Visit the ' +\n",
       "          '<a target=\"_blank\" href=https://colab.research.google.com/notebooks/data_table.ipynb>data table notebook</a>'\n",
       "          + ' to learn more about interactive tables.';\n",
       "        element.innerHTML = '';\n",
       "        dataTable['output_type'] = 'display_data';\n",
       "        await google.colab.output.renderOutput(dataTable, element);\n",
       "        const docLink = document.createElement('div');\n",
       "        docLink.innerHTML = docLinkHtml;\n",
       "        element.appendChild(docLink);\n",
       "      }\n",
       "    </script>\n",
       "  </div>\n",
       "\n",
       "\n",
       "<div id=\"df-76815052-d80d-4b64-9fa9-c700061f775e\">\n",
       "  <button class=\"colab-df-quickchart\" onclick=\"quickchart('df-76815052-d80d-4b64-9fa9-c700061f775e')\"\n",
       "            title=\"Suggest charts.\"\n",
       "            style=\"display:none;\">\n",
       "\n",
       "<svg xmlns=\"http://www.w3.org/2000/svg\" height=\"24px\"viewBox=\"0 0 24 24\"\n",
       "     width=\"24px\">\n",
       "    <g>\n",
       "        <path d=\"M19 3H5c-1.1 0-2 .9-2 2v14c0 1.1.9 2 2 2h14c1.1 0 2-.9 2-2V5c0-1.1-.9-2-2-2zM9 17H7v-7h2v7zm4 0h-2V7h2v10zm4 0h-2v-4h2v4z\"/>\n",
       "    </g>\n",
       "</svg>\n",
       "  </button>\n",
       "\n",
       "<style>\n",
       "  .colab-df-quickchart {\n",
       "      --bg-color: #E8F0FE;\n",
       "      --fill-color: #1967D2;\n",
       "      --hover-bg-color: #E2EBFA;\n",
       "      --hover-fill-color: #174EA6;\n",
       "      --disabled-fill-color: #AAA;\n",
       "      --disabled-bg-color: #DDD;\n",
       "  }\n",
       "\n",
       "  [theme=dark] .colab-df-quickchart {\n",
       "      --bg-color: #3B4455;\n",
       "      --fill-color: #D2E3FC;\n",
       "      --hover-bg-color: #434B5C;\n",
       "      --hover-fill-color: #FFFFFF;\n",
       "      --disabled-bg-color: #3B4455;\n",
       "      --disabled-fill-color: #666;\n",
       "  }\n",
       "\n",
       "  .colab-df-quickchart {\n",
       "    background-color: var(--bg-color);\n",
       "    border: none;\n",
       "    border-radius: 50%;\n",
       "    cursor: pointer;\n",
       "    display: none;\n",
       "    fill: var(--fill-color);\n",
       "    height: 32px;\n",
       "    padding: 0;\n",
       "    width: 32px;\n",
       "  }\n",
       "\n",
       "  .colab-df-quickchart:hover {\n",
       "    background-color: var(--hover-bg-color);\n",
       "    box-shadow: 0 1px 2px rgba(60, 64, 67, 0.3), 0 1px 3px 1px rgba(60, 64, 67, 0.15);\n",
       "    fill: var(--button-hover-fill-color);\n",
       "  }\n",
       "\n",
       "  .colab-df-quickchart-complete:disabled,\n",
       "  .colab-df-quickchart-complete:disabled:hover {\n",
       "    background-color: var(--disabled-bg-color);\n",
       "    fill: var(--disabled-fill-color);\n",
       "    box-shadow: none;\n",
       "  }\n",
       "\n",
       "  .colab-df-spinner {\n",
       "    border: 2px solid var(--fill-color);\n",
       "    border-color: transparent;\n",
       "    border-bottom-color: var(--fill-color);\n",
       "    animation:\n",
       "      spin 1s steps(1) infinite;\n",
       "  }\n",
       "\n",
       "  @keyframes spin {\n",
       "    0% {\n",
       "      border-color: transparent;\n",
       "      border-bottom-color: var(--fill-color);\n",
       "      border-left-color: var(--fill-color);\n",
       "    }\n",
       "    20% {\n",
       "      border-color: transparent;\n",
       "      border-left-color: var(--fill-color);\n",
       "      border-top-color: var(--fill-color);\n",
       "    }\n",
       "    30% {\n",
       "      border-color: transparent;\n",
       "      border-left-color: var(--fill-color);\n",
       "      border-top-color: var(--fill-color);\n",
       "      border-right-color: var(--fill-color);\n",
       "    }\n",
       "    40% {\n",
       "      border-color: transparent;\n",
       "      border-right-color: var(--fill-color);\n",
       "      border-top-color: var(--fill-color);\n",
       "    }\n",
       "    60% {\n",
       "      border-color: transparent;\n",
       "      border-right-color: var(--fill-color);\n",
       "    }\n",
       "    80% {\n",
       "      border-color: transparent;\n",
       "      border-right-color: var(--fill-color);\n",
       "      border-bottom-color: var(--fill-color);\n",
       "    }\n",
       "    90% {\n",
       "      border-color: transparent;\n",
       "      border-bottom-color: var(--fill-color);\n",
       "    }\n",
       "  }\n",
       "</style>\n",
       "\n",
       "  <script>\n",
       "    async function quickchart(key) {\n",
       "      const quickchartButtonEl =\n",
       "        document.querySelector('#' + key + ' button');\n",
       "      quickchartButtonEl.disabled = true;  // To prevent multiple clicks.\n",
       "      quickchartButtonEl.classList.add('colab-df-spinner');\n",
       "      try {\n",
       "        const charts = await google.colab.kernel.invokeFunction(\n",
       "            'suggestCharts', [key], {});\n",
       "      } catch (error) {\n",
       "        console.error('Error during call to suggestCharts:', error);\n",
       "      }\n",
       "      quickchartButtonEl.classList.remove('colab-df-spinner');\n",
       "      quickchartButtonEl.classList.add('colab-df-quickchart-complete');\n",
       "    }\n",
       "    (() => {\n",
       "      let quickchartButtonEl =\n",
       "        document.querySelector('#df-76815052-d80d-4b64-9fa9-c700061f775e button');\n",
       "      quickchartButtonEl.style.display =\n",
       "        google.colab.kernel.accessAllowed ? 'block' : 'none';\n",
       "    })();\n",
       "  </script>\n",
       "</div>\n",
       "    </div>\n",
       "  </div>\n"
      ],
      "text/plain": [
       "                                              review  sentiment\n",
       "0  One of the other reviewers has mentioned that ...          1\n",
       "1  A wonderful little production. <br /><br />The...          1\n",
       "2  I thought this was a wonderful way to spend ti...          1\n",
       "3  Basically there's a family where a little boy ...          0\n",
       "4  Petter Mattei's \"Love in the Time of Money\" is...          1"
      ]
     },
     "execution_count": 15,
     "metadata": {},
     "output_type": "execute_result"
    }
   ],
   "source": [
    "data.head()"
   ]
  },
  {
   "cell_type": "code",
   "execution_count": 16,
   "metadata": {
    "_kg_hide-output": false,
    "execution": {
     "iopub.execute_input": "2021-03-28T19:10:59.031121Z",
     "iopub.status.busy": "2021-03-28T19:10:59.030028Z",
     "iopub.status.idle": "2021-03-28T19:10:59.034780Z",
     "shell.execute_reply": "2021-03-28T19:10:59.034192Z"
    },
    "id": "CCk73w0UId75",
    "papermill": {
     "duration": 0.043128,
     "end_time": "2021-03-28T19:10:59.034946",
     "exception": false,
     "start_time": "2021-03-28T19:10:58.991818",
     "status": "completed"
    },
    "tags": []
   },
   "outputs": [],
   "source": [
    "WPT = nltk.WordPunctTokenizer()\n",
    "stop_word_list = nltk.corpus.stopwords.words('english')"
   ]
  },
  {
   "cell_type": "code",
   "execution_count": 17,
   "metadata": {
    "execution": {
     "iopub.execute_input": "2021-03-28T19:10:59.180924Z",
     "iopub.status.busy": "2021-03-28T19:10:59.175494Z",
     "iopub.status.idle": "2021-03-28T19:11:06.831125Z",
     "shell.execute_reply": "2021-03-28T19:11:06.830554Z"
    },
    "id": "8fc3HIhDId76",
    "papermill": {
     "duration": 7.697249,
     "end_time": "2021-03-28T19:11:06.831262",
     "exception": false,
     "start_time": "2021-03-28T19:10:59.134013",
     "status": "completed"
    },
    "tags": []
   },
   "outputs": [],
   "source": [
    "data['review'] = data['review'].apply(lambda x: re.sub('[,\\.!?:()\"]', '', x))\n",
    "data['review'] = data['review'].apply(lambda x: re.sub('[^a-zA-Z\"]', ' ', x))\n",
    "\n",
    "data['review'] = data['review'].apply(lambda x: x.lower())\n",
    "\n",
    "data['review'] = data['review'].apply(lambda x: x.strip())\n",
    "\n",
    "def token(values):\n",
    "  words = nltk.tokenize.word_tokenize(values)\n",
    "  filtered_words = [word for word in words if word not in set(stopwords.words(\"english\"))]\n",
    "  not_stopword_doc = \" \".join(filtered_words)\n",
    "  return not_stopword_doc\n",
    "data['review'] = data['review'].apply(lambda x: token(x))"
   ]
  },
  {
   "cell_type": "code",
   "execution_count": 18,
   "metadata": {
    "colab": {
     "base_uri": "https://localhost:8080/"
    },
    "execution": {
     "iopub.execute_input": "2021-03-28T19:11:06.968887Z",
     "iopub.status.busy": "2021-03-28T19:11:06.967966Z",
     "iopub.status.idle": "2021-03-28T19:11:06.972451Z",
     "shell.execute_reply": "2021-03-28T19:11:06.971816Z"
    },
    "id": "OwIHotuvId77",
    "outputId": "fe5f51b5-9908-4344-c8fa-db504cfd6d8f",
    "papermill": {
     "duration": 0.043122,
     "end_time": "2021-03-28T19:11:06.972587",
     "exception": false,
     "start_time": "2021-03-28T19:11:06.929465",
     "status": "completed"
    },
    "tags": []
   },
   "outputs": [
    {
     "data": {
      "text/plain": [
       "array([1, 1, 1, ..., 0, 0, 0])"
      ]
     },
     "execution_count": 18,
     "metadata": {},
     "output_type": "execute_result"
    }
   ],
   "source": [
    "sentiment = data['sentiment'].values\n",
    "sentiment"
   ]
  },
  {
   "cell_type": "code",
   "execution_count": 19,
   "metadata": {
    "execution": {
     "iopub.execute_input": "2021-03-28T19:11:07.045241Z",
     "iopub.status.busy": "2021-03-28T19:11:07.044293Z",
     "iopub.status.idle": "2021-03-28T19:11:07.047817Z",
     "shell.execute_reply": "2021-03-28T19:11:07.046814Z"
    },
    "id": "iR5GJz2VId79",
    "papermill": {
     "duration": 0.042014,
     "end_time": "2021-03-28T19:11:07.047961",
     "exception": false,
     "start_time": "2021-03-28T19:11:07.005947",
     "status": "completed"
    },
    "tags": []
   },
   "outputs": [],
   "source": [
    "data = data['review']"
   ]
  },
  {
   "cell_type": "code",
   "execution_count": 20,
   "metadata": {
    "execution": {
     "iopub.execute_input": "2021-03-28T19:11:07.123662Z",
     "iopub.status.busy": "2021-03-28T19:11:07.123003Z",
     "iopub.status.idle": "2021-03-28T19:11:07.132667Z",
     "shell.execute_reply": "2021-03-28T19:11:07.131960Z"
    },
    "id": "VTB0IDbvId79",
    "papermill": {
     "duration": 0.050663,
     "end_time": "2021-03-28T19:11:07.132825",
     "exception": false,
     "start_time": "2021-03-28T19:11:07.082162",
     "status": "completed"
    },
    "tags": []
   },
   "outputs": [],
   "source": [
    "from sklearn.model_selection import train_test_split\n",
    "x_train, x_test, y_train, y_test = train_test_split(data,sentiment,test_size = 0.2, random_state = 42)"
   ]
  },
  {
   "cell_type": "markdown",
   "metadata": {
    "id": "KHzhKJ3oId79",
    "papermill": {
     "duration": 0.033724,
     "end_time": "2021-03-28T19:11:07.201184",
     "exception": false,
     "start_time": "2021-03-28T19:11:07.167460",
     "status": "completed"
    },
    "tags": []
   },
   "source": [
    "<h2> Creating a Dictionary </h2>\n",
    "\n",
    "<ul>\n",
    "    <li  style = \"color:green\" > <p style = \"color:black;font-weight:bold\" > We create a dictionary of 15000 most used words in English for later use. </p> </li>\n",
    "</ul>"
   ]
  },
  {
   "cell_type": "code",
   "execution_count": 21,
   "metadata": {
    "_kg_hide-output": true,
    "execution": {
     "iopub.execute_input": "2021-03-28T19:11:07.277891Z",
     "iopub.status.busy": "2021-03-28T19:11:07.277230Z",
     "iopub.status.idle": "2021-03-28T19:11:17.815464Z",
     "shell.execute_reply": "2021-03-28T19:11:17.815960Z"
    },
    "id": "1DkSQhAZId7_",
    "papermill": {
     "duration": 10.581214,
     "end_time": "2021-03-28T19:11:17.816160",
     "exception": false,
     "start_time": "2021-03-28T19:11:07.234946",
     "status": "completed"
    },
    "tags": []
   },
   "outputs": [],
   "source": [
    "from tensorflow.keras.preprocessing.text import Tokenizer\n",
    "\n",
    "tokenizer = Tokenizer(num_words = 15000)\n",
    "tokenizer.fit_on_texts(data)"
   ]
  },
  {
   "cell_type": "markdown",
   "metadata": {
    "id": "beFzdOjlId7_",
    "papermill": {
     "duration": 0.03531,
     "end_time": "2021-03-28T19:11:17.886911",
     "exception": false,
     "start_time": "2021-03-28T19:11:17.851601",
     "status": "completed"
    },
    "tags": []
   },
   "source": [
    "<h2> Bring the comments to the same size </h2>\n",
    "\n",
    "<ul>\n",
    "    <li > comments of different lengths cannot train the RNN/lstm/gru model. That's why we need to make the sentences the same size. </p> </li>\n",
    "</ul>"
   ]
  },
  {
   "cell_type": "code",
   "execution_count": 22,
   "metadata": {
    "execution": {
     "iopub.execute_input": "2021-03-28T19:11:17.966380Z",
     "iopub.status.busy": "2021-03-28T19:11:17.965730Z",
     "iopub.status.idle": "2021-03-28T19:11:25.629151Z",
     "shell.execute_reply": "2021-03-28T19:11:25.629663Z"
    },
    "id": "IP7sc2jjId8E",
    "papermill": {
     "duration": 7.707518,
     "end_time": "2021-03-28T19:11:25.629849",
     "exception": false,
     "start_time": "2021-03-28T19:11:17.922331",
     "status": "completed"
    },
    "tags": []
   },
   "outputs": [],
   "source": [
    "x_train_tokens = tokenizer.texts_to_sequences(x_train)\n",
    "x_test_tokens = tokenizer.texts_to_sequences(x_test)"
   ]
  },
  {
   "cell_type": "code",
   "execution_count": 23,
   "metadata": {
    "execution": {
     "iopub.execute_input": "2021-03-28T19:11:25.770105Z",
     "iopub.status.busy": "2021-03-28T19:11:25.769150Z",
     "iopub.status.idle": "2021-03-28T19:11:25.789608Z",
     "shell.execute_reply": "2021-03-28T19:11:25.790104Z"
    },
    "id": "1aCR_1GjId8F",
    "papermill": {
     "duration": 0.058134,
     "end_time": "2021-03-28T19:11:25.790296",
     "exception": false,
     "start_time": "2021-03-28T19:11:25.732162",
     "status": "completed"
    },
    "tags": []
   },
   "outputs": [],
   "source": [
    "num_tokens = [len(tokens) for tokens in x_train_tokens + x_test_tokens]\n",
    "num_tokens = np.array(num_tokens)"
   ]
  },
  {
   "cell_type": "code",
   "execution_count": 24,
   "metadata": {
    "colab": {
     "base_uri": "https://localhost:8080/"
    },
    "execution": {
     "iopub.execute_input": "2021-03-28T19:11:25.864565Z",
     "iopub.status.busy": "2021-03-28T19:11:25.863773Z",
     "iopub.status.idle": "2021-03-28T19:11:25.870302Z",
     "shell.execute_reply": "2021-03-28T19:11:25.870792Z"
    },
    "id": "l4_o8NzwId8G",
    "outputId": "5597e2a9-a164-456d-8a54-59b6878963b5",
    "papermill": {
     "duration": 0.046892,
     "end_time": "2021-03-28T19:11:25.870983",
     "exception": false,
     "start_time": "2021-03-28T19:11:25.824091",
     "status": "completed"
    },
    "tags": []
   },
   "outputs": [
    {
     "data": {
      "text/plain": [
       "283"
      ]
     },
     "execution_count": 24,
     "metadata": {},
     "output_type": "execute_result"
    }
   ],
   "source": [
    "max_tokens = np.mean(num_tokens) + 2 * np.std(num_tokens)\n",
    "max_tokens = int(max_tokens)\n",
    "max_tokens"
   ]
  },
  {
   "cell_type": "code",
   "execution_count": 25,
   "metadata": {
    "colab": {
     "base_uri": "https://localhost:8080/"
    },
    "execution": {
     "iopub.execute_input": "2021-03-28T19:11:26.016048Z",
     "iopub.status.busy": "2021-03-28T19:11:26.014364Z",
     "iopub.status.idle": "2021-03-28T19:11:26.019366Z",
     "shell.execute_reply": "2021-03-28T19:11:26.019865Z"
    },
    "id": "3V_DEC4YId8H",
    "outputId": "54ea8966-ba40-4cd6-fc15-9201c7aa3e68",
    "papermill": {
     "duration": 0.045203,
     "end_time": "2021-03-28T19:11:26.020031",
     "exception": false,
     "start_time": "2021-03-28T19:11:25.974828",
     "status": "completed"
    },
    "tags": []
   },
   "outputs": [
    {
     "data": {
      "text/plain": [
       "0.94522"
      ]
     },
     "execution_count": 25,
     "metadata": {},
     "output_type": "execute_result"
    }
   ],
   "source": [
    "np.sum(num_tokens < max_tokens) / len(num_tokens)"
   ]
  },
  {
   "cell_type": "code",
   "execution_count": 26,
   "metadata": {
    "execution": {
     "iopub.execute_input": "2021-03-28T19:11:26.102505Z",
     "iopub.status.busy": "2021-03-28T19:11:26.101810Z",
     "iopub.status.idle": "2021-03-28T19:11:28.723725Z",
     "shell.execute_reply": "2021-03-28T19:11:28.723095Z"
    },
    "id": "vyJfV_uMId8I",
    "papermill": {
     "duration": 2.668162,
     "end_time": "2021-03-28T19:11:28.723888",
     "exception": false,
     "start_time": "2021-03-28T19:11:26.055726",
     "status": "completed"
    },
    "tags": []
   },
   "outputs": [],
   "source": [
    "x_train_pad = pad_sequences(x_train_tokens, maxlen=max_tokens)\n",
    "x_test_pad = pad_sequences(x_test_tokens, maxlen=max_tokens)"
   ]
  },
  {
   "cell_type": "code",
   "execution_count": 27,
   "metadata": {
    "colab": {
     "base_uri": "https://localhost:8080/"
    },
    "execution": {
     "iopub.execute_input": "2021-03-28T19:11:28.802548Z",
     "iopub.status.busy": "2021-03-28T19:11:28.801816Z",
     "iopub.status.idle": "2021-03-28T19:11:28.806748Z",
     "shell.execute_reply": "2021-03-28T19:11:28.806224Z"
    },
    "id": "igiE24YzId8I",
    "outputId": "53e9fa72-7961-4ee8-8154-45a667a00063",
    "papermill": {
     "duration": 0.046849,
     "end_time": "2021-03-28T19:11:28.806890",
     "exception": false,
     "start_time": "2021-03-28T19:11:28.760041",
     "status": "completed"
    },
    "tags": []
   },
   "outputs": [
    {
     "data": {
      "text/plain": [
       "(40000, 283)"
      ]
     },
     "execution_count": 27,
     "metadata": {},
     "output_type": "execute_result"
    }
   ],
   "source": [
    "x_train_pad.shape"
   ]
  },
  {
   "cell_type": "code",
   "execution_count": 28,
   "metadata": {
    "execution": {
     "iopub.execute_input": "2021-03-28T19:11:28.979222Z",
     "iopub.status.busy": "2021-03-28T19:11:28.978543Z",
     "iopub.status.idle": "2021-03-28T19:11:28.981528Z",
     "shell.execute_reply": "2021-03-28T19:11:28.982055Z"
    },
    "id": "s4SpakSLId8J",
    "papermill": {
     "duration": 0.067514,
     "end_time": "2021-03-28T19:11:28.982225",
     "exception": false,
     "start_time": "2021-03-28T19:11:28.914711",
     "status": "completed"
    },
    "tags": []
   },
   "outputs": [],
   "source": [
    "idx = tokenizer.word_index\n",
    "inverse_map = dict(zip(idx.values(), idx.keys()))\n",
    "\n",
    "def return_to_sentence(tokens):\n",
    "    words = [inverse_map[token] for token in tokens if token!=0]\n",
    "    text = ' '.join(words)\n",
    "    return text"
   ]
  },
  {
   "cell_type": "code",
   "execution_count": 29,
   "metadata": {
    "colab": {
     "base_uri": "https://localhost:8080/"
    },
    "execution": {
     "iopub.execute_input": "2021-03-28T19:11:29.136788Z",
     "iopub.status.busy": "2021-03-28T19:11:29.135936Z",
     "iopub.status.idle": "2021-03-28T19:11:29.140252Z",
     "shell.execute_reply": "2021-03-28T19:11:29.139388Z"
    },
    "id": "y9KhVM_pId8J",
    "outputId": "28ca1624-603e-4304-9f73-8891742d5570",
    "papermill": {
     "duration": 0.048275,
     "end_time": "2021-03-28T19:11:29.140436",
     "exception": false,
     "start_time": "2021-03-28T19:11:29.092161",
     "status": "completed"
    },
    "tags": []
   },
   "outputs": [
    {
     "name": "stdout",
     "output_type": "stream",
     "text": [
      "thesis behind rise evil seems br br hitler bad man bad man hated jews case miss going fact every scene film br br effort whatsoever try explain mood time hitler may adopted views strategy needless say unlike generally excellent nazis warning history film neglected point fact nearly leaders munich communist rising jewish may views subject linking jews absolutely crucial aspect understanding much nazi era br br much understanding done film makers going go got stuff knew anyway certainly get fascinating fact hitler briefly socialist communist immediately ww would course far complex film handle might even detract relentless bad away incessantly br br know bad man however also know figure public speaker private situations could polite even sympathetic course views like anti alcohol anti smoking many guardian readers could agree also famously fond animals hence wholly invented dog scene absurd br br also accounts seen brave soldier ww whilst saw iron cross never get see acts bravery script needless say also get insight whatsoever fired war experiences whilst owen brook many others found repellent experience like point jewish link vital anyone understanding subject love war much think always good idea despite massive evidence contrary care colleagues died maybe still drew wrong conclusions br br film certainly anything interest say either br br often days film classic example making history relevant present inventing stuff leaving awkward facts fit present often lowest common denominator trust audience inch ram stuff throats knowing sadly correctly always get away many dumb fools world br br history really making us relevant past seeing colours present better worse rubbish great opportunity lost spent millions locations large scenes impressive told us nothing know already promoted understanding dark period human history br br\n"
     ]
    }
   ],
   "source": [
    "#normal comment\n",
    "print(return_to_sentence(x_train_pad[9]))"
   ]
  },
  {
   "cell_type": "code",
   "execution_count": 30,
   "metadata": {
    "colab": {
     "base_uri": "https://localhost:8080/"
    },
    "execution": {
     "iopub.execute_input": "2021-03-28T19:11:29.219642Z",
     "iopub.status.busy": "2021-03-28T19:11:29.219002Z",
     "iopub.status.idle": "2021-03-28T19:11:29.226466Z",
     "shell.execute_reply": "2021-03-28T19:11:29.225947Z"
    },
    "id": "ZAfMG8A3Id8K",
    "outputId": "23aca8ea-1243-4776-da9d-6320635becbc",
    "papermill": {
     "duration": 0.047828,
     "end_time": "2021-03-28T19:11:29.226599",
     "exception": false,
     "start_time": "2021-03-28T19:11:29.178771",
     "status": "completed"
    },
    "tags": []
   },
   "outputs": [
    {
     "name": "stdout",
     "output_type": "stream",
     "text": [
      "[13091   383  2007   337    85     1     1  2009    16    44    16    44\n",
      "  1631  4271   296   557    70    90    73    47     3     1     1   634\n",
      "  1483   236  1096  1085     7  2009    95  5100  2607 10507  2961    49\n",
      "   881  1136   203  3358  1591   353     3  6802   113    90   654  5903\n",
      " 12551  4050  4072  2230    95  2607   651 14337  4271   294  4051  1134\n",
      "  1600    14  2335   845     1     1    14  1600   114     3  1067    70\n",
      "    52    82   388   536   426   298    15  1273    90  2009  3027 10865\n",
      "  4050  1055  4753     9   152   117  1143     3  2639   124     8  6296\n",
      "  6408    16   132 14759     1     1    41    16    44    92    19    41\n",
      "   692   891  9927  1788   983    24  9296     8  2025   152  2607     5\n",
      "   929  4560   929  2978    32  7414  5974    24   870    19 13846  4058\n",
      "  1419  2742  5174  4992   644    47  1706     1     1    19  5810    33\n",
      "  2622  1368  4753  1651   104  3813  1451    34    15    12  1241  9684\n",
      "   120  2961    49    19    15  2437  1483  3671   183  2266  1651  3484\n",
      " 13752    32   278   143 10945   423     5   113  2230  4122  5446   135\n",
      "  1600   651    35   183    14    27   105     6   204   339  2353  1892\n",
      "  3564   330  6169   925   166    48  2401   242  7924     1     1     3\n",
      "   298   126   481    49   231     1     1   283   354     3   241   344\n",
      "   125   353  3229   842 12912   388  1042  1906  2063   953   842   283\n",
      "  4430   951 11741  1587   186  7458  5795   388  8933  1177   923  4665\n",
      "   105    15   132    32   812  5818    76     1     1   353    10   125\n",
      "    75  3229   377   199  6068   842    45   308  1756    18  1275   302\n",
      "   836  2923  1665   872    50  1025   432    75    66    41   343  6275\n",
      "  1600   327   682   271   353     1     1]\n"
     ]
    }
   ],
   "source": [
    "print(x_train_pad[9])"
   ]
  },
  {
   "cell_type": "code",
   "execution_count": 31,
   "metadata": {
    "colab": {
     "base_uri": "https://localhost:8080/"
    },
    "execution": {
     "iopub.execute_input": "2021-03-28T19:11:29.381845Z",
     "iopub.status.busy": "2021-03-28T19:11:29.381114Z",
     "iopub.status.idle": "2021-03-28T19:11:29.916204Z",
     "shell.execute_reply": "2021-03-28T19:11:29.916963Z"
    },
    "id": "VyKQvKNKId8K",
    "outputId": "891a6ea4-606f-42c1-fcd8-868234b4ec15",
    "papermill": {
     "duration": 0.58024,
     "end_time": "2021-03-28T19:11:29.917138",
     "exception": false,
     "start_time": "2021-03-28T19:11:29.336898",
     "status": "completed"
    },
    "tags": []
   },
   "outputs": [
    {
     "name": "stderr",
     "output_type": "stream",
     "text": [
      "/usr/local/lib/python3.10/dist-packages/keras/optimizers/legacy/adam.py:117: UserWarning: The `lr` argument is deprecated, use `learning_rate` instead.\n",
      "  super().__init__(name, **kwargs)\n"
     ]
    }
   ],
   "source": [
    "model = Sequential()\n",
    "\n",
    "embedding_size = 50\n",
    "\n",
    "model.add(Embedding(input_dim=15000,output_dim=embedding_size,input_length=max_tokens,name='embedding_layer'))\n",
    "\n",
    "model.add(LSTM(units=16, return_sequences=True))\n",
    "model.add(Dropout(0.1))\n",
    "\n",
    "model.add(LSTM(units=8, return_sequences=True))\n",
    "model.add(Dropout(0.1))\n",
    "\n",
    "model.add(LSTM(units=4))\n",
    "model.add(Dropout(0.1))\n",
    "\n",
    "model.add(Dense(1, activation='sigmoid'))\n",
    "\n",
    "optimizer = Adam(lr=1e-3)\n",
    "\n",
    "model.compile(loss='binary_crossentropy',optimizer=optimizer,metrics=['accuracy'])"
   ]
  },
  {
   "cell_type": "code",
   "execution_count": 32,
   "metadata": {
    "colab": {
     "base_uri": "https://localhost:8080/"
    },
    "execution": {
     "iopub.execute_input": "2021-03-28T19:11:29.998386Z",
     "iopub.status.busy": "2021-03-28T19:11:29.997748Z",
     "iopub.status.idle": "2021-03-28T19:11:30.001090Z",
     "shell.execute_reply": "2021-03-28T19:11:30.001565Z"
    },
    "id": "2fwKMpdOId8K",
    "outputId": "b23c5b33-998a-4e93-e28a-847365fe441b",
    "papermill": {
     "duration": 0.047613,
     "end_time": "2021-03-28T19:11:30.001766",
     "exception": false,
     "start_time": "2021-03-28T19:11:29.954153",
     "status": "completed"
    },
    "tags": []
   },
   "outputs": [
    {
     "name": "stdout",
     "output_type": "stream",
     "text": [
      "Model: \"sequential\"\n",
      "_________________________________________________________________\n",
      " Layer (type)                Output Shape              Param #   \n",
      "=================================================================\n",
      " embedding_layer (Embedding)  (None, 283, 50)          750000    \n",
      "                                                                 \n",
      " lstm (LSTM)                 (None, 283, 16)           4288      \n",
      "                                                                 \n",
      " dropout (Dropout)           (None, 283, 16)           0         \n",
      "                                                                 \n",
      " lstm_1 (LSTM)               (None, 283, 8)            800       \n",
      "                                                                 \n",
      " dropout_1 (Dropout)         (None, 283, 8)            0         \n",
      "                                                                 \n",
      " lstm_2 (LSTM)               (None, 4)                 208       \n",
      "                                                                 \n",
      " dropout_2 (Dropout)         (None, 4)                 0         \n",
      "                                                                 \n",
      " dense (Dense)               (None, 1)                 5         \n",
      "                                                                 \n",
      "=================================================================\n",
      "Total params: 755,301\n",
      "Trainable params: 755,301\n",
      "Non-trainable params: 0\n",
      "_________________________________________________________________\n"
     ]
    }
   ],
   "source": [
    "model.summary()"
   ]
  },
  {
   "cell_type": "markdown",
   "metadata": {
    "id": "wtknHa_-Id8L",
    "papermill": {
     "duration": 0.037295,
     "end_time": "2021-03-28T19:11:30.077169",
     "exception": false,
     "start_time": "2021-03-28T19:11:30.039874",
     "status": "completed"
    },
    "tags": []
   },
   "source": [
    "<ul>\n",
    "    <li  style = \"color:green\" > <p style = \"color:black;font-weight:bold\" > we train our model.\n",
    " </p> </li>\n",
    "</ul>"
   ]
  },
  {
   "cell_type": "code",
   "execution_count": 33,
   "metadata": {
    "colab": {
     "base_uri": "https://localhost:8080/"
    },
    "execution": {
     "iopub.execute_input": "2021-03-28T19:11:30.158263Z",
     "iopub.status.busy": "2021-03-28T19:11:30.157655Z",
     "iopub.status.idle": "2021-03-28T19:17:19.518528Z",
     "shell.execute_reply": "2021-03-28T19:17:19.519204Z"
    },
    "id": "iT3MpvW8Id8L",
    "outputId": "63400cd6-e9f1-4b7e-83f1-8401ada9680c",
    "papermill": {
     "duration": 349.40474,
     "end_time": "2021-03-28T19:17:19.519452",
     "exception": false,
     "start_time": "2021-03-28T19:11:30.114712",
     "status": "completed"
    },
    "tags": []
   },
   "outputs": [
    {
     "name": "stdout",
     "output_type": "stream",
     "text": [
      "Epoch 1/5\n",
      "28/28 [==============================] - 60s 2s/step - loss: 0.6853 - accuracy: 0.5653 - val_loss: 0.6583 - val_accuracy: 0.6712\n",
      "Epoch 2/5\n",
      "28/28 [==============================] - 57s 2s/step - loss: 0.5735 - accuracy: 0.7950 - val_loss: 0.5104 - val_accuracy: 0.8306\n",
      "Epoch 3/5\n",
      "28/28 [==============================] - 57s 2s/step - loss: 0.4562 - accuracy: 0.8685 - val_loss: 0.4498 - val_accuracy: 0.8433\n",
      "Epoch 4/5\n",
      "28/28 [==============================] - 59s 2s/step - loss: 0.3736 - accuracy: 0.9075 - val_loss: 0.4066 - val_accuracy: 0.8601\n",
      "Epoch 5/5\n",
      "28/28 [==============================] - 56s 2s/step - loss: 0.3142 - accuracy: 0.9327 - val_loss: 0.3889 - val_accuracy: 0.8583\n"
     ]
    }
   ],
   "source": [
    "history = model.fit(x_train_pad, y_train, validation_split=0.3, epochs=5, batch_size=1000, shuffle=True, verbose = 1)"
   ]
  },
  {
   "cell_type": "code",
   "execution_count": 34,
   "metadata": {
    "colab": {
     "base_uri": "https://localhost:8080/"
    },
    "execution": {
     "iopub.execute_input": "2021-03-28T19:17:19.869884Z",
     "iopub.status.busy": "2021-03-28T19:17:19.853106Z",
     "iopub.status.idle": "2021-03-28T19:18:21.338944Z",
     "shell.execute_reply": "2021-03-28T19:18:21.339582Z"
    },
    "id": "JnzmlXMJId8M",
    "outputId": "4895b687-eebc-4ecf-bddc-b3c7444d5ff6",
    "papermill": {
     "duration": 61.573464,
     "end_time": "2021-03-28T19:18:21.339793",
     "exception": false,
     "start_time": "2021-03-28T19:17:19.766329",
     "status": "completed"
    },
    "tags": []
   },
   "outputs": [
    {
     "name": "stdout",
     "output_type": "stream",
     "text": [
      "313/313 [==============================] - 30s 93ms/step - loss: 0.3846 - accuracy: 0.8627\n"
     ]
    }
   ],
   "source": [
    "result = model.evaluate(x_test_pad, y_test)"
   ]
  },
  {
   "cell_type": "code",
   "execution_count": 35,
   "metadata": {
    "colab": {
     "base_uri": "https://localhost:8080/",
     "height": 472
    },
    "execution": {
     "iopub.execute_input": "2021-03-28T19:18:22.074195Z",
     "iopub.status.busy": "2021-03-28T19:18:22.064435Z",
     "iopub.status.idle": "2021-03-28T19:18:22.248701Z",
     "shell.execute_reply": "2021-03-28T19:18:22.247978Z"
    },
    "id": "L7qTUBHKId8N",
    "outputId": "4fb37494-d2ce-41c9-ccc1-b5587211ced0",
    "papermill": {
     "duration": 0.380846,
     "end_time": "2021-03-28T19:18:22.248852",
     "exception": false,
     "start_time": "2021-03-28T19:18:21.868006",
     "status": "completed"
    },
    "tags": []
   },
   "outputs": [
    {
     "data": {
      "image/png": "[encoded data removed]",
      "text/plain": [
       "<Figure size 640x480 with 1 Axes>"
      ]
     },
     "metadata": {},
     "output_type": "display_data"
    }
   ],
   "source": [
    "plt.figure()\n",
    "plt.plot(history.history[\"accuracy\"], label = \"Train\")\n",
    "plt.plot(history.history[\"val_accuracy\"], label = \"Test\")\n",
    "plt.title(\"Accuracy\")\n",
    "plt.ylabel(\"Acc\")\n",
    "plt.xlabel(\"epochs\")\n",
    "plt.legend()\n",
    "plt.show()"
   ]
  },
  {
   "cell_type": "code",
   "execution_count": 36,
   "metadata": {
    "colab": {
     "base_uri": "https://localhost:8080/",
     "height": 472
    },
    "execution": {
     "iopub.execute_input": "2021-03-28T19:18:22.658146Z",
     "iopub.status.busy": "2021-03-28T19:18:22.649731Z",
     "iopub.status.idle": "2021-03-28T19:18:22.825977Z",
     "shell.execute_reply": "2021-03-28T19:18:22.825331Z"
    },
    "id": "5pZz-KcOId8N",
    "outputId": "18829599-0c58-4ada-cfe6-838808f3463e",
    "papermill": {
     "duration": 0.381,
     "end_time": "2021-03-28T19:18:22.826114",
     "exception": false,
     "start_time": "2021-03-28T19:18:22.445114",
     "status": "completed"
    },
    "tags": []
   },
   "outputs": [
    {
     "data": {
      "image/png": "[encoded data removed]",
      "text/plain": [
       "<Figure size 640x480 with 1 Axes>"
      ]
     },
     "metadata": {},
     "output_type": "display_data"
    }
   ],
   "source": [
    "plt.figure()\n",
    "plt.plot(history.history[\"loss\"], label = \"Train\")\n",
    "plt.plot(history.history[\"val_loss\"], label = \"Test\")\n",
    "plt.title(\"Loss\")\n",
    "plt.ylabel(\"Acc\")\n",
    "plt.xlabel(\"epochs\")\n",
    "plt.legend()\n",
    "plt.show()"
   ]
  }
 ],
 "metadata": {
  "colab": {
   "provenance": []
  },
  "kernelspec": {
   "display_name": "Python 3 (ipykernel)",
   "language": "python",
   "name": "python3"
  },
  "language_info": {
   "codemirror_mode": {
    "name": "ipython",
    "version": 3
   },
   "file_extension": ".py",
   "mimetype": "text/x-python",
   "name": "python",
   "nbconvert_exporter": "python",
   "pygments_lexer": "ipython3",
   "version": "3.10.6"
  },
  "papermill": {
   "default_parameters": {},
   "duration": 462.884142,
   "end_time": "2021-03-28T19:18:25.217076",
   "environment_variables": {},
   "exception": null,
   "input_path": "__notebook__.ipynb",
   "output_path": "__notebook__.ipynb",
   "parameters": {},
   "start_time": "2021-03-28T19:10:42.332934",
   "version": "2.2.2"
  },
  "vscode": {
   "interpreter": {
    "hash": "98dccb4414d5a1ad4dcba95d07f9d6dcf8ac57d377cc0c050afc08e188578fd8"
   }
  }
 },
 "nbformat": 4,
 "nbformat_minor": 1
}
